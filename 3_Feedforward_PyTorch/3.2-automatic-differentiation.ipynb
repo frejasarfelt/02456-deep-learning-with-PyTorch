{
  "cells": [
    {
      "cell_type": "markdown",
      "metadata": {
        "id": "uhKwDCqEmJN_"
      },
      "source": [
        "# Credits\n",
        "\n",
        "This is heavily influenced or copied from https://github.com/pytorch/tutorials"
      ]
    },
    {
      "cell_type": "markdown",
      "metadata": {
        "id": "OcjVEYyPmJOD"
      },
      "source": [
        "# Autograd: automatic differentiation\n",
        "\n",
        "Central to all neural networks in PyTorch is the ``autograd`` package.\n",
        "Let’s first briefly visit this, and we will then go to training our first neural network.\n",
        "\n",
        "The `autograd` package provides automatic differentiation for all operations on Tensors.\n",
        "It is a define-by-run framework, which means that your backprop is defined by how your code is run, and that every single iteration can be different.\n",
        "\n",
        "Let us see this in more simple terms with some examples."
      ]
    },
    {
      "cell_type": "markdown",
      "metadata": {
        "id": "9KAIalxemJOE"
      },
      "source": [
        "## 1. Tensor\n",
        "\n",
        "`torch.Tensor` is the central class of the package. Setting the attribute `.requires_grad` to `True` will make the tensor \"record\" all operations on it. When you finish your computation you can call `.backward()` and have all the gradients computed automatically. The gradient for this tensor will be accumulated into the `.grad` attribute.\n",
        "\n",
        "![autograd.Variable](https://github.com/frejasarfelt/02456-deep-learning-with-PyTorch/blob/Freja/static_files/autograd-variable.png?raw=1)\n",
        "\n",
        "There’s one more class which is very important for autograd implementation - a `Function`.\n",
        "\n",
        "`Tensor` and `Function` are interconnected and build up an acyclic graph, that encodes a complete history of computation. Each tensor has a `.grad_fn` attribute that references a `Function` that has created the `Tensor` (except for Tensors created by the user - their `grad_fn` is `None`).\n",
        "\n",
        "If you want to compute the derivatives, you can call `.backward()` on a Tensor. If `Tensor` is a scalar (i.e. it holds a one element data), you don’t need to specify any arguments to backward(), however if it has more elements, you need to specify a `gradient` argument that is a tensor of matching shape."
      ]
    },
    {
      "cell_type": "code",
      "execution_count": 1,
      "metadata": {
        "id": "hIGb2Ag6mJOF"
      },
      "outputs": [],
      "source": [
        "import torch"
      ]
    },
    {
      "cell_type": "markdown",
      "metadata": {
        "id": "ZNPwglAHmJOG"
      },
      "source": [
        "Create a tensor"
      ]
    },
    {
      "cell_type": "code",
      "execution_count": 2,
      "metadata": {
        "id": "Z4L9Oyx1mJOH",
        "outputId": "889c4ee3-c8a8-433b-b509-88939b1e4439",
        "colab": {
          "base_uri": "https://localhost:8080/"
        }
      },
      "outputs": [
        {
          "output_type": "stream",
          "name": "stdout",
          "text": [
            "tensor([[1., 1.],\n",
            "        [1., 1.]], requires_grad=True)\n"
          ]
        }
      ],
      "source": [
        "x = torch.ones(2, 2, requires_grad=True)\n",
        "print(x)"
      ]
    },
    {
      "cell_type": "markdown",
      "metadata": {
        "id": "2okqHDcDmJOH"
      },
      "source": [
        "Do a tensor operation:"
      ]
    },
    {
      "cell_type": "code",
      "execution_count": 3,
      "metadata": {
        "id": "JIESsebrmJOH",
        "outputId": "8c4e2218-e099-4c21-de3d-766add9990e5",
        "colab": {
          "base_uri": "https://localhost:8080/"
        }
      },
      "outputs": [
        {
          "output_type": "stream",
          "name": "stdout",
          "text": [
            "tensor([[3., 3.],\n",
            "        [3., 3.]], grad_fn=<AddBackward0>)\n"
          ]
        }
      ],
      "source": [
        "y = x + 2\n",
        "print(y)"
      ]
    },
    {
      "cell_type": "markdown",
      "metadata": {
        "id": "1ynUhmqEmJOI"
      },
      "source": [
        "`y` was created as a result of an operation, so it has a `grad_fn`."
      ]
    },
    {
      "cell_type": "code",
      "execution_count": 4,
      "metadata": {
        "id": "UVPGerdwmJOI",
        "outputId": "46428587-7f5e-4e1a-bd6f-1eb794d9a5a4",
        "colab": {
          "base_uri": "https://localhost:8080/"
        }
      },
      "outputs": [
        {
          "output_type": "stream",
          "name": "stdout",
          "text": [
            "<AddBackward0 object at 0x7fa39476d290>\n"
          ]
        }
      ],
      "source": [
        "print(y.grad_fn)"
      ]
    },
    {
      "cell_type": "markdown",
      "metadata": {
        "id": "Ct_6LGrdmJOJ"
      },
      "source": [
        "Do more operations on y"
      ]
    },
    {
      "cell_type": "code",
      "execution_count": 5,
      "metadata": {
        "id": "bqZC84E2mJOJ",
        "outputId": "873a9739-0cd3-4523-cdf5-99302f840260",
        "colab": {
          "base_uri": "https://localhost:8080/"
        }
      },
      "outputs": [
        {
          "output_type": "stream",
          "name": "stdout",
          "text": [
            "tensor([[27., 27.],\n",
            "        [27., 27.]], grad_fn=<MulBackward0>)\n",
            "tensor(27., grad_fn=<MeanBackward0>)\n"
          ]
        }
      ],
      "source": [
        "z = y * y * 3\n",
        "out = z.mean()\n",
        "\n",
        "print(z)\n",
        "print(out)"
      ]
    },
    {
      "cell_type": "markdown",
      "metadata": {
        "id": "ZIy2xaxFmJOJ"
      },
      "source": [
        "# Assignments\n",
        "\n",
        "1. Create a Tensor that `requires_grad` of size (5, 5)\n",
        "2. Sum the values in the Tensor"
      ]
    },
    {
      "cell_type": "code",
      "source": [
        "# 1)\n",
        "A = torch.rand(5, 5, requires_grad=True)\n",
        "print(A)"
      ],
      "metadata": {
        "id": "XjpQA--Xo8K7",
        "outputId": "c4a2cfd2-8929-4a3f-93a5-10ed4c2b1d5e",
        "colab": {
          "base_uri": "https://localhost:8080/"
        }
      },
      "execution_count": 9,
      "outputs": [
        {
          "output_type": "stream",
          "name": "stdout",
          "text": [
            "tensor([[0.1929, 0.1368, 0.1090, 0.1171, 0.5152],\n",
            "        [0.7902, 0.2365, 0.0475, 0.0688, 0.0043],\n",
            "        [0.4602, 0.3888, 0.7889, 0.6561, 0.2656],\n",
            "        [0.4464, 0.0454, 0.4549, 0.5706, 0.9740],\n",
            "        [0.6123, 0.9009, 0.4865, 0.4448, 0.4005]], requires_grad=True)\n"
          ]
        }
      ]
    },
    {
      "cell_type": "code",
      "source": [
        "# 2)\n",
        "A.sum()"
      ],
      "metadata": {
        "id": "d3tWz5AKpX-s",
        "outputId": "e72457c7-9388-45a2-a717-7e102ae70af4",
        "colab": {
          "base_uri": "https://localhost:8080/"
        }
      },
      "execution_count": 10,
      "outputs": [
        {
          "output_type": "execute_result",
          "data": {
            "text/plain": [
              "tensor(10.1138, grad_fn=<SumBackward0>)"
            ]
          },
          "metadata": {},
          "execution_count": 10
        }
      ]
    },
    {
      "cell_type": "markdown",
      "metadata": {
        "id": "LlsMdwyBmJOK"
      },
      "source": [
        "## 2. Gradients\n",
        "\n",
        "Let’s backprop now. Because `out` contains a single scalar, `out.backward()` is equivalent to `out.backward(torch.tensor([1.0]))`"
      ]
    },
    {
      "cell_type": "code",
      "execution_count": 11,
      "metadata": {
        "id": "r1yo0s44mJOK"
      },
      "outputs": [],
      "source": [
        "out.backward()"
      ]
    },
    {
      "cell_type": "markdown",
      "metadata": {
        "id": "_W5xPjS1mJOK"
      },
      "source": [
        "Print gradients d(out)/dx"
      ]
    },
    {
      "cell_type": "code",
      "execution_count": 12,
      "metadata": {
        "id": "9_dJT1OQmJOL",
        "outputId": "f52ca512-5e2f-4459-9687-51abc9bb267a",
        "colab": {
          "base_uri": "https://localhost:8080/"
        }
      },
      "outputs": [
        {
          "output_type": "stream",
          "name": "stdout",
          "text": [
            "tensor([[4.5000, 4.5000],\n",
            "        [4.5000, 4.5000]])\n"
          ]
        }
      ],
      "source": [
        "print(x.grad)"
      ]
    },
    {
      "cell_type": "markdown",
      "metadata": {
        "id": "UKfGJbfQmJOL"
      },
      "source": [
        "You should have a matrix of `4.5`. Let’s denote the tensor `out` with $o$.\n",
        "\n",
        "We have:\n",
        "$o = \\frac{1}{4}\\sum_i z_i$, $z_i = 3(x_i+2)^2$ and $z_i\\bigr\\rvert_{x_i=1} = 27$.\n",
        "\n",
        "Therefore, $\\frac{\\partial o}{\\partial x_i} = \\frac{3}{2}(x_i+2)$,\n",
        "hence $\\frac{\\partial o}{\\partial x_i}\\bigr\\rvert_{x_i=1} = \\frac{9}{2} = 4.5$.\n",
        "\n",
        "You can do many crazy things with autograd!"
      ]
    },
    {
      "cell_type": "code",
      "execution_count": 13,
      "metadata": {
        "id": "c5qBG8RAmJOM",
        "outputId": "20438d42-6312-430c-d527-ab1a469de4b4",
        "colab": {
          "base_uri": "https://localhost:8080/"
        }
      },
      "outputs": [
        {
          "output_type": "stream",
          "name": "stdout",
          "text": [
            "tensor([ 608.7050,  -54.7677, 1870.7418], grad_fn=<MulBackward0>)\n"
          ]
        }
      ],
      "source": [
        "x = torch.randn(3, requires_grad=True)\n",
        "\n",
        "y = x * 2\n",
        "while y.data.norm() < 1000:\n",
        "    y = y * 2\n",
        "\n",
        "print(y)"
      ]
    },
    {
      "cell_type": "code",
      "execution_count": 14,
      "metadata": {
        "id": "PmL57OpUmJOM",
        "outputId": "f7ceb63c-8c41-4f48-b774-0193b83b0df3",
        "colab": {
          "base_uri": "https://localhost:8080/"
        }
      },
      "outputs": [
        {
          "output_type": "stream",
          "name": "stdout",
          "text": [
            "tensor([1.0240e+02, 1.0240e+03, 1.0240e-01])\n"
          ]
        }
      ],
      "source": [
        "gradients = torch.FloatTensor([0.1, 1.0, 0.0001])\n",
        "y.backward(gradients)\n",
        "\n",
        "print(x.grad)"
      ]
    },
    {
      "cell_type": "markdown",
      "metadata": {
        "id": "LANCV6-3mJOM"
      },
      "source": [
        "**Read later** \\\n",
        "*Documentation* \\\n",
        "`Tensor`: https://pytorch.org/docs/stable/tensors.html \\\n",
        "`Function`: http://pytorch.org/docs/autograd"
      ]
    },
    {
      "cell_type": "markdown",
      "metadata": {
        "id": "AlgkAnFimJON"
      },
      "source": [
        "# Assignments\n",
        "\n",
        "1. Define a tensor and set `requires_grad` to `True`\n",
        "3. Multiply the tensor by 2 and assign the result to a new python variable (i.e. `x = result`)\n",
        "4. Sum the variable's elements and assign to a new python variable\n",
        "5. Print the gradients of all the variables\n",
        "6. Now perform a backward pass on the last variable (NOTE: for each new python variable that you define, call `.retain_grad()`)\n",
        "7. Print all gradients again\n",
        "  - what did you notice?"
      ]
    },
    {
      "cell_type": "code",
      "execution_count": 40,
      "metadata": {
        "id": "3t_mQLoImJON",
        "outputId": "cf090031-aa93-4b0b-cb59-da600beae61a",
        "colab": {
          "base_uri": "https://localhost:8080/"
        }
      },
      "outputs": [
        {
          "output_type": "stream",
          "name": "stdout",
          "text": [
            "tensor([[0.5898, 0.6766],\n",
            "        [0.8771, 0.5563],\n",
            "        [0.7435, 0.5085],\n",
            "        [0.0184, 0.2501],\n",
            "        [0.0976, 0.4991]], requires_grad=True)\n"
          ]
        }
      ],
      "source": [
        "# 1)\n",
        "A = torch.rand(5,2, requires_grad=True)\n",
        "print(A)"
      ]
    },
    {
      "cell_type": "code",
      "source": [
        "# 2)\n",
        "B = A * 2\n",
        "B.retain_grad()\n",
        "print(B)"
      ],
      "metadata": {
        "id": "n1fsznKVqRTI",
        "outputId": "25f46ff7-49b8-4450-b4c9-db00237599d9",
        "colab": {
          "base_uri": "https://localhost:8080/"
        }
      },
      "execution_count": 41,
      "outputs": [
        {
          "output_type": "stream",
          "name": "stdout",
          "text": [
            "tensor([[1.1796, 1.3532],\n",
            "        [1.7543, 1.1126],\n",
            "        [1.4870, 1.0171],\n",
            "        [0.0368, 0.5002],\n",
            "        [0.1952, 0.9982]], grad_fn=<MulBackward0>)\n"
          ]
        }
      ]
    },
    {
      "cell_type": "code",
      "source": [
        "# 3)\n",
        "C = B.sum()\n",
        "C.retain_grad()\n",
        "print(C)"
      ],
      "metadata": {
        "id": "TN8pXwDbqaB2",
        "outputId": "100b8442-493e-4354-e6bb-34f38959ce05",
        "colab": {
          "base_uri": "https://localhost:8080/"
        }
      },
      "execution_count": 42,
      "outputs": [
        {
          "output_type": "stream",
          "name": "stdout",
          "text": [
            "tensor(9.6340, grad_fn=<SumBackward0>)\n"
          ]
        }
      ]
    },
    {
      "cell_type": "code",
      "source": [
        "# 4)\n",
        "print(A.grad)\n",
        "print(B.grad)\n",
        "print(C.grad)"
      ],
      "metadata": {
        "id": "tdNUyoXUqjyG",
        "outputId": "9a01fd2e-df92-4472-c938-2c0a43f55661",
        "colab": {
          "base_uri": "https://localhost:8080/"
        }
      },
      "execution_count": 43,
      "outputs": [
        {
          "output_type": "stream",
          "name": "stdout",
          "text": [
            "None\n",
            "None\n",
            "None\n"
          ]
        }
      ]
    },
    {
      "cell_type": "code",
      "source": [
        "# 5)\n",
        "C.backward()"
      ],
      "metadata": {
        "id": "4EqvR0T0r0TX"
      },
      "execution_count": 44,
      "outputs": []
    },
    {
      "cell_type": "code",
      "source": [
        "# 6)\n",
        "print(A.grad)\n",
        "print(B.grad)\n",
        "print(C.grad)"
      ],
      "metadata": {
        "id": "leidjQcJtDin",
        "outputId": "d90b9a1e-4a53-4168-c6bd-ccd2a6bd4a15",
        "colab": {
          "base_uri": "https://localhost:8080/"
        }
      },
      "execution_count": 46,
      "outputs": [
        {
          "output_type": "stream",
          "name": "stdout",
          "text": [
            "tensor([[2., 2.],\n",
            "        [2., 2.],\n",
            "        [2., 2.],\n",
            "        [2., 2.],\n",
            "        [2., 2.]])\n",
            "tensor([[1., 1.],\n",
            "        [1., 1.],\n",
            "        [1., 1.],\n",
            "        [1., 1.],\n",
            "        [1., 1.]])\n",
            "tensor(1.)\n"
          ]
        }
      ]
    }
  ],
  "metadata": {
    "kernelspec": {
      "display_name": "Python 3 (ipykernel)",
      "language": "python",
      "name": "python3"
    },
    "language_info": {
      "codemirror_mode": {
        "name": "ipython",
        "version": 3
      },
      "file_extension": ".py",
      "mimetype": "text/x-python",
      "name": "python",
      "nbconvert_exporter": "python",
      "pygments_lexer": "ipython3",
      "version": "3.8.12"
    },
    "colab": {
      "provenance": []
    }
  },
  "nbformat": 4,
  "nbformat_minor": 0
}