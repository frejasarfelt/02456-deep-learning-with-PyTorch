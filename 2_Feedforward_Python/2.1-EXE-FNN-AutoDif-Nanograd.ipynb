{
  "cells": [
    {
      "cell_type": "markdown",
      "metadata": {
        "id": "HAva8TnYFtFu"
      },
      "source": [
        "# Contents and why we need this lab\n",
        "\n",
        "This lab is about implementing neural networks yourself before we start using other frameworks that hide some of the computation from you. It builds on the first lab, where you derived the equations for neural network forward and backward propagation and gradient descent parameter updates. \n",
        "\n",
        "All the frameworks for deep learning you will meet from now on use automatic differentiation (autodiff), so you do not have to code the backward step yourself. In this version of this lab, you will develop your own autodif implementation. We also have an optional [version](https://github.com/DeepLearningDTU/02456-deep-learning-with-PyTorch/blob/master/2_Feedforward_Python/2.2-FNN-NumPy.ipynb) of this lab where you have to code the backward pass explicitly in Numpy."
      ]
    },
    {
      "cell_type": "markdown",
      "metadata": {
        "id": "sCa7HzwpFtFy"
      },
      "source": [
        "# External sources of information\n",
        "\n",
        "1. Jupyter notebook. You can find more information about Jupyter notebooks [here](https://jupyter.org/). It will come as part of the [Anaconda](https://www.anaconda.com/) Python installation. \n",
        "2. [NumPy](https://numpy.org/). Part of Anaconda distribution.  If you already know how to program, most things about Python and NumPy can be found with Google searches.\n",
        "3. [Nanograd](https://github.com/rasmusbergpalm/nanograd) is a minimalistic version of autodiff developed by Rasmus Berg Palm that we use for our framework.\n"
      ]
    },
    {
      "cell_type": "markdown",
      "metadata": {
        "id": "1SjiIp-TFtF0"
      },
      "source": [
        "# This notebook will follow the next steps:\n",
        "\n",
        "1. Nanograd automatic differentiation framework\n",
        "2. Finite difference method\n",
        "3. Data generation\n",
        "4. Defining and initializing the network\n",
        "5. Forward pass\n",
        "6. Training loop \n",
        "7. Testing your model\n",
        "8. Further extensions"
      ]
    },
    {
      "cell_type": "markdown",
      "metadata": {
        "id": "OyXeAA-HuT7s"
      },
      "source": [
        "# Nanograd automatic differention framework"
      ]
    },
    {
      "cell_type": "markdown",
      "metadata": {
        "id": "k6UWKCLKubgA"
      },
      "source": [
        "The [Nanograd](https://github.com/rasmusbergpalm/nanograd) framework defines a class Var which both holds a value and gradient value that we can use to store the intermediate values when we apply the chain rule of differentiation."
      ]
    },
    {
      "cell_type": "code",
      "execution_count": 1,
      "metadata": {
        "id": "Jd4CoEBNzNWS"
      },
      "outputs": [],
      "source": [
        "# Copy and pasted from https://github.com/rasmusbergpalm/nanograd/blob/3a1bf9e9e724da813bfccf91a6f309abdade9f39/nanograd.py\n",
        "\n",
        "from math import exp, log\n",
        "\n",
        "class Var:\n",
        "    \"\"\"\n",
        "    A variable which holds a float and enables gradient computations.\n",
        "    \"\"\"\n",
        "\n",
        "    def __init__(self, val: float, grad_fn=lambda: []):\n",
        "        assert type(val) == float\n",
        "        self.v = val\n",
        "        self.grad_fn = grad_fn\n",
        "        self.grad = 0.0\n",
        "\n",
        "    def backprop(self, bp):\n",
        "        self.grad += bp\n",
        "        for input, grad in self.grad_fn():\n",
        "            input.backprop(grad * bp)\n",
        "\n",
        "    def backward(self):\n",
        "        self.backprop(1.0)\n",
        "\n",
        "    def __add__(self: 'Var', other: 'Var') -> 'Var':\n",
        "        return Var(self.v + other.v, lambda: [(self, 1.0), (other, 1.0)])\n",
        "\n",
        "    def __mul__(self: 'Var', other: 'Var') -> 'Var':\n",
        "        return Var(self.v * other.v, lambda: [(self, other.v), (other, self.v)])\n",
        "\n",
        "    def __pow__(self, power):\n",
        "        assert type(power) in {float, int}, \"power must be float or int\"\n",
        "        return Var(self.v ** power, lambda: [(self, power * self.v ** (power - 1))])\n",
        "\n",
        "    def __neg__(self: 'Var') -> 'Var':\n",
        "        return Var(-1.0) * self\n",
        "\n",
        "    def __sub__(self: 'Var', other: 'Var') -> 'Var':\n",
        "        return self + (-other)\n",
        "\n",
        "    def __truediv__(self: 'Var', other: 'Var') -> 'Var':\n",
        "        return self * other ** -1\n",
        "\n",
        "    def __repr__(self):\n",
        "        return \"Var(v=%.4f, grad=%.4f)\" % (self.v, self.grad)\n",
        "\n",
        "    def relu(self):\n",
        "        return Var(self.v if self.v > 0.0 else 0.0, lambda: [(self, 1.0 if self.v > 0.0 else 0.0)])\n",
        "\n",
        "    def identity(self):\n",
        "        return Var(self.v, lambda: [(self, 1.0)])\n",
        "\n",
        "    def tanh(self):\n",
        "        return Var(2/(1+exp(-2*self.v)), lambda: [(self, 1.0)])\n",
        "\n",
        "    def sigmoid(self):\n",
        "        return Var(1/(1.0+exp(-self.v)), lambda: [(self, 1.0)])\n",
        "\n",
        "    def exp(self):\n",
        "        return Var(exp(self.v), lambda: [(self, exp(self.v))])\n",
        "\n",
        "    def log(self):\n",
        "        return Var(log(self.v), lambda: [(self, self.v ** -1)])"
      ]
    },
    {
      "cell_type": "markdown",
      "metadata": {
        "id": "yDX67D6jzcte"
      },
      "source": [
        "A few examples illustrate how we can use this:"
      ]
    },
    {
      "cell_type": "code",
      "execution_count": 2,
      "metadata": {
        "colab": {
          "base_uri": "https://localhost:8080/"
        },
        "id": "xk6PeLc3zwPT",
        "outputId": "2a390585-cb5d-409d-82d2-b61507355fc4"
      },
      "outputs": [
        {
          "output_type": "stream",
          "name": "stdout",
          "text": [
            "Var(v=3.0000, grad=5.0000)\n",
            "Var(v=5.0000, grad=3.0000)\n",
            "Var(v=15.0000, grad=1.0000)\n"
          ]
        }
      ],
      "source": [
        "a = Var(3.0)\n",
        "b = Var(5.0)\n",
        "f = a * b\n",
        "\n",
        "f.backward()\n",
        "\n",
        "for v in [a, b, f]:\n",
        "    print(v)"
      ]
    },
    {
      "cell_type": "code",
      "execution_count": 3,
      "metadata": {
        "colab": {
          "base_uri": "https://localhost:8080/"
        },
        "id": "JmKhYgsY0g_o",
        "outputId": "4319b58a-145d-4a01-a122-01a854701214"
      },
      "outputs": [
        {
          "output_type": "stream",
          "name": "stdout",
          "text": [
            "Var(v=3.0000, grad=14.0000)\n",
            "Var(v=5.0000, grad=3.0000)\n",
            "Var(v=15.0000, grad=1.0000)\n",
            "Var(v=9.0000, grad=3.0000)\n",
            "Var(v=27.0000, grad=1.0000)\n",
            "Var(v=42.0000, grad=1.0000)\n"
          ]
        }
      ],
      "source": [
        "a = Var(3.0)\n",
        "b = Var(5.0)\n",
        "c = a * b\n",
        "d = Var(9.0)\n",
        "e = a * d\n",
        "f = c + e\n",
        "\n",
        "f.backward()\n",
        "\n",
        "for v in [a, b, c, d, e, f]:\n",
        "    print(v)"
      ]
    },
    {
      "cell_type": "markdown",
      "metadata": {
        "id": "Fe3B6uEH140p"
      },
      "source": [
        "## Exercise a) What is being calculated?\n",
        "\n",
        "Explain briefly the output of the code? What is the expression we differentiate and with respect to what variables?"
      ]
    },
    {
      "cell_type": "markdown",
      "source": [
        "**What is the output?**  \n",
        "The output *v* is the value of the variable.  \n",
        "The output *grad* is the gradient calculated with the function *f.backward*, which uses the function *backprop()* with input 1. The variable *f* depends on all the other variables, and therefore all *grads* are being updated when this function is run. *a,b,d* are multiplied with one another and therefore their gradients are updated depending on one another. *c,e,f* are either added with another value or nothing is done. By doing this the gradient will only become 1.\n",
        "\n",
        "**What is the expression?**  \n",
        "differentiate?"
      ],
      "metadata": {
        "id": "zT13lXrfbOoh"
      }
    },
    {
      "cell_type": "markdown",
      "metadata": {
        "id": "q8_Q0t2I3Ruj"
      },
      "source": [
        "## Exercise b) How does the backward function work?\n",
        "\n",
        "You need to understand how the backward function calculates the gradients. We can use the two examples above to help with that.\n",
        "\n",
        "Go through the following four steps and answer the questions on the way:\n",
        "\n",
        "1. We represent the two expressions as graphs as shown below. Fill in the missing expressions for the different derivatives.\n",
        "\n",
        "2. In the remainder consider the first expression. Make a schematic of the data structure which is generated when we define the expression for f. \n",
        "\n",
        "3. Then execute the backward function by hand to convince yourself that it indeed calculates the gradients with respect to the variables. \n",
        "\n",
        "4. Write down the sequence of calls to backprop."
      ]
    },
    {
      "cell_type": "code",
      "execution_count": 4,
      "metadata": {
        "id": "idGr71jYXl26"
      },
      "outputs": [],
      "source": [
        "# import logging\n",
        "import graphviz\n",
        "\n",
        "#logging.basicConfig(format='[%(levelname)s@%(name)s] %(message)s', level=logging.DEBUG)\n",
        "\n",
        "#graphviz.__version__, graphviz.version()"
      ]
    },
    {
      "cell_type": "code",
      "execution_count": 5,
      "metadata": {
        "colab": {
          "base_uri": "https://localhost:8080/",
          "height": 152
        },
        "id": "KPe30Q2QXzeG",
        "outputId": "4188030d-a53d-4742-f9e3-8c9e4a2138a4"
      },
      "outputs": [
        {
          "output_type": "execute_result",
          "data": {
            "text/plain": [
              "<graphviz.dot.Digraph at 0x7f1b991db910>"
            ],
            "image/svg+xml": "<?xml version=\"1.0\" encoding=\"UTF-8\" standalone=\"no\"?>\n<!DOCTYPE svg PUBLIC \"-//W3C//DTD SVG 1.1//EN\"\n \"http://www.w3.org/Graphics/SVG/1.1/DTD/svg11.dtd\">\n<!-- Generated by graphviz version 2.40.1 (20161225.0304)\n -->\n<!-- Title: first expression Pages: 1 -->\n<svg width=\"162pt\" height=\"98pt\"\n viewBox=\"0.00 0.00 162.00 98.00\" xmlns=\"http://www.w3.org/2000/svg\" xmlns:xlink=\"http://www.w3.org/1999/xlink\">\n<g id=\"graph0\" class=\"graph\" transform=\"scale(1 1) rotate(0) translate(4 94)\">\n<title>first expression</title>\n<polygon fill=\"#ffffff\" stroke=\"transparent\" points=\"-4,4 -4,-94 158,-94 158,4 -4,4\"/>\n<!-- a -->\n<g id=\"node1\" class=\"node\">\n<title>a</title>\n<ellipse fill=\"none\" stroke=\"#000000\" cx=\"18\" cy=\"-72\" rx=\"18\" ry=\"18\"/>\n<text text-anchor=\"middle\" x=\"18\" y=\"-68.3\" font-family=\"Times,serif\" font-size=\"14.00\" fill=\"#000000\">a</text>\n</g>\n<!-- f -->\n<g id=\"node2\" class=\"node\">\n<title>f</title>\n<ellipse fill=\"none\" stroke=\"#000000\" cx=\"136\" cy=\"-45\" rx=\"18\" ry=\"18\"/>\n<text text-anchor=\"middle\" x=\"136\" y=\"-41.3\" font-family=\"Times,serif\" font-size=\"14.00\" fill=\"#000000\">f</text>\n</g>\n<!-- a&#45;&gt;f -->\n<g id=\"edge1\" class=\"edge\">\n<title>a&#45;&gt;f</title>\n<path fill=\"none\" stroke=\"#000000\" d=\"M35.6658,-67.9578C54.8698,-63.5637 85.8151,-56.483 108.2661,-51.3459\"/>\n<polygon fill=\"#000000\" stroke=\"#000000\" points=\"109.2461,-54.7122 118.2134,-49.0698 107.6847,-47.8885 109.2461,-54.7122\"/>\n<text text-anchor=\"middle\" x=\"77\" y=\"-66.8\" font-family=\"Times,serif\" font-size=\"14.00\" fill=\"#000000\">df/da=b</text>\n</g>\n<!-- b -->\n<g id=\"node3\" class=\"node\">\n<title>b</title>\n<ellipse fill=\"none\" stroke=\"#000000\" cx=\"18\" cy=\"-18\" rx=\"18\" ry=\"18\"/>\n<text text-anchor=\"middle\" x=\"18\" y=\"-14.3\" font-family=\"Times,serif\" font-size=\"14.00\" fill=\"#000000\">b</text>\n</g>\n<!-- b&#45;&gt;f -->\n<g id=\"edge2\" class=\"edge\">\n<title>b&#45;&gt;f</title>\n<path fill=\"none\" stroke=\"#000000\" d=\"M36.0339,-20.9637C52.7278,-23.8381 78.1872,-28.555 100,-34 103.0098,-34.7513 106.1413,-35.6022 109.2457,-36.4899\"/>\n<polygon fill=\"#000000\" stroke=\"#000000\" points=\"108.3051,-39.8618 118.8887,-39.3744 110.3112,-33.1554 108.3051,-39.8618\"/>\n<text text-anchor=\"middle\" x=\"77\" y=\"-37.8\" font-family=\"Times,serif\" font-size=\"14.00\" fill=\"#000000\">df/db=a</text>\n</g>\n</g>\n</svg>\n"
          },
          "metadata": {},
          "execution_count": 5
        }
      ],
      "source": [
        "e1 = graphviz.Digraph('first expression', filename='fsm.gv')\n",
        "\n",
        "e1.attr(rankdir='LR', size='8,5')\n",
        "\n",
        "e1.attr('node', shape='circle')\n",
        "e1.edge('a', 'f', label='df/da=b')\n",
        "e1.edge('b', 'f', label='df/db=a')\n",
        "\n",
        "e1"
      ]
    },
    {
      "cell_type": "markdown",
      "source": [
        "### Schematic of the data structure:\n",
        "\n",
        "**a**:  \n",
        "a.v = 3 and a.grad_fn = [ ]\n",
        "\n",
        "**b**:  \n",
        "b.v = 5 and b.grad_fn = [ ]\n",
        "\n",
        "**f**:  \n",
        "$f.v = a.v*b.v = 3*5 = 15$  \n",
        "$f.grad_{fn} = [(a, b.v), (b, a.v)] = [(a,5), (b,3)]$"
      ],
      "metadata": {
        "id": "vVYTAqgeo5hS"
      }
    },
    {
      "cell_type": "markdown",
      "source": [
        "### Backward function by hand\n",
        "\n",
        "The function calls the function backprop with input bp=1.  \n",
        "The backprop function takes the current gradient (f.grad=0) and adds with bp. Now the gradient is updated to f.grad=1.  \n",
        "\n",
        "Then we loop through the f.grad_fn which is a list with tuples. Each loop will iterate over one tuple. First loop will then have input=a and grad=5. Then we update the a.backprop($5*1$). Next loop is input=b and grad=3, where b.backprop($3*1$).\n",
        "\n",
        "\n",
        "So by calculating f.backward, which is dependent of the variables a and b, we actually calculate the gradients of all three variables."
      ],
      "metadata": {
        "id": "m_fhwpQIrWL6"
      }
    },
    {
      "cell_type": "markdown",
      "source": [
        "### Sequence of calls to backprop\n",
        "\n",
        "These are the sequences of calls to backprop that is done when f.backward is run.  \n",
        "f.backprop(1)  \n",
        "a.backprop(5)  \n",
        "b.backprop(3)"
      ],
      "metadata": {
        "id": "SUM--J4xxg4Z"
      }
    },
    {
      "cell_type": "code",
      "execution_count": 6,
      "metadata": {
        "colab": {
          "base_uri": "https://localhost:8080/",
          "height": 232
        },
        "id": "0nittR-mZFeX",
        "outputId": "cbcbc403-dead-4c00-86bc-855aeaa0f705"
      },
      "outputs": [
        {
          "output_type": "execute_result",
          "data": {
            "text/plain": [
              "<graphviz.dot.Digraph at 0x7f1b9917c7d0>"
            ],
            "image/svg+xml": "<?xml version=\"1.0\" encoding=\"UTF-8\" standalone=\"no\"?>\n<!DOCTYPE svg PUBLIC \"-//W3C//DTD SVG 1.1//EN\"\n \"http://www.w3.org/Graphics/SVG/1.1/DTD/svg11.dtd\">\n<!-- Generated by graphviz version 2.40.1 (20161225.0304)\n -->\n<!-- Title: second expression Pages: 1 -->\n<svg width=\"281pt\" height=\"158pt\"\n viewBox=\"0.00 0.00 281.00 158.00\" xmlns=\"http://www.w3.org/2000/svg\" xmlns:xlink=\"http://www.w3.org/1999/xlink\">\n<g id=\"graph0\" class=\"graph\" transform=\"scale(1 1) rotate(0) translate(4 154)\">\n<title>second expression</title>\n<polygon fill=\"#ffffff\" stroke=\"transparent\" points=\"-4,4 -4,-154 277,-154 277,4 -4,4\"/>\n<!-- a -->\n<g id=\"node1\" class=\"node\">\n<title>a</title>\n<ellipse fill=\"none\" stroke=\"#000000\" cx=\"18\" cy=\"-75\" rx=\"18\" ry=\"18\"/>\n<text text-anchor=\"middle\" x=\"18\" y=\"-71.3\" font-family=\"Times,serif\" font-size=\"14.00\" fill=\"#000000\">a</text>\n</g>\n<!-- c -->\n<g id=\"node2\" class=\"node\">\n<title>c</title>\n<ellipse fill=\"none\" stroke=\"#000000\" cx=\"137\" cy=\"-102\" rx=\"18\" ry=\"18\"/>\n<text text-anchor=\"middle\" x=\"137\" y=\"-98.3\" font-family=\"Times,serif\" font-size=\"14.00\" fill=\"#000000\">c</text>\n</g>\n<!-- a&#45;&gt;c -->\n<g id=\"edge1\" class=\"edge\">\n<title>a&#45;&gt;c</title>\n<path fill=\"none\" stroke=\"#000000\" d=\"M35.5589,-78.9839C55.0696,-83.4108 86.8223,-90.6151 109.6075,-95.7849\"/>\n<polygon fill=\"#000000\" stroke=\"#000000\" points=\"108.8425,-99.2002 119.3691,-97.9997 110.3914,-92.3737 108.8425,-99.2002\"/>\n<text text-anchor=\"middle\" x=\"77.5\" y=\"-96.8\" font-family=\"Times,serif\" font-size=\"14.00\" fill=\"#000000\">dc/da=b</text>\n</g>\n<!-- e -->\n<g id=\"node4\" class=\"node\">\n<title>e</title>\n<ellipse fill=\"none\" stroke=\"#000000\" cx=\"137\" cy=\"-48\" rx=\"18\" ry=\"18\"/>\n<text text-anchor=\"middle\" x=\"137\" y=\"-44.3\" font-family=\"Times,serif\" font-size=\"14.00\" fill=\"#000000\">e</text>\n</g>\n<!-- a&#45;&gt;e -->\n<g id=\"edge3\" class=\"edge\">\n<title>a&#45;&gt;e</title>\n<path fill=\"none\" stroke=\"#000000\" d=\"M35.1093,-69.3663C41.0519,-67.518 47.7844,-65.5441 54,-64 72.2255,-59.4724 92.9698,-55.4733 109.1606,-52.6056\"/>\n<polygon fill=\"#000000\" stroke=\"#000000\" points=\"109.8139,-56.0446 119.0705,-50.8903 108.62,-49.1472 109.8139,-56.0446\"/>\n<text text-anchor=\"middle\" x=\"77.5\" y=\"-67.8\" font-family=\"Times,serif\" font-size=\"14.00\" fill=\"#000000\">de/da=d</text>\n</g>\n<!-- f -->\n<g id=\"node6\" class=\"node\">\n<title>f</title>\n<ellipse fill=\"none\" stroke=\"#000000\" cx=\"255\" cy=\"-75\" rx=\"18\" ry=\"18\"/>\n<text text-anchor=\"middle\" x=\"255\" y=\"-71.3\" font-family=\"Times,serif\" font-size=\"14.00\" fill=\"#000000\">f</text>\n</g>\n<!-- c&#45;&gt;f -->\n<g id=\"edge5\" class=\"edge\">\n<title>c&#45;&gt;f</title>\n<path fill=\"none\" stroke=\"#000000\" d=\"M154.6658,-97.9578C173.8698,-93.5637 204.8151,-86.483 227.2661,-81.3459\"/>\n<polygon fill=\"#000000\" stroke=\"#000000\" points=\"228.2461,-84.7122 237.2134,-79.0698 226.6847,-77.8885 228.2461,-84.7122\"/>\n<text text-anchor=\"middle\" x=\"196\" y=\"-96.8\" font-family=\"Times,serif\" font-size=\"14.00\" fill=\"#000000\">df/dc=1</text>\n</g>\n<!-- b -->\n<g id=\"node3\" class=\"node\">\n<title>b</title>\n<ellipse fill=\"none\" stroke=\"#000000\" cx=\"18\" cy=\"-132\" rx=\"18\" ry=\"18\"/>\n<text text-anchor=\"middle\" x=\"18\" y=\"-128.3\" font-family=\"Times,serif\" font-size=\"14.00\" fill=\"#000000\">b</text>\n</g>\n<!-- b&#45;&gt;c -->\n<g id=\"edge2\" class=\"edge\">\n<title>b&#45;&gt;c</title>\n<path fill=\"none\" stroke=\"#000000\" d=\"M35.5589,-127.5734C55.0696,-122.6547 86.8223,-114.6498 109.6075,-108.9057\"/>\n<polygon fill=\"#000000\" stroke=\"#000000\" points=\"110.5281,-112.2832 119.3691,-106.4448 108.8169,-105.4955 110.5281,-112.2832\"/>\n<text text-anchor=\"middle\" x=\"77.5\" y=\"-125.8\" font-family=\"Times,serif\" font-size=\"14.00\" fill=\"#000000\">dc/db=a</text>\n</g>\n<!-- e&#45;&gt;f -->\n<g id=\"edge6\" class=\"edge\">\n<title>e&#45;&gt;f</title>\n<path fill=\"none\" stroke=\"#000000\" d=\"M155.0339,-50.9637C171.7278,-53.8381 197.1872,-58.555 219,-64 222.0098,-64.7513 225.1413,-65.6022 228.2457,-66.4899\"/>\n<polygon fill=\"#000000\" stroke=\"#000000\" points=\"227.3051,-69.8618 237.8887,-69.3744 229.3112,-63.1554 227.3051,-69.8618\"/>\n<text text-anchor=\"middle\" x=\"196\" y=\"-67.8\" font-family=\"Times,serif\" font-size=\"14.00\" fill=\"#000000\">df/de=1</text>\n</g>\n<!-- d -->\n<g id=\"node5\" class=\"node\">\n<title>d</title>\n<ellipse fill=\"none\" stroke=\"#000000\" cx=\"18\" cy=\"-18\" rx=\"18\" ry=\"18\"/>\n<text text-anchor=\"middle\" x=\"18\" y=\"-14.3\" font-family=\"Times,serif\" font-size=\"14.00\" fill=\"#000000\">d</text>\n</g>\n<!-- d&#45;&gt;e -->\n<g id=\"edge4\" class=\"edge\">\n<title>d&#45;&gt;e</title>\n<path fill=\"none\" stroke=\"#000000\" d=\"M35.9889,-20.9104C52.9226,-23.8318 78.9119,-28.785 101,-35 104.0364,-35.8544 107.1845,-36.8389 110.2985,-37.8758\"/>\n<polygon fill=\"#000000\" stroke=\"#000000\" points=\"109.3565,-41.2547 119.9514,-41.2723 111.68,-34.6515 109.3565,-41.2547\"/>\n<text text-anchor=\"middle\" x=\"77.5\" y=\"-38.8\" font-family=\"Times,serif\" font-size=\"14.00\" fill=\"#000000\">de/dd=a</text>\n</g>\n</g>\n</svg>\n"
          },
          "metadata": {},
          "execution_count": 6
        }
      ],
      "source": [
        "e2 = graphviz.Digraph('second expression', filename='fsm.gv')\n",
        "\n",
        "e2.attr(rankdir='LR', size='8,5')\n",
        "\n",
        "e2.attr('node', shape='circle')\n",
        "e2.edge('a', 'c', label='dc/da=b')\n",
        "e2.edge('b', 'c', label='dc/db=a')\n",
        "e2.edge('a', 'e', label='de/da=d')\n",
        "e2.edge('d', 'e', label='de/dd=a')\n",
        "e2.edge('c', 'f', label='df/dc=1')\n",
        "e2.edge('e', 'f', label='df/de=1')\n",
        "\n",
        "e2"
      ]
    },
    {
      "cell_type": "markdown",
      "metadata": {
        "id": "A5oi21W4gpeM"
      },
      "source": [
        "## Exercise c) What happens if we run backward again?\n",
        "\n",
        "Try to execute the code below. Explain what happens."
      ]
    },
    {
      "cell_type": "code",
      "execution_count": 7,
      "metadata": {
        "colab": {
          "base_uri": "https://localhost:8080/"
        },
        "id": "DCtpJyr-gyX1",
        "outputId": "5bc77d34-822e-4546-a307-5ed5be61d1e1"
      },
      "outputs": [
        {
          "output_type": "stream",
          "name": "stdout",
          "text": [
            "Var(v=3.0000, grad=28.0000)\n",
            "Var(v=5.0000, grad=6.0000)\n",
            "Var(v=15.0000, grad=2.0000)\n",
            "Var(v=9.0000, grad=6.0000)\n",
            "Var(v=27.0000, grad=2.0000)\n",
            "Var(v=42.0000, grad=2.0000)\n"
          ]
        }
      ],
      "source": [
        "f.backward()\n",
        "\n",
        "for v in [a, b, c, d, e, f]:\n",
        "    print(v)"
      ]
    },
    {
      "cell_type": "markdown",
      "source": [
        "When we execute once again the gradient is already defined (not 0) from before. Therefore a new run will add the values once again to backprop and the values will add up.  \n",
        "That is why we see the values are double the size of before."
      ],
      "metadata": {
        "id": "WSTmJJyMygsa"
      }
    },
    {
      "cell_type": "markdown",
      "metadata": {
        "id": "e8bPVq2VhsP-"
      },
      "source": [
        "## Exercise d) Zero gradient\n",
        "\n",
        "We can zero the gradient by backpropagating a -1.0 as is shown in the example below. (If you have run backward multiple time then you also have to run the cell below an equal amount of times.) Explain what is going on."
      ]
    },
    {
      "cell_type": "code",
      "execution_count": 8,
      "metadata": {
        "colab": {
          "base_uri": "https://localhost:8080/"
        },
        "id": "OnyPDQx9lJe0",
        "outputId": "2205deae-2828-465b-c8bb-6da3c40465b3"
      },
      "outputs": [
        {
          "output_type": "stream",
          "name": "stdout",
          "text": [
            "Var(v=2.0000, grad=0.0000)\n",
            "Var(v=5.0000, grad=6.0000)\n",
            "Var(v=15.0000, grad=2.0000)\n",
            "Var(v=9.0000, grad=6.0000)\n",
            "Var(v=27.0000, grad=2.0000)\n",
            "Var(v=42.0000, grad=2.0000)\n",
            "Var(v=2.0000, grad=0.0000)\n",
            "Var(v=5.0000, grad=3.0000)\n",
            "Var(v=15.0000, grad=1.0000)\n",
            "Var(v=9.0000, grad=3.0000)\n",
            "Var(v=27.0000, grad=1.0000)\n",
            "Var(v=42.0000, grad=1.0000)\n"
          ]
        }
      ],
      "source": [
        "a = Var(2.0)\n",
        "\n",
        "for v in [a, b, c, d, e, f]:\n",
        "    print(v)\n",
        "\n",
        "f.backprop(-1.0)\n",
        "\n",
        "for v in [a, b, c, d, e, f]:\n",
        "    print(v)"
      ]
    },
    {
      "cell_type": "markdown",
      "source": [
        "By setting bp=-1 the f.grad is updated from 1 to 0.  \n",
        "Furhtermore, the calculation of a.grad and b.grad will be the opposite gradient of before. This is why we will achieve 0 again. "
      ],
      "metadata": {
        "id": "xumg0Um10VJS"
      }
    },
    {
      "cell_type": "markdown",
      "metadata": {
        "id": "U4057_ljNvWB"
      },
      "source": [
        "## Exercise e) Test correctness of derivatives with the finite difference method\n",
        "\n",
        "Write a small function that uses [the finite difference method](https://en.wikipedia.org/wiki/Finite_difference_method) to numerically test that backpropation implementation is working. In short we will use\n",
        "$$\n",
        "\\frac{\\partial f(a)}{\\partial a} \\approx \\frac{f(a+da)-f(a)}{da}\n",
        "$$\n",
        "for $da \\ll 1$.\n",
        "\n",
        "As an example, we could approximate the derivative of the function $f(a)=a^2$ in e.g. the value $a=4$ using the finite difference method. This amounts to inserting the relevant values and approximating the gradient $f'(4)$ with the fraction above. \n"
      ]
    },
    {
      "cell_type": "code",
      "execution_count": 9,
      "metadata": {
        "colab": {
          "base_uri": "https://localhost:8080/"
        },
        "id": "9TGil92lSXDN",
        "outputId": "e27d8f43-44ed-4608-e2b6-57c556286c30"
      },
      "outputs": [
        {
          "output_type": "stream",
          "name": "stdout",
          "text": [
            "Var(v=3.0000, grad=5.0000)\n",
            "Var(v=5.0000, grad=3.0000)\n",
            "Var(v=15.0000, grad=1.0000)\n",
            "5.000000413701855\n"
          ]
        }
      ],
      "source": [
        "# f function - try to change the code to test other types of functions as well (such as different polynomials etc.)\n",
        "def f_function(a):\n",
        "  a = Var(a)\n",
        "  b = Var(5.0)\n",
        "  f = a * b\n",
        "  f.backward()\n",
        "  return a,b,f\n",
        "\n",
        "for v in f_function(3.0):\n",
        "  print(v)\n",
        "\n",
        "# Insert your finite difference code here\n",
        "def finite_difference(da=1e-10):\n",
        "    \"\"\"\n",
        "    This function compute the finite difference between\n",
        "    \n",
        "    Input:\n",
        "    da:          The finite difference                           (float)\n",
        "    \n",
        "    Output:\n",
        "    finite_difference: numerical approximation to the derivative (float) \n",
        "    \"\"\"\n",
        "    \n",
        "    fa_da = f_function(3.0 + da)[2].v           # <- Insert correct expression\n",
        "    fa = f_function(3.0)[2].v               # <- Insert correct expression\n",
        "\n",
        "    finite_difference = (fa_da - fa) / da\n",
        "    \n",
        "    return finite_difference\n",
        "\n",
        "print(finite_difference())"
      ]
    },
    {
      "cell_type": "markdown",
      "metadata": {
        "id": "6pZar5RKaUkg"
      },
      "source": [
        "# Create an artificial dataset to play with\n",
        "\n",
        "We create a non-linear 1d regression task. The generator supports various noise levels and it creates train, validation and test sets. You can modify it yourself if you want more or less challenging tasks."
      ]
    },
    {
      "cell_type": "code",
      "execution_count": 10,
      "metadata": {
        "id": "Y6yfMAQ8aduj"
      },
      "outputs": [],
      "source": [
        "import numpy as np\n",
        "import matplotlib.pyplot as plt\n",
        "\n",
        "np.random.seed(42)"
      ]
    },
    {
      "cell_type": "code",
      "execution_count": 11,
      "metadata": {
        "id": "4YabfD43ajNh"
      },
      "outputs": [],
      "source": [
        "def data_generator(noise=0.1, n_samples=300, D1=True):\n",
        "    # Create covariates and response variable\n",
        "    if D1:\n",
        "        X = np.linspace(-3, 3, num=n_samples).reshape(-1,1) # 1-D\n",
        "        np.random.shuffle(X)\n",
        "        y = np.random.normal((0.5*np.sin(X[:,0]*3) + X[:,0]), noise) # 1-D with trend\n",
        "    else:\n",
        "        X = np.random.multivariate_normal(np.zeros(3), noise*np.eye(3), size = n_samples) # 3-D\n",
        "        np.random.shuffle(X)    \n",
        "        y = np.sin(X[:,0]) - 5*(X[:,1]**2) + 0.5*X[:,2] # 3-D\n",
        "\n",
        "    # Stack them together vertically to split data set\n",
        "    data_set = np.vstack((X.T,y)).T\n",
        "    \n",
        "    train, validation, test = np.split(data_set, [int(0.35*n_samples), int(0.7*n_samples)], axis=0)\n",
        "    \n",
        "    # Standardization of the data, remember we do the standardization with the training set mean and standard deviation\n",
        "    train_mu = np.mean(train, axis=0)\n",
        "    train_sigma = np.std(train, axis=0)\n",
        "    \n",
        "    train = (train-train_mu)/train_sigma\n",
        "    validation = (validation-train_mu)/train_sigma\n",
        "    test = (test-train_mu)/train_sigma\n",
        "    \n",
        "    x_train, x_validation, x_test = train[:,:-1], validation[:,:-1], test[:,:-1]\n",
        "    y_train, y_validation, y_test = train[:,-1], validation[:,-1], test[:,-1]\n",
        "\n",
        "    return x_train, y_train,  x_validation, y_validation, x_test, y_test"
      ]
    },
    {
      "cell_type": "code",
      "execution_count": 12,
      "metadata": {
        "id": "u1oDngHLapIz"
      },
      "outputs": [],
      "source": [
        "D1 = True\n",
        "x_train, y_train,  x_validation, y_validation, x_test, y_test = data_generator(noise=0.5, D1=D1)"
      ]
    },
    {
      "cell_type": "code",
      "execution_count": 13,
      "metadata": {
        "colab": {
          "base_uri": "https://localhost:8080/",
          "height": 265
        },
        "id": "Ysfa3FsBavlm",
        "outputId": "64aa6cc8-7693-47cb-fd83-0790b36ca068"
      },
      "outputs": [
        {
          "output_type": "display_data",
          "data": {
            "text/plain": [
              "<Figure size 432x288 with 1 Axes>"
            ],
            "image/png": "[encoded data removed]"
          },
          "metadata": {
            "needs_background": "light"
          }
        }
      ],
      "source": [
        "if D1:\n",
        "    plt.scatter(x_train[:,0], y_train);\n",
        "    plt.scatter(x_validation[:,0], y_validation);\n",
        "    plt.scatter(x_test[:,0], y_test);\n",
        "else:\n",
        "    plt.scatter(x_train[:,1], y_train);\n",
        "    plt.scatter(x_validation[:,1], y_validation);\n",
        "    plt.scatter(x_test[:,1], y_test);\n",
        "plt.show()"
      ]
    },
    {
      "cell_type": "code",
      "execution_count": 14,
      "metadata": {
        "id": "zac2HHNlgbpm"
      },
      "outputs": [],
      "source": [
        "# convert from nparray to Var\n",
        "def nparray_to_Var(x):\n",
        "  if x.ndim==1:\n",
        "    y = [[Var(float(x[i]))] for i in range(x.shape[0])] # always work with list of list\n",
        "  else:\n",
        "    y = [[Var(float(x[i,j])) for j in range(x.shape[1])] for i in range(x.shape[0])]\n",
        "  return y\n",
        "   \n",
        "x_train = nparray_to_Var(x_train)\n",
        "y_train = nparray_to_Var(y_train)\n",
        "x_validation = nparray_to_Var(x_validation)\n",
        "y_validation = nparray_to_Var(y_validation)\n",
        "x_test = nparray_to_Var(x_test)\n",
        "y_test = nparray_to_Var(y_test)\n"
      ]
    },
    {
      "cell_type": "markdown",
      "metadata": {
        "id": "VbjrqcpVFtGe"
      },
      "source": [
        "# Defining and initializing the network\n",
        "\n",
        "The steps to create a feed forward neural network are the following:\n",
        "\n",
        "1. **Number of hidden layer and hidden units**. We have to define the number of hidden units in each layer. The number of features in X and the output dimensionality (the size of Y) are given but the numbers in between are set by the researcher. Remember that for each unit in each layer beside in the input has a bias term.\n",
        "2. **Activation functions** for each hidden layer. Each hidden layer in your list must have an activation function (it can also be the linear activation which is equivalent to identity function). The power of neural networks comes from non-linear activation functions that learn representations (features) from the data allowing us to learn from it. \n",
        "3. **Parameter initialization**. We will initialize the weights to have random values. This is done in practice by drawing pseudo random numbers from a Gaussian or uniform distribution. It turns out that for deeper models we have to be careful about how we scale the random numbers. This will be the topic of the exercise below. For now we will just use unit variance Gaussians.  \n",
        "\n",
        "In order to make life easier for ourselves we define a DenseLayer class that takes care of initialization and the forward pass. We can also extend it later with print and advanced initialization capabilities. For the latter we have introduced a Initializer class.\n",
        "\n",
        "Note that we use Sequence in the code below. A Sequence is an ordered list. This means the order we insert and access items are the same."
      ]
    },
    {
      "cell_type": "code",
      "execution_count": 15,
      "metadata": {
        "id": "ij_ieRsAt7Xt"
      },
      "outputs": [],
      "source": [
        "class Initializer:\n",
        "\n",
        "  def init_weights(self, n_in, n_out):\n",
        "    raise NotImplementedError\n",
        "\n",
        "  def init_bias(self, n_out):\n",
        "    raise NotImplementedError"
      ]
    },
    {
      "cell_type": "code",
      "execution_count": 16,
      "metadata": {
        "id": "eb18N5phuIha"
      },
      "outputs": [],
      "source": [
        "import random\n",
        "\n",
        "class NormalInitializer(Initializer):\n",
        "\n",
        "  def __init__(self, mean=0, std=0.1):\n",
        "    self.mean = mean\n",
        "    self.std = std\n",
        "\n",
        "  def init_weights(self, n_in, n_out):\n",
        "    return [[Var(random.gauss(self.mean, self.std)) for _ in range(n_out)] for _ in range(n_in)]\n",
        "\n",
        "  def init_bias(self, n_out):\n",
        "    return [Var(0.0) for _ in range(n_out)]\n",
        "\n",
        "class ConstantInitializer(Initializer):\n",
        "\n",
        "  def __init__(self, weight=1.0, bias=0.0):\n",
        "    self.weight = weight\n",
        "    self.bias = bias\n",
        "\n",
        "  def init_weights(self, n_in, n_out):\n",
        "    return [[Var(self.weight) for _ in range(n_out)] for _ in range(n_in)]\n",
        "\n",
        "  def init_bias(self, n_out):\n",
        "    return [Var(self.bias) for _ in range(n_out)]"
      ]
    },
    {
      "cell_type": "code",
      "execution_count": 17,
      "metadata": {
        "id": "jOLYGnZKuM6W"
      },
      "outputs": [],
      "source": [
        "from typing import Sequence\n",
        "\n",
        "class DenseLayer:\n",
        "    def __init__(self, n_in: int, n_out: int, act_fn, initializer = NormalInitializer()):\n",
        "        self.weights = initializer.init_weights(n_in, n_out)\n",
        "        self.bias = initializer.init_bias(n_out)\n",
        "        self.act_fn = act_fn\n",
        "    \n",
        "    def __repr__(self):    \n",
        "        return 'Weights: ' + repr(self.weights) + ' Biases: ' + repr(self.bias)\n",
        "\n",
        "    def parameters(self) -> Sequence[Var]:\n",
        "      params = []\n",
        "      for r in self.weights:\n",
        "        params += r\n",
        "\n",
        "      return params + self.bias\n",
        "\n",
        "    def forward(self, single_input: Sequence[Var]) -> Sequence[Var]:\n",
        "        # self.weights is a matrix with dimension n_in x n_out. We check that the dimensionality of the input \n",
        "        # to the current layer matches the number of nodes in the current layer\n",
        "        assert len(self.weights) == len(single_input), \"weights and single_input must match in first dimension\"\n",
        "        weights = self.weights\n",
        "        out = []\n",
        "        # For some given data point single_input, we now want to calculate the resulting value in each node in the current layer\n",
        "        # We therefore loop over the (number of) nodes in the current layer:\n",
        "        for j in range(len(weights[0])): \n",
        "            # Initialize the node value depending on its corresponding parameters.\n",
        "            node = self.bias[j] # <- Insert code\n",
        "            # We now finish the linear transformation corresponding to the parameters of the currently considered node.\n",
        "            for i in range(len(single_input)):\n",
        "                node += weights[i][j] * single_input[i]  # <- Insert code\n",
        "            node = self.act_fn(node)\n",
        "            out.append(node)\n",
        "\n",
        "        return out"
      ]
    },
    {
      "cell_type": "markdown",
      "metadata": {
        "id": "jpIZPBpNI0pO"
      },
      "source": [
        "## Exercise f) Add more activation functions\n",
        "\n",
        "To have a full definition of the neural network, we must define an activation function for every layer. Several activation functions have been proposed and have different characteristics. In the Var class we have already defined the rectified linear init (relu). \n",
        " \n",
        "Implement the following activation functions in the Var class:\n",
        "\n",
        "* Identity: $$\\mathrm{identity}(x) = x$$\n",
        "* Hyperbolic tangent: $$\\tanh(x)$$\n",
        "* Sigmoid (or logistic function): $$\\mathrm{sigmoid}(x) = \\frac{1}{1.0 + \\exp(-x ) }$$  Hint: $\\mathrm{sigmoid}'(x)= \\mathrm{sigmoid}(x)(1-\\mathrm{sigmoid}(x))$.  \n",
        "\n",
        "Hint: You can seek inspiration in the relu method in the Var class."
      ]
    },
    {
      "cell_type": "markdown",
      "source": [
        "**solved in class - look at top of document**"
      ],
      "metadata": {
        "id": "dezTK4mF-OgE"
      }
    },
    {
      "cell_type": "markdown",
      "metadata": {
        "id": "p_8n_SKnIW2F"
      },
      "source": [
        "## Exercise g) Complete the forward pass\n",
        "\n",
        "In the code below we initialize a 1-5-1 network and pass the training set through it. *The forward method in DenseLayer is **not** complete*. It just outputs zeros right now. The method forward should perform an [affine transformation](https://en.wikipedia.org/wiki/Affine_transformation) on the input followed by an application of the activation function."
      ]
    },
    {
      "cell_type": "code",
      "execution_count": 18,
      "metadata": {
        "colab": {
          "base_uri": "https://localhost:8080/"
        },
        "id": "xDEjtePxE7Mv",
        "outputId": "29e7e0e1-2ad3-4c47-a94a-fbf1841ed4bd"
      },
      "outputs": [
        {
          "output_type": "stream",
          "name": "stdout",
          "text": [
            "[[Var(v=-0.0216, grad=0.0000)], [Var(v=-0.0434, grad=0.0000)], [Var(v=-0.0039, grad=0.0000)], [Var(v=-0.0087, grad=0.0000)], [Var(v=-0.0320, grad=0.0000)], [Var(v=-0.0295, grad=0.0000)], [Var(v=-0.0192, grad=0.0000)], [Var(v=-0.0021, grad=0.0000)], [Var(v=-0.0089, grad=0.0000)], [Var(v=-0.0119, grad=0.0000)], [Var(v=-0.0333, grad=0.0000)], [Var(v=-0.0055, grad=0.0000)], [Var(v=-0.0268, grad=0.0000)], [Var(v=-0.0063, grad=0.0000)], [Var(v=-0.0143, grad=0.0000)], [Var(v=-0.0278, grad=0.0000)], [Var(v=-0.0513, grad=0.0000)], [Var(v=-0.0243, grad=0.0000)], [Var(v=-0.0026, grad=0.0000)], [Var(v=-0.0084, grad=0.0000)], [Var(v=-0.0041, grad=0.0000)], [Var(v=-0.0018, grad=0.0000)], [Var(v=-0.0375, grad=0.0000)], [Var(v=-0.0378, grad=0.0000)], [Var(v=-0.0024, grad=0.0000)], [Var(v=-0.0065, grad=0.0000)], [Var(v=-0.0486, grad=0.0000)], [Var(v=-0.0534, grad=0.0000)], [Var(v=-0.0057, grad=0.0000)], [Var(v=-0.0337, grad=0.0000)], [Var(v=-0.0081, grad=0.0000)], [Var(v=-0.0081, grad=0.0000)], [Var(v=-0.0071, grad=0.0000)], [Var(v=-0.0077, grad=0.0000)], [Var(v=-0.0257, grad=0.0000)], [Var(v=-0.0014, grad=0.0000)], [Var(v=-0.0088, grad=0.0000)], [Var(v=-0.0033, grad=0.0000)], [Var(v=-0.0062, grad=0.0000)], [Var(v=-0.0045, grad=0.0000)], [Var(v=-0.0031, grad=0.0000)], [Var(v=-0.0043, grad=0.0000)], [Var(v=-0.0503, grad=0.0000)], [Var(v=-0.0053, grad=0.0000)], [Var(v=-0.0042, grad=0.0000)], [Var(v=-0.0051, grad=0.0000)], [Var(v=-0.0323, grad=0.0000)], [Var(v=-0.0306, grad=0.0000)], [Var(v=-0.0020, grad=0.0000)], [Var(v=-0.0313, grad=0.0000)], [Var(v=-0.0136, grad=0.0000)], [Var(v=-0.0012, grad=0.0000)], [Var(v=-0.0340, grad=0.0000)], [Var(v=-0.0043, grad=0.0000)], [Var(v=-0.0541, grad=0.0000)], [Var(v=-0.0475, grad=0.0000)], [Var(v=-0.0029, grad=0.0000)], [Var(v=-0.0032, grad=0.0000)], [Var(v=-0.0178, grad=0.0000)], [Var(v=-0.0076, grad=0.0000)], [Var(v=-0.0316, grad=0.0000)], [Var(v=-0.0054, grad=0.0000)], [Var(v=-0.0089, grad=0.0000)], [Var(v=-0.0154, grad=0.0000)], [Var(v=-0.0112, grad=0.0000)], [Var(v=-0.0073, grad=0.0000)], [Var(v=-0.0078, grad=0.0000)], [Var(v=-0.0399, grad=0.0000)], [Var(v=-0.0056, grad=0.0000)], [Var(v=-0.0157, grad=0.0000)], [Var(v=-0.0021, grad=0.0000)], [Var(v=-0.0010, grad=0.0000)], [Var(v=-0.0309, grad=0.0000)], [Var(v=-0.0181, grad=0.0000)], [Var(v=-0.0008, grad=0.0000)], [Var(v=-0.0489, grad=0.0000)], [Var(v=-0.0039, grad=0.0000)], [Var(v=-0.0037, grad=0.0000)], [Var(v=-0.0049, grad=0.0000)], [Var(v=-0.0510, grad=0.0000)], [Var(v=-0.0077, grad=0.0000)], [Var(v=-0.0046, grad=0.0000)], [Var(v=-0.0080, grad=0.0000)], [Var(v=-0.0011, grad=0.0000)], [Var(v=-0.0041, grad=0.0000)], [Var(v=-0.0018, grad=0.0000)], [Var(v=-0.0015, grad=0.0000)], [Var(v=-0.0045, grad=0.0000)], [Var(v=-0.0083, grad=0.0000)], [Var(v=-0.0086, grad=0.0000)], [Var(v=-0.0185, grad=0.0000)], [Var(v=-0.0026, grad=0.0000)], [Var(v=-0.0048, grad=0.0000)], [Var(v=-0.0288, grad=0.0000)], [Var(v=-0.0068, grad=0.0000)], [Var(v=-0.0082, grad=0.0000)], [Var(v=-0.0133, grad=0.0000)], [Var(v=-0.0022, grad=0.0000)], [Var(v=-0.0461, grad=0.0000)], [Var(v=-0.0049, grad=0.0000)], [Var(v=-0.0302, grad=0.0000)], [Var(v=-0.0047, grad=0.0000)], [Var(v=-0.0072, grad=0.0000)], [Var(v=-0.0147, grad=0.0000)], [Var(v=-0.0430, grad=0.0000)]]\n"
          ]
        }
      ],
      "source": [
        "NN = [\n",
        "    DenseLayer(1, 5, lambda x: x.relu()),\n",
        "    DenseLayer(5, 1, lambda x: x.identity())\n",
        "]\n",
        "\n",
        "def forward(input, network):\n",
        "\n",
        "  def forward_single(x, network):\n",
        "    for layer in network:\n",
        "        x = layer.forward(x)\n",
        "    return x\n",
        "\n",
        "  output = [ forward_single(input[n], network) for n in range(len(input))]\n",
        "  return output\n",
        "\n",
        "print(forward(x_train, NN))\n"
      ]
    },
    {
      "cell_type": "markdown",
      "metadata": {
        "id": "oLrGJytZFtGm"
      },
      "source": [
        "## Exercise h) Print all network parameters\n",
        "\n",
        "Make a function that prints all the parameters of the network (weights and biases) with information about in which layer the appear. In the object oriented spirit you should introduce a method in the DenseLayer class to print the parameters of a layer. Hint: You can take inspiration from the corresponding method in Var. "
      ]
    },
    {
      "cell_type": "code",
      "execution_count": 19,
      "metadata": {
        "id": "iac-VwYGFtGm",
        "colab": {
          "base_uri": "https://localhost:8080/"
        },
        "outputId": "ab9c7bb2-48a4-4374-e22e-135def8f1a54"
      },
      "outputs": [
        {
          "output_type": "stream",
          "name": "stdout",
          "text": [
            "Layer: 0 Weights: [[Var(v=-0.0196, grad=0.0000), Var(v=0.1552, grad=0.0000), Var(v=0.0935, grad=0.0000), Var(v=-0.2018, grad=0.0000), Var(v=0.0879, grad=0.0000)]] Biases: [Var(v=0.0000, grad=0.0000), Var(v=0.0000, grad=0.0000), Var(v=0.0000, grad=0.0000), Var(v=0.0000, grad=0.0000), Var(v=0.0000, grad=0.0000)]\n",
            "Layer: 1 Weights: [[Var(v=-0.0314, grad=0.0000)], [Var(v=-0.0553, grad=0.0000)], [Var(v=-0.0916, grad=0.0000)], [Var(v=-0.0252, grad=0.0000)], [Var(v=-0.1452, grad=0.0000)]] Biases: [Var(v=0.0000, grad=0.0000)]\n"
          ]
        }
      ],
      "source": [
        "# Insert code here and in the DenseLayer class\n",
        "def layer_networks(NN=NN):\n",
        "  # printing information for each layer of the NN\n",
        "  for i in range(len(NN)):\n",
        "    string = 'Layer: ' + str(i) + ' ' + str(NN[i])\n",
        "    print(string)\n",
        "\n",
        "# by running this function all the parameters of the network and the belonging layer is printed\n",
        "layer_networks()"
      ]
    },
    {
      "cell_type": "markdown",
      "metadata": {
        "id": "_79HOAXrFtHK"
      },
      "source": [
        "## Visualization\n",
        "\n",
        "Now that we have defined our activation functions we can visualize them to see what they look like:"
      ]
    },
    {
      "cell_type": "code",
      "execution_count": 20,
      "metadata": {
        "id": "1FcylHqLTl-Z",
        "colab": {
          "base_uri": "https://localhost:8080/",
          "height": 0
        },
        "outputId": "74488772-67b7-45f4-f90d-bb54af5c64d7"
      },
      "outputs": [
        {
          "output_type": "execute_result",
          "data": {
            "text/plain": [
              "[<matplotlib.lines.Line2D at 0x7f1b98c1b410>]"
            ]
          },
          "metadata": {},
          "execution_count": 20
        },
        {
          "output_type": "display_data",
          "data": {
            "text/plain": [
              "<Figure size 432x288 with 1 Axes>"
            ],
            "image/png": "[encoded data removed]"
          },
          "metadata": {
            "needs_background": "light"
          }
        }
      ],
      "source": [
        "x = np.linspace(-6, 6, 100)\n",
        "\n",
        "# convert from Var to ndarray  \n",
        "def Var_to_nparray(x):\n",
        "  y = np.zeros((len(x),len(x[0])))\n",
        "  for i in range(len(x)):\n",
        "    for j in range(len(x[0])):\n",
        "      y[i,j] = x[i][j].v\n",
        "  return y\n",
        "\n",
        "# define 1-1 network with weight = 1 and relu activation \n",
        "NN = [ DenseLayer(1, 1, lambda x: x.relu(), initializer = ConstantInitializer(1.0)) ] \n",
        "y = Var_to_nparray(forward(nparray_to_Var(x), NN))\n",
        "\n",
        "#y = Var_to_nparray(relu(nparray_to_Var(x)))\n",
        "plt.plot(x,y)"
      ]
    },
    {
      "cell_type": "code",
      "execution_count": 21,
      "metadata": {
        "id": "oOL2UolJFtHL",
        "colab": {
          "base_uri": "https://localhost:8080/",
          "height": 0
        },
        "outputId": "c2e93ebe-f4c1-4fc1-a902-d5691e0a273c"
      },
      "outputs": [
        {
          "output_type": "display_data",
          "data": {
            "text/plain": [
              "<Figure size 360x360 with 1 Axes>"
            ],
            "image/png": "[encoded data removed]"
          },
          "metadata": {
            "needs_background": "light"
          }
        }
      ],
      "source": [
        "# Testing all activation layers\n",
        "\n",
        "x = np.linspace(-6, 6, 100)\n",
        "units = {\n",
        "    \"identity\": lambda x: x.identity(),\n",
        "    \"sigmoid\": lambda x: x.sigmoid(),\n",
        "    \"relu\": lambda x: x.relu(),\n",
        "    \"tanh\": lambda x: x.tanh()\n",
        "}\n",
        "\n",
        "plt.figure(figsize=(5, 5))\n",
        "[plt.plot(x, Var_to_nparray(forward(nparray_to_Var(x), [DenseLayer(1, 1, unit, initializer = ConstantInitializer(1.0))]) ), label=unit_name, lw=2) for unit_name, unit in units.items()] # unit(nparray_to_Var(x))), label=unit_name, lw=2) for unit_name, unit in units.items()]\n",
        "plt.legend(loc=2, fontsize=16)\n",
        "plt.title('Our activation functions', fontsize=20)\n",
        "plt.ylim([-2, 5])\n",
        "plt.xlim([-6, 6])\n",
        "plt.show()"
      ]
    },
    {
      "cell_type": "markdown",
      "metadata": {
        "id": "b-jdEl-7FtGs"
      },
      "source": [
        "# Advanced initialization schemes\n",
        "\n",
        "If we are not careful with initialization, the signals we propagate forward ($a^{(l)}$, $l=1,\\ldots,L$) and backward ($\\delta^l$, $l=L,L-1,\\ldots,1$) can blow up or shrink to zero. A statistical analysis of the variance of the signals for different activation functions can be found in these two papers: [Glorot initialization](http://proceedings.mlr.press/v9/glorot10a/glorot10a.pdf) and [He initialization](https://arxiv.org/pdf/1502.01852v1.pdf). \n",
        "\n",
        "The result of the analyses are proposals for how to make the initialization such that the variance of the signals (forward and backward) are kept approxmimatly constant when propagating from layer to layer. The exact expressions depend upon the non-linear activation function used. In Glorot initialization, the aim is to keep both the forward and backward variances constant whereas He only aims at keeping the variance in the forward pass constant.\n",
        "\n",
        "We define $n_{in}$ and $n_{out}$ as the number of input units and output units of a particular layer. \n",
        "\n",
        "The Glorot initialization has the form: \n",
        "\n",
        "$$w_{ij} \\sim N \\bigg( 0, \\, \\frac{2 \\alpha }{n_{in} + n_{out}} \\bigg) \\ . $$\n",
        "\n",
        "where $N(\\mu,\\sigma^2)$ is a Gaussian distribution with mean $\\mu$ and variance $\\sigma^2$ and $\\alpha$ is a parameter that depends upon the activation function used. For $\\tanh$, $\\alpha=1$ and for Rectified Linear Unit (ReLU) activations, $\\alpha=2$. (It is also possible to use a uniform distribution for initialization, see [this blog post](https://mmuratarat.github.io/2019-02-25/xavier-glorot-he-weight-init).) \n",
        "\n",
        "The He initialization is very similar\n",
        "\n",
        "$$w_{ij} \\sim N \\bigg( 0, \\, \\frac{\\alpha}{n_{in}} \\bigg) \\ . $$"
      ]
    },
    {
      "cell_type": "markdown",
      "metadata": {
        "id": "mqeyab9qFtGs"
      },
      "source": [
        "## Exercise i) Glorot and He initialization\n",
        " \n",
        "Using the Initializer class, implement functions that implement Glorot and He \n",
        "\n",
        "Explain briefly how you would test numerically that these initializations have the sought after property. Hint: See plots in Glorot paper.\n",
        "\n",
        "Comment: If you want to be more advanced then try to make a universal initializer taking both the activation function and type (Glorot or He) as argument."
      ]
    },
    {
      "cell_type": "code",
      "execution_count": 22,
      "metadata": {
        "id": "Qyk01CgaFtGt"
      },
      "outputs": [],
      "source": [
        "import math\n",
        "\n",
        "## Glorot\n",
        "def DenseLayer_Glorot_tanh(n_in: int, n_out: int):\n",
        "  std = math.sqrt(2*1/(n_in+n_out)) # <- replace with proper initialization\n",
        "  return DenseLayer(n_in, n_out, lambda x: x.tanh(), initializer = NormalInitializer(std))\n",
        "\n",
        "## He\n",
        "def DenseLayer_He_relu(n_in: int, n_out: int):\n",
        "  std = math.sqrt(0, 2/n_in) # <- replace with proper initialization\n",
        "  return DenseLayer(n_in, n_out, lambda x: x.relu(), initializer = NormalInitializer(std))"
      ]
    },
    {
      "cell_type": "markdown",
      "source": [
        "I would show the distribution of the gradients by using the initializer."
      ],
      "metadata": {
        "id": "n9C6sJ2jSFGb"
      }
    },
    {
      "cell_type": "markdown",
      "metadata": {
        "id": "-XyXBD37FtHk"
      },
      "source": [
        "## Exercise j) Forward pass unit test\n",
        "\n",
        "Write a bit of code to make a unit test that the forward pass works. This can be done by defining a simple network with for example all weights equal to one (using the ConstantInitializer method) and identity activation functions. \n",
        "\n",
        "Hints: Use the [assert](https://www.w3schools.com/python/ref_keyword_assert.asp), the nparray_to_Var and the Var_to_nparray commands. "
      ]
    },
    {
      "cell_type": "code",
      "execution_count": 46,
      "metadata": {
        "id": "k0miqRUAFtHl",
        "colab": {
          "base_uri": "https://localhost:8080/",
          "height": 265
        },
        "outputId": "abf0dd44-ec5d-4616-cb95-2eeb848e1096"
      },
      "outputs": [
        {
          "output_type": "display_data",
          "data": {
            "text/plain": [
              "<Figure size 432x288 with 1 Axes>"
            ],
            "image/png": "[encoded data removed]"
          },
          "metadata": {
            "needs_background": "light"
          }
        }
      ],
      "source": [
        "# Insert code here\n",
        "# a simple network of 1-1 with weight = 1 and the identity activation\n",
        "NN = [DenseLayer(1, 1, lambda x: x.identity(), initializer = ConstantInitializer(1.0)) ]\n",
        "y = Var_to_nparray(forward(nparray_to_Var(x), NN))\n",
        "\n",
        "assert x.all() == y.all()\n",
        "\n",
        "plt.plot(y)\n",
        "plt.show()"
      ]
    },
    {
      "cell_type": "markdown",
      "metadata": {
        "id": "faCxhfFnFtHp"
      },
      "source": [
        "# Loss functions\n",
        "\n",
        "We are only missing a loss function to we need to define a loss function and its derivative with respect to the output of the neural network $y$"
      ]
    },
    {
      "cell_type": "code",
      "execution_count": 24,
      "metadata": {
        "id": "I2eDYKvAFtHq"
      },
      "outputs": [],
      "source": [
        "def squared_loss(t, y):\n",
        "  \n",
        "  # add check that sizes agree\n",
        "  \n",
        "  def squared_loss_single(t, y):\n",
        "    Loss = Var(0.0)\n",
        "    for i in range(len(t)): # sum over outputs\n",
        "      Loss += (t[i]-y[i]) ** 2\n",
        "    return Loss\n",
        "\n",
        "  Loss = Var(0.0)\n",
        "  for n in range(len(t)): # sum over training data\n",
        "    Loss += squared_loss_single(t[n],y[n])\n",
        "  return Loss"
      ]
    },
    {
      "cell_type": "markdown",
      "metadata": {
        "id": "SrwSJ2UWFtHu"
      },
      "source": [
        "## Exercise k) Implement cross entropy loss\n",
        "\n",
        "Insert code below to implement cross-entropy loss for general dimensionality of $t$. Use a logits formulation:\n",
        "$$\n",
        "\\rm{Loss} = - \\sum_i t_i \\, log \\, p_i \n",
        "$$\n",
        "with $p$ given by the the softmax function in terms of the logits $h$:\n",
        "$$\n",
        "p_i = \\frac{\\exp(h_i)}{\\sum_{i'} \\exp(h_{i'})} .\n",
        "$$\n",
        "Inserting $p$ in the expression for the loss gives\n",
        "$$\n",
        "\\rm{Loss} = - \\sum_i t_i h_i + \\rm{LogSumExp}(h) \\ ,\n",
        "$$\n",
        "where \n",
        "$$\n",
        "\\rm{LogSumExp}(h) = \\log \\sum_i \\exp h_i \\ .\n",
        "$$\n",
        "This is true for $t$ being a one-hot vector. \n",
        "\n",
        "Call the function to convince yourself it works. \n",
        "\n",
        "In practice you want to implement a [numerically stable](https://leimao.github.io/blog/LogSumExp/) version of LogSumExp. But we will not bother about that here.\n",
        "\n",
        "Help: You can add these methods in the Var class:\n",
        "\n",
        "    def exp(self):\n",
        "        return Var(exp(self.v), lambda: [(self, exp(self.v))])\n",
        "    \n",
        "    def log(self):\n",
        "        return Var(log(self.v), lambda: [(self, self.v ** -1)])"
      ]
    },
    {
      "cell_type": "code",
      "execution_count": 25,
      "metadata": {
        "id": "6nMuxyfzFtHv"
      },
      "outputs": [],
      "source": [
        "def cross_entropy_loss(t, h):\n",
        "     \n",
        "    Loss = Var(0.0)\n",
        "    \n",
        "    # Insert code here\n",
        "    for i in range(1, len(t)-1):\n",
        "      Loss -= t[i][0].v * h[i][0].v  +  log(exp(h[i][0].v)) \n",
        "\n",
        "    return Loss"
      ]
    },
    {
      "cell_type": "markdown",
      "metadata": {
        "id": "8fAF5ew4FtHy"
      },
      "source": [
        "# Backward pass\n",
        "\n",
        "Now the magic happens! We get the calculation of the gradients for free. Just do:"
      ]
    },
    {
      "cell_type": "code",
      "execution_count": 26,
      "metadata": {
        "id": "iHyfPPI9Qqwu"
      },
      "outputs": [],
      "source": [
        "NN = [\n",
        "    DenseLayer(1, 5, lambda x: x.relu()),\n",
        "    DenseLayer(5, 1, lambda x: x.identity())\n",
        "]\n",
        "\n",
        "output = forward(x_train, NN)\n",
        "\n",
        "Loss = squared_loss(y_train,output)\n",
        "Loss.backward()"
      ]
    },
    {
      "cell_type": "markdown",
      "metadata": {
        "id": "49biIAYKQ1oG"
      },
      "source": [
        "and the gradients will be calculated:"
      ]
    },
    {
      "cell_type": "code",
      "execution_count": 27,
      "metadata": {
        "id": "_rGt1bq_Q7uk",
        "colab": {
          "base_uri": "https://localhost:8080/"
        },
        "outputId": "f2591fd9-ff6a-4e96-a4ee-a6a1c35ec6cc"
      },
      "outputs": [
        {
          "output_type": "stream",
          "name": "stdout",
          "text": [
            "Layer 0 \n",
            " Weights: [[Var(v=0.0814, grad=22.1808), Var(v=0.0032, grad=-12.5035), Var(v=-0.0336, grad=-12.9489), Var(v=0.0231, grad=-2.8929), Var(v=-0.0209, grad=8.4200)]] Biases: [Var(v=0.0000, grad=19.0471), Var(v=0.0000, grad=-10.7370), Var(v=0.0000, grad=11.7705), Var(v=0.0000, grad=-2.4841), Var(v=0.0000, grad=-7.6537)]\n",
            "Layer 1 \n",
            " Weights: [[Var(v=-0.2145, grad=-8.4203)], [Var(v=0.1209, grad=-0.3354)], [Var(v=0.1345, grad=3.2359)], [Var(v=0.0280, grad=-2.3876)], [Var(v=-0.0875, grad=2.0092)]] Biases: [Var(v=0.0000, grad=-1.2721)]\n"
          ]
        },
        {
          "output_type": "execute_result",
          "data": {
            "text/plain": [
              "[None, None]"
            ]
          },
          "metadata": {},
          "execution_count": 27
        }
      ],
      "source": [
        "[print('Layer', i, '\\n', NN[i]) for i in range(len(NN))] "
      ]
    },
    {
      "cell_type": "markdown",
      "metadata": {
        "id": "D7d7qK0uFtH9"
      },
      "source": [
        "# Backward pass unit test\n",
        "\n",
        "Above we used finite differences to test that Nanograd is actually doing what it is supposed to do. We can in principle try the same for the neural network. But we will trust that the test above is enough."
      ]
    },
    {
      "cell_type": "markdown",
      "metadata": {
        "id": "WgBi8GOSFtIN"
      },
      "source": [
        "# Training and validation\n",
        "\n",
        "We are ready to train some neural networks!\n",
        "\n",
        "We initialize again:"
      ]
    },
    {
      "cell_type": "code",
      "execution_count": 28,
      "metadata": {
        "id": "01ePmzBzRtdh"
      },
      "outputs": [],
      "source": [
        "NN = [\n",
        "    DenseLayer(1, 15, lambda x: x.relu()),\n",
        "    DenseLayer(15, 50, lambda x: x.relu()),\n",
        "    DenseLayer(50, 1, lambda x: x.identity())\n",
        "]\n",
        "\n",
        "output = forward(x_train, NN)\n",
        "\n",
        "Loss = squared_loss(y_train,output)\n",
        "Loss.backward()"
      ]
    },
    {
      "cell_type": "markdown",
      "metadata": {
        "id": "10iRPiQ1ISHw"
      },
      "source": [
        "and make an update:\n",
        "\n",
        "We introduce a help function parameters to have a handle in all parameters in the network."
      ]
    },
    {
      "cell_type": "code",
      "execution_count": 29,
      "metadata": {
        "id": "dhAI7eyeznia",
        "colab": {
          "base_uri": "https://localhost:8080/"
        },
        "outputId": "49e7d099-3dcc-460f-bb76-8dd441a1d575"
      },
      "outputs": [
        {
          "output_type": "stream",
          "name": "stdout",
          "text": [
            "Network before update:\n",
            "Layer 0 \n",
            " Weights: [[Var(v=0.0261, grad=-0.1264), Var(v=-0.0281, grad=6.1414), Var(v=0.0742, grad=-3.5735), Var(v=0.0269, grad=-4.1810), Var(v=0.0603, grad=6.0181), Var(v=-0.0221, grad=-2.0637), Var(v=-0.1796, grad=2.3869), Var(v=-0.0623, grad=1.9360), Var(v=0.0735, grad=-0.2181), Var(v=-0.1018, grad=-0.5013), Var(v=0.0313, grad=4.5172), Var(v=0.1052, grad=-3.2071), Var(v=0.1510, grad=-6.8732), Var(v=-0.1832, grad=-8.5899), Var(v=-0.0645, grad=-7.5070)]] Biases: [Var(v=0.0000, grad=-0.1086), Var(v=0.0000, grad=-5.5837), Var(v=0.0000, grad=-3.0704), Var(v=0.0000, grad=-3.5924), Var(v=0.0000, grad=5.1709), Var(v=0.0000, grad=1.8763), Var(v=0.0000, grad=-2.1702), Var(v=0.0000, grad=-1.7602), Var(v=0.0000, grad=-0.1874), Var(v=0.0000, grad=0.4557), Var(v=0.0000, grad=3.8813), Var(v=0.0000, grad=-2.7556), Var(v=0.0000, grad=-5.9056), Var(v=0.0000, grad=7.8098), Var(v=0.0000, grad=6.8253)]\n",
            "Layer 1 \n",
            " Weights: [[Var(v=0.0799, grad=0.0373), Var(v=-0.0350, grad=0.0000), Var(v=-0.0152, grad=0.0000), Var(v=0.0810, grad=0.0000), Var(v=0.0016, grad=0.0000), Var(v=-0.0515, grad=0.0000), Var(v=0.2956, grad=-0.0297), Var(v=-0.0346, grad=0.0000), Var(v=0.0159, grad=-0.0658), Var(v=-0.0857, grad=0.0000), Var(v=-0.0174, grad=0.2370), Var(v=0.0150, grad=0.0000), Var(v=0.0579, grad=0.1630), Var(v=-0.0340, grad=0.0000), Var(v=0.1235, grad=0.0000), Var(v=0.0321, grad=0.0550), Var(v=0.0604, grad=-0.0909), Var(v=-0.0994, grad=0.0000), Var(v=0.0443, grad=0.1121), Var(v=0.0068, grad=0.0000), Var(v=-0.0185, grad=0.0000), Var(v=0.0046, grad=0.0283), Var(v=-0.0308, grad=0.1930), Var(v=-0.0462, grad=0.0000), Var(v=-0.0295, grad=0.0000), Var(v=0.0065, grad=0.0000), Var(v=-0.1491, grad=-0.3148), Var(v=-0.0055, grad=-0.0721), Var(v=-0.1541, grad=0.0000), Var(v=0.0890, grad=0.0000), Var(v=0.1879, grad=0.4958), Var(v=-0.0978, grad=-0.3416), Var(v=0.0221, grad=0.0000), Var(v=-0.0162, grad=0.0000), Var(v=0.0792, grad=0.0469), Var(v=-0.1061, grad=0.0998), Var(v=0.0381, grad=0.0000), Var(v=-0.0971, grad=-0.0094), Var(v=-0.0060, grad=0.0000), Var(v=0.0151, grad=-0.1526), Var(v=0.1747, grad=-0.2220), Var(v=-0.0382, grad=-0.0576), Var(v=-0.0610, grad=0.0000), Var(v=-0.0253, grad=0.0000), Var(v=-0.0020, grad=0.0000), Var(v=0.0284, grad=0.0246), Var(v=-0.0465, grad=-0.1089), Var(v=-0.0247, grad=0.0000), Var(v=0.1967, grad=-0.6655), Var(v=0.0224, grad=-0.0497)], [Var(v=0.0542, grad=0.0000), Var(v=-0.0250, grad=0.0000), Var(v=-0.0101, grad=0.0332), Var(v=-0.1403, grad=0.0000), Var(v=0.0986, grad=0.0000), Var(v=0.0382, grad=0.0000), Var(v=0.0420, grad=0.0000), Var(v=-0.0199, grad=0.0000), Var(v=0.0047, grad=0.0000), Var(v=0.0132, grad=-0.0114), Var(v=-0.0936, grad=-0.2479), Var(v=0.0492, grad=0.0213), Var(v=0.0511, grad=0.0000), Var(v=-0.1722, grad=0.0000), Var(v=0.0281, grad=0.0000), Var(v=0.1501, grad=0.0000), Var(v=-0.0699, grad=0.0950), Var(v=-0.1267, grad=0.7316), Var(v=0.1130, grad=0.0000), Var(v=-0.0373, grad=-0.4075), Var(v=-0.1112, grad=0.2794), Var(v=-0.1299, grad=-0.0296), Var(v=0.0823, grad=-0.2019), Var(v=-0.0659, grad=0.2928), Var(v=0.1016, grad=-0.5894), Var(v=-0.0149, grad=-0.3358), Var(v=-0.0287, grad=0.3292), Var(v=0.2695, grad=0.0754), Var(v=0.0988, grad=0.0000), Var(v=0.0189, grad=-0.1412), Var(v=-0.2334, grad=0.0000), Var(v=-0.0436, grad=0.3573), Var(v=-0.0304, grad=0.0000), Var(v=-0.0273, grad=0.2722), Var(v=0.0046, grad=-0.0491), Var(v=-0.0560, grad=0.0000), Var(v=-0.0558, grad=-0.0633), Var(v=0.1600, grad=0.0098), Var(v=-0.0695, grad=0.0000), Var(v=-0.1003, grad=0.0000), Var(v=-0.1698, grad=0.2322), Var(v=0.0348, grad=0.0000), Var(v=0.0142, grad=0.2990), Var(v=-0.1642, grad=-0.0495), Var(v=0.0321, grad=0.2190), Var(v=0.1978, grad=-0.0257), Var(v=-0.0368, grad=0.0000), Var(v=0.1099, grad=0.0000), Var(v=0.0590, grad=0.6961), Var(v=0.0267, grad=0.0000)], [Var(v=0.0873, grad=0.1059), Var(v=0.2299, grad=0.0000), Var(v=0.0934, grad=0.0000), Var(v=-0.0125, grad=0.0000), Var(v=-0.1401, grad=0.0000), Var(v=-0.0943, grad=0.0000), Var(v=-0.0560, grad=-0.0842), Var(v=-0.2287, grad=0.0000), Var(v=-0.2173, grad=-0.1869), Var(v=0.0670, grad=0.0000), Var(v=-0.0030, grad=0.6734), Var(v=0.0209, grad=0.0000), Var(v=0.0696, grad=0.4631), Var(v=0.0534, grad=0.0000), Var(v=-0.1406, grad=0.0000), Var(v=-0.0109, grad=0.1562), Var(v=-0.0172, grad=-0.2581), Var(v=-0.0860, grad=0.0000), Var(v=0.0038, grad=0.3184), Var(v=-0.1437, grad=0.0000), Var(v=-0.1083, grad=0.0000), Var(v=-0.0097, grad=0.0804), Var(v=0.0327, grad=0.5484), Var(v=0.0685, grad=0.0000), Var(v=0.0431, grad=0.0000), Var(v=-0.2132, grad=0.0000), Var(v=0.2349, grad=-0.8943), Var(v=-0.0505, grad=-0.2048), Var(v=-0.1199, grad=0.0000), Var(v=-0.1380, grad=0.0000), Var(v=-0.0421, grad=1.4088), Var(v=-0.1581, grad=-0.9706), Var(v=-0.1084, grad=0.0000), Var(v=-0.1399, grad=0.0000), Var(v=0.1244, grad=0.1333), Var(v=0.1538, grad=0.2835), Var(v=-0.2807, grad=0.0000), Var(v=-0.1239, grad=-0.0266), Var(v=0.0401, grad=0.0000), Var(v=0.1612, grad=-0.4335), Var(v=0.0813, grad=-0.6306), Var(v=-0.0077, grad=-0.1636), Var(v=-0.0513, grad=0.0000), Var(v=0.1944, grad=0.0000), Var(v=-0.0901, grad=0.0000), Var(v=-0.0864, grad=0.0698), Var(v=0.1555, grad=-0.3093), Var(v=-0.1588, grad=0.0000), Var(v=0.0699, grad=-1.8908), Var(v=0.1595, grad=-0.1412)], [Var(v=0.0688, grad=0.0384), Var(v=-0.0531, grad=0.0000), Var(v=-0.0155, grad=0.0000), Var(v=-0.0688, grad=0.0000), Var(v=0.0004, grad=0.0000), Var(v=-0.1488, grad=0.0000), Var(v=-0.1614, grad=-0.0305), Var(v=-0.0755, grad=0.0000), Var(v=0.1187, grad=-0.0677), Var(v=-0.1521, grad=0.0000), Var(v=-0.1155, grad=0.2440), Var(v=-0.0182, grad=0.0000), Var(v=0.0103, grad=0.1678), Var(v=-0.1448, grad=0.0000), Var(v=-0.0449, grad=0.0000), Var(v=-0.0497, grad=0.0566), Var(v=-0.0242, grad=-0.0935), Var(v=-0.0959, grad=0.0000), Var(v=-0.0065, grad=0.1154), Var(v=0.1211, grad=0.0000), Var(v=0.0662, grad=0.0000), Var(v=0.0509, grad=0.0291), Var(v=0.1050, grad=0.1988), Var(v=-0.1577, grad=0.0000), Var(v=0.0688, grad=0.0000), Var(v=0.0675, grad=0.0000), Var(v=0.0421, grad=-0.3241), Var(v=-0.1085, grad=-0.0742), Var(v=0.0663, grad=0.0000), Var(v=0.2327, grad=0.0000), Var(v=-0.0430, grad=0.5105), Var(v=0.1014, grad=-0.3517), Var(v=-0.1100, grad=0.0000), Var(v=-0.0720, grad=0.0000), Var(v=0.0214, grad=0.0483), Var(v=0.0748, grad=0.1027), Var(v=-0.0067, grad=0.0000), Var(v=0.0926, grad=-0.0096), Var(v=0.0563, grad=0.0000), Var(v=0.0325, grad=-0.1571), Var(v=-0.0193, grad=-0.2285), Var(v=-0.1139, grad=-0.0593), Var(v=-0.0852, grad=0.0000), Var(v=0.1190, grad=0.0000), Var(v=0.0476, grad=0.0000), Var(v=0.0062, grad=0.0253), Var(v=0.0130, grad=-0.1121), Var(v=0.1362, grad=0.0000), Var(v=0.0598, grad=-0.6852), Var(v=0.2904, grad=-0.0512)], [Var(v=-0.0159, grad=0.0860), Var(v=0.0525, grad=0.0000), Var(v=-0.0461, grad=0.0000), Var(v=-0.1590, grad=0.0000), Var(v=-0.1599, grad=0.0000), Var(v=0.1804, grad=0.0000), Var(v=0.1021, grad=-0.0684), Var(v=0.0559, grad=0.0000), Var(v=0.0183, grad=-0.1519), Var(v=-0.0250, grad=0.0000), Var(v=-0.0849, grad=0.5471), Var(v=-0.0561, grad=0.0000), Var(v=-0.0088, grad=0.3763), Var(v=-0.0894, grad=0.0000), Var(v=0.0165, grad=0.0000), Var(v=0.0851, grad=0.1269), Var(v=-0.2363, grad=-0.2097), Var(v=-0.0409, grad=0.0000), Var(v=-0.0867, grad=0.2587), Var(v=0.0617, grad=0.0000), Var(v=0.0067, grad=0.0000), Var(v=0.1217, grad=0.0653), Var(v=-0.1070, grad=0.4456), Var(v=0.0370, grad=0.0000), Var(v=-0.0035, grad=0.0000), Var(v=-0.1909, grad=0.0000), Var(v=0.0291, grad=-0.7266), Var(v=0.1601, grad=-0.1664), Var(v=-0.0339, grad=0.0000), Var(v=-0.0125, grad=0.0000), Var(v=-0.0078, grad=1.1445), Var(v=0.0381, grad=-0.7885), Var(v=-0.2232, grad=0.0000), Var(v=-0.1527, grad=0.0000), Var(v=0.2052, grad=0.1083), Var(v=-0.1820, grad=0.2303), Var(v=0.0123, grad=0.0000), Var(v=-0.2420, grad=-0.0216), Var(v=0.0060, grad=0.0000), Var(v=-0.1984, grad=-0.3522), Var(v=-0.0592, grad=-0.5124), Var(v=-0.0527, grad=-0.1329), Var(v=0.0277, grad=0.0000), Var(v=0.1271, grad=0.0000), Var(v=0.0366, grad=0.0000), Var(v=0.0772, grad=0.0567), Var(v=-0.1441, grad=-0.2513), Var(v=-0.0304, grad=0.0000), Var(v=-0.2413, grad=-1.5362), Var(v=-0.0686, grad=-0.1148)], [Var(v=0.0961, grad=0.0000), Var(v=0.0088, grad=0.0000), Var(v=-0.1293, grad=0.0262), Var(v=0.1023, grad=0.0000), Var(v=0.0546, grad=0.0000), Var(v=-0.0467, grad=0.0000), Var(v=-0.0373, grad=0.0000), Var(v=-0.1786, grad=0.0000), Var(v=-0.1624, grad=0.0000), Var(v=-0.0718, grad=-0.0090), Var(v=0.0081, grad=-0.1954), Var(v=-0.0468, grad=0.0168), Var(v=-0.0287, grad=0.0000), Var(v=-0.0463, grad=0.0000), Var(v=0.1522, grad=0.0000), Var(v=0.0201, grad=0.0000), Var(v=0.0513, grad=0.0749), Var(v=-0.0944, grad=0.5768), Var(v=-0.1562, grad=0.0000), Var(v=0.1105, grad=-0.3213), Var(v=0.1448, grad=0.2202), Var(v=0.1214, grad=-0.0233), Var(v=-0.0121, grad=-0.1592), Var(v=0.0329, grad=0.2309), Var(v=-0.0239, grad=-0.4647), Var(v=0.1055, grad=-0.2647), Var(v=0.0164, grad=0.2596), Var(v=0.0701, grad=0.0594), Var(v=-0.0860, grad=0.0000), Var(v=-0.0539, grad=-0.1113), Var(v=0.0343, grad=0.0000), Var(v=-0.0623, grad=0.2817), Var(v=0.0308, grad=0.0000), Var(v=0.0637, grad=0.2146), Var(v=-0.1523, grad=-0.0387), Var(v=-0.0187, grad=0.0000), Var(v=0.0272, grad=-0.0499), Var(v=0.0017, grad=0.0077), Var(v=0.0034, grad=0.0000), Var(v=0.1190, grad=0.0000), Var(v=-0.0865, grad=0.1830), Var(v=0.1709, grad=0.0000), Var(v=-0.2057, grad=0.2358), Var(v=0.0999, grad=-0.0391), Var(v=0.3192, grad=0.1727), Var(v=-0.0629, grad=-0.0202), Var(v=-0.0171, grad=0.0000), Var(v=0.2719, grad=0.0000), Var(v=0.2039, grad=0.5488), Var(v=-0.2161, grad=0.0000)], [Var(v=0.0092, grad=0.0000), Var(v=-0.1820, grad=0.0000), Var(v=0.0926, grad=0.2126), Var(v=-0.0073, grad=0.0000), Var(v=-0.0916, grad=0.0000), Var(v=-0.2193, grad=0.0000), Var(v=0.1444, grad=0.0000), Var(v=0.0198, grad=0.0000), Var(v=-0.1087, grad=0.0000), Var(v=0.0512, grad=-0.0731), Var(v=0.0848, grad=-1.5866), Var(v=0.0188, grad=0.1365), Var(v=-0.1048, grad=0.0000), Var(v=-0.0877, grad=0.0000), Var(v=-0.1631, grad=0.0000), Var(v=-0.1294, grad=0.0000), Var(v=0.0655, grad=0.6082), Var(v=0.0653, grad=4.6823), Var(v=-0.0604, grad=0.0000), Var(v=0.0800, grad=-2.6081), Var(v=-0.1197, grad=1.7879), Var(v=-0.1364, grad=-0.1894), Var(v=0.0580, grad=-1.2922), Var(v=-0.0243, grad=1.8741), Var(v=0.1303, grad=-3.7723), Var(v=0.0802, grad=-2.1492), Var(v=0.0674, grad=2.1071), Var(v=0.0441, grad=0.4826), Var(v=-0.0352, grad=0.0000), Var(v=0.1019, grad=-0.9036), Var(v=-0.0463, grad=0.0000), Var(v=0.0349, grad=2.2868), Var(v=0.0275, grad=0.0000), Var(v=0.1835, grad=1.7420), Var(v=0.0714, grad=-0.3142), Var(v=-0.1177, grad=0.0000), Var(v=0.2270, grad=-0.4053), Var(v=0.0562, grad=0.0627), Var(v=-0.0631, grad=0.0000), Var(v=-0.0752, grad=0.0000), Var(v=0.0273, grad=1.4859), Var(v=-0.0726, grad=0.0000), Var(v=0.0986, grad=1.9139), Var(v=0.1411, grad=-0.3170), Var(v=-0.1250, grad=1.4016), Var(v=0.1091, grad=-0.1643), Var(v=0.0177, grad=0.0000), Var(v=-0.0583, grad=0.0000), Var(v=0.0385, grad=4.4550), Var(v=-0.1848, grad=0.0000)], [Var(v=-0.0140, grad=0.0000), Var(v=-0.0952, grad=0.0000), Var(v=0.0283, grad=0.0737), Var(v=0.0686, grad=0.0000), Var(v=-0.2436, grad=0.0000), Var(v=0.1288, grad=0.0000), Var(v=-0.1679, grad=0.0000), Var(v=-0.1302, grad=0.0000), Var(v=-0.0098, grad=0.0000), Var(v=0.2163, grad=-0.0253), Var(v=-0.1136, grad=-0.5501), Var(v=0.1551, grad=0.0473), Var(v=-0.0001, grad=0.0000), Var(v=-0.0126, grad=0.0000), Var(v=-0.1175, grad=0.0000), Var(v=0.1504, grad=0.0000), Var(v=-0.0501, grad=0.2109), Var(v=0.0696, grad=1.6235), Var(v=0.0128, grad=0.0000), Var(v=-0.1095, grad=-0.9043), Var(v=-0.0675, grad=0.6200), Var(v=-0.0125, grad=-0.0657), Var(v=-0.0376, grad=-0.4481), Var(v=-0.0978, grad=0.6498), Var(v=0.0524, grad=-1.3080), Var(v=0.0149, grad=-0.7452), Var(v=-0.0149, grad=0.7306), Var(v=-0.0131, grad=0.1673), Var(v=0.0369, grad=0.0000), Var(v=0.0965, grad=-0.3133), Var(v=0.0082, grad=0.0000), Var(v=-0.0051, grad=0.7929), Var(v=-0.0745, grad=0.0000), Var(v=-0.0453, grad=0.6040), Var(v=0.0891, grad=-0.1089), Var(v=-0.0071, grad=0.0000), Var(v=-0.0031, grad=-0.1405), Var(v=-0.0426, grad=0.0217), Var(v=-0.1112, grad=0.0000), Var(v=-0.0980, grad=0.0000), Var(v=0.0441, grad=0.5152), Var(v=0.0543, grad=0.0000), Var(v=-0.0966, grad=0.6636), Var(v=0.0820, grad=-0.1099), Var(v=0.0676, grad=0.4860), Var(v=0.0358, grad=-0.0570), Var(v=-0.0771, grad=0.0000), Var(v=0.0448, grad=0.0000), Var(v=-0.0754, grad=1.5447), Var(v=-0.1019, grad=0.0000)], [Var(v=0.1017, grad=0.1049), Var(v=-0.2261, grad=0.0000), Var(v=-0.0936, grad=0.0000), Var(v=-0.1606, grad=0.0000), Var(v=0.0890, grad=0.0000), Var(v=0.0944, grad=0.0000), Var(v=0.1457, grad=-0.0835), Var(v=-0.1315, grad=0.0000), Var(v=0.0754, grad=-0.1852), Var(v=0.1078, grad=0.0000), Var(v=-0.0420, grad=0.6672), Var(v=0.0465, grad=0.0000), Var(v=0.1944, grad=0.4589), Var(v=0.0485, grad=0.0000), Var(v=-0.1523, grad=0.0000), Var(v=-0.0091, grad=0.1548), Var(v=0.0308, grad=-0.2558), Var(v=-0.0502, grad=0.0000), Var(v=-0.0605, grad=0.3154), Var(v=-0.0785, grad=0.0000), Var(v=0.0005, grad=0.0000), Var(v=-0.0113, grad=0.0797), Var(v=-0.0245, grad=0.5434), Var(v=-0.0520, grad=0.0000), Var(v=0.0336, grad=0.0000), Var(v=-0.0867, grad=0.0000), Var(v=0.2034, grad=-0.8861), Var(v=0.0609, grad=-0.2029), Var(v=-0.1043, grad=0.0000), Var(v=-0.0584, grad=0.0000), Var(v=0.2263, grad=1.3958), Var(v=-0.0466, grad=-0.9617), Var(v=0.0785, grad=0.0000), Var(v=-0.1104, grad=0.0000), Var(v=0.0130, grad=0.1321), Var(v=-0.0009, grad=0.2809), Var(v=-0.0581, grad=0.0000), Var(v=-0.0052, grad=-0.0264), Var(v=-0.0636, grad=0.0000), Var(v=0.0945, grad=-0.4295), Var(v=-0.0343, grad=-0.6249), Var(v=-0.0332, grad=-0.1621), Var(v=-0.1526, grad=0.0000), Var(v=-0.2215, grad=0.0000), Var(v=-0.1440, grad=0.0000), Var(v=-0.0289, grad=0.0691), Var(v=0.0562, grad=-0.3065), Var(v=-0.2094, grad=0.0000), Var(v=0.0852, grad=-1.8735), Var(v=-0.0278, grad=-0.1399)], [Var(v=0.0290, grad=0.0000), Var(v=0.0702, grad=0.0000), Var(v=-0.0869, grad=0.1205), Var(v=-0.0885, grad=0.0000), Var(v=-0.1334, grad=0.0000), Var(v=-0.0011, grad=0.0000), Var(v=-0.0409, grad=0.0000), Var(v=-0.0540, grad=0.0000), Var(v=-0.1161, grad=0.0000), Var(v=0.0259, grad=-0.0414), Var(v=-0.0062, grad=-0.8991), Var(v=0.0293, grad=0.0774), Var(v=0.0488, grad=0.0000), Var(v=-0.1946, grad=0.0000), Var(v=-0.1232, grad=0.0000), Var(v=0.0314, grad=0.0000), Var(v=-0.0522, grad=0.3446), Var(v=0.0490, grad=2.6533), Var(v=-0.1456, grad=0.0000), Var(v=0.1438, grad=-1.4779), Var(v=0.0847, grad=1.0132), Var(v=0.2091, grad=-0.1073), Var(v=-0.0284, grad=-0.7322), Var(v=0.0055, grad=1.0620), Var(v=-0.0089, grad=-2.1377), Var(v=0.0069, grad=-1.2179), Var(v=0.0888, grad=1.1940), Var(v=0.0038, grad=0.2735), Var(v=-0.0728, grad=0.0000), Var(v=0.0086, grad=-0.5121), Var(v=0.0968, grad=0.0000), Var(v=-0.0318, grad=1.2959), Var(v=-0.0555, grad=0.0000), Var(v=-0.0639, grad=0.9871), Var(v=-0.0444, grad=-0.1780), Var(v=-0.0576, grad=0.0000), Var(v=0.0716, grad=-0.2296), Var(v=-0.0013, grad=0.0355), Var(v=-0.0259, grad=0.0000), Var(v=-0.1954, grad=0.0000), Var(v=0.0338, grad=0.8420), Var(v=-0.0051, grad=0.0000), Var(v=0.0520, grad=1.0846), Var(v=-0.0065, grad=-0.1796), Var(v=0.0310, grad=0.7943), Var(v=0.0478, grad=-0.0931), Var(v=-0.0756, grad=0.0000), Var(v=0.1013, grad=0.0000), Var(v=-0.0164, grad=2.5245), Var(v=-0.0490, grad=0.0000)], [Var(v=-0.1806, grad=0.0446), Var(v=0.0250, grad=0.0000), Var(v=-0.0230, grad=0.0000), Var(v=0.0804, grad=0.0000), Var(v=0.0529, grad=0.0000), Var(v=-0.0009, grad=0.0000), Var(v=0.0981, grad=-0.0355), Var(v=-0.0632, grad=0.0000), Var(v=-0.0384, grad=-0.0788), Var(v=0.0215, grad=0.0000), Var(v=0.0512, grad=0.2840), Var(v=-0.0024, grad=0.0000), Var(v=0.0786, grad=0.1953), Var(v=0.0019, grad=0.0000), Var(v=-0.0180, grad=0.0000), Var(v=0.1071, grad=0.0659), Var(v=-0.1702, grad=-0.1089), Var(v=-0.0443, grad=0.0000), Var(v=0.0200, grad=0.1343), Var(v=0.0231, grad=0.0000), Var(v=-0.1125, grad=0.0000), Var(v=0.0206, grad=0.0339), Var(v=0.1397, grad=0.2313), Var(v=-0.0481, grad=0.0000), Var(v=0.0382, grad=0.0000), Var(v=0.0007, grad=0.0000), Var(v=-0.0290, grad=-0.3772), Var(v=-0.0312, grad=-0.0864), Var(v=0.0965, grad=0.0000), Var(v=-0.1259, grad=0.0000), Var(v=0.1035, grad=0.5941), Var(v=0.1600, grad=-0.4093), Var(v=0.0636, grad=0.0000), Var(v=0.0637, grad=0.0000), Var(v=0.0231, grad=0.0562), Var(v=0.0229, grad=0.1196), Var(v=-0.0993, grad=0.0000), Var(v=0.1330, grad=-0.0112), Var(v=-0.1227, grad=0.0000), Var(v=0.0537, grad=-0.1828), Var(v=0.0156, grad=-0.2660), Var(v=-0.0085, grad=-0.0690), Var(v=0.0259, grad=0.0000), Var(v=-0.0700, grad=0.0000), Var(v=-0.0700, grad=0.0000), Var(v=0.0447, grad=0.0294), Var(v=0.0049, grad=-0.1304), Var(v=-0.0904, grad=0.0000), Var(v=-0.0716, grad=-0.7975), Var(v=-0.0355, grad=-0.0596)], [Var(v=-0.0968, grad=0.1501), Var(v=0.0062, grad=0.0000), Var(v=0.0303, grad=0.0000), Var(v=-0.0455, grad=0.0000), Var(v=-0.1460, grad=0.0000), Var(v=-0.0100, grad=0.0000), Var(v=-0.0754, grad=-0.1195), Var(v=-0.1047, grad=0.0000), Var(v=0.0763, grad=-0.2651), Var(v=0.0221, grad=0.0000), Var(v=-0.0318, grad=0.9551), Var(v=-0.0300, grad=0.0000), Var(v=0.0094, grad=0.6569), Var(v=0.0427, grad=0.0000), Var(v=-0.0093, grad=0.0000), Var(v=0.1567, grad=0.2215), Var(v=0.0730, grad=-0.3661), Var(v=-0.0284, grad=0.0000), Var(v=0.0209, grad=0.4515), Var(v=0.0028, grad=0.0000), Var(v=-0.1843, grad=0.0000), Var(v=0.0798, grad=0.1140), Var(v=-0.0831, grad=0.7779), Var(v=-0.1308, grad=0.0000), Var(v=-0.0840, grad=0.0000), Var(v=-0.0457, grad=0.0000), Var(v=0.1887, grad=-1.2684), Var(v=-0.0444, grad=-0.2905), Var(v=-0.1589, grad=0.0000), Var(v=-0.0609, grad=0.0000), Var(v=-0.0267, grad=1.9981), Var(v=0.0026, grad=-1.3766), Var(v=-0.0496, grad=0.0000), Var(v=-0.0001, grad=0.0000), Var(v=-0.0518, grad=0.1891), Var(v=0.0502, grad=0.4021), Var(v=0.0645, grad=0.0000), Var(v=-0.0706, grad=-0.0378), Var(v=-0.1614, grad=0.0000), Var(v=0.1254, grad=-0.6148), Var(v=-0.0476, grad=-0.8945), Var(v=-0.0362, grad=-0.2320), Var(v=0.0506, grad=0.0000), Var(v=-0.0830, grad=0.0000), Var(v=0.0790, grad=0.0000), Var(v=0.0867, grad=0.0989), Var(v=0.0938, grad=-0.4387), Var(v=0.0487, grad=0.0000), Var(v=-0.0322, grad=-2.6818), Var(v=0.0336, grad=-0.2003)], [Var(v=-0.0032, grad=0.2156), Var(v=-0.2158, grad=0.0000), Var(v=-0.0160, grad=0.0000), Var(v=-0.0183, grad=0.0000), Var(v=-0.1062, grad=0.0000), Var(v=-0.0338, grad=0.0000), Var(v=0.0603, grad=-0.1716), Var(v=-0.1365, grad=0.0000), Var(v=0.1005, grad=-0.3807), Var(v=-0.2399, grad=0.0000), Var(v=0.1165, grad=1.3714), Var(v=-0.0691, grad=0.0000), Var(v=0.1308, grad=0.9432), Var(v=-0.0133, grad=0.0000), Var(v=0.0814, grad=0.0000), Var(v=-0.0695, grad=0.3181), Var(v=0.2400, grad=-0.5257), Var(v=0.0734, grad=0.0000), Var(v=0.0427, grad=0.6484), Var(v=-0.1643, grad=0.0000), Var(v=-0.1782, grad=0.0000), Var(v=0.0064, grad=0.1637), Var(v=0.1051, grad=1.1170), Var(v=-0.0292, grad=0.0000), Var(v=-0.0389, grad=0.0000), Var(v=-0.0613, grad=0.0000), Var(v=0.1184, grad=-1.8214), Var(v=0.4099, grad=-0.4171), Var(v=-0.1108, grad=0.0000), Var(v=-0.1447, grad=0.0000), Var(v=-0.0186, grad=2.8691), Var(v=0.1238, grad=-1.9767), Var(v=-0.0799, grad=0.0000), Var(v=-0.1360, grad=0.0000), Var(v=0.0908, grad=0.2716), Var(v=0.0104, grad=0.5774), Var(v=-0.0028, grad=0.0000), Var(v=0.2526, grad=-0.0542), Var(v=-0.0567, grad=0.0000), Var(v=-0.0792, grad=-0.8828), Var(v=0.1122, grad=-1.2844), Var(v=0.1365, grad=-0.3332), Var(v=-0.0962, grad=0.0000), Var(v=-0.0918, grad=0.0000), Var(v=-0.0037, grad=0.0000), Var(v=0.0639, grad=0.1421), Var(v=-0.0040, grad=-0.6299), Var(v=-0.1269, grad=0.0000), Var(v=0.1202, grad=-3.8509), Var(v=0.1076, grad=-0.2876)], [Var(v=-0.1074, grad=0.0000), Var(v=0.1156, grad=0.0000), Var(v=-0.0149, grad=0.2168), Var(v=-0.0761, grad=0.0000), Var(v=-0.0090, grad=0.0000), Var(v=0.0841, grad=0.0000), Var(v=-0.2308, grad=0.0000), Var(v=0.0434, grad=0.0000), Var(v=-0.0073, grad=0.0000), Var(v=0.0127, grad=-0.0745), Var(v=-0.0264, grad=-1.6183), Var(v=0.1987, grad=0.1393), Var(v=-0.0642, grad=0.0000), Var(v=0.1984, grad=0.0000), Var(v=-0.0564, grad=0.0000), Var(v=0.0034, grad=0.0000), Var(v=0.1415, grad=0.6203), Var(v=0.1090, grad=4.7758), Var(v=-0.0495, grad=0.0000), Var(v=0.0754, grad=-2.6602), Var(v=0.0681, grad=1.8237), Var(v=-0.0082, grad=-0.1932), Var(v=-0.0364, grad=-1.3180), Var(v=0.1830, grad=1.9116), Var(v=0.0015, grad=-3.8477), Var(v=-0.0982, grad=-2.1921), Var(v=0.0215, grad=2.1492), Var(v=0.1075, grad=0.4922), Var(v=-0.1083, grad=0.0000), Var(v=0.0647, grad=-0.9217), Var(v=-0.0006, grad=0.0000), Var(v=0.1222, grad=2.3325), Var(v=-0.0729, grad=0.0000), Var(v=0.0889, grad=1.7768), Var(v=-0.0045, grad=-0.3205), Var(v=0.0150, grad=0.0000), Var(v=0.1557, grad=-0.4133), Var(v=-0.0376, grad=0.0640), Var(v=-0.2302, grad=0.0000), Var(v=0.1942, grad=0.0000), Var(v=0.1641, grad=1.5155), Var(v=0.0022, grad=0.0000), Var(v=0.0155, grad=1.9521), Var(v=-0.0139, grad=-0.3234), Var(v=0.0043, grad=1.4296), Var(v=0.0590, grad=-0.1676), Var(v=-0.0257, grad=0.0000), Var(v=-0.1500, grad=0.0000), Var(v=-0.0727, grad=4.5440), Var(v=0.0297, grad=0.0000)], [Var(v=0.0309, grad=0.0000), Var(v=-0.0193, grad=0.0000), Var(v=0.0778, grad=0.0764), Var(v=0.0096, grad=0.0000), Var(v=0.1448, grad=0.0000), Var(v=0.0008, grad=0.0000), Var(v=-0.1520, grad=0.0000), Var(v=0.0630, grad=0.0000), Var(v=0.0967, grad=0.0000), Var(v=0.1095, grad=-0.0263), Var(v=0.0315, grad=-0.5700), Var(v=-0.0039, grad=0.0491), Var(v=-0.1919, grad=0.0000), Var(v=0.0853, grad=0.0000), Var(v=0.0368, grad=0.0000), Var(v=-0.0968, grad=0.0000), Var(v=-0.1039, grad=0.2185), Var(v=-0.0499, grad=1.6823), Var(v=-0.0498, grad=0.0000), Var(v=-0.0907, grad=-0.9371), Var(v=0.1438, grad=0.6424), Var(v=0.1396, grad=-0.0681), Var(v=0.1729, grad=-0.4643), Var(v=0.1050, grad=0.6734), Var(v=-0.1802, grad=-1.3553), Var(v=0.0318, grad=-0.7722), Var(v=-0.0824, grad=0.7571), Var(v=-0.0855, grad=0.1734), Var(v=0.0345, grad=0.0000), Var(v=0.0905, grad=-0.3247), Var(v=0.0240, grad=0.0000), Var(v=0.0007, grad=0.8216), Var(v=0.1012, grad=0.0000), Var(v=0.0014, grad=0.6259), Var(v=0.0962, grad=-0.1129), Var(v=-0.1180, grad=0.0000), Var(v=-0.0046, grad=-0.1456), Var(v=0.1449, grad=0.0225), Var(v=-0.0090, grad=0.0000), Var(v=-0.0539, grad=0.0000), Var(v=0.0261, grad=0.5339), Var(v=0.0597, grad=0.0000), Var(v=0.0609, grad=0.6876), Var(v=-0.1871, grad=-0.1139), Var(v=0.1219, grad=0.5036), Var(v=-0.1980, grad=-0.0590), Var(v=0.0291, grad=0.0000), Var(v=0.2337, grad=0.0000), Var(v=0.1187, grad=1.6006), Var(v=-0.1225, grad=0.0000)]] Biases: [Var(v=0.0000, grad=1.2264), Var(v=0.0000, grad=0.0000), Var(v=0.0000, grad=1.0762), Var(v=0.0000, grad=0.0000), Var(v=0.0000, grad=0.0000), Var(v=0.0000, grad=0.0000), Var(v=0.0000, grad=-0.9760), Var(v=0.0000, grad=0.0000), Var(v=0.0000, grad=-2.1657), Var(v=0.0000, grad=-0.3699), Var(v=0.0000, grad=-0.2296), Var(v=0.0000, grad=0.6912), Var(v=0.0000, grad=5.3658), Var(v=0.0000, grad=0.0000), Var(v=0.0000, grad=0.0000), Var(v=0.0000, grad=1.8096), Var(v=0.0000, grad=0.0880), Var(v=0.0000, grad=23.7023), Var(v=0.0000, grad=3.6886), Var(v=0.0000, grad=-13.2026), Var(v=0.0000, grad=9.0508), Var(v=0.0000, grad=-0.0274), Var(v=0.0000, grad=-0.1870), Var(v=0.0000, grad=9.4872), Var(v=0.0000, grad=-19.0959), Var(v=0.0000, grad=-10.8794), Var(v=0.0000, grad=0.3049), Var(v=0.0000, grad=0.0698), Var(v=0.0000, grad=0.0000), Var(v=0.0000, grad=-4.5744), Var(v=0.0000, grad=16.3218), Var(v=0.0000, grad=0.3309), Var(v=0.0000, grad=0.0000), Var(v=0.0000, grad=8.8181), Var(v=0.0000, grad=-0.0455), Var(v=0.0000, grad=3.2846), Var(v=0.0000, grad=-2.0515), Var(v=0.0000, grad=0.0091), Var(v=0.0000, grad=0.0000), Var(v=0.0000, grad=-5.0222), Var(v=0.0000, grad=0.2150), Var(v=0.0000, grad=-1.8953), Var(v=0.0000, grad=9.6884), Var(v=0.0000, grad=-1.6048), Var(v=0.0000, grad=7.0953), Var(v=0.0000, grad=-0.0238), Var(v=0.0000, grad=-3.5836), Var(v=0.0000, grad=0.0000), Var(v=0.0000, grad=0.6447), Var(v=0.0000, grad=-1.6364)]\n",
            "Layer 2 \n",
            " Weights: [[Var(v=-0.0142, grad=-0.0607)], [Var(v=0.0659, grad=0.0000)], [Var(v=0.0121, grad=0.8473)], [Var(v=-0.1236, grad=0.0000)], [Var(v=0.2175, grad=0.0000)], [Var(v=-0.2743, grad=0.0000)], [Var(v=0.0113, grad=-2.0357)], [Var(v=-0.0553, grad=0.0000)], [Var(v=0.0252, grad=-1.6173)], [Var(v=-0.0042, grad=3.2628)], [Var(v=-0.0906, grad=-0.1658)], [Var(v=0.0078, grad=5.1184)], [Var(v=-0.0623, grad=-4.3991)], [Var(v=0.0538, grad=0.0000)], [Var(v=-0.0879, grad=0.0000)], [Var(v=-0.0210, grad=-1.2512)], [Var(v=0.0347, grad=-0.5165)], [Var(v=0.2674, grad=3.1343)], [Var(v=-0.0428, grad=-0.0867)], [Var(v=-0.1490, grad=3.0743)], [Var(v=0.1021, grad=0.4645)], [Var(v=-0.0108, grad=-1.4818)], [Var(v=-0.0738, grad=0.3694)], [Var(v=0.1070, grad=2.8533)], [Var(v=-0.2155, grad=1.6323)], [Var(v=-0.1228, grad=0.1961)], [Var(v=0.1203, grad=-5.0381)], [Var(v=0.0276, grad=-3.3713)], [Var(v=0.0499, grad=0.0000)], [Var(v=-0.0516, grad=4.1140)], [Var(v=-0.1896, grad=-1.4428)], [Var(v=0.1306, grad=1.0654)], [Var(v=-0.0963, grad=0.0000)], [Var(v=0.0995, grad=3.9639)], [Var(v=-0.0179, grad=-1.8651)], [Var(v=-0.0382, grad=-0.7203)], [Var(v=-0.0231, grad=7.3227)], [Var(v=0.0036, grad=0.3242)], [Var(v=0.0006, grad=0.0000)], [Var(v=0.0583, grad=-1.1134)], [Var(v=0.0849, grad=1.8802)], [Var(v=0.0220, grad=-0.6300)], [Var(v=0.1093, grad=1.9113)], [Var(v=-0.0181, grad=1.2451)], [Var(v=0.0801, grad=0.1499)], [Var(v=-0.0094, grad=1.0900)], [Var(v=0.0416, grad=-1.5557)], [Var(v=-0.0279, grad=0.0000)], [Var(v=0.2545, grad=-1.5175)], [Var(v=0.0190, grad=-3.2782)]] Biases: [Var(v=0.0000, grad=2.5337)]\n",
            "\n",
            "Network after update:\n",
            "Layer 0 \n",
            " Weights: [[Var(v=0.0274, grad=-0.1264), Var(v=-0.0895, grad=6.1414), Var(v=0.1099, grad=-3.5735), Var(v=0.0687, grad=-4.1810), Var(v=0.0001, grad=6.0181), Var(v=-0.0015, grad=-2.0637), Var(v=-0.2035, grad=2.3869), Var(v=-0.0816, grad=1.9360), Var(v=0.0757, grad=-0.2181), Var(v=-0.0968, grad=-0.5013), Var(v=-0.0139, grad=4.5172), Var(v=0.1373, grad=-3.2071), Var(v=0.2198, grad=-6.8732), Var(v=-0.0973, grad=-8.5899), Var(v=0.0105, grad=-7.5070)]] Biases: [Var(v=0.0011, grad=-0.1086), Var(v=0.0558, grad=-5.5837), Var(v=0.0307, grad=-3.0704), Var(v=0.0359, grad=-3.5924), Var(v=-0.0517, grad=5.1709), Var(v=-0.0188, grad=1.8763), Var(v=0.0217, grad=-2.1702), Var(v=0.0176, grad=-1.7602), Var(v=0.0019, grad=-0.1874), Var(v=-0.0046, grad=0.4557), Var(v=-0.0388, grad=3.8813), Var(v=0.0276, grad=-2.7556), Var(v=0.0591, grad=-5.9056), Var(v=-0.0781, grad=7.8098), Var(v=-0.0683, grad=6.8253)]\n",
            "Layer 1 \n",
            " Weights: [[Var(v=0.0795, grad=0.0373), Var(v=-0.0350, grad=0.0000), Var(v=-0.0152, grad=0.0000), Var(v=0.0810, grad=0.0000), Var(v=0.0016, grad=0.0000), Var(v=-0.0515, grad=0.0000), Var(v=0.2959, grad=-0.0297), Var(v=-0.0346, grad=0.0000), Var(v=0.0165, grad=-0.0658), Var(v=-0.0857, grad=0.0000), Var(v=-0.0198, grad=0.2370), Var(v=0.0150, grad=0.0000), Var(v=0.0562, grad=0.1630), Var(v=-0.0340, grad=0.0000), Var(v=0.1235, grad=0.0000), Var(v=0.0315, grad=0.0550), Var(v=0.0613, grad=-0.0909), Var(v=-0.0994, grad=0.0000), Var(v=0.0432, grad=0.1121), Var(v=0.0068, grad=0.0000), Var(v=-0.0185, grad=0.0000), Var(v=0.0043, grad=0.0283), Var(v=-0.0327, grad=0.1930), Var(v=-0.0462, grad=0.0000), Var(v=-0.0295, grad=0.0000), Var(v=0.0065, grad=0.0000), Var(v=-0.1459, grad=-0.3148), Var(v=-0.0048, grad=-0.0721), Var(v=-0.1541, grad=0.0000), Var(v=0.0890, grad=0.0000), Var(v=0.1829, grad=0.4958), Var(v=-0.0944, grad=-0.3416), Var(v=0.0221, grad=0.0000), Var(v=-0.0162, grad=0.0000), Var(v=0.0788, grad=0.0469), Var(v=-0.1071, grad=0.0998), Var(v=0.0381, grad=0.0000), Var(v=-0.0970, grad=-0.0094), Var(v=-0.0060, grad=0.0000), Var(v=0.0166, grad=-0.1526), Var(v=0.1770, grad=-0.2220), Var(v=-0.0376, grad=-0.0576), Var(v=-0.0610, grad=0.0000), Var(v=-0.0253, grad=0.0000), Var(v=-0.0020, grad=0.0000), Var(v=0.0282, grad=0.0246), Var(v=-0.0454, grad=-0.1089), Var(v=-0.0247, grad=0.0000), Var(v=0.2033, grad=-0.6655), Var(v=0.0229, grad=-0.0497)], [Var(v=0.0542, grad=0.0000), Var(v=-0.0250, grad=0.0000), Var(v=-0.0104, grad=0.0332), Var(v=-0.1403, grad=0.0000), Var(v=0.0986, grad=0.0000), Var(v=0.0382, grad=0.0000), Var(v=0.0420, grad=0.0000), Var(v=-0.0199, grad=0.0000), Var(v=0.0047, grad=0.0000), Var(v=0.0133, grad=-0.0114), Var(v=-0.0912, grad=-0.2479), Var(v=0.0490, grad=0.0213), Var(v=0.0511, grad=0.0000), Var(v=-0.1722, grad=0.0000), Var(v=0.0281, grad=0.0000), Var(v=0.1501, grad=0.0000), Var(v=-0.0708, grad=0.0950), Var(v=-0.1341, grad=0.7316), Var(v=0.1130, grad=0.0000), Var(v=-0.0332, grad=-0.4075), Var(v=-0.1140, grad=0.2794), Var(v=-0.1296, grad=-0.0296), Var(v=0.0843, grad=-0.2019), Var(v=-0.0689, grad=0.2928), Var(v=0.1075, grad=-0.5894), Var(v=-0.0116, grad=-0.3358), Var(v=-0.0320, grad=0.3292), Var(v=0.2687, grad=0.0754), Var(v=0.0988, grad=0.0000), Var(v=0.0203, grad=-0.1412), Var(v=-0.2334, grad=0.0000), Var(v=-0.0472, grad=0.3573), Var(v=-0.0304, grad=0.0000), Var(v=-0.0300, grad=0.2722), Var(v=0.0051, grad=-0.0491), Var(v=-0.0560, grad=0.0000), Var(v=-0.0552, grad=-0.0633), Var(v=0.1599, grad=0.0098), Var(v=-0.0695, grad=0.0000), Var(v=-0.1003, grad=0.0000), Var(v=-0.1721, grad=0.2322), Var(v=0.0348, grad=0.0000), Var(v=0.0113, grad=0.2990), Var(v=-0.1637, grad=-0.0495), Var(v=0.0299, grad=0.2190), Var(v=0.1981, grad=-0.0257), Var(v=-0.0368, grad=0.0000), Var(v=0.1099, grad=0.0000), Var(v=0.0520, grad=0.6961), Var(v=0.0267, grad=0.0000)], [Var(v=0.0862, grad=0.1059), Var(v=0.2299, grad=0.0000), Var(v=0.0934, grad=0.0000), Var(v=-0.0125, grad=0.0000), Var(v=-0.1401, grad=0.0000), Var(v=-0.0943, grad=0.0000), Var(v=-0.0552, grad=-0.0842), Var(v=-0.2287, grad=0.0000), Var(v=-0.2154, grad=-0.1869), Var(v=0.0670, grad=0.0000), Var(v=-0.0098, grad=0.6734), Var(v=0.0209, grad=0.0000), Var(v=0.0650, grad=0.4631), Var(v=0.0534, grad=0.0000), Var(v=-0.1406, grad=0.0000), Var(v=-0.0125, grad=0.1562), Var(v=-0.0146, grad=-0.2581), Var(v=-0.0860, grad=0.0000), Var(v=0.0006, grad=0.3184), Var(v=-0.1437, grad=0.0000), Var(v=-0.1083, grad=0.0000), Var(v=-0.0105, grad=0.0804), Var(v=0.0272, grad=0.5484), Var(v=0.0685, grad=0.0000), Var(v=0.0431, grad=0.0000), Var(v=-0.2132, grad=0.0000), Var(v=0.2439, grad=-0.8943), Var(v=-0.0484, grad=-0.2048), Var(v=-0.1199, grad=0.0000), Var(v=-0.1380, grad=0.0000), Var(v=-0.0562, grad=1.4088), Var(v=-0.1484, grad=-0.9706), Var(v=-0.1084, grad=0.0000), Var(v=-0.1399, grad=0.0000), Var(v=0.1231, grad=0.1333), Var(v=0.1510, grad=0.2835), Var(v=-0.2807, grad=0.0000), Var(v=-0.1237, grad=-0.0266), Var(v=0.0401, grad=0.0000), Var(v=0.1655, grad=-0.4335), Var(v=0.0876, grad=-0.6306), Var(v=-0.0061, grad=-0.1636), Var(v=-0.0513, grad=0.0000), Var(v=0.1944, grad=0.0000), Var(v=-0.0901, grad=0.0000), Var(v=-0.0871, grad=0.0698), Var(v=0.1586, grad=-0.3093), Var(v=-0.1588, grad=0.0000), Var(v=0.0888, grad=-1.8908), Var(v=0.1609, grad=-0.1412)], [Var(v=0.0684, grad=0.0384), Var(v=-0.0531, grad=0.0000), Var(v=-0.0155, grad=0.0000), Var(v=-0.0688, grad=0.0000), Var(v=0.0004, grad=0.0000), Var(v=-0.1488, grad=0.0000), Var(v=-0.1611, grad=-0.0305), Var(v=-0.0755, grad=0.0000), Var(v=0.1194, grad=-0.0677), Var(v=-0.1521, grad=0.0000), Var(v=-0.1179, grad=0.2440), Var(v=-0.0182, grad=0.0000), Var(v=0.0086, grad=0.1678), Var(v=-0.1448, grad=0.0000), Var(v=-0.0449, grad=0.0000), Var(v=-0.0503, grad=0.0566), Var(v=-0.0233, grad=-0.0935), Var(v=-0.0959, grad=0.0000), Var(v=-0.0076, grad=0.1154), Var(v=0.1211, grad=0.0000), Var(v=0.0662, grad=0.0000), Var(v=0.0506, grad=0.0291), Var(v=0.1030, grad=0.1988), Var(v=-0.1577, grad=0.0000), Var(v=0.0688, grad=0.0000), Var(v=0.0675, grad=0.0000), Var(v=0.0454, grad=-0.3241), Var(v=-0.1077, grad=-0.0742), Var(v=0.0663, grad=0.0000), Var(v=0.2327, grad=0.0000), Var(v=-0.0481, grad=0.5105), Var(v=0.1050, grad=-0.3517), Var(v=-0.1100, grad=0.0000), Var(v=-0.0720, grad=0.0000), Var(v=0.0209, grad=0.0483), Var(v=0.0737, grad=0.1027), Var(v=-0.0067, grad=0.0000), Var(v=0.0927, grad=-0.0096), Var(v=0.0563, grad=0.0000), Var(v=0.0341, grad=-0.1571), Var(v=-0.0171, grad=-0.2285), Var(v=-0.1133, grad=-0.0593), Var(v=-0.0852, grad=0.0000), Var(v=0.1190, grad=0.0000), Var(v=0.0476, grad=0.0000), Var(v=0.0059, grad=0.0253), Var(v=0.0141, grad=-0.1121), Var(v=0.1362, grad=0.0000), Var(v=0.0667, grad=-0.6852), Var(v=0.2909, grad=-0.0512)], [Var(v=-0.0167, grad=0.0860), Var(v=0.0525, grad=0.0000), Var(v=-0.0461, grad=0.0000), Var(v=-0.1590, grad=0.0000), Var(v=-0.1599, grad=0.0000), Var(v=0.1804, grad=0.0000), Var(v=0.1027, grad=-0.0684), Var(v=0.0559, grad=0.0000), Var(v=0.0198, grad=-0.1519), Var(v=-0.0250, grad=0.0000), Var(v=-0.0903, grad=0.5471), Var(v=-0.0561, grad=0.0000), Var(v=-0.0125, grad=0.3763), Var(v=-0.0894, grad=0.0000), Var(v=0.0165, grad=0.0000), Var(v=0.0838, grad=0.1269), Var(v=-0.2342, grad=-0.2097), Var(v=-0.0409, grad=0.0000), Var(v=-0.0893, grad=0.2587), Var(v=0.0617, grad=0.0000), Var(v=0.0067, grad=0.0000), Var(v=0.1210, grad=0.0653), Var(v=-0.1115, grad=0.4456), Var(v=0.0370, grad=0.0000), Var(v=-0.0035, grad=0.0000), Var(v=-0.1909, grad=0.0000), Var(v=0.0364, grad=-0.7266), Var(v=0.1617, grad=-0.1664), Var(v=-0.0339, grad=0.0000), Var(v=-0.0125, grad=0.0000), Var(v=-0.0192, grad=1.1445), Var(v=0.0460, grad=-0.7885), Var(v=-0.2232, grad=0.0000), Var(v=-0.1527, grad=0.0000), Var(v=0.2041, grad=0.1083), Var(v=-0.1843, grad=0.2303), Var(v=0.0123, grad=0.0000), Var(v=-0.2418, grad=-0.0216), Var(v=0.0060, grad=0.0000), Var(v=-0.1949, grad=-0.3522), Var(v=-0.0541, grad=-0.5124), Var(v=-0.0514, grad=-0.1329), Var(v=0.0277, grad=0.0000), Var(v=0.1271, grad=0.0000), Var(v=0.0366, grad=0.0000), Var(v=0.0767, grad=0.0567), Var(v=-0.1416, grad=-0.2513), Var(v=-0.0304, grad=0.0000), Var(v=-0.2259, grad=-1.5362), Var(v=-0.0674, grad=-0.1148)], [Var(v=0.0961, grad=0.0000), Var(v=0.0088, grad=0.0000), Var(v=-0.1296, grad=0.0262), Var(v=0.1023, grad=0.0000), Var(v=0.0546, grad=0.0000), Var(v=-0.0467, grad=0.0000), Var(v=-0.0373, grad=0.0000), Var(v=-0.1786, grad=0.0000), Var(v=-0.1624, grad=0.0000), Var(v=-0.0717, grad=-0.0090), Var(v=0.0101, grad=-0.1954), Var(v=-0.0470, grad=0.0168), Var(v=-0.0287, grad=0.0000), Var(v=-0.0463, grad=0.0000), Var(v=0.1522, grad=0.0000), Var(v=0.0201, grad=0.0000), Var(v=0.0506, grad=0.0749), Var(v=-0.1002, grad=0.5768), Var(v=-0.1562, grad=0.0000), Var(v=0.1137, grad=-0.3213), Var(v=0.1426, grad=0.2202), Var(v=0.1216, grad=-0.0233), Var(v=-0.0105, grad=-0.1592), Var(v=0.0306, grad=0.2309), Var(v=-0.0192, grad=-0.4647), Var(v=0.1081, grad=-0.2647), Var(v=0.0138, grad=0.2596), Var(v=0.0695, grad=0.0594), Var(v=-0.0860, grad=0.0000), Var(v=-0.0528, grad=-0.1113), Var(v=0.0343, grad=0.0000), Var(v=-0.0651, grad=0.2817), Var(v=0.0308, grad=0.0000), Var(v=0.0616, grad=0.2146), Var(v=-0.1519, grad=-0.0387), Var(v=-0.0187, grad=0.0000), Var(v=0.0277, grad=-0.0499), Var(v=0.0016, grad=0.0077), Var(v=0.0034, grad=0.0000), Var(v=0.1190, grad=0.0000), Var(v=-0.0883, grad=0.1830), Var(v=0.1709, grad=0.0000), Var(v=-0.2080, grad=0.2358), Var(v=0.1003, grad=-0.0391), Var(v=0.3175, grad=0.1727), Var(v=-0.0627, grad=-0.0202), Var(v=-0.0171, grad=0.0000), Var(v=0.2719, grad=0.0000), Var(v=0.1984, grad=0.5488), Var(v=-0.2161, grad=0.0000)], [Var(v=0.0092, grad=0.0000), Var(v=-0.1820, grad=0.0000), Var(v=0.0905, grad=0.2126), Var(v=-0.0073, grad=0.0000), Var(v=-0.0916, grad=0.0000), Var(v=-0.2193, grad=0.0000), Var(v=0.1444, grad=0.0000), Var(v=0.0198, grad=0.0000), Var(v=-0.1087, grad=0.0000), Var(v=0.0520, grad=-0.0731), Var(v=0.1007, grad=-1.5866), Var(v=0.0174, grad=0.1365), Var(v=-0.1048, grad=0.0000), Var(v=-0.0877, grad=0.0000), Var(v=-0.1631, grad=0.0000), Var(v=-0.1294, grad=0.0000), Var(v=0.0594, grad=0.6082), Var(v=0.0185, grad=4.6823), Var(v=-0.0604, grad=0.0000), Var(v=0.1061, grad=-2.6081), Var(v=-0.1376, grad=1.7879), Var(v=-0.1345, grad=-0.1894), Var(v=0.0709, grad=-1.2922), Var(v=-0.0431, grad=1.8741), Var(v=0.1680, grad=-3.7723), Var(v=0.1017, grad=-2.1492), Var(v=0.0464, grad=2.1071), Var(v=0.0392, grad=0.4826), Var(v=-0.0352, grad=0.0000), Var(v=0.1109, grad=-0.9036), Var(v=-0.0463, grad=0.0000), Var(v=0.0121, grad=2.2868), Var(v=0.0275, grad=0.0000), Var(v=0.1661, grad=1.7420), Var(v=0.0745, grad=-0.3142), Var(v=-0.1177, grad=0.0000), Var(v=0.2310, grad=-0.4053), Var(v=0.0556, grad=0.0627), Var(v=-0.0631, grad=0.0000), Var(v=-0.0752, grad=0.0000), Var(v=0.0125, grad=1.4859), Var(v=-0.0726, grad=0.0000), Var(v=0.0795, grad=1.9139), Var(v=0.1443, grad=-0.3170), Var(v=-0.1390, grad=1.4016), Var(v=0.1107, grad=-0.1643), Var(v=0.0177, grad=0.0000), Var(v=-0.0583, grad=0.0000), Var(v=-0.0061, grad=4.4550), Var(v=-0.1848, grad=0.0000)], [Var(v=-0.0140, grad=0.0000), Var(v=-0.0952, grad=0.0000), Var(v=0.0276, grad=0.0737), Var(v=0.0686, grad=0.0000), Var(v=-0.2436, grad=0.0000), Var(v=0.1288, grad=0.0000), Var(v=-0.1679, grad=0.0000), Var(v=-0.1302, grad=0.0000), Var(v=-0.0098, grad=0.0000), Var(v=0.2166, grad=-0.0253), Var(v=-0.1081, grad=-0.5501), Var(v=0.1546, grad=0.0473), Var(v=-0.0001, grad=0.0000), Var(v=-0.0126, grad=0.0000), Var(v=-0.1175, grad=0.0000), Var(v=0.1504, grad=0.0000), Var(v=-0.0522, grad=0.2109), Var(v=0.0534, grad=1.6235), Var(v=0.0128, grad=0.0000), Var(v=-0.1005, grad=-0.9043), Var(v=-0.0737, grad=0.6200), Var(v=-0.0119, grad=-0.0657), Var(v=-0.0331, grad=-0.4481), Var(v=-0.1043, grad=0.6498), Var(v=0.0655, grad=-1.3080), Var(v=0.0223, grad=-0.7452), Var(v=-0.0222, grad=0.7306), Var(v=-0.0148, grad=0.1673), Var(v=0.0369, grad=0.0000), Var(v=0.0996, grad=-0.3133), Var(v=0.0082, grad=0.0000), Var(v=-0.0131, grad=0.7929), Var(v=-0.0745, grad=0.0000), Var(v=-0.0513, grad=0.6040), Var(v=0.0902, grad=-0.1089), Var(v=-0.0071, grad=0.0000), Var(v=-0.0017, grad=-0.1405), Var(v=-0.0428, grad=0.0217), Var(v=-0.1112, grad=0.0000), Var(v=-0.0980, grad=0.0000), Var(v=0.0390, grad=0.5152), Var(v=0.0543, grad=0.0000), Var(v=-0.1032, grad=0.6636), Var(v=0.0831, grad=-0.1099), Var(v=0.0627, grad=0.4860), Var(v=0.0363, grad=-0.0570), Var(v=-0.0771, grad=0.0000), Var(v=0.0448, grad=0.0000), Var(v=-0.0909, grad=1.5447), Var(v=-0.1019, grad=0.0000)], [Var(v=0.1007, grad=0.1049), Var(v=-0.2261, grad=0.0000), Var(v=-0.0936, grad=0.0000), Var(v=-0.1606, grad=0.0000), Var(v=0.0890, grad=0.0000), Var(v=0.0944, grad=0.0000), Var(v=0.1466, grad=-0.0835), Var(v=-0.1315, grad=0.0000), Var(v=0.0773, grad=-0.1852), Var(v=0.1078, grad=0.0000), Var(v=-0.0487, grad=0.6672), Var(v=0.0465, grad=0.0000), Var(v=0.1898, grad=0.4589), Var(v=0.0485, grad=0.0000), Var(v=-0.1523, grad=0.0000), Var(v=-0.0106, grad=0.1548), Var(v=0.0334, grad=-0.2558), Var(v=-0.0502, grad=0.0000), Var(v=-0.0637, grad=0.3154), Var(v=-0.0785, grad=0.0000), Var(v=0.0005, grad=0.0000), Var(v=-0.0121, grad=0.0797), Var(v=-0.0299, grad=0.5434), Var(v=-0.0520, grad=0.0000), Var(v=0.0336, grad=0.0000), Var(v=-0.0867, grad=0.0000), Var(v=0.2122, grad=-0.8861), Var(v=0.0629, grad=-0.2029), Var(v=-0.1043, grad=0.0000), Var(v=-0.0584, grad=0.0000), Var(v=0.2123, grad=1.3958), Var(v=-0.0370, grad=-0.9617), Var(v=0.0785, grad=0.0000), Var(v=-0.1104, grad=0.0000), Var(v=0.0117, grad=0.1321), Var(v=-0.0037, grad=0.2809), Var(v=-0.0581, grad=0.0000), Var(v=-0.0050, grad=-0.0264), Var(v=-0.0636, grad=0.0000), Var(v=0.0988, grad=-0.4295), Var(v=-0.0280, grad=-0.6249), Var(v=-0.0316, grad=-0.1621), Var(v=-0.1526, grad=0.0000), Var(v=-0.2215, grad=0.0000), Var(v=-0.1440, grad=0.0000), Var(v=-0.0295, grad=0.0691), Var(v=0.0593, grad=-0.3065), Var(v=-0.2094, grad=0.0000), Var(v=0.1040, grad=-1.8735), Var(v=-0.0264, grad=-0.1399)], [Var(v=0.0290, grad=0.0000), Var(v=0.0702, grad=0.0000), Var(v=-0.0881, grad=0.1205), Var(v=-0.0885, grad=0.0000), Var(v=-0.1334, grad=0.0000), Var(v=-0.0011, grad=0.0000), Var(v=-0.0409, grad=0.0000), Var(v=-0.0540, grad=0.0000), Var(v=-0.1161, grad=0.0000), Var(v=0.0263, grad=-0.0414), Var(v=0.0028, grad=-0.8991), Var(v=0.0285, grad=0.0774), Var(v=0.0488, grad=0.0000), Var(v=-0.1946, grad=0.0000), Var(v=-0.1232, grad=0.0000), Var(v=0.0314, grad=0.0000), Var(v=-0.0556, grad=0.3446), Var(v=0.0225, grad=2.6533), Var(v=-0.1456, grad=0.0000), Var(v=0.1586, grad=-1.4779), Var(v=0.0746, grad=1.0132), Var(v=0.2102, grad=-0.1073), Var(v=-0.0211, grad=-0.7322), Var(v=-0.0051, grad=1.0620), Var(v=0.0125, grad=-2.1377), Var(v=0.0191, grad=-1.2179), Var(v=0.0768, grad=1.1940), Var(v=0.0011, grad=0.2735), Var(v=-0.0728, grad=0.0000), Var(v=0.0137, grad=-0.5121), Var(v=0.0968, grad=0.0000), Var(v=-0.0448, grad=1.2959), Var(v=-0.0555, grad=0.0000), Var(v=-0.0738, grad=0.9871), Var(v=-0.0426, grad=-0.1780), Var(v=-0.0576, grad=0.0000), Var(v=0.0739, grad=-0.2296), Var(v=-0.0016, grad=0.0355), Var(v=-0.0259, grad=0.0000), Var(v=-0.1954, grad=0.0000), Var(v=0.0253, grad=0.8420), Var(v=-0.0051, grad=0.0000), Var(v=0.0411, grad=1.0846), Var(v=-0.0047, grad=-0.1796), Var(v=0.0231, grad=0.7943), Var(v=0.0487, grad=-0.0931), Var(v=-0.0756, grad=0.0000), Var(v=0.1013, grad=0.0000), Var(v=-0.0416, grad=2.5245), Var(v=-0.0490, grad=0.0000)], [Var(v=-0.1811, grad=0.0446), Var(v=0.0250, grad=0.0000), Var(v=-0.0230, grad=0.0000), Var(v=0.0804, grad=0.0000), Var(v=0.0529, grad=0.0000), Var(v=-0.0009, grad=0.0000), Var(v=0.0985, grad=-0.0355), Var(v=-0.0632, grad=0.0000), Var(v=-0.0376, grad=-0.0788), Var(v=0.0215, grad=0.0000), Var(v=0.0483, grad=0.2840), Var(v=-0.0024, grad=0.0000), Var(v=0.0767, grad=0.1953), Var(v=0.0019, grad=0.0000), Var(v=-0.0180, grad=0.0000), Var(v=0.1064, grad=0.0659), Var(v=-0.1691, grad=-0.1089), Var(v=-0.0443, grad=0.0000), Var(v=0.0186, grad=0.1343), Var(v=0.0231, grad=0.0000), Var(v=-0.1125, grad=0.0000), Var(v=0.0202, grad=0.0339), Var(v=0.1374, grad=0.2313), Var(v=-0.0481, grad=0.0000), Var(v=0.0382, grad=0.0000), Var(v=0.0007, grad=0.0000), Var(v=-0.0252, grad=-0.3772), Var(v=-0.0303, grad=-0.0864), Var(v=0.0965, grad=0.0000), Var(v=-0.1259, grad=0.0000), Var(v=0.0975, grad=0.5941), Var(v=0.1641, grad=-0.4093), Var(v=0.0636, grad=0.0000), Var(v=0.0637, grad=0.0000), Var(v=0.0226, grad=0.0562), Var(v=0.0217, grad=0.1196), Var(v=-0.0993, grad=0.0000), Var(v=0.1331, grad=-0.0112), Var(v=-0.1227, grad=0.0000), Var(v=0.0555, grad=-0.1828), Var(v=0.0183, grad=-0.2660), Var(v=-0.0078, grad=-0.0690), Var(v=0.0259, grad=0.0000), Var(v=-0.0700, grad=0.0000), Var(v=-0.0700, grad=0.0000), Var(v=0.0444, grad=0.0294), Var(v=0.0062, grad=-0.1304), Var(v=-0.0904, grad=0.0000), Var(v=-0.0636, grad=-0.7975), Var(v=-0.0349, grad=-0.0596)], [Var(v=-0.0983, grad=0.1501), Var(v=0.0062, grad=0.0000), Var(v=0.0303, grad=0.0000), Var(v=-0.0455, grad=0.0000), Var(v=-0.1460, grad=0.0000), Var(v=-0.0100, grad=0.0000), Var(v=-0.0742, grad=-0.1195), Var(v=-0.1047, grad=0.0000), Var(v=0.0790, grad=-0.2651), Var(v=0.0221, grad=0.0000), Var(v=-0.0413, grad=0.9551), Var(v=-0.0300, grad=0.0000), Var(v=0.0028, grad=0.6569), Var(v=0.0427, grad=0.0000), Var(v=-0.0093, grad=0.0000), Var(v=0.1545, grad=0.2215), Var(v=0.0767, grad=-0.3661), Var(v=-0.0284, grad=0.0000), Var(v=0.0164, grad=0.4515), Var(v=0.0028, grad=0.0000), Var(v=-0.1843, grad=0.0000), Var(v=0.0787, grad=0.1140), Var(v=-0.0909, grad=0.7779), Var(v=-0.1308, grad=0.0000), Var(v=-0.0840, grad=0.0000), Var(v=-0.0457, grad=0.0000), Var(v=0.2014, grad=-1.2684), Var(v=-0.0415, grad=-0.2905), Var(v=-0.1589, grad=0.0000), Var(v=-0.0609, grad=0.0000), Var(v=-0.0466, grad=1.9981), Var(v=0.0164, grad=-1.3766), Var(v=-0.0496, grad=0.0000), Var(v=-0.0001, grad=0.0000), Var(v=-0.0536, grad=0.1891), Var(v=0.0462, grad=0.4021), Var(v=0.0645, grad=0.0000), Var(v=-0.0702, grad=-0.0378), Var(v=-0.1614, grad=0.0000), Var(v=0.1315, grad=-0.6148), Var(v=-0.0387, grad=-0.8945), Var(v=-0.0339, grad=-0.2320), Var(v=0.0506, grad=0.0000), Var(v=-0.0830, grad=0.0000), Var(v=0.0790, grad=0.0000), Var(v=0.0857, grad=0.0989), Var(v=0.0982, grad=-0.4387), Var(v=0.0487, grad=0.0000), Var(v=-0.0054, grad=-2.6818), Var(v=0.0356, grad=-0.2003)], [Var(v=-0.0054, grad=0.2156), Var(v=-0.2158, grad=0.0000), Var(v=-0.0160, grad=0.0000), Var(v=-0.0183, grad=0.0000), Var(v=-0.1062, grad=0.0000), Var(v=-0.0338, grad=0.0000), Var(v=0.0620, grad=-0.1716), Var(v=-0.1365, grad=0.0000), Var(v=0.1043, grad=-0.3807), Var(v=-0.2399, grad=0.0000), Var(v=0.1028, grad=1.3714), Var(v=-0.0691, grad=0.0000), Var(v=0.1214, grad=0.9432), Var(v=-0.0133, grad=0.0000), Var(v=0.0814, grad=0.0000), Var(v=-0.0727, grad=0.3181), Var(v=0.2452, grad=-0.5257), Var(v=0.0734, grad=0.0000), Var(v=0.0363, grad=0.6484), Var(v=-0.1643, grad=0.0000), Var(v=-0.1782, grad=0.0000), Var(v=0.0047, grad=0.1637), Var(v=0.0939, grad=1.1170), Var(v=-0.0292, grad=0.0000), Var(v=-0.0389, grad=0.0000), Var(v=-0.0613, grad=0.0000), Var(v=0.1366, grad=-1.8214), Var(v=0.4141, grad=-0.4171), Var(v=-0.1108, grad=0.0000), Var(v=-0.1447, grad=0.0000), Var(v=-0.0473, grad=2.8691), Var(v=0.1436, grad=-1.9767), Var(v=-0.0799, grad=0.0000), Var(v=-0.1360, grad=0.0000), Var(v=0.0880, grad=0.2716), Var(v=0.0046, grad=0.5774), Var(v=-0.0028, grad=0.0000), Var(v=0.2531, grad=-0.0542), Var(v=-0.0567, grad=0.0000), Var(v=-0.0704, grad=-0.8828), Var(v=0.1251, grad=-1.2844), Var(v=0.1398, grad=-0.3332), Var(v=-0.0962, grad=0.0000), Var(v=-0.0918, grad=0.0000), Var(v=-0.0037, grad=0.0000), Var(v=0.0625, grad=0.1421), Var(v=0.0023, grad=-0.6299), Var(v=-0.1269, grad=0.0000), Var(v=0.1587, grad=-3.8509), Var(v=0.1105, grad=-0.2876)], [Var(v=-0.1074, grad=0.0000), Var(v=0.1156, grad=0.0000), Var(v=-0.0171, grad=0.2168), Var(v=-0.0761, grad=0.0000), Var(v=-0.0090, grad=0.0000), Var(v=0.0841, grad=0.0000), Var(v=-0.2308, grad=0.0000), Var(v=0.0434, grad=0.0000), Var(v=-0.0073, grad=0.0000), Var(v=0.0134, grad=-0.0745), Var(v=-0.0102, grad=-1.6183), Var(v=0.1973, grad=0.1393), Var(v=-0.0642, grad=0.0000), Var(v=0.1984, grad=0.0000), Var(v=-0.0564, grad=0.0000), Var(v=0.0034, grad=0.0000), Var(v=0.1353, grad=0.6203), Var(v=0.0613, grad=4.7758), Var(v=-0.0495, grad=0.0000), Var(v=0.1020, grad=-2.6602), Var(v=0.0499, grad=1.8237), Var(v=-0.0063, grad=-0.1932), Var(v=-0.0233, grad=-1.3180), Var(v=0.1639, grad=1.9116), Var(v=0.0400, grad=-3.8477), Var(v=-0.0762, grad=-2.1921), Var(v=0.0000, grad=2.1492), Var(v=0.1026, grad=0.4922), Var(v=-0.1083, grad=0.0000), Var(v=0.0739, grad=-0.9217), Var(v=-0.0006, grad=0.0000), Var(v=0.0989, grad=2.3325), Var(v=-0.0729, grad=0.0000), Var(v=0.0712, grad=1.7768), Var(v=-0.0013, grad=-0.3205), Var(v=0.0150, grad=0.0000), Var(v=0.1598, grad=-0.4133), Var(v=-0.0383, grad=0.0640), Var(v=-0.2302, grad=0.0000), Var(v=0.1942, grad=0.0000), Var(v=0.1489, grad=1.5155), Var(v=0.0022, grad=0.0000), Var(v=-0.0040, grad=1.9521), Var(v=-0.0107, grad=-0.3234), Var(v=-0.0100, grad=1.4296), Var(v=0.0606, grad=-0.1676), Var(v=-0.0257, grad=0.0000), Var(v=-0.1500, grad=0.0000), Var(v=-0.1181, grad=4.5440), Var(v=0.0297, grad=0.0000)], [Var(v=0.0309, grad=0.0000), Var(v=-0.0193, grad=0.0000), Var(v=0.0770, grad=0.0764), Var(v=0.0096, grad=0.0000), Var(v=0.1448, grad=0.0000), Var(v=0.0008, grad=0.0000), Var(v=-0.1520, grad=0.0000), Var(v=0.0630, grad=0.0000), Var(v=0.0967, grad=0.0000), Var(v=0.1097, grad=-0.0263), Var(v=0.0372, grad=-0.5700), Var(v=-0.0044, grad=0.0491), Var(v=-0.1919, grad=0.0000), Var(v=0.0853, grad=0.0000), Var(v=0.0368, grad=0.0000), Var(v=-0.0968, grad=0.0000), Var(v=-0.1061, grad=0.2185), Var(v=-0.0667, grad=1.6823), Var(v=-0.0498, grad=0.0000), Var(v=-0.0813, grad=-0.9371), Var(v=0.1374, grad=0.6424), Var(v=0.1403, grad=-0.0681), Var(v=0.1775, grad=-0.4643), Var(v=0.0983, grad=0.6734), Var(v=-0.1666, grad=-1.3553), Var(v=0.0395, grad=-0.7722), Var(v=-0.0899, grad=0.7571), Var(v=-0.0872, grad=0.1734), Var(v=0.0345, grad=0.0000), Var(v=0.0937, grad=-0.3247), Var(v=0.0240, grad=0.0000), Var(v=-0.0075, grad=0.8216), Var(v=0.1012, grad=0.0000), Var(v=-0.0049, grad=0.6259), Var(v=0.0973, grad=-0.1129), Var(v=-0.1180, grad=0.0000), Var(v=-0.0031, grad=-0.1456), Var(v=0.1447, grad=0.0225), Var(v=-0.0090, grad=0.0000), Var(v=-0.0539, grad=0.0000), Var(v=0.0208, grad=0.5339), Var(v=0.0597, grad=0.0000), Var(v=0.0541, grad=0.6876), Var(v=-0.1859, grad=-0.1139), Var(v=0.1168, grad=0.5036), Var(v=-0.1974, grad=-0.0590), Var(v=0.0291, grad=0.0000), Var(v=0.2337, grad=0.0000), Var(v=0.1027, grad=1.6006), Var(v=-0.1225, grad=0.0000)]] Biases: [Var(v=-0.0123, grad=1.2264), Var(v=0.0000, grad=0.0000), Var(v=-0.0108, grad=1.0762), Var(v=0.0000, grad=0.0000), Var(v=0.0000, grad=0.0000), Var(v=0.0000, grad=0.0000), Var(v=0.0098, grad=-0.9760), Var(v=0.0000, grad=0.0000), Var(v=0.0217, grad=-2.1657), Var(v=0.0037, grad=-0.3699), Var(v=0.0023, grad=-0.2296), Var(v=-0.0069, grad=0.6912), Var(v=-0.0537, grad=5.3658), Var(v=0.0000, grad=0.0000), Var(v=0.0000, grad=0.0000), Var(v=-0.0181, grad=1.8096), Var(v=-0.0009, grad=0.0880), Var(v=-0.2370, grad=23.7023), Var(v=-0.0369, grad=3.6886), Var(v=0.1320, grad=-13.2026), Var(v=-0.0905, grad=9.0508), Var(v=0.0003, grad=-0.0274), Var(v=0.0019, grad=-0.1870), Var(v=-0.0949, grad=9.4872), Var(v=0.1910, grad=-19.0959), Var(v=0.1088, grad=-10.8794), Var(v=-0.0030, grad=0.3049), Var(v=-0.0007, grad=0.0698), Var(v=0.0000, grad=0.0000), Var(v=0.0457, grad=-4.5744), Var(v=-0.1632, grad=16.3218), Var(v=-0.0033, grad=0.3309), Var(v=0.0000, grad=0.0000), Var(v=-0.0882, grad=8.8181), Var(v=0.0005, grad=-0.0455), Var(v=-0.0328, grad=3.2846), Var(v=0.0205, grad=-2.0515), Var(v=-0.0001, grad=0.0091), Var(v=0.0000, grad=0.0000), Var(v=0.0502, grad=-5.0222), Var(v=-0.0022, grad=0.2150), Var(v=0.0190, grad=-1.8953), Var(v=-0.0969, grad=9.6884), Var(v=0.0160, grad=-1.6048), Var(v=-0.0710, grad=7.0953), Var(v=0.0002, grad=-0.0238), Var(v=0.0358, grad=-3.5836), Var(v=0.0000, grad=0.0000), Var(v=-0.0064, grad=0.6447), Var(v=0.0164, grad=-1.6364)]\n",
            "Layer 2 \n",
            " Weights: [[Var(v=-0.0136, grad=-0.0607)], [Var(v=0.0659, grad=0.0000)], [Var(v=0.0037, grad=0.8473)], [Var(v=-0.1236, grad=0.0000)], [Var(v=0.2175, grad=0.0000)], [Var(v=-0.2743, grad=0.0000)], [Var(v=0.0317, grad=-2.0357)], [Var(v=-0.0553, grad=0.0000)], [Var(v=0.0413, grad=-1.6173)], [Var(v=-0.0368, grad=3.2628)], [Var(v=-0.0890, grad=-0.1658)], [Var(v=-0.0434, grad=5.1184)], [Var(v=-0.0183, grad=-4.3991)], [Var(v=0.0538, grad=0.0000)], [Var(v=-0.0879, grad=0.0000)], [Var(v=-0.0085, grad=-1.2512)], [Var(v=0.0399, grad=-0.5165)], [Var(v=0.2361, grad=3.1343)], [Var(v=-0.0420, grad=-0.0867)], [Var(v=-0.1797, grad=3.0743)], [Var(v=0.0975, grad=0.4645)], [Var(v=0.0040, grad=-1.4818)], [Var(v=-0.0775, grad=0.3694)], [Var(v=0.0785, grad=2.8533)], [Var(v=-0.2318, grad=1.6323)], [Var(v=-0.1247, grad=0.1961)], [Var(v=0.1707, grad=-5.0381)], [Var(v=0.0613, grad=-3.3713)], [Var(v=0.0499, grad=0.0000)], [Var(v=-0.0928, grad=4.1140)], [Var(v=-0.1751, grad=-1.4428)], [Var(v=0.1200, grad=1.0654)], [Var(v=-0.0963, grad=0.0000)], [Var(v=0.0599, grad=3.9639)], [Var(v=0.0007, grad=-1.8651)], [Var(v=-0.0309, grad=-0.7203)], [Var(v=-0.0964, grad=7.3227)], [Var(v=0.0003, grad=0.3242)], [Var(v=0.0006, grad=0.0000)], [Var(v=0.0695, grad=-1.1134)], [Var(v=0.0661, grad=1.8802)], [Var(v=0.0283, grad=-0.6300)], [Var(v=0.0902, grad=1.9113)], [Var(v=-0.0306, grad=1.2451)], [Var(v=0.0786, grad=0.1499)], [Var(v=-0.0203, grad=1.0900)], [Var(v=0.0572, grad=-1.5557)], [Var(v=-0.0279, grad=0.0000)], [Var(v=0.2696, grad=-1.5175)], [Var(v=0.0518, grad=-3.2782)]] Biases: [Var(v=-0.0253, grad=2.5337)]\n",
            "\n",
            "Network after zeroing gradients:\n",
            "Layer 0 \n",
            " Weights: [[Var(v=0.0274, grad=0.0000), Var(v=-0.0895, grad=0.0000), Var(v=0.1099, grad=0.0000), Var(v=0.0687, grad=0.0000), Var(v=0.0001, grad=0.0000), Var(v=-0.0015, grad=0.0000), Var(v=-0.2035, grad=0.0000), Var(v=-0.0816, grad=0.0000), Var(v=0.0757, grad=0.0000), Var(v=-0.0968, grad=0.0000), Var(v=-0.0139, grad=0.0000), Var(v=0.1373, grad=0.0000), Var(v=0.2198, grad=0.0000), Var(v=-0.0973, grad=0.0000), Var(v=0.0105, grad=0.0000)]] Biases: [Var(v=0.0011, grad=0.0000), Var(v=0.0558, grad=0.0000), Var(v=0.0307, grad=0.0000), Var(v=0.0359, grad=0.0000), Var(v=-0.0517, grad=0.0000), Var(v=-0.0188, grad=0.0000), Var(v=0.0217, grad=0.0000), Var(v=0.0176, grad=0.0000), Var(v=0.0019, grad=0.0000), Var(v=-0.0046, grad=0.0000), Var(v=-0.0388, grad=0.0000), Var(v=0.0276, grad=0.0000), Var(v=0.0591, grad=0.0000), Var(v=-0.0781, grad=0.0000), Var(v=-0.0683, grad=0.0000)]\n",
            "Layer 1 \n",
            " Weights: [[Var(v=0.0795, grad=0.0000), Var(v=-0.0350, grad=0.0000), Var(v=-0.0152, grad=0.0000), Var(v=0.0810, grad=0.0000), Var(v=0.0016, grad=0.0000), Var(v=-0.0515, grad=0.0000), Var(v=0.2959, grad=0.0000), Var(v=-0.0346, grad=0.0000), Var(v=0.0165, grad=0.0000), Var(v=-0.0857, grad=0.0000), Var(v=-0.0198, grad=0.0000), Var(v=0.0150, grad=0.0000), Var(v=0.0562, grad=0.0000), Var(v=-0.0340, grad=0.0000), Var(v=0.1235, grad=0.0000), Var(v=0.0315, grad=0.0000), Var(v=0.0613, grad=0.0000), Var(v=-0.0994, grad=0.0000), Var(v=0.0432, grad=0.0000), Var(v=0.0068, grad=0.0000), Var(v=-0.0185, grad=0.0000), Var(v=0.0043, grad=0.0000), Var(v=-0.0327, grad=0.0000), Var(v=-0.0462, grad=0.0000), Var(v=-0.0295, grad=0.0000), Var(v=0.0065, grad=0.0000), Var(v=-0.1459, grad=0.0000), Var(v=-0.0048, grad=0.0000), Var(v=-0.1541, grad=0.0000), Var(v=0.0890, grad=0.0000), Var(v=0.1829, grad=0.0000), Var(v=-0.0944, grad=0.0000), Var(v=0.0221, grad=0.0000), Var(v=-0.0162, grad=0.0000), Var(v=0.0788, grad=0.0000), Var(v=-0.1071, grad=0.0000), Var(v=0.0381, grad=0.0000), Var(v=-0.0970, grad=0.0000), Var(v=-0.0060, grad=0.0000), Var(v=0.0166, grad=0.0000), Var(v=0.1770, grad=0.0000), Var(v=-0.0376, grad=0.0000), Var(v=-0.0610, grad=0.0000), Var(v=-0.0253, grad=0.0000), Var(v=-0.0020, grad=0.0000), Var(v=0.0282, grad=0.0000), Var(v=-0.0454, grad=0.0000), Var(v=-0.0247, grad=0.0000), Var(v=0.2033, grad=0.0000), Var(v=0.0229, grad=0.0000)], [Var(v=0.0542, grad=0.0000), Var(v=-0.0250, grad=0.0000), Var(v=-0.0104, grad=0.0000), Var(v=-0.1403, grad=0.0000), Var(v=0.0986, grad=0.0000), Var(v=0.0382, grad=0.0000), Var(v=0.0420, grad=0.0000), Var(v=-0.0199, grad=0.0000), Var(v=0.0047, grad=0.0000), Var(v=0.0133, grad=0.0000), Var(v=-0.0912, grad=0.0000), Var(v=0.0490, grad=0.0000), Var(v=0.0511, grad=0.0000), Var(v=-0.1722, grad=0.0000), Var(v=0.0281, grad=0.0000), Var(v=0.1501, grad=0.0000), Var(v=-0.0708, grad=0.0000), Var(v=-0.1341, grad=0.0000), Var(v=0.1130, grad=0.0000), Var(v=-0.0332, grad=0.0000), Var(v=-0.1140, grad=0.0000), Var(v=-0.1296, grad=0.0000), Var(v=0.0843, grad=0.0000), Var(v=-0.0689, grad=0.0000), Var(v=0.1075, grad=0.0000), Var(v=-0.0116, grad=0.0000), Var(v=-0.0320, grad=0.0000), Var(v=0.2687, grad=0.0000), Var(v=0.0988, grad=0.0000), Var(v=0.0203, grad=0.0000), Var(v=-0.2334, grad=0.0000), Var(v=-0.0472, grad=0.0000), Var(v=-0.0304, grad=0.0000), Var(v=-0.0300, grad=0.0000), Var(v=0.0051, grad=0.0000), Var(v=-0.0560, grad=0.0000), Var(v=-0.0552, grad=0.0000), Var(v=0.1599, grad=0.0000), Var(v=-0.0695, grad=0.0000), Var(v=-0.1003, grad=0.0000), Var(v=-0.1721, grad=0.0000), Var(v=0.0348, grad=0.0000), Var(v=0.0113, grad=0.0000), Var(v=-0.1637, grad=0.0000), Var(v=0.0299, grad=0.0000), Var(v=0.1981, grad=0.0000), Var(v=-0.0368, grad=0.0000), Var(v=0.1099, grad=0.0000), Var(v=0.0520, grad=0.0000), Var(v=0.0267, grad=0.0000)], [Var(v=0.0862, grad=0.0000), Var(v=0.2299, grad=0.0000), Var(v=0.0934, grad=0.0000), Var(v=-0.0125, grad=0.0000), Var(v=-0.1401, grad=0.0000), Var(v=-0.0943, grad=0.0000), Var(v=-0.0552, grad=0.0000), Var(v=-0.2287, grad=0.0000), Var(v=-0.2154, grad=0.0000), Var(v=0.0670, grad=0.0000), Var(v=-0.0098, grad=0.0000), Var(v=0.0209, grad=0.0000), Var(v=0.0650, grad=0.0000), Var(v=0.0534, grad=0.0000), Var(v=-0.1406, grad=0.0000), Var(v=-0.0125, grad=0.0000), Var(v=-0.0146, grad=0.0000), Var(v=-0.0860, grad=0.0000), Var(v=0.0006, grad=0.0000), Var(v=-0.1437, grad=0.0000), Var(v=-0.1083, grad=0.0000), Var(v=-0.0105, grad=0.0000), Var(v=0.0272, grad=0.0000), Var(v=0.0685, grad=0.0000), Var(v=0.0431, grad=0.0000), Var(v=-0.2132, grad=0.0000), Var(v=0.2439, grad=0.0000), Var(v=-0.0484, grad=0.0000), Var(v=-0.1199, grad=0.0000), Var(v=-0.1380, grad=0.0000), Var(v=-0.0562, grad=0.0000), Var(v=-0.1484, grad=0.0000), Var(v=-0.1084, grad=0.0000), Var(v=-0.1399, grad=0.0000), Var(v=0.1231, grad=0.0000), Var(v=0.1510, grad=0.0000), Var(v=-0.2807, grad=0.0000), Var(v=-0.1237, grad=0.0000), Var(v=0.0401, grad=0.0000), Var(v=0.1655, grad=0.0000), Var(v=0.0876, grad=0.0000), Var(v=-0.0061, grad=0.0000), Var(v=-0.0513, grad=0.0000), Var(v=0.1944, grad=0.0000), Var(v=-0.0901, grad=0.0000), Var(v=-0.0871, grad=0.0000), Var(v=0.1586, grad=0.0000), Var(v=-0.1588, grad=0.0000), Var(v=0.0888, grad=0.0000), Var(v=0.1609, grad=0.0000)], [Var(v=0.0684, grad=0.0000), Var(v=-0.0531, grad=0.0000), Var(v=-0.0155, grad=0.0000), Var(v=-0.0688, grad=0.0000), Var(v=0.0004, grad=0.0000), Var(v=-0.1488, grad=0.0000), Var(v=-0.1611, grad=0.0000), Var(v=-0.0755, grad=0.0000), Var(v=0.1194, grad=0.0000), Var(v=-0.1521, grad=0.0000), Var(v=-0.1179, grad=0.0000), Var(v=-0.0182, grad=0.0000), Var(v=0.0086, grad=0.0000), Var(v=-0.1448, grad=0.0000), Var(v=-0.0449, grad=0.0000), Var(v=-0.0503, grad=0.0000), Var(v=-0.0233, grad=0.0000), Var(v=-0.0959, grad=0.0000), Var(v=-0.0076, grad=0.0000), Var(v=0.1211, grad=0.0000), Var(v=0.0662, grad=0.0000), Var(v=0.0506, grad=0.0000), Var(v=0.1030, grad=0.0000), Var(v=-0.1577, grad=0.0000), Var(v=0.0688, grad=0.0000), Var(v=0.0675, grad=0.0000), Var(v=0.0454, grad=0.0000), Var(v=-0.1077, grad=0.0000), Var(v=0.0663, grad=0.0000), Var(v=0.2327, grad=0.0000), Var(v=-0.0481, grad=0.0000), Var(v=0.1050, grad=0.0000), Var(v=-0.1100, grad=0.0000), Var(v=-0.0720, grad=0.0000), Var(v=0.0209, grad=0.0000), Var(v=0.0737, grad=0.0000), Var(v=-0.0067, grad=0.0000), Var(v=0.0927, grad=0.0000), Var(v=0.0563, grad=0.0000), Var(v=0.0341, grad=0.0000), Var(v=-0.0171, grad=0.0000), Var(v=-0.1133, grad=0.0000), Var(v=-0.0852, grad=0.0000), Var(v=0.1190, grad=0.0000), Var(v=0.0476, grad=0.0000), Var(v=0.0059, grad=0.0000), Var(v=0.0141, grad=0.0000), Var(v=0.1362, grad=0.0000), Var(v=0.0667, grad=0.0000), Var(v=0.2909, grad=0.0000)], [Var(v=-0.0167, grad=0.0000), Var(v=0.0525, grad=0.0000), Var(v=-0.0461, grad=0.0000), Var(v=-0.1590, grad=0.0000), Var(v=-0.1599, grad=0.0000), Var(v=0.1804, grad=0.0000), Var(v=0.1027, grad=0.0000), Var(v=0.0559, grad=0.0000), Var(v=0.0198, grad=0.0000), Var(v=-0.0250, grad=0.0000), Var(v=-0.0903, grad=0.0000), Var(v=-0.0561, grad=0.0000), Var(v=-0.0125, grad=0.0000), Var(v=-0.0894, grad=0.0000), Var(v=0.0165, grad=0.0000), Var(v=0.0838, grad=0.0000), Var(v=-0.2342, grad=0.0000), Var(v=-0.0409, grad=0.0000), Var(v=-0.0893, grad=0.0000), Var(v=0.0617, grad=0.0000), Var(v=0.0067, grad=0.0000), Var(v=0.1210, grad=0.0000), Var(v=-0.1115, grad=0.0000), Var(v=0.0370, grad=0.0000), Var(v=-0.0035, grad=0.0000), Var(v=-0.1909, grad=0.0000), Var(v=0.0364, grad=0.0000), Var(v=0.1617, grad=0.0000), Var(v=-0.0339, grad=0.0000), Var(v=-0.0125, grad=0.0000), Var(v=-0.0192, grad=0.0000), Var(v=0.0460, grad=0.0000), Var(v=-0.2232, grad=0.0000), Var(v=-0.1527, grad=0.0000), Var(v=0.2041, grad=0.0000), Var(v=-0.1843, grad=0.0000), Var(v=0.0123, grad=0.0000), Var(v=-0.2418, grad=0.0000), Var(v=0.0060, grad=0.0000), Var(v=-0.1949, grad=0.0000), Var(v=-0.0541, grad=0.0000), Var(v=-0.0514, grad=0.0000), Var(v=0.0277, grad=0.0000), Var(v=0.1271, grad=0.0000), Var(v=0.0366, grad=0.0000), Var(v=0.0767, grad=0.0000), Var(v=-0.1416, grad=0.0000), Var(v=-0.0304, grad=0.0000), Var(v=-0.2259, grad=0.0000), Var(v=-0.0674, grad=0.0000)], [Var(v=0.0961, grad=0.0000), Var(v=0.0088, grad=0.0000), Var(v=-0.1296, grad=0.0000), Var(v=0.1023, grad=0.0000), Var(v=0.0546, grad=0.0000), Var(v=-0.0467, grad=0.0000), Var(v=-0.0373, grad=0.0000), Var(v=-0.1786, grad=0.0000), Var(v=-0.1624, grad=0.0000), Var(v=-0.0717, grad=0.0000), Var(v=0.0101, grad=0.0000), Var(v=-0.0470, grad=0.0000), Var(v=-0.0287, grad=0.0000), Var(v=-0.0463, grad=0.0000), Var(v=0.1522, grad=0.0000), Var(v=0.0201, grad=0.0000), Var(v=0.0506, grad=0.0000), Var(v=-0.1002, grad=0.0000), Var(v=-0.1562, grad=0.0000), Var(v=0.1137, grad=0.0000), Var(v=0.1426, grad=0.0000), Var(v=0.1216, grad=0.0000), Var(v=-0.0105, grad=0.0000), Var(v=0.0306, grad=0.0000), Var(v=-0.0192, grad=0.0000), Var(v=0.1081, grad=0.0000), Var(v=0.0138, grad=0.0000), Var(v=0.0695, grad=0.0000), Var(v=-0.0860, grad=0.0000), Var(v=-0.0528, grad=0.0000), Var(v=0.0343, grad=0.0000), Var(v=-0.0651, grad=0.0000), Var(v=0.0308, grad=0.0000), Var(v=0.0616, grad=0.0000), Var(v=-0.1519, grad=0.0000), Var(v=-0.0187, grad=0.0000), Var(v=0.0277, grad=0.0000), Var(v=0.0016, grad=0.0000), Var(v=0.0034, grad=0.0000), Var(v=0.1190, grad=0.0000), Var(v=-0.0883, grad=0.0000), Var(v=0.1709, grad=0.0000), Var(v=-0.2080, grad=0.0000), Var(v=0.1003, grad=0.0000), Var(v=0.3175, grad=0.0000), Var(v=-0.0627, grad=0.0000), Var(v=-0.0171, grad=0.0000), Var(v=0.2719, grad=0.0000), Var(v=0.1984, grad=0.0000), Var(v=-0.2161, grad=0.0000)], [Var(v=0.0092, grad=0.0000), Var(v=-0.1820, grad=0.0000), Var(v=0.0905, grad=0.0000), Var(v=-0.0073, grad=0.0000), Var(v=-0.0916, grad=0.0000), Var(v=-0.2193, grad=0.0000), Var(v=0.1444, grad=0.0000), Var(v=0.0198, grad=0.0000), Var(v=-0.1087, grad=0.0000), Var(v=0.0520, grad=0.0000), Var(v=0.1007, grad=0.0000), Var(v=0.0174, grad=0.0000), Var(v=-0.1048, grad=0.0000), Var(v=-0.0877, grad=0.0000), Var(v=-0.1631, grad=0.0000), Var(v=-0.1294, grad=0.0000), Var(v=0.0594, grad=0.0000), Var(v=0.0185, grad=0.0000), Var(v=-0.0604, grad=0.0000), Var(v=0.1061, grad=0.0000), Var(v=-0.1376, grad=0.0000), Var(v=-0.1345, grad=0.0000), Var(v=0.0709, grad=0.0000), Var(v=-0.0431, grad=0.0000), Var(v=0.1680, grad=0.0000), Var(v=0.1017, grad=0.0000), Var(v=0.0464, grad=0.0000), Var(v=0.0392, grad=0.0000), Var(v=-0.0352, grad=0.0000), Var(v=0.1109, grad=0.0000), Var(v=-0.0463, grad=0.0000), Var(v=0.0121, grad=0.0000), Var(v=0.0275, grad=0.0000), Var(v=0.1661, grad=0.0000), Var(v=0.0745, grad=0.0000), Var(v=-0.1177, grad=0.0000), Var(v=0.2310, grad=0.0000), Var(v=0.0556, grad=0.0000), Var(v=-0.0631, grad=0.0000), Var(v=-0.0752, grad=0.0000), Var(v=0.0125, grad=0.0000), Var(v=-0.0726, grad=0.0000), Var(v=0.0795, grad=0.0000), Var(v=0.1443, grad=0.0000), Var(v=-0.1390, grad=0.0000), Var(v=0.1107, grad=0.0000), Var(v=0.0177, grad=0.0000), Var(v=-0.0583, grad=0.0000), Var(v=-0.0061, grad=0.0000), Var(v=-0.1848, grad=0.0000)], [Var(v=-0.0140, grad=0.0000), Var(v=-0.0952, grad=0.0000), Var(v=0.0276, grad=0.0000), Var(v=0.0686, grad=0.0000), Var(v=-0.2436, grad=0.0000), Var(v=0.1288, grad=0.0000), Var(v=-0.1679, grad=0.0000), Var(v=-0.1302, grad=0.0000), Var(v=-0.0098, grad=0.0000), Var(v=0.2166, grad=0.0000), Var(v=-0.1081, grad=0.0000), Var(v=0.1546, grad=0.0000), Var(v=-0.0001, grad=0.0000), Var(v=-0.0126, grad=0.0000), Var(v=-0.1175, grad=0.0000), Var(v=0.1504, grad=0.0000), Var(v=-0.0522, grad=0.0000), Var(v=0.0534, grad=0.0000), Var(v=0.0128, grad=0.0000), Var(v=-0.1005, grad=0.0000), Var(v=-0.0737, grad=0.0000), Var(v=-0.0119, grad=0.0000), Var(v=-0.0331, grad=0.0000), Var(v=-0.1043, grad=0.0000), Var(v=0.0655, grad=0.0000), Var(v=0.0223, grad=0.0000), Var(v=-0.0222, grad=0.0000), Var(v=-0.0148, grad=0.0000), Var(v=0.0369, grad=0.0000), Var(v=0.0996, grad=0.0000), Var(v=0.0082, grad=0.0000), Var(v=-0.0131, grad=0.0000), Var(v=-0.0745, grad=0.0000), Var(v=-0.0513, grad=0.0000), Var(v=0.0902, grad=0.0000), Var(v=-0.0071, grad=0.0000), Var(v=-0.0017, grad=0.0000), Var(v=-0.0428, grad=0.0000), Var(v=-0.1112, grad=0.0000), Var(v=-0.0980, grad=0.0000), Var(v=0.0390, grad=0.0000), Var(v=0.0543, grad=0.0000), Var(v=-0.1032, grad=0.0000), Var(v=0.0831, grad=0.0000), Var(v=0.0627, grad=0.0000), Var(v=0.0363, grad=0.0000), Var(v=-0.0771, grad=0.0000), Var(v=0.0448, grad=0.0000), Var(v=-0.0909, grad=0.0000), Var(v=-0.1019, grad=0.0000)], [Var(v=0.1007, grad=0.0000), Var(v=-0.2261, grad=0.0000), Var(v=-0.0936, grad=0.0000), Var(v=-0.1606, grad=0.0000), Var(v=0.0890, grad=0.0000), Var(v=0.0944, grad=0.0000), Var(v=0.1466, grad=0.0000), Var(v=-0.1315, grad=0.0000), Var(v=0.0773, grad=0.0000), Var(v=0.1078, grad=0.0000), Var(v=-0.0487, grad=0.0000), Var(v=0.0465, grad=0.0000), Var(v=0.1898, grad=0.0000), Var(v=0.0485, grad=0.0000), Var(v=-0.1523, grad=0.0000), Var(v=-0.0106, grad=0.0000), Var(v=0.0334, grad=0.0000), Var(v=-0.0502, grad=0.0000), Var(v=-0.0637, grad=0.0000), Var(v=-0.0785, grad=0.0000), Var(v=0.0005, grad=0.0000), Var(v=-0.0121, grad=0.0000), Var(v=-0.0299, grad=0.0000), Var(v=-0.0520, grad=0.0000), Var(v=0.0336, grad=0.0000), Var(v=-0.0867, grad=0.0000), Var(v=0.2122, grad=0.0000), Var(v=0.0629, grad=0.0000), Var(v=-0.1043, grad=0.0000), Var(v=-0.0584, grad=0.0000), Var(v=0.2123, grad=0.0000), Var(v=-0.0370, grad=0.0000), Var(v=0.0785, grad=0.0000), Var(v=-0.1104, grad=0.0000), Var(v=0.0117, grad=0.0000), Var(v=-0.0037, grad=0.0000), Var(v=-0.0581, grad=0.0000), Var(v=-0.0050, grad=0.0000), Var(v=-0.0636, grad=0.0000), Var(v=0.0988, grad=0.0000), Var(v=-0.0280, grad=0.0000), Var(v=-0.0316, grad=0.0000), Var(v=-0.1526, grad=0.0000), Var(v=-0.2215, grad=0.0000), Var(v=-0.1440, grad=0.0000), Var(v=-0.0295, grad=0.0000), Var(v=0.0593, grad=0.0000), Var(v=-0.2094, grad=0.0000), Var(v=0.1040, grad=0.0000), Var(v=-0.0264, grad=0.0000)], [Var(v=0.0290, grad=0.0000), Var(v=0.0702, grad=0.0000), Var(v=-0.0881, grad=0.0000), Var(v=-0.0885, grad=0.0000), Var(v=-0.1334, grad=0.0000), Var(v=-0.0011, grad=0.0000), Var(v=-0.0409, grad=0.0000), Var(v=-0.0540, grad=0.0000), Var(v=-0.1161, grad=0.0000), Var(v=0.0263, grad=0.0000), Var(v=0.0028, grad=0.0000), Var(v=0.0285, grad=0.0000), Var(v=0.0488, grad=0.0000), Var(v=-0.1946, grad=0.0000), Var(v=-0.1232, grad=0.0000), Var(v=0.0314, grad=0.0000), Var(v=-0.0556, grad=0.0000), Var(v=0.0225, grad=0.0000), Var(v=-0.1456, grad=0.0000), Var(v=0.1586, grad=0.0000), Var(v=0.0746, grad=0.0000), Var(v=0.2102, grad=0.0000), Var(v=-0.0211, grad=0.0000), Var(v=-0.0051, grad=0.0000), Var(v=0.0125, grad=0.0000), Var(v=0.0191, grad=0.0000), Var(v=0.0768, grad=0.0000), Var(v=0.0011, grad=0.0000), Var(v=-0.0728, grad=0.0000), Var(v=0.0137, grad=0.0000), Var(v=0.0968, grad=0.0000), Var(v=-0.0448, grad=0.0000), Var(v=-0.0555, grad=0.0000), Var(v=-0.0738, grad=0.0000), Var(v=-0.0426, grad=0.0000), Var(v=-0.0576, grad=0.0000), Var(v=0.0739, grad=0.0000), Var(v=-0.0016, grad=0.0000), Var(v=-0.0259, grad=0.0000), Var(v=-0.1954, grad=0.0000), Var(v=0.0253, grad=0.0000), Var(v=-0.0051, grad=0.0000), Var(v=0.0411, grad=0.0000), Var(v=-0.0047, grad=0.0000), Var(v=0.0231, grad=0.0000), Var(v=0.0487, grad=0.0000), Var(v=-0.0756, grad=0.0000), Var(v=0.1013, grad=0.0000), Var(v=-0.0416, grad=0.0000), Var(v=-0.0490, grad=0.0000)], [Var(v=-0.1811, grad=0.0000), Var(v=0.0250, grad=0.0000), Var(v=-0.0230, grad=0.0000), Var(v=0.0804, grad=0.0000), Var(v=0.0529, grad=0.0000), Var(v=-0.0009, grad=0.0000), Var(v=0.0985, grad=0.0000), Var(v=-0.0632, grad=0.0000), Var(v=-0.0376, grad=0.0000), Var(v=0.0215, grad=0.0000), Var(v=0.0483, grad=0.0000), Var(v=-0.0024, grad=0.0000), Var(v=0.0767, grad=0.0000), Var(v=0.0019, grad=0.0000), Var(v=-0.0180, grad=0.0000), Var(v=0.1064, grad=0.0000), Var(v=-0.1691, grad=0.0000), Var(v=-0.0443, grad=0.0000), Var(v=0.0186, grad=0.0000), Var(v=0.0231, grad=0.0000), Var(v=-0.1125, grad=0.0000), Var(v=0.0202, grad=0.0000), Var(v=0.1374, grad=0.0000), Var(v=-0.0481, grad=0.0000), Var(v=0.0382, grad=0.0000), Var(v=0.0007, grad=0.0000), Var(v=-0.0252, grad=0.0000), Var(v=-0.0303, grad=0.0000), Var(v=0.0965, grad=0.0000), Var(v=-0.1259, grad=0.0000), Var(v=0.0975, grad=0.0000), Var(v=0.1641, grad=0.0000), Var(v=0.0636, grad=0.0000), Var(v=0.0637, grad=0.0000), Var(v=0.0226, grad=0.0000), Var(v=0.0217, grad=0.0000), Var(v=-0.0993, grad=0.0000), Var(v=0.1331, grad=0.0000), Var(v=-0.1227, grad=0.0000), Var(v=0.0555, grad=0.0000), Var(v=0.0183, grad=0.0000), Var(v=-0.0078, grad=0.0000), Var(v=0.0259, grad=0.0000), Var(v=-0.0700, grad=0.0000), Var(v=-0.0700, grad=0.0000), Var(v=0.0444, grad=0.0000), Var(v=0.0062, grad=0.0000), Var(v=-0.0904, grad=0.0000), Var(v=-0.0636, grad=0.0000), Var(v=-0.0349, grad=0.0000)], [Var(v=-0.0983, grad=0.0000), Var(v=0.0062, grad=0.0000), Var(v=0.0303, grad=0.0000), Var(v=-0.0455, grad=0.0000), Var(v=-0.1460, grad=0.0000), Var(v=-0.0100, grad=0.0000), Var(v=-0.0742, grad=0.0000), Var(v=-0.1047, grad=0.0000), Var(v=0.0790, grad=0.0000), Var(v=0.0221, grad=0.0000), Var(v=-0.0413, grad=0.0000), Var(v=-0.0300, grad=0.0000), Var(v=0.0028, grad=0.0000), Var(v=0.0427, grad=0.0000), Var(v=-0.0093, grad=0.0000), Var(v=0.1545, grad=0.0000), Var(v=0.0767, grad=0.0000), Var(v=-0.0284, grad=0.0000), Var(v=0.0164, grad=0.0000), Var(v=0.0028, grad=0.0000), Var(v=-0.1843, grad=0.0000), Var(v=0.0787, grad=0.0000), Var(v=-0.0909, grad=0.0000), Var(v=-0.1308, grad=0.0000), Var(v=-0.0840, grad=0.0000), Var(v=-0.0457, grad=0.0000), Var(v=0.2014, grad=0.0000), Var(v=-0.0415, grad=0.0000), Var(v=-0.1589, grad=0.0000), Var(v=-0.0609, grad=0.0000), Var(v=-0.0466, grad=0.0000), Var(v=0.0164, grad=0.0000), Var(v=-0.0496, grad=0.0000), Var(v=-0.0001, grad=0.0000), Var(v=-0.0536, grad=0.0000), Var(v=0.0462, grad=0.0000), Var(v=0.0645, grad=0.0000), Var(v=-0.0702, grad=0.0000), Var(v=-0.1614, grad=0.0000), Var(v=0.1315, grad=0.0000), Var(v=-0.0387, grad=0.0000), Var(v=-0.0339, grad=0.0000), Var(v=0.0506, grad=0.0000), Var(v=-0.0830, grad=0.0000), Var(v=0.0790, grad=0.0000), Var(v=0.0857, grad=0.0000), Var(v=0.0982, grad=0.0000), Var(v=0.0487, grad=0.0000), Var(v=-0.0054, grad=0.0000), Var(v=0.0356, grad=0.0000)], [Var(v=-0.0054, grad=0.0000), Var(v=-0.2158, grad=0.0000), Var(v=-0.0160, grad=0.0000), Var(v=-0.0183, grad=0.0000), Var(v=-0.1062, grad=0.0000), Var(v=-0.0338, grad=0.0000), Var(v=0.0620, grad=0.0000), Var(v=-0.1365, grad=0.0000), Var(v=0.1043, grad=0.0000), Var(v=-0.2399, grad=0.0000), Var(v=0.1028, grad=0.0000), Var(v=-0.0691, grad=0.0000), Var(v=0.1214, grad=0.0000), Var(v=-0.0133, grad=0.0000), Var(v=0.0814, grad=0.0000), Var(v=-0.0727, grad=0.0000), Var(v=0.2452, grad=0.0000), Var(v=0.0734, grad=0.0000), Var(v=0.0363, grad=0.0000), Var(v=-0.1643, grad=0.0000), Var(v=-0.1782, grad=0.0000), Var(v=0.0047, grad=0.0000), Var(v=0.0939, grad=0.0000), Var(v=-0.0292, grad=0.0000), Var(v=-0.0389, grad=0.0000), Var(v=-0.0613, grad=0.0000), Var(v=0.1366, grad=0.0000), Var(v=0.4141, grad=0.0000), Var(v=-0.1108, grad=0.0000), Var(v=-0.1447, grad=0.0000), Var(v=-0.0473, grad=0.0000), Var(v=0.1436, grad=0.0000), Var(v=-0.0799, grad=0.0000), Var(v=-0.1360, grad=0.0000), Var(v=0.0880, grad=0.0000), Var(v=0.0046, grad=0.0000), Var(v=-0.0028, grad=0.0000), Var(v=0.2531, grad=0.0000), Var(v=-0.0567, grad=0.0000), Var(v=-0.0704, grad=0.0000), Var(v=0.1251, grad=0.0000), Var(v=0.1398, grad=0.0000), Var(v=-0.0962, grad=0.0000), Var(v=-0.0918, grad=0.0000), Var(v=-0.0037, grad=0.0000), Var(v=0.0625, grad=0.0000), Var(v=0.0023, grad=0.0000), Var(v=-0.1269, grad=0.0000), Var(v=0.1587, grad=0.0000), Var(v=0.1105, grad=0.0000)], [Var(v=-0.1074, grad=0.0000), Var(v=0.1156, grad=0.0000), Var(v=-0.0171, grad=0.0000), Var(v=-0.0761, grad=0.0000), Var(v=-0.0090, grad=0.0000), Var(v=0.0841, grad=0.0000), Var(v=-0.2308, grad=0.0000), Var(v=0.0434, grad=0.0000), Var(v=-0.0073, grad=0.0000), Var(v=0.0134, grad=0.0000), Var(v=-0.0102, grad=0.0000), Var(v=0.1973, grad=0.0000), Var(v=-0.0642, grad=0.0000), Var(v=0.1984, grad=0.0000), Var(v=-0.0564, grad=0.0000), Var(v=0.0034, grad=0.0000), Var(v=0.1353, grad=0.0000), Var(v=0.0613, grad=0.0000), Var(v=-0.0495, grad=0.0000), Var(v=0.1020, grad=0.0000), Var(v=0.0499, grad=0.0000), Var(v=-0.0063, grad=0.0000), Var(v=-0.0233, grad=0.0000), Var(v=0.1639, grad=0.0000), Var(v=0.0400, grad=0.0000), Var(v=-0.0762, grad=0.0000), Var(v=0.0000, grad=0.0000), Var(v=0.1026, grad=0.0000), Var(v=-0.1083, grad=0.0000), Var(v=0.0739, grad=0.0000), Var(v=-0.0006, grad=0.0000), Var(v=0.0989, grad=0.0000), Var(v=-0.0729, grad=0.0000), Var(v=0.0712, grad=0.0000), Var(v=-0.0013, grad=0.0000), Var(v=0.0150, grad=0.0000), Var(v=0.1598, grad=0.0000), Var(v=-0.0383, grad=0.0000), Var(v=-0.2302, grad=0.0000), Var(v=0.1942, grad=0.0000), Var(v=0.1489, grad=0.0000), Var(v=0.0022, grad=0.0000), Var(v=-0.0040, grad=0.0000), Var(v=-0.0107, grad=0.0000), Var(v=-0.0100, grad=0.0000), Var(v=0.0606, grad=0.0000), Var(v=-0.0257, grad=0.0000), Var(v=-0.1500, grad=0.0000), Var(v=-0.1181, grad=0.0000), Var(v=0.0297, grad=0.0000)], [Var(v=0.0309, grad=0.0000), Var(v=-0.0193, grad=0.0000), Var(v=0.0770, grad=0.0000), Var(v=0.0096, grad=0.0000), Var(v=0.1448, grad=0.0000), Var(v=0.0008, grad=0.0000), Var(v=-0.1520, grad=0.0000), Var(v=0.0630, grad=0.0000), Var(v=0.0967, grad=0.0000), Var(v=0.1097, grad=0.0000), Var(v=0.0372, grad=0.0000), Var(v=-0.0044, grad=0.0000), Var(v=-0.1919, grad=0.0000), Var(v=0.0853, grad=0.0000), Var(v=0.0368, grad=0.0000), Var(v=-0.0968, grad=0.0000), Var(v=-0.1061, grad=0.0000), Var(v=-0.0667, grad=0.0000), Var(v=-0.0498, grad=0.0000), Var(v=-0.0813, grad=0.0000), Var(v=0.1374, grad=0.0000), Var(v=0.1403, grad=0.0000), Var(v=0.1775, grad=0.0000), Var(v=0.0983, grad=0.0000), Var(v=-0.1666, grad=0.0000), Var(v=0.0395, grad=0.0000), Var(v=-0.0899, grad=0.0000), Var(v=-0.0872, grad=0.0000), Var(v=0.0345, grad=0.0000), Var(v=0.0937, grad=0.0000), Var(v=0.0240, grad=0.0000), Var(v=-0.0075, grad=0.0000), Var(v=0.1012, grad=0.0000), Var(v=-0.0049, grad=0.0000), Var(v=0.0973, grad=0.0000), Var(v=-0.1180, grad=0.0000), Var(v=-0.0031, grad=0.0000), Var(v=0.1447, grad=0.0000), Var(v=-0.0090, grad=0.0000), Var(v=-0.0539, grad=0.0000), Var(v=0.0208, grad=0.0000), Var(v=0.0597, grad=0.0000), Var(v=0.0541, grad=0.0000), Var(v=-0.1859, grad=0.0000), Var(v=0.1168, grad=0.0000), Var(v=-0.1974, grad=0.0000), Var(v=0.0291, grad=0.0000), Var(v=0.2337, grad=0.0000), Var(v=0.1027, grad=0.0000), Var(v=-0.1225, grad=0.0000)]] Biases: [Var(v=-0.0123, grad=0.0000), Var(v=0.0000, grad=0.0000), Var(v=-0.0108, grad=0.0000), Var(v=0.0000, grad=0.0000), Var(v=0.0000, grad=0.0000), Var(v=0.0000, grad=0.0000), Var(v=0.0098, grad=0.0000), Var(v=0.0000, grad=0.0000), Var(v=0.0217, grad=0.0000), Var(v=0.0037, grad=0.0000), Var(v=0.0023, grad=0.0000), Var(v=-0.0069, grad=0.0000), Var(v=-0.0537, grad=0.0000), Var(v=0.0000, grad=0.0000), Var(v=0.0000, grad=0.0000), Var(v=-0.0181, grad=0.0000), Var(v=-0.0009, grad=0.0000), Var(v=-0.2370, grad=0.0000), Var(v=-0.0369, grad=0.0000), Var(v=0.1320, grad=0.0000), Var(v=-0.0905, grad=0.0000), Var(v=0.0003, grad=0.0000), Var(v=0.0019, grad=0.0000), Var(v=-0.0949, grad=0.0000), Var(v=0.1910, grad=0.0000), Var(v=0.1088, grad=0.0000), Var(v=-0.0030, grad=0.0000), Var(v=-0.0007, grad=0.0000), Var(v=0.0000, grad=0.0000), Var(v=0.0457, grad=0.0000), Var(v=-0.1632, grad=0.0000), Var(v=-0.0033, grad=0.0000), Var(v=0.0000, grad=0.0000), Var(v=-0.0882, grad=0.0000), Var(v=0.0005, grad=0.0000), Var(v=-0.0328, grad=0.0000), Var(v=0.0205, grad=0.0000), Var(v=-0.0001, grad=0.0000), Var(v=0.0000, grad=0.0000), Var(v=0.0502, grad=0.0000), Var(v=-0.0022, grad=0.0000), Var(v=0.0190, grad=0.0000), Var(v=-0.0969, grad=0.0000), Var(v=0.0160, grad=0.0000), Var(v=-0.0710, grad=0.0000), Var(v=0.0002, grad=0.0000), Var(v=0.0358, grad=0.0000), Var(v=0.0000, grad=0.0000), Var(v=-0.0064, grad=0.0000), Var(v=0.0164, grad=0.0000)]\n",
            "Layer 2 \n",
            " Weights: [[Var(v=-0.0136, grad=0.0000)], [Var(v=0.0659, grad=0.0000)], [Var(v=0.0037, grad=0.0000)], [Var(v=-0.1236, grad=0.0000)], [Var(v=0.2175, grad=0.0000)], [Var(v=-0.2743, grad=0.0000)], [Var(v=0.0317, grad=0.0000)], [Var(v=-0.0553, grad=0.0000)], [Var(v=0.0413, grad=0.0000)], [Var(v=-0.0368, grad=0.0000)], [Var(v=-0.0890, grad=0.0000)], [Var(v=-0.0434, grad=0.0000)], [Var(v=-0.0183, grad=0.0000)], [Var(v=0.0538, grad=0.0000)], [Var(v=-0.0879, grad=0.0000)], [Var(v=-0.0085, grad=0.0000)], [Var(v=0.0399, grad=0.0000)], [Var(v=0.2361, grad=0.0000)], [Var(v=-0.0420, grad=0.0000)], [Var(v=-0.1797, grad=0.0000)], [Var(v=0.0975, grad=0.0000)], [Var(v=0.0040, grad=0.0000)], [Var(v=-0.0775, grad=0.0000)], [Var(v=0.0785, grad=0.0000)], [Var(v=-0.2318, grad=0.0000)], [Var(v=-0.1247, grad=0.0000)], [Var(v=0.1707, grad=0.0000)], [Var(v=0.0613, grad=0.0000)], [Var(v=0.0499, grad=0.0000)], [Var(v=-0.0928, grad=0.0000)], [Var(v=-0.1751, grad=0.0000)], [Var(v=0.1200, grad=0.0000)], [Var(v=-0.0963, grad=0.0000)], [Var(v=0.0599, grad=0.0000)], [Var(v=0.0007, grad=0.0000)], [Var(v=-0.0309, grad=0.0000)], [Var(v=-0.0964, grad=0.0000)], [Var(v=0.0003, grad=0.0000)], [Var(v=0.0006, grad=0.0000)], [Var(v=0.0695, grad=0.0000)], [Var(v=0.0661, grad=0.0000)], [Var(v=0.0283, grad=0.0000)], [Var(v=0.0902, grad=0.0000)], [Var(v=-0.0306, grad=0.0000)], [Var(v=0.0786, grad=0.0000)], [Var(v=-0.0203, grad=0.0000)], [Var(v=0.0572, grad=0.0000)], [Var(v=-0.0279, grad=0.0000)], [Var(v=0.2696, grad=0.0000)], [Var(v=0.0518, grad=0.0000)]] Biases: [Var(v=-0.0253, grad=0.0000)]\n"
          ]
        },
        {
          "output_type": "execute_result",
          "data": {
            "text/plain": [
              "[None, None, None]"
            ]
          },
          "metadata": {},
          "execution_count": 29
        }
      ],
      "source": [
        "print('Network before update:')\n",
        "[print('Layer', i, '\\n', NN[i]) for i in range(len(NN))] \n",
        "\n",
        "def parameters(network):\n",
        "  params = []\n",
        "  for layer in range(len(network)):\n",
        "    params += network[layer].parameters()\n",
        "  return params\n",
        "\n",
        "def update_parameters(params, learning_rate=0.01):\n",
        "  for p in params:\n",
        "    p.v -= learning_rate*p.grad\n",
        "\n",
        "def zero_gradients(params):\n",
        "  for p in params:\n",
        "    p.grad = 0.0\n",
        "\n",
        "update_parameters(parameters(NN))\n",
        "\n",
        "print('\\nNetwork after update:')\n",
        "[print('Layer', i, '\\n', NN[i]) for i in range(len(NN))] \n",
        "\n",
        "zero_gradients(parameters(NN))\n",
        "\n",
        "print('\\nNetwork after zeroing gradients:')\n",
        "[print('Layer', i, '\\n', NN[i]) for i in range(len(NN))] "
      ]
    },
    {
      "cell_type": "code",
      "execution_count": 30,
      "metadata": {
        "id": "woWYpdw6FtIO"
      },
      "outputs": [],
      "source": [
        "# Initialize an arbitrary neural network\n",
        "NN = [\n",
        "    DenseLayer(1, 8, lambda x: x.relu()),\n",
        "    DenseLayer(8, 1, lambda x: x.identity())\n",
        "]\n",
        "\n",
        "# Recommended hyper-parameters for 3-D: \n",
        "#NN = [\n",
        "#    DenseLayer(3, 16, lambda x: x.relu()),\n",
        "#    DenseLayer(16, 1, lambda x: x.identity())\n",
        "#]\n",
        "\n",
        "\n",
        "### Notice that, when we switch from tanh to relu activation, we decrease the learning rate. This is due the stability of the gradients \n",
        "## of the activation functions."
      ]
    },
    {
      "cell_type": "code",
      "execution_count": 31,
      "metadata": {
        "id": "mdqaqYBVFtIR"
      },
      "outputs": [],
      "source": [
        "# Initialize training hyperparameters\n",
        "EPOCHS = 200\n",
        "LEARN_R = 2e-3 "
      ]
    },
    {
      "cell_type": "code",
      "execution_count": 32,
      "metadata": {
        "id": "5kfg76GMFtIW",
        "scrolled": true,
        "colab": {
          "base_uri": "https://localhost:8080/"
        },
        "outputId": "c2f381db-3e7a-4ba1-9f21-c72aecc198c5"
      },
      "outputs": [
        {
          "output_type": "stream",
          "name": "stdout",
          "text": [
            "   0 ( 0.00%) Train loss: 106.811 \t Validation loss: 103.921\n",
            "  10 ( 5.00%) Train loss: 18.937 \t Validation loss: 13.880\n",
            "  20 (10.00%) Train loss: 13.816 \t Validation loss: 10.522\n",
            "  30 (15.00%) Train loss: 13.289 \t Validation loss: 10.086\n",
            "  40 (20.00%) Train loss: 12.867 \t Validation loss: 9.686\n",
            "  50 (25.00%) Train loss: 12.639 \t Validation loss: 9.434\n",
            "  60 (30.00%) Train loss: 12.453 \t Validation loss: 9.228\n",
            "  70 (35.00%) Train loss: 12.289 \t Validation loss: 9.049\n",
            "  80 (40.00%) Train loss: 12.155 \t Validation loss: 8.921\n",
            "  90 (45.00%) Train loss: 12.011 \t Validation loss: 8.837\n",
            " 100 (50.00%) Train loss: 11.932 \t Validation loss: 8.782\n",
            " 110 (55.00%) Train loss: 11.883 \t Validation loss: 8.776\n",
            " 120 (60.00%) Train loss: 11.844 \t Validation loss: 8.791\n",
            " 130 (65.00%) Train loss: 11.821 \t Validation loss: 8.811\n",
            " 140 (70.00%) Train loss: 11.806 \t Validation loss: 8.823\n",
            " 150 (75.00%) Train loss: 11.795 \t Validation loss: 8.831\n",
            " 160 (80.00%) Train loss: 11.786 \t Validation loss: 8.837\n",
            " 170 (85.00%) Train loss: 11.777 \t Validation loss: 8.840\n",
            " 180 (90.00%) Train loss: 11.768 \t Validation loss: 8.841\n",
            " 190 (95.00%) Train loss: 11.759 \t Validation loss: 8.834\n"
          ]
        }
      ],
      "source": [
        "train_loss = []\n",
        "val_loss = []\n",
        "\n",
        "for e in range(EPOCHS):\n",
        "     \n",
        "    # Forward pass and loss computation\n",
        "    Loss = squared_loss(y_train, forward(x_train, NN))\n",
        "\n",
        "    # Backward pass\n",
        "    Loss.backward()\n",
        "    \n",
        "    # gradient descent update\n",
        "    update_parameters(parameters(NN), LEARN_R)\n",
        "    zero_gradients(parameters(NN))\n",
        "    \n",
        "    # Training loss\n",
        "    train_loss.append(Loss.v)\n",
        "    \n",
        "    # Validation\n",
        "    Loss_validation = squared_loss(y_validation, forward(x_validation, NN))\n",
        "    val_loss.append(Loss_validation.v)\n",
        "    \n",
        "    if e%10==0:\n",
        "        print(\"{:4d}\".format(e),\n",
        "              \"({:5.2f}%)\".format(e/EPOCHS*100), \n",
        "              \"Train loss: {:4.3f} \\t Validation loss: {:4.3f}\".format(train_loss[-1], val_loss[-1]))\n",
        "        \n"
      ]
    },
    {
      "cell_type": "code",
      "execution_count": 33,
      "metadata": {
        "id": "VetyRWFwFtIY",
        "colab": {
          "base_uri": "https://localhost:8080/",
          "height": 265
        },
        "outputId": "e37e5ff4-d310-4599-e85b-a3b960227590"
      },
      "outputs": [
        {
          "output_type": "display_data",
          "data": {
            "text/plain": [
              "<Figure size 432x288 with 1 Axes>"
            ],
            "image/png": "[encoded data removed]"
          },
          "metadata": {
            "needs_background": "light"
          }
        }
      ],
      "source": [
        "plt.plot(range(len(train_loss)), train_loss);\n",
        "plt.plot(range(len(val_loss)), val_loss);"
      ]
    },
    {
      "cell_type": "markdown",
      "metadata": {
        "id": "8OgmIrM9FtIb"
      },
      "source": [
        "# Testing\n",
        "\n",
        "We have kept the calculation of the test error separate in order to emphasize that you should not use the test set in optimization."
      ]
    },
    {
      "cell_type": "code",
      "execution_count": 34,
      "metadata": {
        "id": "HmNi7S-vFtIc"
      },
      "outputs": [],
      "source": [
        "output_test = forward(x_test, NN)"
      ]
    },
    {
      "cell_type": "code",
      "execution_count": 35,
      "metadata": {
        "id": "7mmJOTSEFtIf",
        "colab": {
          "base_uri": "https://localhost:8080/",
          "height": 314
        },
        "outputId": "9987e374-8de9-4ff8-f1ea-3fcc388063ca"
      },
      "outputs": [
        {
          "output_type": "stream",
          "name": "stdout",
          "text": [
            "Test loss:  9.670\n"
          ]
        },
        {
          "output_type": "display_data",
          "data": {
            "text/plain": [
              "<Figure size 432x288 with 1 Axes>"
            ],
            "image/png": "[encoded data removed]"
          },
          "metadata": {
            "needs_background": "light"
          }
        }
      ],
      "source": [
        "y_test_np = Var_to_nparray(y_test)\n",
        "plt.scatter(y_test_np, Var_to_nparray(output_test));\n",
        "plt.plot([np.min(y_test_np), np.max(y_test_np)], [np.min(y_test_np), np.max(y_test_np)], color='k');\n",
        "plt.xlabel(\"y\");\n",
        "plt.ylabel(\"$\\hat{y}$\");\n",
        "plt.title(\"Model prediction vs real in the test set, the close to the line the better\")\n",
        "plt.grid(True);\n",
        "plt.axis('equal');\n",
        "plt.tight_layout();\n",
        "\n",
        "Loss_test = squared_loss(y_test, forward(x_test, NN))\n",
        "\n",
        "print(\"Test loss:  {:4.3f}\".format(Loss_test.v))"
      ]
    },
    {
      "cell_type": "code",
      "execution_count": 36,
      "metadata": {
        "id": "ODi0WlmQFtIh",
        "colab": {
          "base_uri": "https://localhost:8080/",
          "height": 279
        },
        "outputId": "498ffb41-614f-419f-967f-c69d94ffe283"
      },
      "outputs": [
        {
          "output_type": "display_data",
          "data": {
            "text/plain": [
              "<Figure size 432x288 with 1 Axes>"
            ],
            "image/png": "[encoded data removed]"
          },
          "metadata": {
            "needs_background": "light"
          }
        }
      ],
      "source": [
        "x_test_np = Var_to_nparray(x_test)\n",
        "x_train_np = Var_to_nparray(x_train)\n",
        "y_train_np = Var_to_nparray(y_train)\n",
        "if D1:\n",
        "    plt.scatter(x_train_np, y_train_np, label=\"train data\");\n",
        "    plt.scatter(x_test_np, Var_to_nparray(output_test), label=\"test prediction\");\n",
        "    plt.scatter(x_test_np, y_test_np, label=\"test data\");\n",
        "    plt.legend();\n",
        "    plt.xlabel(\"x\");\n",
        "    plt.ylabel(\"y\");\n",
        "else:\n",
        "    plt.scatter(x_train_np[:,1], y_train, label=\"train data\");\n",
        "    plt.scatter(x_test_np[:,1], Var_to_nparray(output_test), label=\"test data prediction\");\n",
        "    plt.scatter(x_test_np[:,1], y_test_np, label=\"test data\");\n",
        "    plt.legend();\n",
        "    plt.xlabel(\"x\");\n",
        "    plt.ylabel(\"y\");"
      ]
    },
    {
      "cell_type": "markdown",
      "metadata": {
        "id": "zTBAmjsAFtIk"
      },
      "source": [
        "## Exercise l) Show overfitting, underfitting and just right fitting\n",
        "\n",
        "Vary the architecture and other things to show clear signs of overfitting (=training loss significantly lower than test loss) and underfitting (=not fitting enoung to training data so that test performance is also hurt).\n",
        "\n",
        "See also if you can get a good compromise which leads to a low validation loss. \n",
        "\n",
        "For this problem do you see any big difference between validation and test loss? The answer here will probably be no. Discuss cases where it is important to keep the two separate.\n",
        "\n",
        "\n",
        "_Insert written answer here._  \n",
        "\n",
        "---\n",
        "Overfitting of a model happens when almost every data point from the training data fits to the model. This results in very little training loss, however, results in higher test loss because the test data won't fit as precisely to the model.  \n",
        "Underfitting of a model happens when the model is too simple compared to the data variation. This will result in both higher training- and testing loss.  \n",
        "When a model is just right fitted training- and testing loss should be as low as possible and at the same time about the same size.\n"
      ]
    },
    {
      "cell_type": "markdown",
      "source": [
        "### Overfitting"
      ],
      "metadata": {
        "id": "f-c4aUl6y_0r"
      }
    },
    {
      "cell_type": "code",
      "execution_count": 37,
      "metadata": {
        "id": "tQZCn2dxFtIl",
        "colab": {
          "base_uri": "https://localhost:8080/"
        },
        "outputId": "bf1942e4-e688-4b96-cadc-5a51f49725c1"
      },
      "outputs": [
        {
          "output_type": "stream",
          "name": "stdout",
          "text": [
            "   0 ( 0.00%) Train loss: 104.678 \t Validation loss: 100.505\n",
            "  10 ( 3.33%) Train loss: 15.257 \t Validation loss: 11.485\n",
            "  20 ( 6.67%) Train loss: 13.557 \t Validation loss: 10.180\n",
            "  30 (10.00%) Train loss: 13.105 \t Validation loss: 9.835\n",
            "  40 (13.33%) Train loss: 12.765 \t Validation loss: 9.550\n",
            "  50 (16.67%) Train loss: 12.527 \t Validation loss: 9.348\n",
            "  60 (20.00%) Train loss: 12.336 \t Validation loss: 9.176\n",
            "  70 (23.33%) Train loss: 12.172 \t Validation loss: 9.059\n",
            "  80 (26.67%) Train loss: 12.044 \t Validation loss: 8.955\n",
            "  90 (30.00%) Train loss: 11.976 \t Validation loss: 8.905\n",
            " 100 (33.33%) Train loss: 11.931 \t Validation loss: 8.874\n",
            " 110 (36.67%) Train loss: 11.901 \t Validation loss: 8.857\n",
            " 120 (40.00%) Train loss: 11.883 \t Validation loss: 8.853\n",
            " 130 (43.33%) Train loss: 11.871 \t Validation loss: 8.856\n",
            " 140 (46.67%) Train loss: 11.863 \t Validation loss: 8.864\n",
            " 150 (50.00%) Train loss: 11.856 \t Validation loss: 8.872\n",
            " 160 (53.33%) Train loss: 11.851 \t Validation loss: 8.878\n",
            " 170 (56.67%) Train loss: 11.846 \t Validation loss: 8.881\n",
            " 180 (60.00%) Train loss: 11.841 \t Validation loss: 8.883\n",
            " 190 (63.33%) Train loss: 11.836 \t Validation loss: 8.883\n",
            " 200 (66.67%) Train loss: 11.831 \t Validation loss: 8.881\n",
            " 210 (70.00%) Train loss: 11.826 \t Validation loss: 8.879\n",
            " 220 (73.33%) Train loss: 11.821 \t Validation loss: 8.875\n",
            " 230 (76.67%) Train loss: 11.815 \t Validation loss: 8.870\n",
            " 240 (80.00%) Train loss: 11.809 \t Validation loss: 8.865\n",
            " 250 (83.33%) Train loss: 11.803 \t Validation loss: 8.859\n",
            " 260 (86.67%) Train loss: 11.796 \t Validation loss: 8.853\n",
            " 270 (90.00%) Train loss: 11.790 \t Validation loss: 8.845\n",
            " 280 (93.33%) Train loss: 11.783 \t Validation loss: 8.838\n",
            " 290 (96.67%) Train loss: 11.775 \t Validation loss: 8.834\n"
          ]
        }
      ],
      "source": [
        "# Overfitting\n",
        "NN = [\n",
        "    DenseLayer(1, 20, lambda x: x.relu()),\n",
        "    DenseLayer(20, 1, lambda x: x.identity())\n",
        "]\n",
        "train_loss = []\n",
        "val_loss = []\n",
        "\n",
        "# Initialize training hyperparameters\n",
        "EPOCHS = 300\n",
        "LEARN_R = 2e-3 \n",
        "\n",
        "for e in range(EPOCHS):\n",
        "     \n",
        "    # Forward pass and loss computation\n",
        "    Loss = squared_loss(y_train, forward(x_train, NN))\n",
        "\n",
        "    # Backward pass\n",
        "    Loss.backward()\n",
        "    \n",
        "    # gradient descent update\n",
        "    update_parameters(parameters(NN), LEARN_R)\n",
        "    zero_gradients(parameters(NN))\n",
        "    \n",
        "    # Training loss\n",
        "    train_loss.append(Loss.v)\n",
        "    \n",
        "    # Validation\n",
        "    Loss_validation = squared_loss(y_validation, forward(x_validation, NN))\n",
        "    val_loss.append(Loss_validation.v)\n",
        "    \n",
        "    if e%10==0:\n",
        "        print(\"{:4d}\".format(e),\n",
        "              \"({:5.2f}%)\".format(e/EPOCHS*100), \n",
        "              \"Train loss: {:4.3f} \\t Validation loss: {:4.3f}\".format(train_loss[-1], val_loss[-1]))"
      ]
    },
    {
      "cell_type": "code",
      "source": [
        "plt.plot(range(len(train_loss)), train_loss);\n",
        "plt.plot(range(len(val_loss)), val_loss);\n",
        "plt.legend(loc=1, fontsize=16, labels = [\"Training loss\", \"Validation loss\"])\n",
        "print(\"Test loss:  {:4.3f}\".format(Loss_test.v))\n",
        "plt.show()"
      ],
      "metadata": {
        "id": "fuc8hUOV3lrx",
        "outputId": "6faaedd7-35c1-4a3d-9a4b-f1895a63eeeb",
        "colab": {
          "base_uri": "https://localhost:8080/",
          "height": 282
        }
      },
      "execution_count": 38,
      "outputs": [
        {
          "output_type": "stream",
          "name": "stdout",
          "text": [
            "Test loss:  9.670\n"
          ]
        },
        {
          "output_type": "display_data",
          "data": {
            "text/plain": [
              "<Figure size 432x288 with 1 Axes>"
            ],
            "image/png": "[encoded data removed]"
          },
          "metadata": {
            "needs_background": "light"
          }
        }
      ]
    },
    {
      "cell_type": "code",
      "source": [
        "output_test = forward(x_test, NN)\n",
        "y_test_np = Var_to_nparray(y_test)\n",
        "plt.scatter(y_test_np, Var_to_nparray(output_test));\n",
        "plt.plot([np.min(y_test_np), np.max(y_test_np)], [np.min(y_test_np), np.max(y_test_np)], color='k');\n",
        "plt.xlabel(\"y\");\n",
        "plt.ylabel(\"$\\hat{y}$\");\n",
        "plt.title(\"Model prediction vs real in the test set, the closer to the line the better\")\n",
        "plt.grid(True);\n",
        "plt.axis('equal');\n",
        "plt.tight_layout();\n",
        "\n",
        "Loss_test = squared_loss(y_test, forward(x_test, NN))\n",
        "\n",
        "print(\"Test loss:  {:4.3f}\".format(Loss_test.v))"
      ],
      "metadata": {
        "id": "eXwdT8Xj3Bsd",
        "outputId": "4096651b-b991-416a-829a-b22c06b328bb",
        "colab": {
          "base_uri": "https://localhost:8080/",
          "height": 314
        }
      },
      "execution_count": 39,
      "outputs": [
        {
          "output_type": "stream",
          "name": "stdout",
          "text": [
            "Test loss:  9.692\n"
          ]
        },
        {
          "output_type": "display_data",
          "data": {
            "text/plain": [
              "<Figure size 432x288 with 1 Axes>"
            ],
            "image/png": "[encoded data removed]"
          },
          "metadata": {
            "needs_background": "light"
          }
        }
      ]
    },
    {
      "cell_type": "markdown",
      "source": [
        "### Underfitting"
      ],
      "metadata": {
        "id": "OCQxKwmt3sVn"
      }
    },
    {
      "cell_type": "code",
      "source": [
        "# Underfitting\n",
        "NN = [\n",
        "    DenseLayer(1, 2, lambda x: x.tanh()),\n",
        "    DenseLayer(2, 1, lambda x: x.relu())\n",
        "]\n",
        "train_loss = []\n",
        "val_loss = []\n",
        "\n",
        "# Initialize training hyperparameters\n",
        "EPOCHS = 100\n",
        "LEARN_R = 2e-3 \n",
        "\n",
        "for e in range(EPOCHS):\n",
        "     \n",
        "    # Forward pass and loss computation\n",
        "    Loss = squared_loss(y_train, forward(x_train, NN))\n",
        "\n",
        "    # Backward pass\n",
        "    Loss.backward()\n",
        "    \n",
        "    # gradient descent update\n",
        "    update_parameters(parameters(NN), LEARN_R)\n",
        "    zero_gradients(parameters(NN))\n",
        "    \n",
        "    # Training loss\n",
        "    train_loss.append(Loss.v)\n",
        "    \n",
        "    # Validation\n",
        "    Loss_validation = squared_loss(y_validation, forward(x_validation, NN))\n",
        "    val_loss.append(Loss_validation.v)\n",
        "    \n",
        "    if e%10==0:\n",
        "        print(\"{:4d}\".format(e),\n",
        "              \"({:5.2f}%)\".format(e/EPOCHS*100), \n",
        "              \"Train loss: {:4.3f} \\t Validation loss: {:4.3f}\".format(train_loss[-1], val_loss[-1]))"
      ],
      "metadata": {
        "id": "tp14P5jr3v1n",
        "outputId": "b9a4e336-80de-4ed3-81fa-9e9d2323c222",
        "colab": {
          "base_uri": "https://localhost:8080/"
        }
      },
      "execution_count": 40,
      "outputs": [
        {
          "output_type": "stream",
          "name": "stdout",
          "text": [
            "   0 ( 0.00%) Train loss: 107.162 \t Validation loss: 107.234\n",
            "  10 (10.00%) Train loss: 105.000 \t Validation loss: 107.757\n",
            "  20 (20.00%) Train loss: 105.000 \t Validation loss: 107.757\n",
            "  30 (30.00%) Train loss: 105.000 \t Validation loss: 107.757\n",
            "  40 (40.00%) Train loss: 105.000 \t Validation loss: 107.757\n",
            "  50 (50.00%) Train loss: 105.000 \t Validation loss: 107.757\n",
            "  60 (60.00%) Train loss: 105.000 \t Validation loss: 107.757\n",
            "  70 (70.00%) Train loss: 105.000 \t Validation loss: 107.757\n",
            "  80 (80.00%) Train loss: 105.000 \t Validation loss: 107.757\n",
            "  90 (90.00%) Train loss: 105.000 \t Validation loss: 107.757\n"
          ]
        }
      ]
    },
    {
      "cell_type": "code",
      "source": [
        "plt.plot(range(len(train_loss)), train_loss);\n",
        "plt.plot(range(len(val_loss)), val_loss);\n",
        "plt.legend(loc=1, fontsize=16, labels = [\"Training loss\", \"Validation loss\"])\n",
        "plt.show()"
      ],
      "metadata": {
        "id": "uJZTWDbM3zsx",
        "outputId": "9a787c42-b924-4531-bc09-b195a102c38b",
        "colab": {
          "base_uri": "https://localhost:8080/",
          "height": 265
        }
      },
      "execution_count": 41,
      "outputs": [
        {
          "output_type": "display_data",
          "data": {
            "text/plain": [
              "<Figure size 432x288 with 1 Axes>"
            ],
            "image/png": "[encoded data removed]"
          },
          "metadata": {
            "needs_background": "light"
          }
        }
      ]
    },
    {
      "cell_type": "code",
      "source": [
        "output_test = forward(x_test, NN)\n",
        "y_test_np = Var_to_nparray(y_test)\n",
        "plt.scatter(y_test_np, Var_to_nparray(output_test));\n",
        "plt.plot([np.min(y_test_np), np.max(y_test_np)], [np.min(y_test_np), np.max(y_test_np)], color='k');\n",
        "plt.xlabel(\"y\");\n",
        "plt.ylabel(\"$\\hat{y}$\");\n",
        "plt.title(\"Model prediction vs real in the test set, the closer to the line the better\")\n",
        "plt.grid(True);\n",
        "plt.axis('equal');\n",
        "plt.tight_layout();\n",
        "\n",
        "Loss_test = squared_loss(y_test, forward(x_test, NN))\n",
        "\n",
        "print(\"Test loss:  {:4.3f}\".format(Loss_test.v))"
      ],
      "metadata": {
        "id": "voGdRNNd330f",
        "outputId": "557ae8fa-31a0-439e-873e-794858cb7b8d",
        "colab": {
          "base_uri": "https://localhost:8080/",
          "height": 314
        }
      },
      "execution_count": 42,
      "outputs": [
        {
          "output_type": "stream",
          "name": "stdout",
          "text": [
            "Test loss:  100.013\n"
          ]
        },
        {
          "output_type": "display_data",
          "data": {
            "text/plain": [
              "<Figure size 432x288 with 1 Axes>"
            ],
            "image/png": "[encoded data removed]"
          },
          "metadata": {
            "needs_background": "light"
          }
        }
      ]
    },
    {
      "cell_type": "markdown",
      "metadata": {
        "id": "fYPZP-eTFtIo"
      },
      "source": [
        "# Next steps - classification\n",
        "\n",
        "It is straight forward to extend what we have done to classification. \n",
        "\n",
        "For numerical stability it is better to make softmax and cross-entropy as one function so we write the cross entropy loss as a function of the logits we talked about last week. \n",
        "\n",
        "Next week we will see how to perform classification in PyTorch."
      ]
    },
    {
      "cell_type": "markdown",
      "metadata": {
        "id": "qsVPul3QFtIo"
      },
      "source": [
        "## Exercise m) optional - Implement backpropagation for classification\n",
        "\n",
        "Should be possible with very few lines of code. :-)"
      ]
    },
    {
      "cell_type": "code",
      "execution_count": 43,
      "metadata": {
        "id": "oC8QrI2tFtIp"
      },
      "outputs": [],
      "source": [
        "# Just add code."
      ]
    },
    {
      "cell_type": "markdown",
      "metadata": {
        "id": "APqhJv3tta1O"
      },
      "source": [
        "## Exercise n) optional - Introduce a NeuralNetwork class\n",
        "\n",
        "The functions we applied on the neural network (parameters, update_parameters and zero_gradients) can more naturally be included as methods in a NeuralNetwork class. Make such a class and modify the code to use it. "
      ]
    },
    {
      "cell_type": "code",
      "execution_count": 45,
      "metadata": {
        "id": "Dqfnor1ouMLq"
      },
      "outputs": [],
      "source": [
        "# just add some code"
      ]
    }
  ],
  "metadata": {
    "anaconda-cloud": {},
    "colab": {
      "collapsed_sections": [
        "U4057_ljNvWB",
        "p_8n_SKnIW2F",
        "oLrGJytZFtGm",
        "jpIZPBpNI0pO",
        "_79HOAXrFtHK",
        "mqeyab9qFtGs",
        "-XyXBD37FtHk",
        "SrwSJ2UWFtHu",
        "zTBAmjsAFtIk",
        "qsVPul3QFtIo",
        "APqhJv3tta1O"
      ],
      "name": "2.1-EXE-FNN-AutoDif-Nanograd.ipynb",
      "provenance": []
    },
    "kernelspec": {
      "display_name": "Python 3",
      "language": "python",
      "name": "python3"
    },
    "language_info": {
      "codemirror_mode": {
        "name": "ipython",
        "version": 3
      },
      "file_extension": ".py",
      "mimetype": "text/x-python",
      "name": "python",
      "nbconvert_exporter": "python",
      "pygments_lexer": "ipython3",
      "version": "3.9.12"
    }
  },
  "nbformat": 4,
  "nbformat_minor": 0
}