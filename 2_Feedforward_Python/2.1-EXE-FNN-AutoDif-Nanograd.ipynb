{
  "cells": [
    {
      "cell_type": "markdown",
      "metadata": {
        "id": "HAva8TnYFtFu"
      },
      "source": [
        "# Contents and why we need this lab\n",
        "\n",
        "This lab is about implementing neural networks yourself before we start using other frameworks that hide some of the computation from you. It builds on the first lab, where you derived the equations for neural network forward and backward propagation and gradient descent parameter updates. \n",
        "\n",
        "All the frameworks for deep learning you will meet from now on use automatic differentiation (autodiff), so you do not have to code the backward step yourself. In this version of this lab, you will develop your own autodif implementation. We also have an optional [version](https://github.com/DeepLearningDTU/02456-deep-learning-with-PyTorch/blob/master/2_Feedforward_Python/2.2-FNN-NumPy.ipynb) of this lab where you have to code the backward pass explicitly in Numpy."
      ]
    },
    {
      "cell_type": "markdown",
      "metadata": {
        "id": "sCa7HzwpFtFy"
      },
      "source": [
        "# External sources of information\n",
        "\n",
        "1. Jupyter notebook. You can find more information about Jupyter notebooks [here](https://jupyter.org/). It will come as part of the [Anaconda](https://www.anaconda.com/) Python installation. \n",
        "2. [NumPy](https://numpy.org/). Part of Anaconda distribution.  If you already know how to program, most things about Python and NumPy can be found with Google searches.\n",
        "3. [Nanograd](https://github.com/rasmusbergpalm/nanograd) is a minimalistic version of autodiff developed by Rasmus Berg Palm that we use for our framework.\n"
      ]
    },
    {
      "cell_type": "markdown",
      "metadata": {
        "id": "1SjiIp-TFtF0"
      },
      "source": [
        "# This notebook will follow the next steps:\n",
        "\n",
        "1. Nanograd automatic differentiation framework\n",
        "2. Finite difference method\n",
        "3. Data generation\n",
        "4. Defining and initializing the network\n",
        "5. Forward pass\n",
        "6. Training loop \n",
        "7. Testing your model\n",
        "8. Further extensions"
      ]
    },
    {
      "cell_type": "markdown",
      "metadata": {
        "id": "OyXeAA-HuT7s"
      },
      "source": [
        "# Nanograd automatic differention framework"
      ]
    },
    {
      "cell_type": "markdown",
      "metadata": {
        "id": "k6UWKCLKubgA"
      },
      "source": [
        "The [Nanograd](https://github.com/rasmusbergpalm/nanograd) framework defines a class Var which both holds a value and gradient value that we can use to store the intermediate values when we apply the chain rule of differentiation."
      ]
    },
    {
      "cell_type": "code",
      "execution_count": 19,
      "metadata": {
        "id": "Jd4CoEBNzNWS"
      },
      "outputs": [],
      "source": [
        "# Copy and pasted from https://github.com/rasmusbergpalm/nanograd/blob/3a1bf9e9e724da813bfccf91a6f309abdade9f39/nanograd.py\n",
        "\n",
        "from math import exp, log\n",
        "\n",
        "class Var:\n",
        "    \"\"\"\n",
        "    A variable which holds a float and enables gradient computations.\n",
        "    \"\"\"\n",
        "\n",
        "    def __init__(self, val: float, grad_fn=lambda: []):\n",
        "        assert type(val) == float\n",
        "        self.v = val\n",
        "        self.grad_fn = grad_fn\n",
        "        self.grad = 0.0\n",
        "\n",
        "    def backprop(self, bp):\n",
        "        self.grad += bp\n",
        "        for input, grad in self.grad_fn():\n",
        "            input.backprop(grad * bp)\n",
        "\n",
        "    def backward(self):\n",
        "        self.backprop(1.0)\n",
        "\n",
        "    def __add__(self: 'Var', other: 'Var') -> 'Var':\n",
        "        return Var(self.v + other.v, lambda: [(self, 1.0), (other, 1.0)])\n",
        "\n",
        "    def __mul__(self: 'Var', other: 'Var') -> 'Var':\n",
        "        return Var(self.v * other.v, lambda: [(self, other.v), (other, self.v)])\n",
        "\n",
        "    def __pow__(self, power):\n",
        "        assert type(power) in {float, int}, \"power must be float or int\"\n",
        "        return Var(self.v ** power, lambda: [(self, power * self.v ** (power - 1))])\n",
        "\n",
        "    def __neg__(self: 'Var') -> 'Var':\n",
        "        return Var(-1.0) * self\n",
        "\n",
        "    def __sub__(self: 'Var', other: 'Var') -> 'Var':\n",
        "        return self + (-other)\n",
        "\n",
        "    def __truediv__(self: 'Var', other: 'Var') -> 'Var':\n",
        "        return self * other ** -1\n",
        "\n",
        "    def __repr__(self):\n",
        "        return \"Var(v=%.4f, grad=%.4f)\" % (self.v, self.grad)\n",
        "\n",
        "    def relu(self):\n",
        "        return Var(self.v if self.v > 0.0 else 0.0, lambda: [(self, 1.0 if self.v > 0.0 else 0.0)])\n",
        "\n",
        "    def identity(self):\n",
        "        return Var(self.v, lambda: [(self, 1.0)])\n",
        "\n",
        "    def tanh(self):\n",
        "        return Var(2/(1+exp(-2*self.v)), lambda: [(self, 1.0)])\n",
        "\n",
        "    def sigmoid(self):\n",
        "        return Var(1/(1.0+exp(-self.v)), lambda: [(self, 1.0)])\n",
        "\n",
        "    def exp(self):\n",
        "        return Var(exp(self.v), lambda: [(self, exp(self.v))])\n",
        "\n",
        "    def log(self):\n",
        "        return Var(log(self.v), lambda: [(self, self.v ** -1)])"
      ]
    },
    {
      "cell_type": "markdown",
      "metadata": {
        "id": "yDX67D6jzcte"
      },
      "source": [
        "A few examples illustrate how we can use this:"
      ]
    },
    {
      "cell_type": "code",
      "execution_count": null,
      "metadata": {
        "colab": {
          "base_uri": "https://localhost:8080/"
        },
        "id": "xk6PeLc3zwPT",
        "outputId": "294e0221-cc27-48ec-d9d9-fae6d013f10d"
      },
      "outputs": [
        {
          "output_type": "stream",
          "name": "stdout",
          "text": [
            "Var(v=3.0000, grad=5.0000)\n",
            "Var(v=5.0000, grad=3.0000)\n",
            "Var(v=15.0000, grad=1.0000)\n"
          ]
        }
      ],
      "source": [
        "a = Var(3.0)\n",
        "b = Var(5.0)\n",
        "f = a * b\n",
        "\n",
        "f.backward()\n",
        "\n",
        "for v in [a, b, f]:\n",
        "    print(v)"
      ]
    },
    {
      "cell_type": "code",
      "execution_count": null,
      "metadata": {
        "colab": {
          "base_uri": "https://localhost:8080/"
        },
        "id": "JmKhYgsY0g_o",
        "outputId": "b35c72e0-cc17-405d-b198-11fff1be6239"
      },
      "outputs": [
        {
          "output_type": "stream",
          "name": "stdout",
          "text": [
            "Var(v=3.0000, grad=14.0000)\n",
            "Var(v=5.0000, grad=3.0000)\n",
            "Var(v=15.0000, grad=1.0000)\n",
            "Var(v=9.0000, grad=3.0000)\n",
            "Var(v=27.0000, grad=1.0000)\n",
            "Var(v=42.0000, grad=1.0000)\n"
          ]
        }
      ],
      "source": [
        "a = Var(3.0)\n",
        "b = Var(5.0)\n",
        "c = a * b\n",
        "d = Var(9.0)\n",
        "e = a * d\n",
        "f = c + e\n",
        "\n",
        "f.backward()\n",
        "\n",
        "for v in [a, b, c, d, e, f]:\n",
        "    print(v)"
      ]
    },
    {
      "cell_type": "markdown",
      "metadata": {
        "id": "Fe3B6uEH140p"
      },
      "source": [
        "## Exercise a) What is being calculated?\n",
        "\n",
        "Explain briefly the output of the code? What is the expression we differentiate and with respect to what variables?"
      ]
    },
    {
      "cell_type": "markdown",
      "source": [
        "**What is the output?**  \n",
        "The output *v* is the value of the variable.  \n",
        "The output *grad* is the gradient calculated with the function *f.backward*, which uses the function *backprop()* with input 1. The variable *f* depends on all the other variables, and therefore all *grads* are being updated when this function is run. *a,b,d* are multiplied with one another and therefore their gradients are updated depending on one another. *c,e,f* are either added with another value or nothing is done. By doing this the gradient will only become 1.\n",
        "\n",
        "**What is the expression?**  \n",
        "differentiate?"
      ],
      "metadata": {
        "id": "zT13lXrfbOoh"
      }
    },
    {
      "cell_type": "markdown",
      "metadata": {
        "id": "q8_Q0t2I3Ruj"
      },
      "source": [
        "## Exercise b) How does the backward function work?\n",
        "\n",
        "You need to understand how the backward function calculates the gradients. We can use the two examples above to help with that.\n",
        "\n",
        "Go through the following four steps and answer the questions on the way:\n",
        "\n",
        "1. We represent the two expressions as graphs as shown below. Fill in the missing expressions for the different derivatives.\n",
        "\n",
        "2. In the remainder consider the first expression. Make a schematic of the data structure which is generated when we define the expression for f. \n",
        "\n",
        "3. Then execute the backward function by hand to convince yourself that it indeed calculates the gradients with respect to the variables. \n",
        "\n",
        "4. Write down the sequence of calls to backprop."
      ]
    },
    {
      "cell_type": "code",
      "execution_count": 2,
      "metadata": {
        "id": "idGr71jYXl26"
      },
      "outputs": [],
      "source": [
        "# import logging\n",
        "import graphviz\n",
        "\n",
        "#logging.basicConfig(format='[%(levelname)s@%(name)s] %(message)s', level=logging.DEBUG)\n",
        "\n",
        "#graphviz.__version__, graphviz.version()"
      ]
    },
    {
      "cell_type": "code",
      "execution_count": null,
      "metadata": {
        "colab": {
          "base_uri": "https://localhost:8080/",
          "height": 152
        },
        "id": "KPe30Q2QXzeG",
        "outputId": "19b62adf-29ea-472f-9b67-caee47d9b696"
      },
      "outputs": [
        {
          "output_type": "execute_result",
          "data": {
            "text/plain": [
              "<graphviz.dot.Digraph at 0x7f1de4c99f90>"
            ],
            "image/svg+xml": "<?xml version=\"1.0\" encoding=\"UTF-8\" standalone=\"no\"?>\n<!DOCTYPE svg PUBLIC \"-//W3C//DTD SVG 1.1//EN\"\n \"http://www.w3.org/Graphics/SVG/1.1/DTD/svg11.dtd\">\n<!-- Generated by graphviz version 2.40.1 (20161225.0304)\n -->\n<!-- Title: first expression Pages: 1 -->\n<svg width=\"162pt\" height=\"98pt\"\n viewBox=\"0.00 0.00 162.00 98.00\" xmlns=\"http://www.w3.org/2000/svg\" xmlns:xlink=\"http://www.w3.org/1999/xlink\">\n<g id=\"graph0\" class=\"graph\" transform=\"scale(1 1) rotate(0) translate(4 94)\">\n<title>first expression</title>\n<polygon fill=\"#ffffff\" stroke=\"transparent\" points=\"-4,4 -4,-94 158,-94 158,4 -4,4\"/>\n<!-- a -->\n<g id=\"node1\" class=\"node\">\n<title>a</title>\n<ellipse fill=\"none\" stroke=\"#000000\" cx=\"18\" cy=\"-72\" rx=\"18\" ry=\"18\"/>\n<text text-anchor=\"middle\" x=\"18\" y=\"-68.3\" font-family=\"Times,serif\" font-size=\"14.00\" fill=\"#000000\">a</text>\n</g>\n<!-- f -->\n<g id=\"node2\" class=\"node\">\n<title>f</title>\n<ellipse fill=\"none\" stroke=\"#000000\" cx=\"136\" cy=\"-45\" rx=\"18\" ry=\"18\"/>\n<text text-anchor=\"middle\" x=\"136\" y=\"-41.3\" font-family=\"Times,serif\" font-size=\"14.00\" fill=\"#000000\">f</text>\n</g>\n<!-- a&#45;&gt;f -->\n<g id=\"edge1\" class=\"edge\">\n<title>a&#45;&gt;f</title>\n<path fill=\"none\" stroke=\"#000000\" d=\"M35.6658,-67.9578C54.8698,-63.5637 85.8151,-56.483 108.2661,-51.3459\"/>\n<polygon fill=\"#000000\" stroke=\"#000000\" points=\"109.2461,-54.7122 118.2134,-49.0698 107.6847,-47.8885 109.2461,-54.7122\"/>\n<text text-anchor=\"middle\" x=\"77\" y=\"-66.8\" font-family=\"Times,serif\" font-size=\"14.00\" fill=\"#000000\">df/da=b</text>\n</g>\n<!-- b -->\n<g id=\"node3\" class=\"node\">\n<title>b</title>\n<ellipse fill=\"none\" stroke=\"#000000\" cx=\"18\" cy=\"-18\" rx=\"18\" ry=\"18\"/>\n<text text-anchor=\"middle\" x=\"18\" y=\"-14.3\" font-family=\"Times,serif\" font-size=\"14.00\" fill=\"#000000\">b</text>\n</g>\n<!-- b&#45;&gt;f -->\n<g id=\"edge2\" class=\"edge\">\n<title>b&#45;&gt;f</title>\n<path fill=\"none\" stroke=\"#000000\" d=\"M36.0339,-20.9637C52.7278,-23.8381 78.1872,-28.555 100,-34 103.0098,-34.7513 106.1413,-35.6022 109.2457,-36.4899\"/>\n<polygon fill=\"#000000\" stroke=\"#000000\" points=\"108.3051,-39.8618 118.8887,-39.3744 110.3112,-33.1554 108.3051,-39.8618\"/>\n<text text-anchor=\"middle\" x=\"77\" y=\"-37.8\" font-family=\"Times,serif\" font-size=\"14.00\" fill=\"#000000\">df/db=a</text>\n</g>\n</g>\n</svg>\n"
          },
          "metadata": {},
          "execution_count": 12
        }
      ],
      "source": [
        "e1 = graphviz.Digraph('first expression', filename='fsm.gv')\n",
        "\n",
        "e1.attr(rankdir='LR', size='8,5')\n",
        "\n",
        "e1.attr('node', shape='circle')\n",
        "e1.edge('a', 'f', label='df/da=b')\n",
        "e1.edge('b', 'f', label='df/db=a')\n",
        "\n",
        "e1"
      ]
    },
    {
      "cell_type": "markdown",
      "source": [
        "### Schematic of the data structure:\n",
        "\n",
        "**a**:  \n",
        "a.v = 3 and a.grad_fn = [ ]\n",
        "\n",
        "**b**:  \n",
        "b.v = 5 and b.grad_fn = [ ]\n",
        "\n",
        "**f**:  \n",
        "$f.v = a.v*b.v = 3*5 = 15$  \n",
        "$f.grad_{fn} = [(a, b.v), (b, a.v)] = [(a,5), (b,3)]$"
      ],
      "metadata": {
        "id": "vVYTAqgeo5hS"
      }
    },
    {
      "cell_type": "markdown",
      "source": [
        "### Backward function by hand\n",
        "\n",
        "The function calls the function backprop with input bp=1.  \n",
        "The backprop function takes the current gradient (f.grad=0) and adds with bp. Now the gradient is updated to f.grad=1.  \n",
        "\n",
        "Then we loop through the f.grad_fn which is a list with tuples. Each loop will iterate over one tuple. First loop will then have input=a and grad=5. Then we update the a.backprop($5*1$). Next loop is input=b and grad=3, where b.backprop($3*1$).\n",
        "\n",
        "\n",
        "So by calculating f.backward, which is dependent of the variables a and b, we actually calculate the gradients of all three variables."
      ],
      "metadata": {
        "id": "m_fhwpQIrWL6"
      }
    },
    {
      "cell_type": "markdown",
      "source": [
        "### Sequence of calls to backprop\n",
        "\n",
        "These are the sequences of calls to backprop that is done when f.backward is run.  \n",
        "f.backprop(1)  \n",
        "a.backprop(5)  \n",
        "b.backprop(3)"
      ],
      "metadata": {
        "id": "SUM--J4xxg4Z"
      }
    },
    {
      "cell_type": "code",
      "execution_count": null,
      "metadata": {
        "colab": {
          "base_uri": "https://localhost:8080/",
          "height": 232
        },
        "id": "0nittR-mZFeX",
        "outputId": "d997ffbc-b25d-4fbd-d53c-063e847ba9d0"
      },
      "outputs": [
        {
          "output_type": "execute_result",
          "data": {
            "text/plain": [
              "<graphviz.dot.Digraph at 0x7f1de4198290>"
            ],
            "image/svg+xml": "<?xml version=\"1.0\" encoding=\"UTF-8\" standalone=\"no\"?>\n<!DOCTYPE svg PUBLIC \"-//W3C//DTD SVG 1.1//EN\"\n \"http://www.w3.org/Graphics/SVG/1.1/DTD/svg11.dtd\">\n<!-- Generated by graphviz version 2.40.1 (20161225.0304)\n -->\n<!-- Title: second expression Pages: 1 -->\n<svg width=\"281pt\" height=\"158pt\"\n viewBox=\"0.00 0.00 281.00 158.00\" xmlns=\"http://www.w3.org/2000/svg\" xmlns:xlink=\"http://www.w3.org/1999/xlink\">\n<g id=\"graph0\" class=\"graph\" transform=\"scale(1 1) rotate(0) translate(4 154)\">\n<title>second expression</title>\n<polygon fill=\"#ffffff\" stroke=\"transparent\" points=\"-4,4 -4,-154 277,-154 277,4 -4,4\"/>\n<!-- a -->\n<g id=\"node1\" class=\"node\">\n<title>a</title>\n<ellipse fill=\"none\" stroke=\"#000000\" cx=\"18\" cy=\"-75\" rx=\"18\" ry=\"18\"/>\n<text text-anchor=\"middle\" x=\"18\" y=\"-71.3\" font-family=\"Times,serif\" font-size=\"14.00\" fill=\"#000000\">a</text>\n</g>\n<!-- c -->\n<g id=\"node2\" class=\"node\">\n<title>c</title>\n<ellipse fill=\"none\" stroke=\"#000000\" cx=\"137\" cy=\"-102\" rx=\"18\" ry=\"18\"/>\n<text text-anchor=\"middle\" x=\"137\" y=\"-98.3\" font-family=\"Times,serif\" font-size=\"14.00\" fill=\"#000000\">c</text>\n</g>\n<!-- a&#45;&gt;c -->\n<g id=\"edge1\" class=\"edge\">\n<title>a&#45;&gt;c</title>\n<path fill=\"none\" stroke=\"#000000\" d=\"M35.5589,-78.9839C55.0696,-83.4108 86.8223,-90.6151 109.6075,-95.7849\"/>\n<polygon fill=\"#000000\" stroke=\"#000000\" points=\"108.8425,-99.2002 119.3691,-97.9997 110.3914,-92.3737 108.8425,-99.2002\"/>\n<text text-anchor=\"middle\" x=\"77.5\" y=\"-96.8\" font-family=\"Times,serif\" font-size=\"14.00\" fill=\"#000000\">dc/da=b</text>\n</g>\n<!-- e -->\n<g id=\"node4\" class=\"node\">\n<title>e</title>\n<ellipse fill=\"none\" stroke=\"#000000\" cx=\"137\" cy=\"-48\" rx=\"18\" ry=\"18\"/>\n<text text-anchor=\"middle\" x=\"137\" y=\"-44.3\" font-family=\"Times,serif\" font-size=\"14.00\" fill=\"#000000\">e</text>\n</g>\n<!-- a&#45;&gt;e -->\n<g id=\"edge3\" class=\"edge\">\n<title>a&#45;&gt;e</title>\n<path fill=\"none\" stroke=\"#000000\" d=\"M35.1093,-69.3663C41.0519,-67.518 47.7844,-65.5441 54,-64 72.2255,-59.4724 92.9698,-55.4733 109.1606,-52.6056\"/>\n<polygon fill=\"#000000\" stroke=\"#000000\" points=\"109.8139,-56.0446 119.0705,-50.8903 108.62,-49.1472 109.8139,-56.0446\"/>\n<text text-anchor=\"middle\" x=\"77.5\" y=\"-67.8\" font-family=\"Times,serif\" font-size=\"14.00\" fill=\"#000000\">de/da=d</text>\n</g>\n<!-- f -->\n<g id=\"node6\" class=\"node\">\n<title>f</title>\n<ellipse fill=\"none\" stroke=\"#000000\" cx=\"255\" cy=\"-75\" rx=\"18\" ry=\"18\"/>\n<text text-anchor=\"middle\" x=\"255\" y=\"-71.3\" font-family=\"Times,serif\" font-size=\"14.00\" fill=\"#000000\">f</text>\n</g>\n<!-- c&#45;&gt;f -->\n<g id=\"edge5\" class=\"edge\">\n<title>c&#45;&gt;f</title>\n<path fill=\"none\" stroke=\"#000000\" d=\"M154.6658,-97.9578C173.8698,-93.5637 204.8151,-86.483 227.2661,-81.3459\"/>\n<polygon fill=\"#000000\" stroke=\"#000000\" points=\"228.2461,-84.7122 237.2134,-79.0698 226.6847,-77.8885 228.2461,-84.7122\"/>\n<text text-anchor=\"middle\" x=\"196\" y=\"-96.8\" font-family=\"Times,serif\" font-size=\"14.00\" fill=\"#000000\">df/dc=1</text>\n</g>\n<!-- b -->\n<g id=\"node3\" class=\"node\">\n<title>b</title>\n<ellipse fill=\"none\" stroke=\"#000000\" cx=\"18\" cy=\"-132\" rx=\"18\" ry=\"18\"/>\n<text text-anchor=\"middle\" x=\"18\" y=\"-128.3\" font-family=\"Times,serif\" font-size=\"14.00\" fill=\"#000000\">b</text>\n</g>\n<!-- b&#45;&gt;c -->\n<g id=\"edge2\" class=\"edge\">\n<title>b&#45;&gt;c</title>\n<path fill=\"none\" stroke=\"#000000\" d=\"M35.5589,-127.5734C55.0696,-122.6547 86.8223,-114.6498 109.6075,-108.9057\"/>\n<polygon fill=\"#000000\" stroke=\"#000000\" points=\"110.5281,-112.2832 119.3691,-106.4448 108.8169,-105.4955 110.5281,-112.2832\"/>\n<text text-anchor=\"middle\" x=\"77.5\" y=\"-125.8\" font-family=\"Times,serif\" font-size=\"14.00\" fill=\"#000000\">dc/db=a</text>\n</g>\n<!-- e&#45;&gt;f -->\n<g id=\"edge6\" class=\"edge\">\n<title>e&#45;&gt;f</title>\n<path fill=\"none\" stroke=\"#000000\" d=\"M155.0339,-50.9637C171.7278,-53.8381 197.1872,-58.555 219,-64 222.0098,-64.7513 225.1413,-65.6022 228.2457,-66.4899\"/>\n<polygon fill=\"#000000\" stroke=\"#000000\" points=\"227.3051,-69.8618 237.8887,-69.3744 229.3112,-63.1554 227.3051,-69.8618\"/>\n<text text-anchor=\"middle\" x=\"196\" y=\"-67.8\" font-family=\"Times,serif\" font-size=\"14.00\" fill=\"#000000\">df/de=1</text>\n</g>\n<!-- d -->\n<g id=\"node5\" class=\"node\">\n<title>d</title>\n<ellipse fill=\"none\" stroke=\"#000000\" cx=\"18\" cy=\"-18\" rx=\"18\" ry=\"18\"/>\n<text text-anchor=\"middle\" x=\"18\" y=\"-14.3\" font-family=\"Times,serif\" font-size=\"14.00\" fill=\"#000000\">d</text>\n</g>\n<!-- d&#45;&gt;e -->\n<g id=\"edge4\" class=\"edge\">\n<title>d&#45;&gt;e</title>\n<path fill=\"none\" stroke=\"#000000\" d=\"M35.9889,-20.9104C52.9226,-23.8318 78.9119,-28.785 101,-35 104.0364,-35.8544 107.1845,-36.8389 110.2985,-37.8758\"/>\n<polygon fill=\"#000000\" stroke=\"#000000\" points=\"109.3565,-41.2547 119.9514,-41.2723 111.68,-34.6515 109.3565,-41.2547\"/>\n<text text-anchor=\"middle\" x=\"77.5\" y=\"-38.8\" font-family=\"Times,serif\" font-size=\"14.00\" fill=\"#000000\">de/dd=a</text>\n</g>\n</g>\n</svg>\n"
          },
          "metadata": {},
          "execution_count": 13
        }
      ],
      "source": [
        "e2 = graphviz.Digraph('second expression', filename='fsm.gv')\n",
        "\n",
        "e2.attr(rankdir='LR', size='8,5')\n",
        "\n",
        "e2.attr('node', shape='circle')\n",
        "e2.edge('a', 'c', label='dc/da=b')\n",
        "e2.edge('b', 'c', label='dc/db=a')\n",
        "e2.edge('a', 'e', label='de/da=d')\n",
        "e2.edge('d', 'e', label='de/dd=a')\n",
        "e2.edge('c', 'f', label='df/dc=1')\n",
        "e2.edge('e', 'f', label='df/de=1')\n",
        "\n",
        "e2"
      ]
    },
    {
      "cell_type": "markdown",
      "metadata": {
        "id": "A5oi21W4gpeM"
      },
      "source": [
        "## Exercise c) What happens if we run backward again?\n",
        "\n",
        "Try to execute the code below. Explain what happens."
      ]
    },
    {
      "cell_type": "code",
      "execution_count": null,
      "metadata": {
        "colab": {
          "base_uri": "https://localhost:8080/"
        },
        "id": "DCtpJyr-gyX1",
        "outputId": "14959291-c5ed-444a-8f54-913619186b33"
      },
      "outputs": [
        {
          "output_type": "stream",
          "name": "stdout",
          "text": [
            "Var(v=3.0000, grad=28.0000)\n",
            "Var(v=5.0000, grad=6.0000)\n",
            "Var(v=15.0000, grad=2.0000)\n",
            "Var(v=9.0000, grad=6.0000)\n",
            "Var(v=27.0000, grad=2.0000)\n",
            "Var(v=42.0000, grad=2.0000)\n"
          ]
        }
      ],
      "source": [
        "f.backward()\n",
        "\n",
        "for v in [a, b, c, d, e, f]:\n",
        "    print(v)"
      ]
    },
    {
      "cell_type": "markdown",
      "source": [
        "When we execute once again the gradient is already defined (not 0) from before. Therefore a new run will add the values once again to backprop and the values will add up.  \n",
        "That is why we see the values are double the size of before."
      ],
      "metadata": {
        "id": "WSTmJJyMygsa"
      }
    },
    {
      "cell_type": "markdown",
      "metadata": {
        "id": "e8bPVq2VhsP-"
      },
      "source": [
        "## Exercise d) Zero gradient\n",
        "\n",
        "We can zero the gradient by backpropagating a -1.0 as is shown in the example below. (If you have run backward multiple time then you also have to run the cell below an equal amount of times.) Explain what is going on."
      ]
    },
    {
      "cell_type": "code",
      "execution_count": null,
      "metadata": {
        "colab": {
          "base_uri": "https://localhost:8080/"
        },
        "id": "OnyPDQx9lJe0",
        "outputId": "a3291c29-509e-4665-a723-64d47032c11a"
      },
      "outputs": [
        {
          "output_type": "stream",
          "name": "stdout",
          "text": [
            "Var(v=2.0000, grad=0.0000)\n",
            "Var(v=5.0000, grad=3.0000)\n",
            "Var(v=15.0000, grad=1.0000)\n",
            "Var(v=9.0000, grad=3.0000)\n",
            "Var(v=27.0000, grad=1.0000)\n",
            "Var(v=42.0000, grad=1.0000)\n",
            "Var(v=2.0000, grad=0.0000)\n",
            "Var(v=5.0000, grad=0.0000)\n",
            "Var(v=15.0000, grad=0.0000)\n",
            "Var(v=9.0000, grad=0.0000)\n",
            "Var(v=27.0000, grad=0.0000)\n",
            "Var(v=42.0000, grad=0.0000)\n"
          ]
        }
      ],
      "source": [
        "a = Var(2.0)\n",
        "\n",
        "for v in [a, b, c, d, e, f]:\n",
        "    print(v)\n",
        "\n",
        "f.backprop(-1.0)\n",
        "\n",
        "for v in [a, b, c, d, e, f]:\n",
        "    print(v)"
      ]
    },
    {
      "cell_type": "markdown",
      "source": [
        "By setting bp=-1 the f.grad is updated from 1 to 0.  \n",
        "Furhtermore, the calculation of a.grad and b.grad will be the opposite gradient of before. This is why we will achieve 0 again. "
      ],
      "metadata": {
        "id": "xumg0Um10VJS"
      }
    },
    {
      "cell_type": "markdown",
      "metadata": {
        "id": "U4057_ljNvWB"
      },
      "source": [
        "## Exercise e) Test correctness of derivatives with the finite difference method\n",
        "\n",
        "Write a small function that uses [the finite difference method](https://en.wikipedia.org/wiki/Finite_difference_method) to numerically test that backpropation implementation is working. In short we will use\n",
        "$$\n",
        "\\frac{\\partial f(a)}{\\partial a} \\approx \\frac{f(a+da)-f(a)}{da}\n",
        "$$\n",
        "for $da \\ll 1$.\n",
        "\n",
        "As an example, we could approximate the derivative of the function $f(a)=a^2$ in e.g. the value $a=4$ using the finite difference method. This amounts to inserting the relevant values and approximating the gradient $f'(4)$ with the fraction above. \n"
      ]
    },
    {
      "cell_type": "code",
      "execution_count": 3,
      "metadata": {
        "colab": {
          "base_uri": "https://localhost:8080/"
        },
        "id": "9TGil92lSXDN",
        "outputId": "279d28e5-fb85-489c-c309-11ff744028e7"
      },
      "outputs": [
        {
          "output_type": "stream",
          "name": "stdout",
          "text": [
            "Var(v=3.0000, grad=5.0000)\n",
            "Var(v=5.0000, grad=3.0000)\n",
            "Var(v=15.0000, grad=1.0000)\n",
            "5.000000413701855\n"
          ]
        }
      ],
      "source": [
        "# f function - try to change the code to test other types of functions as well (such as different polynomials etc.)\n",
        "def f_function(a):\n",
        "  a = Var(a)\n",
        "  b = Var(5.0)\n",
        "  f = a * b\n",
        "  f.backward()\n",
        "  return a,b,f\n",
        "\n",
        "for v in f_function(3.0):\n",
        "  print(v)\n",
        "\n",
        "# Insert your finite difference code here\n",
        "def finite_difference(da=1e-10):\n",
        "    \"\"\"\n",
        "    This function compute the finite difference between\n",
        "    \n",
        "    Input:\n",
        "    da:          The finite difference                           (float)\n",
        "    \n",
        "    Output:\n",
        "    finite_difference: numerical approximation to the derivative (float) \n",
        "    \"\"\"\n",
        "    \n",
        "    fa_da = f_function(3.0 + da)[2].v           # <- Insert correct expression\n",
        "    fa = f_function(3.0)[2].v               # <- Insert correct expression\n",
        "\n",
        "    finite_difference = (fa_da - fa) / da\n",
        "    \n",
        "    return finite_difference\n",
        "\n",
        "print(finite_difference())"
      ]
    },
    {
      "cell_type": "markdown",
      "metadata": {
        "id": "6pZar5RKaUkg"
      },
      "source": [
        "# Create an artificial dataset to play with\n",
        "\n",
        "We create a non-linear 1d regression task. The generator supports various noise levels and it creates train, validation and test sets. You can modify it yourself if you want more or less challenging tasks."
      ]
    },
    {
      "cell_type": "code",
      "execution_count": 4,
      "metadata": {
        "id": "Y6yfMAQ8aduj"
      },
      "outputs": [],
      "source": [
        "import numpy as np\n",
        "import matplotlib.pyplot as plt\n",
        "\n",
        "np.random.seed(42)"
      ]
    },
    {
      "cell_type": "code",
      "execution_count": 5,
      "metadata": {
        "id": "4YabfD43ajNh"
      },
      "outputs": [],
      "source": [
        "def data_generator(noise=0.1, n_samples=300, D1=True):\n",
        "    # Create covariates and response variable\n",
        "    if D1:\n",
        "        X = np.linspace(-3, 3, num=n_samples).reshape(-1,1) # 1-D\n",
        "        np.random.shuffle(X)\n",
        "        y = np.random.normal((0.5*np.sin(X[:,0]*3) + X[:,0]), noise) # 1-D with trend\n",
        "    else:\n",
        "        X = np.random.multivariate_normal(np.zeros(3), noise*np.eye(3), size = n_samples) # 3-D\n",
        "        np.random.shuffle(X)    \n",
        "        y = np.sin(X[:,0]) - 5*(X[:,1]**2) + 0.5*X[:,2] # 3-D\n",
        "\n",
        "    # Stack them together vertically to split data set\n",
        "    data_set = np.vstack((X.T,y)).T\n",
        "    \n",
        "    train, validation, test = np.split(data_set, [int(0.35*n_samples), int(0.7*n_samples)], axis=0)\n",
        "    \n",
        "    # Standardization of the data, remember we do the standardization with the training set mean and standard deviation\n",
        "    train_mu = np.mean(train, axis=0)\n",
        "    train_sigma = np.std(train, axis=0)\n",
        "    \n",
        "    train = (train-train_mu)/train_sigma\n",
        "    validation = (validation-train_mu)/train_sigma\n",
        "    test = (test-train_mu)/train_sigma\n",
        "    \n",
        "    x_train, x_validation, x_test = train[:,:-1], validation[:,:-1], test[:,:-1]\n",
        "    y_train, y_validation, y_test = train[:,-1], validation[:,-1], test[:,-1]\n",
        "\n",
        "    return x_train, y_train,  x_validation, y_validation, x_test, y_test"
      ]
    },
    {
      "cell_type": "code",
      "execution_count": 6,
      "metadata": {
        "id": "u1oDngHLapIz"
      },
      "outputs": [],
      "source": [
        "D1 = True\n",
        "x_train, y_train,  x_validation, y_validation, x_test, y_test = data_generator(noise=0.5, D1=D1)"
      ]
    },
    {
      "cell_type": "code",
      "execution_count": 7,
      "metadata": {
        "colab": {
          "base_uri": "https://localhost:8080/",
          "height": 265
        },
        "id": "Ysfa3FsBavlm",
        "outputId": "cb9fdb7c-03f8-4704-bbb9-bdbad1c86150"
      },
      "outputs": [
        {
          "output_type": "display_data",
          "data": {
            "text/plain": [
              "<Figure size 432x288 with 1 Axes>"
            ],
            "image/png": "[encoded data removed]"
          },
          "metadata": {
            "needs_background": "light"
          }
        }
      ],
      "source": [
        "if D1:\n",
        "    plt.scatter(x_train[:,0], y_train);\n",
        "    plt.scatter(x_validation[:,0], y_validation);\n",
        "    plt.scatter(x_test[:,0], y_test);\n",
        "else:\n",
        "    plt.scatter(x_train[:,1], y_train);\n",
        "    plt.scatter(x_validation[:,1], y_validation);\n",
        "    plt.scatter(x_test[:,1], y_test);\n",
        "plt.show()"
      ]
    },
    {
      "cell_type": "code",
      "execution_count": 8,
      "metadata": {
        "id": "zac2HHNlgbpm"
      },
      "outputs": [],
      "source": [
        "# convert from nparray to Var\n",
        "def nparray_to_Var(x):\n",
        "  if x.ndim==1:\n",
        "    y = [[Var(float(x[i]))] for i in range(x.shape[0])] # always work with list of list\n",
        "  else:\n",
        "    y = [[Var(float(x[i,j])) for j in range(x.shape[1])] for i in range(x.shape[0])]\n",
        "  return y\n",
        "   \n",
        "x_train = nparray_to_Var(x_train)\n",
        "y_train = nparray_to_Var(y_train)\n",
        "x_validation = nparray_to_Var(x_validation)\n",
        "y_validation = nparray_to_Var(y_validation)\n",
        "x_test = nparray_to_Var(x_test)\n",
        "y_test = nparray_to_Var(y_test)\n"
      ]
    },
    {
      "cell_type": "markdown",
      "metadata": {
        "id": "VbjrqcpVFtGe"
      },
      "source": [
        "# Defining and initializing the network\n",
        "\n",
        "The steps to create a feed forward neural network are the following:\n",
        "\n",
        "1. **Number of hidden layer and hidden units**. We have to define the number of hidden units in each layer. The number of features in X and the output dimensionality (the size of Y) are given but the numbers in between are set by the researcher. Remember that for each unit in each layer beside in the input has a bias term.\n",
        "2. **Activation functions** for each hidden layer. Each hidden layer in your list must have an activation function (it can also be the linear activation which is equivalent to identity function). The power of neural networks comes from non-linear activation functions that learn representations (features) from the data allowing us to learn from it. \n",
        "3. **Parameter initialization**. We will initialize the weights to have random values. This is done in practice by drawing pseudo random numbers from a Gaussian or uniform distribution. It turns out that for deeper models we have to be careful about how we scale the random numbers. This will be the topic of the exercise below. For now we will just use unit variance Gaussians.  \n",
        "\n",
        "In order to make life easier for ourselves we define a DenseLayer class that takes care of initialization and the forward pass. We can also extend it later with print and advanced initialization capabilities. For the latter we have introduced a Initializer class.\n",
        "\n",
        "Note that we use Sequence in the code below. A Sequence is an ordered list. This means the order we insert and access items are the same."
      ]
    },
    {
      "cell_type": "code",
      "execution_count": 9,
      "metadata": {
        "id": "ij_ieRsAt7Xt"
      },
      "outputs": [],
      "source": [
        "class Initializer:\n",
        "\n",
        "  def init_weights(self, n_in, n_out):\n",
        "    raise NotImplementedError\n",
        "\n",
        "  def init_bias(self, n_out):\n",
        "    raise NotImplementedError"
      ]
    },
    {
      "cell_type": "code",
      "execution_count": 10,
      "metadata": {
        "id": "eb18N5phuIha"
      },
      "outputs": [],
      "source": [
        "import random\n",
        "\n",
        "class NormalInitializer(Initializer):\n",
        "\n",
        "  def __init__(self, mean=0, std=0.1):\n",
        "    self.mean = mean\n",
        "    self.std = std\n",
        "\n",
        "  def init_weights(self, n_in, n_out):\n",
        "    return [[Var(random.gauss(self.mean, self.std)) for _ in range(n_out)] for _ in range(n_in)]\n",
        "\n",
        "  def init_bias(self, n_out):\n",
        "    return [Var(0.0) for _ in range(n_out)]\n",
        "\n",
        "class ConstantInitializer(Initializer):\n",
        "\n",
        "  def __init__(self, weight=1.0, bias=0.0):\n",
        "    self.weight = weight\n",
        "    self.bias = bias\n",
        "\n",
        "  def init_weights(self, n_in, n_out):\n",
        "    return [[Var(self.weight) for _ in range(n_out)] for _ in range(n_in)]\n",
        "\n",
        "  def init_bias(self, n_out):\n",
        "    return [Var(self.bias) for _ in range(n_out)]"
      ]
    },
    {
      "cell_type": "code",
      "execution_count": 11,
      "metadata": {
        "id": "jOLYGnZKuM6W"
      },
      "outputs": [],
      "source": [
        "from typing import Sequence\n",
        "\n",
        "class DenseLayer:\n",
        "    def __init__(self, n_in: int, n_out: int, act_fn, initializer = NormalInitializer()):\n",
        "        self.weights = initializer.init_weights(n_in, n_out)\n",
        "        self.bias = initializer.init_bias(n_out)\n",
        "        self.act_fn = act_fn\n",
        "    \n",
        "    def __repr__(self):    \n",
        "        return 'Weights: ' + repr(self.weights) + ' Biases: ' + repr(self.bias)\n",
        "\n",
        "    def parameters(self) -> Sequence[Var]:\n",
        "      params = []\n",
        "      for r in self.weights:\n",
        "        params += r\n",
        "\n",
        "      return params + self.bias\n",
        "\n",
        "    def forward(self, single_input: Sequence[Var]) -> Sequence[Var]:\n",
        "        # self.weights is a matrix with dimension n_in x n_out. We check that the dimensionality of the input \n",
        "        # to the current layer matches the number of nodes in the current layer\n",
        "        assert len(self.weights) == len(single_input), \"weights and single_input must match in first dimension\"\n",
        "        weights = self.weights\n",
        "        out = []\n",
        "        # For some given data point single_input, we now want to calculate the resulting value in each node in the current layer\n",
        "        # We therefore loop over the (number of) nodes in the current layer:\n",
        "        for j in range(len(weights[0])): \n",
        "            # Initialize the node value depending on its corresponding parameters.\n",
        "            node = self.bias[j] # <- Insert code\n",
        "            # We now finish the linear transformation corresponding to the parameters of the currently considered node.\n",
        "            for i in range(len(single_input)):\n",
        "                node += weights[i][j] * single_input[i]  # <- Insert code\n",
        "            node = self.act_fn(node)\n",
        "            out.append(node)\n",
        "\n",
        "        return out"
      ]
    },
    {
      "cell_type": "markdown",
      "metadata": {
        "id": "jpIZPBpNI0pO"
      },
      "source": [
        "## Exercise f) Add more activation functions\n",
        "\n",
        "To have a full definition of the neural network, we must define an activation function for every layer. Several activation functions have been proposed and have different characteristics. In the Var class we have already defined the rectified linear init (relu). \n",
        " \n",
        "Implement the following activation functions in the Var class:\n",
        "\n",
        "* Identity: $$\\mathrm{identity}(x) = x$$\n",
        "* Hyperbolic tangent: $$\\tanh(x)$$\n",
        "* Sigmoid (or logistic function): $$\\mathrm{sigmoid}(x) = \\frac{1}{1.0 + \\exp(-x ) }$$  Hint: $\\mathrm{sigmoid}'(x)= \\mathrm{sigmoid}(x)(1-\\mathrm{sigmoid}(x))$.  \n",
        "\n",
        "Hint: You can seek inspiration in the relu method in the Var class."
      ]
    },
    {
      "cell_type": "markdown",
      "source": [
        "**solved in class - look at top of document**"
      ],
      "metadata": {
        "id": "dezTK4mF-OgE"
      }
    },
    {
      "cell_type": "markdown",
      "metadata": {
        "id": "p_8n_SKnIW2F"
      },
      "source": [
        "## Exercise g) Complete the forward pass\n",
        "\n",
        "In the code below we initialize a 1-5-1 network and pass the training set through it. *The forward method in DenseLayer is **not** complete*. It just outputs zeros right now. The method forward should perform an [affine transformation](https://en.wikipedia.org/wiki/Affine_transformation) on the input followed by an application of the activation function."
      ]
    },
    {
      "cell_type": "code",
      "execution_count": 12,
      "metadata": {
        "colab": {
          "base_uri": "https://localhost:8080/"
        },
        "id": "xDEjtePxE7Mv",
        "outputId": "3ff9b587-9b74-4c6c-a7b3-57a20062a7d7"
      },
      "outputs": [
        {
          "output_type": "stream",
          "name": "stdout",
          "text": [
            "[[Var(v=0.0004, grad=0.0000)], [Var(v=0.0008, grad=0.0000)], [Var(v=0.0001, grad=0.0000)], [Var(v=0.0119, grad=0.0000)], [Var(v=0.0006, grad=0.0000)], [Var(v=0.0005, grad=0.0000)], [Var(v=0.0003, grad=0.0000)], [Var(v=0.0029, grad=0.0000)], [Var(v=0.0123, grad=0.0000)], [Var(v=0.0002, grad=0.0000)], [Var(v=0.0006, grad=0.0000)], [Var(v=0.0076, grad=0.0000)], [Var(v=0.0005, grad=0.0000)], [Var(v=0.0087, grad=0.0000)], [Var(v=0.0003, grad=0.0000)], [Var(v=0.0005, grad=0.0000)], [Var(v=0.0009, grad=0.0000)], [Var(v=0.0004, grad=0.0000)], [Var(v=0.0000, grad=0.0000)], [Var(v=0.0002, grad=0.0000)], [Var(v=0.0057, grad=0.0000)], [Var(v=0.0025, grad=0.0000)], [Var(v=0.0007, grad=0.0000)], [Var(v=0.0007, grad=0.0000)], [Var(v=0.0033, grad=0.0000)], [Var(v=0.0089, grad=0.0000)], [Var(v=0.0009, grad=0.0000)], [Var(v=0.0010, grad=0.0000)], [Var(v=0.0001, grad=0.0000)], [Var(v=0.0006, grad=0.0000)], [Var(v=0.0112, grad=0.0000)], [Var(v=0.0001, grad=0.0000)], [Var(v=0.0097, grad=0.0000)], [Var(v=0.0106, grad=0.0000)], [Var(v=0.0005, grad=0.0000)], [Var(v=0.0020, grad=0.0000)], [Var(v=0.0121, grad=0.0000)], [Var(v=0.0046, grad=0.0000)], [Var(v=0.0086, grad=0.0000)], [Var(v=0.0061, grad=0.0000)], [Var(v=0.0043, grad=0.0000)], [Var(v=0.0059, grad=0.0000)], [Var(v=0.0009, grad=0.0000)], [Var(v=0.0073, grad=0.0000)], [Var(v=0.0058, grad=0.0000)], [Var(v=0.0070, grad=0.0000)], [Var(v=0.0006, grad=0.0000)], [Var(v=0.0006, grad=0.0000)], [Var(v=0.0027, grad=0.0000)], [Var(v=0.0006, grad=0.0000)], [Var(v=0.0002, grad=0.0000)], [Var(v=0.0000, grad=0.0000)], [Var(v=0.0006, grad=0.0000)], [Var(v=0.0059, grad=0.0000)], [Var(v=0.0010, grad=0.0000)], [Var(v=0.0009, grad=0.0000)], [Var(v=0.0039, grad=0.0000)], [Var(v=0.0044, grad=0.0000)], [Var(v=0.0003, grad=0.0000)], [Var(v=0.0105, grad=0.0000)], [Var(v=0.0006, grad=0.0000)], [Var(v=0.0074, grad=0.0000)], [Var(v=0.0122, grad=0.0000)], [Var(v=0.0003, grad=0.0000)], [Var(v=0.0002, grad=0.0000)], [Var(v=0.0100, grad=0.0000)], [Var(v=0.0107, grad=0.0000)], [Var(v=0.0007, grad=0.0000)], [Var(v=0.0077, grad=0.0000)], [Var(v=0.0003, grad=0.0000)], [Var(v=0.0030, grad=0.0000)], [Var(v=0.0013, grad=0.0000)], [Var(v=0.0006, grad=0.0000)], [Var(v=0.0003, grad=0.0000)], [Var(v=0.0011, grad=0.0000)], [Var(v=0.0009, grad=0.0000)], [Var(v=0.0053, grad=0.0000)], [Var(v=0.0051, grad=0.0000)], [Var(v=0.0068, grad=0.0000)], [Var(v=0.0009, grad=0.0000)], [Var(v=0.0001, grad=0.0000)], [Var(v=0.0001, grad=0.0000)], [Var(v=0.0110, grad=0.0000)], [Var(v=0.0015, grad=0.0000)], [Var(v=0.0056, grad=0.0000)], [Var(v=0.0024, grad=0.0000)], [Var(v=0.0020, grad=0.0000)], [Var(v=0.0062, grad=0.0000)], [Var(v=0.0114, grad=0.0000)], [Var(v=0.0118, grad=0.0000)], [Var(v=0.0003, grad=0.0000)], [Var(v=0.0036, grad=0.0000)], [Var(v=0.0066, grad=0.0000)], [Var(v=0.0005, grad=0.0000)], [Var(v=0.0094, grad=0.0000)], [Var(v=0.0113, grad=0.0000)], [Var(v=0.0002, grad=0.0000)], [Var(v=0.0000, grad=0.0000)], [Var(v=0.0008, grad=0.0000)], [Var(v=0.0067, grad=0.0000)], [Var(v=0.0005, grad=0.0000)], [Var(v=0.0065, grad=0.0000)], [Var(v=0.0099, grad=0.0000)], [Var(v=0.0003, grad=0.0000)], [Var(v=0.0008, grad=0.0000)]]\n"
          ]
        }
      ],
      "source": [
        "NN = [\n",
        "    DenseLayer(1, 5, lambda x: x.relu()),\n",
        "    DenseLayer(5, 1, lambda x: x.identity())\n",
        "]\n",
        "\n",
        "def forward(input, network):\n",
        "\n",
        "  def forward_single(x, network):\n",
        "    for layer in network:\n",
        "        x = layer.forward(x)\n",
        "    return x\n",
        "\n",
        "  output = [ forward_single(input[n], network) for n in range(len(input))]\n",
        "  return output\n",
        "\n",
        "print(forward(x_train, NN))\n"
      ]
    },
    {
      "cell_type": "markdown",
      "metadata": {
        "id": "oLrGJytZFtGm"
      },
      "source": [
        "## Exercise h) Print all network parameters\n",
        "\n",
        "Make a function that prints all the parameters of the network (weights and biases) with information about in which layer the appear. In the object oriented spirit you should introduce a method in the DenseLayer class to print the parameters of a layer. Hint: You can take inspiration from the corresponding method in Var. "
      ]
    },
    {
      "cell_type": "code",
      "execution_count": 13,
      "metadata": {
        "id": "iac-VwYGFtGm",
        "colab": {
          "base_uri": "https://localhost:8080/"
        },
        "outputId": "f7b89e00-e953-4a64-f1ad-ce24a7827714"
      },
      "outputs": [
        {
          "output_type": "stream",
          "name": "stdout",
          "text": [
            "Layer: 0 Weights: [[Var(v=-0.0545, grad=0.0000), Var(v=0.0413, grad=0.0000), Var(v=0.1049, grad=0.0000), Var(v=-0.0715, grad=0.0000), Var(v=-0.0265, grad=0.0000)]] Biases: [Var(v=0.0000, grad=0.0000), Var(v=0.0000, grad=0.0000), Var(v=0.0000, grad=0.0000), Var(v=0.0000, grad=0.0000), Var(v=0.0000, grad=0.0000)]\n",
            "Layer: 1 Weights: [[Var(v=0.0787, grad=0.0000)], [Var(v=-0.0914, grad=0.0000)], [Var(v=0.0411, grad=0.0000)], [Var(v=0.0379, grad=0.0000)], [Var(v=0.0315, grad=0.0000)]] Biases: [Var(v=0.0000, grad=0.0000)]\n"
          ]
        }
      ],
      "source": [
        "# Insert code here and in the DenseLayer class\n",
        "def layer_networks(NN=NN):\n",
        "  # printing information for each layer of the NN\n",
        "  for i in range(len(NN)):\n",
        "    string = 'Layer: ' + str(i) + ' ' + str(NN[i])\n",
        "    print(string)\n",
        "\n",
        "# by running this function all the parameters of the network and the belonging layer is printed\n",
        "layer_networks()"
      ]
    },
    {
      "cell_type": "markdown",
      "metadata": {
        "id": "_79HOAXrFtHK"
      },
      "source": [
        "## Visualization\n",
        "\n",
        "Now that we have defined our activation functions we can visualize them to see what they look like:"
      ]
    },
    {
      "cell_type": "code",
      "execution_count": 14,
      "metadata": {
        "id": "1FcylHqLTl-Z",
        "colab": {
          "base_uri": "https://localhost:8080/",
          "height": 282
        },
        "outputId": "25805ca2-9932-4eaf-e098-06f419e9689c"
      },
      "outputs": [
        {
          "output_type": "execute_result",
          "data": {
            "text/plain": [
              "[<matplotlib.lines.Line2D at 0x7f5eda7c9bd0>]"
            ]
          },
          "metadata": {},
          "execution_count": 14
        },
        {
          "output_type": "display_data",
          "data": {
            "text/plain": [
              "<Figure size 432x288 with 1 Axes>"
            ],
            "image/png": "[encoded data removed]"
          },
          "metadata": {
            "needs_background": "light"
          }
        }
      ],
      "source": [
        "x = np.linspace(-6, 6, 100)\n",
        "\n",
        "# convert from Var to ndarray  \n",
        "def Var_to_nparray(x):\n",
        "  y = np.zeros((len(x),len(x[0])))\n",
        "  for i in range(len(x)):\n",
        "    for j in range(len(x[0])):\n",
        "      y[i,j] = x[i][j].v\n",
        "  return y\n",
        "\n",
        "# define 1-1 network with weight = 1 and relu activation \n",
        "NN = [ DenseLayer(1, 1, lambda x: x.relu(), initializer = ConstantInitializer(1.0)) ] \n",
        "y = Var_to_nparray(forward(nparray_to_Var(x), NN))\n",
        "\n",
        "#y = Var_to_nparray(relu(nparray_to_Var(x)))\n",
        "plt.plot(x,y)"
      ]
    },
    {
      "cell_type": "code",
      "execution_count": 15,
      "metadata": {
        "id": "oOL2UolJFtHL",
        "colab": {
          "base_uri": "https://localhost:8080/",
          "height": 341
        },
        "outputId": "22cd2dec-3955-4ae5-aaf5-82bb5e33e0a6"
      },
      "outputs": [
        {
          "output_type": "display_data",
          "data": {
            "text/plain": [
              "<Figure size 360x360 with 1 Axes>"
            ],
            "image/png": "[encoded data removed]"
          },
          "metadata": {
            "needs_background": "light"
          }
        }
      ],
      "source": [
        "# Testing all activation layers\n",
        "\n",
        "x = np.linspace(-6, 6, 100)\n",
        "units = {\n",
        "    \"identity\": lambda x: x.identity(),\n",
        "    \"sigmoid\": lambda x: x.sigmoid(),\n",
        "    \"relu\": lambda x: x.relu(),\n",
        "    \"tanh\": lambda x: x.tanh()\n",
        "}\n",
        "\n",
        "plt.figure(figsize=(5, 5))\n",
        "[plt.plot(x, Var_to_nparray(forward(nparray_to_Var(x), [DenseLayer(1, 1, unit, initializer = ConstantInitializer(1.0))]) ), label=unit_name, lw=2) for unit_name, unit in units.items()] # unit(nparray_to_Var(x))), label=unit_name, lw=2) for unit_name, unit in units.items()]\n",
        "plt.legend(loc=2, fontsize=16)\n",
        "plt.title('Our activation functions', fontsize=20)\n",
        "plt.ylim([-2, 5])\n",
        "plt.xlim([-6, 6])\n",
        "plt.show()"
      ]
    },
    {
      "cell_type": "markdown",
      "metadata": {
        "id": "b-jdEl-7FtGs"
      },
      "source": [
        "# Advanced initialization schemes\n",
        "\n",
        "If we are not careful with initialization, the signals we propagate forward ($a^{(l)}$, $l=1,\\ldots,L$) and backward ($\\delta^l$, $l=L,L-1,\\ldots,1$) can blow up or shrink to zero. A statistical analysis of the variance of the signals for different activation functions can be found in these two papers: [Glorot initialization](http://proceedings.mlr.press/v9/glorot10a/glorot10a.pdf) and [He initialization](https://arxiv.org/pdf/1502.01852v1.pdf). \n",
        "\n",
        "The result of the analyses are proposals for how to make the initialization such that the variance of the signals (forward and backward) are kept approxmimatly constant when propagating from layer to layer. The exact expressions depend upon the non-linear activation function used. In Glorot initialization, the aim is to keep both the forward and backward variances constant whereas He only aims at keeping the variance in the forward pass constant.\n",
        "\n",
        "We define $n_{in}$ and $n_{out}$ as the number of input units and output units of a particular layer. \n",
        "\n",
        "The Glorot initialization has the form: \n",
        "\n",
        "$$w_{ij} \\sim N \\bigg( 0, \\, \\frac{2 \\alpha }{n_{in} + n_{out}} \\bigg) \\ . $$\n",
        "\n",
        "where $N(\\mu,\\sigma^2)$ is a Gaussian distribution with mean $\\mu$ and variance $\\sigma^2$ and $\\alpha$ is a parameter that depends upon the activation function used. For $\\tanh$, $\\alpha=1$ and for Rectified Linear Unit (ReLU) activations, $\\alpha=2$. (It is also possible to use a uniform distribution for initialization, see [this blog post](https://mmuratarat.github.io/2019-02-25/xavier-glorot-he-weight-init).) \n",
        "\n",
        "The He initialization is very similar\n",
        "\n",
        "$$w_{ij} \\sim N \\bigg( 0, \\, \\frac{\\alpha}{n_{in}} \\bigg) \\ . $$"
      ]
    },
    {
      "cell_type": "markdown",
      "metadata": {
        "id": "mqeyab9qFtGs"
      },
      "source": [
        "## Exercise i) Glorot and He initialization\n",
        " \n",
        "Using the Initializer class, implement functions that implement Glorot and He \n",
        "\n",
        "Explain briefly how you would test numerically that these initializations have the sought after property. Hint: See plots in Glorot paper.\n",
        "\n",
        "Comment: If you want to be more advanced then try to make a universal initializer taking both the activation function and type (Glorot or He) as argument."
      ]
    },
    {
      "cell_type": "code",
      "execution_count": 16,
      "metadata": {
        "id": "Qyk01CgaFtGt"
      },
      "outputs": [],
      "source": [
        "import math\n",
        "\n",
        "## Glorot\n",
        "def DenseLayer_Glorot_tanh(n_in: int, n_out: int):\n",
        "  std = math.sqrt(2*1/(n_in+n_out)) # <- replace with proper initialization\n",
        "  return DenseLayer(n_in, n_out, lambda x: x.tanh(), initializer = NormalInitializer(std))\n",
        "\n",
        "## He\n",
        "def DenseLayer_He_relu(n_in: int, n_out: int):\n",
        "  std = math.sqrt(0, 2/n_in) # <- replace with proper initialization\n",
        "  return DenseLayer(n_in, n_out, lambda x: x.relu(), initializer = NormalInitializer(std))"
      ]
    },
    {
      "cell_type": "markdown",
      "source": [
        "I would show the distribution of the gradients by using the initializer."
      ],
      "metadata": {
        "id": "n9C6sJ2jSFGb"
      }
    },
    {
      "cell_type": "markdown",
      "metadata": {
        "id": "-XyXBD37FtHk"
      },
      "source": [
        "## Exercise j) Forward pass unit test\n",
        "\n",
        "Write a bit of code to make a unit test that the forward pass works. This can be done by defining a simple network with for example all weights equal to one (using the ConstantInitializer method) and identity activation functions. \n",
        "\n",
        "Hints: Use the [assert](https://www.w3schools.com/python/ref_keyword_assert.asp), the nparray_to_Var and the Var_to_nparray commands. "
      ]
    },
    {
      "cell_type": "code",
      "execution_count": 17,
      "metadata": {
        "id": "k0miqRUAFtHl",
        "colab": {
          "base_uri": "https://localhost:8080/",
          "height": 265
        },
        "outputId": "6365daef-05fe-4c88-b5d9-646a917cb5af"
      },
      "outputs": [
        {
          "output_type": "display_data",
          "data": {
            "text/plain": [
              "<Figure size 432x288 with 1 Axes>"
            ],
            "image/png": "[encoded data removed]"
          },
          "metadata": {
            "needs_background": "light"
          }
        }
      ],
      "source": [
        "# Insert code here\n",
        "# a simple network of 1-1 with weight = 1 and the identity activation\n",
        "NN = [DenseLayer(1, 1, lambda x: x.identity(), initializer = ConstantInitializer(1.0)) ]\n",
        "y = Var_to_nparray(forward(nparray_to_Var(x), NN))\n",
        "\n",
        "plt.plot(y)\n",
        "plt.show()"
      ]
    },
    {
      "cell_type": "markdown",
      "metadata": {
        "id": "faCxhfFnFtHp"
      },
      "source": [
        "# Loss functions\n",
        "\n",
        "We are only missing a loss function to we need to define a loss function and its derivative with respect to the output of the neural network $y$"
      ]
    },
    {
      "cell_type": "code",
      "execution_count": 18,
      "metadata": {
        "id": "I2eDYKvAFtHq"
      },
      "outputs": [],
      "source": [
        "def squared_loss(t, y):\n",
        "  \n",
        "  # add check that sizes agree\n",
        "  \n",
        "  def squared_loss_single(t, y):\n",
        "    Loss = Var(0.0)\n",
        "    for i in range(len(t)): # sum over outputs\n",
        "      Loss += (t[i]-y[i]) ** 2\n",
        "    return Loss\n",
        "\n",
        "  Loss = Var(0.0)\n",
        "  for n in range(len(t)): # sum over training data\n",
        "    Loss += squared_loss_single(t[n],y[n])\n",
        "  return Loss"
      ]
    },
    {
      "cell_type": "markdown",
      "metadata": {
        "id": "SrwSJ2UWFtHu"
      },
      "source": [
        "## Exercise k) Implement cross entropy loss\n",
        "\n",
        "Insert code below to implement cross-entropy loss for general dimensionality of $t$. Use a logits formulation:\n",
        "$$\n",
        "\\rm{Loss} = - \\sum_i t_i \\, log \\, p_i \n",
        "$$\n",
        "with $p$ given by the the softmax function in terms of the logits $h$:\n",
        "$$\n",
        "p_i = \\frac{\\exp(h_i)}{\\sum_{i'} \\exp(h_{i'})} .\n",
        "$$\n",
        "Inserting $p$ in the expression for the loss gives\n",
        "$$\n",
        "\\rm{Loss} = - \\sum_i t_i h_i + \\rm{LogSumExp}(h) \\ ,\n",
        "$$\n",
        "where \n",
        "$$\n",
        "\\rm{LogSumExp}(h) = \\log \\sum_i \\exp h_i \\ .\n",
        "$$\n",
        "This is true for $t$ being a one-hot vector. \n",
        "\n",
        "Call the function to convince yourself it works. \n",
        "\n",
        "In practice you want to implement a [numerically stable](https://leimao.github.io/blog/LogSumExp/) version of LogSumExp. But we will not bother about that here.\n",
        "\n",
        "Help: You can add these methods in the Var class:\n",
        "\n",
        "    def exp(self):\n",
        "        return Var(exp(self.v), lambda: [(self, exp(self.v))])\n",
        "    \n",
        "    def log(self):\n",
        "        return Var(log(self.v), lambda: [(self, self.v ** -1)])"
      ]
    },
    {
      "cell_type": "code",
      "execution_count": 20,
      "metadata": {
        "id": "6nMuxyfzFtHv"
      },
      "outputs": [],
      "source": [
        "def cross_entropy_loss(t, h):\n",
        "     \n",
        "    Loss = Var(0.0)\n",
        "    \n",
        "    # Insert code here\n",
        "    for i in range(1, len(t)-1):\n",
        "      Loss -= t[i][0].v * h[i][0].v  +  log(exp(h[i][0].v)) \n",
        "\n",
        "    return Loss"
      ]
    },
    {
      "cell_type": "markdown",
      "metadata": {
        "id": "8fAF5ew4FtHy"
      },
      "source": [
        "# Backward pass\n",
        "\n",
        "Now the magic happens! We get the calculation of the gradients for free. Just do:"
      ]
    },
    {
      "cell_type": "code",
      "execution_count": 28,
      "metadata": {
        "id": "iHyfPPI9Qqwu"
      },
      "outputs": [],
      "source": [
        "NN = [\n",
        "    DenseLayer(1, 5, lambda x: x.relu()),\n",
        "    DenseLayer(5, 1, lambda x: x.identity())\n",
        "]\n",
        "\n",
        "output = forward(x_train, NN)\n",
        "\n",
        "Loss = squared_loss(y_train,output)\n",
        "Loss.backward()"
      ]
    },
    {
      "cell_type": "markdown",
      "metadata": {
        "id": "49biIAYKQ1oG"
      },
      "source": [
        "and the gradients will be calculated:"
      ]
    },
    {
      "cell_type": "code",
      "execution_count": 29,
      "metadata": {
        "id": "_rGt1bq_Q7uk",
        "colab": {
          "base_uri": "https://localhost:8080/"
        },
        "outputId": "743d9aa4-76de-4e2d-d80f-c791582238cd"
      },
      "outputs": [
        {
          "output_type": "stream",
          "name": "stdout",
          "text": [
            "Layer 0 \n",
            " Weights: [[Var(v=0.1034, grad=16.1668), Var(v=-0.0145, grad=-4.7421), Var(v=0.1217, grad=-19.1419), Var(v=0.0001, grad=-2.8128), Var(v=0.0294, grad=3.8958)]] Biases: [Var(v=0.0000, grad=13.8888), Var(v=0.0000, grad=4.3104), Var(v=0.0000, grad=-16.4447), Var(v=0.0000, grad=-2.4165), Var(v=0.0000, grad=3.3468)]\n",
            "Layer 1 \n",
            " Weights: [[Var(v=-0.1601, grad=-10.4465)], [Var(v=0.0494, grad=1.3953)], [Var(v=0.1895, grad=-12.2942)], [Var(v=0.0278, grad=-0.0128)], [Var(v=-0.0386, grad=-2.9683)]] Biases: [Var(v=0.0000, grad=0.5650)]\n"
          ]
        },
        {
          "output_type": "execute_result",
          "data": {
            "text/plain": [
              "[None, None]"
            ]
          },
          "metadata": {},
          "execution_count": 29
        }
      ],
      "source": [
        "[print('Layer', i, '\\n', NN[i]) for i in range(len(NN))] "
      ]
    },
    {
      "cell_type": "markdown",
      "metadata": {
        "id": "D7d7qK0uFtH9"
      },
      "source": [
        "# Backward pass unit test\n",
        "\n",
        "Above we used finite differences to test that Nanograd is actually doing what it is supposed to do. We can in principle try the same for the neural network. But we will trust that the test above is enough."
      ]
    },
    {
      "cell_type": "markdown",
      "metadata": {
        "id": "WgBi8GOSFtIN"
      },
      "source": [
        "# Training and validation\n",
        "\n",
        "We are ready to train some neural networks!\n",
        "\n",
        "We initialize again:"
      ]
    },
    {
      "cell_type": "code",
      "execution_count": 30,
      "metadata": {
        "id": "01ePmzBzRtdh"
      },
      "outputs": [],
      "source": [
        "NN = [\n",
        "    DenseLayer(1, 15, lambda x: x.relu()),\n",
        "    DenseLayer(15, 50, lambda x: x.relu()),\n",
        "    DenseLayer(50, 1, lambda x: x.identity())\n",
        "]\n",
        "\n",
        "output = forward(x_train, NN)\n",
        "\n",
        "Loss = squared_loss(y_train,output)\n",
        "Loss.backward()"
      ]
    },
    {
      "cell_type": "markdown",
      "metadata": {
        "id": "10iRPiQ1ISHw"
      },
      "source": [
        "and make an update:\n",
        "\n",
        "We introduce a help function parameters to have a handle in all parameters in the network."
      ]
    },
    {
      "cell_type": "code",
      "execution_count": 31,
      "metadata": {
        "id": "dhAI7eyeznia",
        "colab": {
          "base_uri": "https://localhost:8080/"
        },
        "outputId": "9918f0d2-ffa4-4218-ef8a-ab09cba0e4c2"
      },
      "outputs": [
        {
          "output_type": "stream",
          "name": "stdout",
          "text": [
            "Network before update:\n",
            "Layer 0 \n",
            " Weights: [[Var(v=-0.0725, grad=5.7812), Var(v=0.0006, grad=1.3026), Var(v=0.0438, grad=-6.7391), Var(v=-0.0025, grad=0.5936), Var(v=0.0502, grad=-2.5652), Var(v=-0.2620, grad=3.3509), Var(v=-0.0485, grad=0.5828), Var(v=0.1123, grad=-1.7736), Var(v=-0.0026, grad=-1.3745), Var(v=-0.0552, grad=-0.4517), Var(v=-0.0794, grad=0.1490), Var(v=-0.0581, grad=0.9930), Var(v=0.0998, grad=1.3297), Var(v=0.0063, grad=3.5077), Var(v=0.0552, grad=5.4829)]] Biases: [Var(v=0.0000, grad=-5.2534), Var(v=0.0000, grad=1.1190), Var(v=0.0000, grad=-5.7891), Var(v=0.0000, grad=-0.5394), Var(v=0.0000, grad=-2.2036), Var(v=0.0000, grad=-3.0449), Var(v=0.0000, grad=-0.5296), Var(v=0.0000, grad=-1.5235), Var(v=0.0000, grad=1.2490), Var(v=0.0000, grad=0.4105), Var(v=0.0000, grad=-0.1354), Var(v=0.0000, grad=-0.9024), Var(v=0.0000, grad=1.1422), Var(v=0.0000, grad=3.0132), Var(v=0.0000, grad=4.7100)]\n",
            "Layer 1 \n",
            " Weights: [[Var(v=0.0816, grad=-0.0612), Var(v=-0.0200, grad=0.4185), Var(v=0.0869, grad=0.0000), Var(v=-0.0670, grad=0.2629), Var(v=0.0409, grad=0.0000), Var(v=-0.1149, grad=0.1872), Var(v=-0.0408, grad=-0.6935), Var(v=-0.0815, grad=0.0000), Var(v=-0.1091, grad=0.0000), Var(v=0.0016, grad=0.0000), Var(v=-0.2067, grad=0.8174), Var(v=0.1011, grad=0.0000), Var(v=-0.0445, grad=0.0000), Var(v=0.0358, grad=0.1716), Var(v=0.1413, grad=-0.2612), Var(v=-0.0715, grad=0.2592), Var(v=-0.0045, grad=-0.8189), Var(v=-0.0747, grad=0.0000), Var(v=-0.0863, grad=0.0000), Var(v=0.1409, grad=0.0000), Var(v=0.0206, grad=0.0000), Var(v=0.0239, grad=0.0000), Var(v=0.1060, grad=0.0000), Var(v=0.0589, grad=-0.5723), Var(v=-0.1027, grad=0.0000), Var(v=-0.0310, grad=0.1406), Var(v=-0.0961, grad=0.0000), Var(v=-0.0106, grad=0.7310), Var(v=0.2802, grad=-0.6925), Var(v=0.1589, grad=-0.6707), Var(v=0.0670, grad=-0.2374), Var(v=0.0093, grad=0.0000), Var(v=-0.0566, grad=0.1723), Var(v=-0.0064, grad=-0.1381), Var(v=0.0743, grad=0.0000), Var(v=0.0797, grad=0.0000), Var(v=-0.1618, grad=0.0000), Var(v=0.0746, grad=1.0079), Var(v=0.0384, grad=0.0000), Var(v=-0.0698, grad=0.0000), Var(v=-0.0263, grad=-0.4627), Var(v=-0.0829, grad=-0.4669), Var(v=0.1459, grad=0.0000), Var(v=0.0871, grad=0.0000), Var(v=-0.2554, grad=0.0000), Var(v=0.0169, grad=0.0000), Var(v=0.0049, grad=-0.0751), Var(v=-0.0143, grad=0.5625), Var(v=-0.0997, grad=-0.7328), Var(v=-0.1152, grad=0.0000)], [Var(v=0.0420, grad=0.0006), Var(v=0.0841, grad=-0.0040), Var(v=0.0407, grad=-0.0005), Var(v=0.0819, grad=0.0000), Var(v=0.0646, grad=-0.0030), Var(v=-0.1650, grad=0.0000), Var(v=0.0915, grad=0.0000), Var(v=0.0985, grad=0.0092), Var(v=-0.1406, grad=0.0000), Var(v=-0.0148, grad=-0.0067), Var(v=-0.1174, grad=-0.0077), Var(v=0.0358, grad=0.0000), Var(v=-0.0528, grad=0.0000), Var(v=-0.1238, grad=-0.0016), Var(v=0.0648, grad=0.0025), Var(v=0.1169, grad=-0.0024), Var(v=0.0155, grad=0.0077), Var(v=0.0833, grad=0.0000), Var(v=-0.0232, grad=0.0058), Var(v=-0.1283, grad=-0.0117), Var(v=-0.1463, grad=0.0000), Var(v=-0.0761, grad=0.0000), Var(v=-0.0215, grad=0.0000), Var(v=0.1777, grad=0.0000), Var(v=-0.1333, grad=0.0000), Var(v=0.1133, grad=-0.0013), Var(v=-0.0411, grad=0.0052), Var(v=0.1049, grad=-0.0069), Var(v=0.1117, grad=0.0000), Var(v=-0.0401, grad=0.0063), Var(v=0.1109, grad=0.0022), Var(v=0.1881, grad=0.0000), Var(v=0.0113, grad=0.0000), Var(v=0.0394, grad=0.0000), Var(v=0.1684, grad=-0.0063), Var(v=-0.0636, grad=0.0016), Var(v=0.1293, grad=0.0000), Var(v=-0.1258, grad=0.0000), Var(v=-0.0839, grad=0.0000), Var(v=-0.0020, grad=0.0000), Var(v=0.0846, grad=0.0000), Var(v=-0.0353, grad=0.0044), Var(v=0.0187, grad=0.0028), Var(v=-0.0458, grad=0.0008), Var(v=-0.0267, grad=0.0000), Var(v=-0.0042, grad=0.0000), Var(v=-0.0134, grad=0.0007), Var(v=-0.0554, grad=-0.0053), Var(v=0.0500, grad=0.0000), Var(v=-0.0782, grad=0.0000)], [Var(v=-0.0430, grad=0.0396), Var(v=0.0886, grad=-0.2710), Var(v=-0.0465, grad=-0.0355), Var(v=0.0158, grad=0.0000), Var(v=-0.0449, grad=-0.2082), Var(v=-0.1078, grad=0.0000), Var(v=-0.0769, grad=0.0000), Var(v=0.1546, grad=0.6310), Var(v=-0.0972, grad=0.0000), Var(v=0.2013, grad=-0.4578), Var(v=0.0894, grad=-0.5293), Var(v=0.1167, grad=0.0000), Var(v=0.0062, grad=0.0000), Var(v=-0.1025, grad=-0.1111), Var(v=0.0131, grad=0.1691), Var(v=0.1335, grad=-0.1678), Var(v=-0.1584, grad=0.5302), Var(v=-0.0075, grad=0.0000), Var(v=0.0655, grad=0.3977), Var(v=0.0336, grad=-0.8026), Var(v=0.0011, grad=0.0000), Var(v=-0.0505, grad=0.0000), Var(v=-0.0496, grad=0.0000), Var(v=0.1091, grad=0.0000), Var(v=-0.0513, grad=0.0000), Var(v=0.3132, grad=-0.0910), Var(v=-0.0204, grad=0.3549), Var(v=0.2649, grad=-0.4733), Var(v=0.0987, grad=0.0000), Var(v=0.0518, grad=0.4342), Var(v=-0.0854, grad=0.1537), Var(v=-0.0277, grad=0.0000), Var(v=0.0096, grad=0.0000), Var(v=-0.1296, grad=0.0000), Var(v=-0.0954, grad=-0.4320), Var(v=0.0367, grad=0.1127), Var(v=0.0257, grad=0.0000), Var(v=0.0355, grad=0.0000), Var(v=-0.0495, grad=0.0000), Var(v=0.0526, grad=0.0000), Var(v=0.1433, grad=0.0000), Var(v=0.1361, grad=0.3023), Var(v=-0.0082, grad=0.1904), Var(v=0.0091, grad=0.0563), Var(v=-0.0426, grad=0.0000), Var(v=0.0241, grad=0.0000), Var(v=-0.0788, grad=0.0486), Var(v=0.2048, grad=-0.3642), Var(v=0.0872, grad=0.0000), Var(v=0.0771, grad=0.0000)], [Var(v=-0.0582, grad=-0.0021), Var(v=0.0448, grad=0.0146), Var(v=-0.2710, grad=0.0000), Var(v=0.0446, grad=0.0092), Var(v=-0.0418, grad=0.0000), Var(v=0.1206, grad=0.0066), Var(v=0.0260, grad=-0.0243), Var(v=-0.0414, grad=0.0000), Var(v=-0.2151, grad=0.0000), Var(v=-0.0875, grad=0.0000), Var(v=0.0142, grad=0.0286), Var(v=-0.1509, grad=0.0000), Var(v=0.0179, grad=0.0000), Var(v=0.0040, grad=0.0060), Var(v=-0.1212, grad=-0.0091), Var(v=0.0461, grad=0.0091), Var(v=0.0901, grad=-0.0286), Var(v=0.1006, grad=0.0000), Var(v=-0.0823, grad=0.0000), Var(v=0.0046, grad=0.0000), Var(v=-0.0039, grad=0.0000), Var(v=0.0503, grad=0.0000), Var(v=0.0188, grad=0.0000), Var(v=-0.0224, grad=-0.0200), Var(v=0.0783, grad=0.0000), Var(v=-0.0743, grad=0.0049), Var(v=0.0987, grad=0.0000), Var(v=0.0585, grad=0.0256), Var(v=0.0162, grad=-0.0242), Var(v=0.0032, grad=-0.0235), Var(v=0.0354, grad=-0.0083), Var(v=-0.0009, grad=0.0000), Var(v=-0.1111, grad=0.0060), Var(v=0.0602, grad=-0.0048), Var(v=0.0123, grad=0.0000), Var(v=-0.0585, grad=0.0000), Var(v=-0.1078, grad=0.0000), Var(v=-0.1553, grad=0.0353), Var(v=0.0047, grad=0.0000), Var(v=0.1465, grad=0.0000), Var(v=0.0031, grad=-0.0162), Var(v=0.1071, grad=-0.0163), Var(v=-0.0934, grad=0.0000), Var(v=0.1184, grad=0.0000), Var(v=-0.0494, grad=0.0000), Var(v=0.0579, grad=0.0000), Var(v=-0.0477, grad=-0.0026), Var(v=0.0821, grad=0.0197), Var(v=-0.1344, grad=-0.0256), Var(v=0.0297, grad=0.0000)], [Var(v=0.0777, grad=0.0454), Var(v=-0.1317, grad=-0.3108), Var(v=0.0347, grad=-0.0407), Var(v=0.0542, grad=0.0000), Var(v=0.1025, grad=-0.2388), Var(v=-0.0055, grad=0.0000), Var(v=0.0772, grad=0.0000), Var(v=-0.0860, grad=0.7237), Var(v=0.1756, grad=0.0000), Var(v=0.0668, grad=-0.5250), Var(v=-0.0399, grad=-0.6070), Var(v=0.0529, grad=0.0000), Var(v=-0.0369, grad=0.0000), Var(v=0.1435, grad=-0.1274), Var(v=0.0275, grad=0.1939), Var(v=0.1983, grad=-0.1925), Var(v=0.0505, grad=0.6081), Var(v=-0.2625, grad=0.0000), Var(v=-0.0282, grad=0.4561), Var(v=0.1021, grad=-0.9205), Var(v=-0.1297, grad=0.0000), Var(v=-0.0954, grad=0.0000), Var(v=-0.0200, grad=0.0000), Var(v=-0.1047, grad=0.0000), Var(v=-0.0097, grad=0.0000), Var(v=0.0364, grad=-0.1044), Var(v=-0.0003, grad=0.4070), Var(v=0.0298, grad=-0.5428), Var(v=-0.0592, grad=0.0000), Var(v=0.0950, grad=0.4980), Var(v=0.0421, grad=0.1763), Var(v=-0.0496, grad=0.0000), Var(v=-0.0575, grad=0.0000), Var(v=0.0366, grad=0.0000), Var(v=-0.1495, grad=-0.4955), Var(v=-0.0681, grad=0.1293), Var(v=0.0939, grad=0.0000), Var(v=-0.0654, grad=0.0000), Var(v=0.0018, grad=0.0000), Var(v=-0.0437, grad=0.0000), Var(v=0.0344, grad=0.0000), Var(v=-0.1143, grad=0.3467), Var(v=-0.1188, grad=0.2184), Var(v=0.2209, grad=0.0646), Var(v=0.0468, grad=0.0000), Var(v=0.0783, grad=0.0000), Var(v=0.2540, grad=0.0558), Var(v=0.0232, grad=-0.4177), Var(v=-0.1011, grad=0.0000), Var(v=-0.1329, grad=0.0000)], [Var(v=0.1810, grad=-0.2210), Var(v=0.0799, grad=1.5121), Var(v=-0.0657, grad=0.0000), Var(v=0.1067, grad=0.9498), Var(v=-0.0064, grad=0.0000), Var(v=0.0994, grad=0.6764), Var(v=0.1916, grad=-2.5056), Var(v=-0.1369, grad=0.0000), Var(v=-0.0290, grad=0.0000), Var(v=-0.1384, grad=0.0000), Var(v=0.0216, grad=2.9535), Var(v=-0.1253, grad=0.0000), Var(v=0.0182, grad=0.0000), Var(v=0.0826, grad=0.6200), Var(v=0.0165, grad=-0.9436), Var(v=0.0851, grad=0.9365), Var(v=0.1136, grad=-2.9587), Var(v=-0.1858, grad=0.0000), Var(v=-0.1096, grad=0.0000), Var(v=-0.1087, grad=0.0000), Var(v=-0.0719, grad=0.0000), Var(v=-0.2897, grad=0.0000), Var(v=-0.1972, grad=0.0000), Var(v=0.0171, grad=-2.0676), Var(v=0.0152, grad=0.0000), Var(v=0.1608, grad=0.5079), Var(v=-0.1084, grad=0.0000), Var(v=0.0018, grad=2.6413), Var(v=0.0908, grad=-2.5021), Var(v=-0.0068, grad=-2.4232), Var(v=-0.0265, grad=-0.8577), Var(v=-0.0612, grad=0.0000), Var(v=0.0669, grad=0.6226), Var(v=0.0690, grad=-0.4989), Var(v=0.0065, grad=0.0000), Var(v=-0.1697, grad=0.0000), Var(v=-0.0766, grad=0.0000), Var(v=0.0551, grad=3.6416), Var(v=-0.0368, grad=0.0000), Var(v=-0.0368, grad=0.0000), Var(v=0.0508, grad=-1.6717), Var(v=0.0942, grad=-1.6869), Var(v=-0.1602, grad=0.0000), Var(v=-0.1558, grad=0.0000), Var(v=-0.0181, grad=0.0000), Var(v=-0.1771, grad=0.0000), Var(v=0.0102, grad=-0.2713), Var(v=-0.0615, grad=2.0323), Var(v=0.0716, grad=-2.6478), Var(v=-0.0513, grad=0.0000)], [Var(v=0.0522, grad=-0.0409), Var(v=-0.0283, grad=0.2798), Var(v=0.0426, grad=0.0000), Var(v=0.0196, grad=0.1758), Var(v=-0.0964, grad=0.0000), Var(v=-0.0250, grad=0.1252), Var(v=-0.1302, grad=-0.4637), Var(v=0.1939, grad=0.0000), Var(v=-0.0466, grad=0.0000), Var(v=0.1241, grad=0.0000), Var(v=0.0014, grad=0.5466), Var(v=0.1520, grad=0.0000), Var(v=0.0211, grad=0.0000), Var(v=-0.2124, grad=0.1147), Var(v=0.0316, grad=-0.1746), Var(v=0.0684, grad=0.1733), Var(v=0.0700, grad=-0.5475), Var(v=0.0852, grad=0.0000), Var(v=0.1868, grad=0.0000), Var(v=0.0797, grad=0.0000), Var(v=-0.1302, grad=0.0000), Var(v=0.0539, grad=0.0000), Var(v=-0.0065, grad=0.0000), Var(v=0.0873, grad=-0.3826), Var(v=-0.1749, grad=0.0000), Var(v=0.0118, grad=0.0940), Var(v=-0.0516, grad=0.0000), Var(v=0.0401, grad=0.4888), Var(v=0.2014, grad=-0.4630), Var(v=0.0362, grad=-0.4484), Var(v=0.0479, grad=-0.1587), Var(v=0.0415, grad=0.0000), Var(v=-0.2262, grad=0.1152), Var(v=-0.0201, grad=-0.0923), Var(v=-0.0266, grad=0.0000), Var(v=0.0521, grad=0.0000), Var(v=0.0362, grad=0.0000), Var(v=-0.0730, grad=0.6739), Var(v=0.1757, grad=0.0000), Var(v=0.0544, grad=0.0000), Var(v=-0.1563, grad=-0.3094), Var(v=-0.0875, grad=-0.3122), Var(v=-0.0371, grad=0.0000), Var(v=0.0182, grad=0.0000), Var(v=0.1378, grad=0.0000), Var(v=0.1495, grad=0.0000), Var(v=-0.0353, grad=-0.0502), Var(v=0.2127, grad=0.3761), Var(v=-0.0457, grad=-0.4900), Var(v=0.0571, grad=0.0000)], [Var(v=0.1418, grad=0.1016), Var(v=0.1158, grad=-0.6950), Var(v=0.0386, grad=-0.0911), Var(v=-0.1371, grad=0.0000), Var(v=0.0283, grad=-0.5340), Var(v=0.0618, grad=0.0000), Var(v=-0.0114, grad=0.0000), Var(v=0.0100, grad=1.6185), Var(v=-0.0570, grad=0.0000), Var(v=0.1160, grad=-1.1741), Var(v=0.1426, grad=-1.3575), Var(v=-0.0604, grad=0.0000), Var(v=0.0738, grad=0.0000), Var(v=-0.0688, grad=-0.2850), Var(v=0.0091, grad=0.4337), Var(v=-0.1226, grad=-0.4305), Var(v=-0.0205, grad=1.3599), Var(v=0.0596, grad=0.0000), Var(v=0.0860, grad=1.0201), Var(v=0.0421, grad=-2.0585), Var(v=0.0240, grad=0.0000), Var(v=-0.0438, grad=0.0000), Var(v=0.0863, grad=0.0000), Var(v=-0.1743, grad=0.0000), Var(v=0.0727, grad=0.0000), Var(v=-0.0219, grad=-0.2335), Var(v=0.1194, grad=0.9103), Var(v=0.0179, grad=-1.2140), Var(v=0.0590, grad=0.0000), Var(v=-0.0477, grad=1.1137), Var(v=0.0485, grad=0.3942), Var(v=-0.2266, grad=0.0000), Var(v=-0.0148, grad=0.0000), Var(v=-0.0706, grad=0.0000), Var(v=0.0232, grad=-1.1081), Var(v=0.0581, grad=0.2891), Var(v=-0.0069, grad=0.0000), Var(v=-0.0563, grad=0.0000), Var(v=-0.0878, grad=0.0000), Var(v=-0.0844, grad=0.0000), Var(v=-0.0151, grad=0.0000), Var(v=0.0296, grad=0.7753), Var(v=0.0774, grad=0.4884), Var(v=0.2341, grad=0.1444), Var(v=-0.0528, grad=0.0000), Var(v=-0.0916, grad=0.0000), Var(v=-0.0493, grad=0.1247), Var(v=-0.0128, grad=-0.9341), Var(v=-0.1094, grad=0.0000), Var(v=-0.1131, grad=0.0000)], [Var(v=0.0297, grad=-0.0022), Var(v=-0.1697, grad=0.0153), Var(v=0.0943, grad=0.0000), Var(v=0.0362, grad=0.0096), Var(v=0.1389, grad=0.0000), Var(v=0.1388, grad=0.0068), Var(v=-0.0274, grad=-0.0253), Var(v=0.1580, grad=0.0000), Var(v=0.0040, grad=0.0000), Var(v=-0.0899, grad=0.0000), Var(v=-0.0194, grad=0.0299), Var(v=-0.1800, grad=0.0000), Var(v=0.0662, grad=0.0000), Var(v=-0.1367, grad=0.0063), Var(v=0.0535, grad=-0.0095), Var(v=0.1987, grad=0.0095), Var(v=-0.1328, grad=-0.0299), Var(v=0.0147, grad=0.0000), Var(v=-0.0884, grad=0.0000), Var(v=-0.0511, grad=0.0000), Var(v=0.0155, grad=0.0000), Var(v=0.0564, grad=0.0000), Var(v=-0.1736, grad=0.0000), Var(v=0.1717, grad=-0.0209), Var(v=-0.1438, grad=0.0000), Var(v=0.1361, grad=0.0051), Var(v=0.1828, grad=0.0000), Var(v=-0.0972, grad=0.0267), Var(v=0.0834, grad=-0.0253), Var(v=-0.1129, grad=-0.0245), Var(v=-0.0869, grad=-0.0087), Var(v=0.1357, grad=0.0000), Var(v=-0.0284, grad=0.0063), Var(v=-0.1403, grad=-0.0050), Var(v=-0.1646, grad=0.0000), Var(v=-0.0128, grad=0.0000), Var(v=-0.0999, grad=0.0000), Var(v=0.0960, grad=0.0368), Var(v=0.1143, grad=0.0000), Var(v=-0.0329, grad=0.0000), Var(v=0.1549, grad=-0.0169), Var(v=-0.0312, grad=-0.0171), Var(v=-0.0835, grad=0.0000), Var(v=-0.1501, grad=0.0000), Var(v=-0.0292, grad=0.0000), Var(v=0.0142, grad=0.0000), Var(v=0.0291, grad=-0.0027), Var(v=0.0009, grad=0.0206), Var(v=-0.0959, grad=-0.0268), Var(v=-0.1294, grad=0.0000)], [Var(v=0.0972, grad=-0.0465), Var(v=0.0863, grad=0.3184), Var(v=-0.0388, grad=0.0000), Var(v=0.0020, grad=0.2000), Var(v=0.0118, grad=0.0000), Var(v=0.0535, grad=0.1424), Var(v=0.0460, grad=-0.5275), Var(v=0.0090, grad=0.0000), Var(v=0.0908, grad=0.0000), Var(v=-0.1592, grad=0.0000), Var(v=0.3080, grad=0.6218), Var(v=0.0313, grad=0.0000), Var(v=-0.1604, grad=0.0000), Var(v=-0.0340, grad=0.1305), Var(v=0.0478, grad=-0.1987), Var(v=0.1041, grad=0.1972), Var(v=0.0816, grad=-0.6229), Var(v=0.0470, grad=0.0000), Var(v=0.0087, grad=0.0000), Var(v=-0.0295, grad=0.0000), Var(v=0.0278, grad=0.0000), Var(v=-0.0534, grad=0.0000), Var(v=0.0002, grad=0.0000), Var(v=0.1092, grad=-0.4353), Var(v=0.0229, grad=0.0000), Var(v=0.0341, grad=0.1069), Var(v=-0.0803, grad=0.0000), Var(v=-0.0133, grad=0.5561), Var(v=0.0832, grad=-0.5268), Var(v=-0.1665, grad=-0.5102), Var(v=0.0414, grad=-0.1806), Var(v=0.0360, grad=0.0000), Var(v=-0.0326, grad=0.1311), Var(v=-0.0409, grad=-0.1050), Var(v=-0.1152, grad=0.0000), Var(v=0.1918, grad=0.0000), Var(v=-0.2056, grad=0.0000), Var(v=-0.0856, grad=0.7667), Var(v=-0.0899, grad=0.0000), Var(v=-0.0333, grad=0.0000), Var(v=-0.0565, grad=-0.3520), Var(v=0.0910, grad=-0.3552), Var(v=-0.0155, grad=0.0000), Var(v=0.0543, grad=0.0000), Var(v=-0.1597, grad=0.0000), Var(v=0.0543, grad=0.0000), Var(v=0.0813, grad=-0.0571), Var(v=-0.0739, grad=0.4279), Var(v=-0.0051, grad=-0.5574), Var(v=0.0818, grad=0.0000)], [Var(v=0.1232, grad=-0.0670), Var(v=-0.0069, grad=0.4583), Var(v=0.1630, grad=0.0000), Var(v=-0.1315, grad=0.2879), Var(v=-0.0008, grad=0.0000), Var(v=-0.0230, grad=0.2050), Var(v=-0.0356, grad=-0.7594), Var(v=-0.0069, grad=0.0000), Var(v=-0.0455, grad=0.0000), Var(v=0.0573, grad=0.0000), Var(v=0.0332, grad=0.8952), Var(v=0.0587, grad=0.0000), Var(v=-0.1503, grad=0.0000), Var(v=0.1934, grad=0.1879), Var(v=-0.0777, grad=-0.2860), Var(v=0.0592, grad=0.2839), Var(v=-0.0717, grad=-0.8967), Var(v=0.0317, grad=0.0000), Var(v=0.0492, grad=0.0000), Var(v=0.1295, grad=0.0000), Var(v=0.0071, grad=0.0000), Var(v=-0.2273, grad=0.0000), Var(v=-0.0590, grad=0.0000), Var(v=0.1038, grad=-0.6267), Var(v=0.0228, grad=0.0000), Var(v=-0.0028, grad=0.1539), Var(v=-0.1288, grad=0.0000), Var(v=0.0542, grad=0.8005), Var(v=0.0713, grad=-0.7583), Var(v=0.0687, grad=-0.7344), Var(v=0.0560, grad=-0.2599), Var(v=-0.1447, grad=0.0000), Var(v=0.0707, grad=0.1887), Var(v=-0.0163, grad=-0.1512), Var(v=0.0357, grad=0.0000), Var(v=0.1129, grad=0.0000), Var(v=0.0028, grad=0.0000), Var(v=0.0331, grad=1.1037), Var(v=0.0320, grad=0.0000), Var(v=0.1480, grad=0.0000), Var(v=0.0579, grad=-0.5067), Var(v=0.1844, grad=-0.5113), Var(v=-0.1242, grad=0.0000), Var(v=0.1517, grad=0.0000), Var(v=-0.0660, grad=0.0000), Var(v=-0.2044, grad=0.0000), Var(v=0.1495, grad=-0.0822), Var(v=0.1069, grad=0.6159), Var(v=-0.0058, grad=-0.8025), Var(v=0.0909, grad=0.0000)], [Var(v=-0.1246, grad=-0.0490), Var(v=-0.0558, grad=0.3353), Var(v=-0.1190, grad=0.0000), Var(v=-0.1138, grad=0.2106), Var(v=-0.3066, grad=0.0000), Var(v=0.0077, grad=0.1500), Var(v=-0.1498, grad=-0.5556), Var(v=-0.0314, grad=0.0000), Var(v=0.1359, grad=0.0000), Var(v=-0.0949, grad=0.0000), Var(v=-0.1249, grad=0.6549), Var(v=-0.0275, grad=0.0000), Var(v=-0.0289, grad=0.0000), Var(v=-0.0395, grad=0.1375), Var(v=0.0134, grad=-0.2092), Var(v=-0.0790, grad=0.2077), Var(v=0.1009, grad=-0.6561), Var(v=0.0243, grad=0.0000), Var(v=0.0143, grad=0.0000), Var(v=-0.0132, grad=0.0000), Var(v=0.2764, grad=0.0000), Var(v=-0.0118, grad=0.0000), Var(v=-0.0484, grad=0.0000), Var(v=0.0317, grad=-0.4585), Var(v=-0.0347, grad=0.0000), Var(v=0.0070, grad=0.1126), Var(v=0.0089, grad=0.0000), Var(v=-0.0567, grad=0.5857), Var(v=-0.2401, grad=-0.5548), Var(v=0.0407, grad=-0.5373), Var(v=0.0674, grad=-0.1902), Var(v=-0.1517, grad=0.0000), Var(v=0.0263, grad=0.1381), Var(v=0.0996, grad=-0.1106), Var(v=-0.1000, grad=0.0000), Var(v=-0.1803, grad=0.0000), Var(v=-0.1299, grad=0.0000), Var(v=-0.0416, grad=0.8075), Var(v=-0.0420, grad=0.0000), Var(v=0.0023, grad=0.0000), Var(v=0.0308, grad=-0.3707), Var(v=-0.0668, grad=-0.3741), Var(v=-0.0407, grad=0.0000), Var(v=0.0466, grad=0.0000), Var(v=-0.0661, grad=0.0000), Var(v=-0.1829, grad=0.0000), Var(v=0.1653, grad=-0.0602), Var(v=0.1463, grad=0.4506), Var(v=0.0223, grad=-0.5871), Var(v=0.0004, grad=0.0000)], [Var(v=-0.0460, grad=0.0903), Var(v=-0.0530, grad=-0.6176), Var(v=-0.0068, grad=-0.0809), Var(v=0.0015, grad=0.0000), Var(v=-0.0727, grad=-0.4745), Var(v=-0.1432, grad=0.0000), Var(v=-0.1603, grad=0.0000), Var(v=0.1939, grad=1.4383), Var(v=0.0709, grad=0.0000), Var(v=-0.0900, grad=-1.0434), Var(v=0.0747, grad=-1.2063), Var(v=-0.1287, grad=0.0000), Var(v=-0.1502, grad=0.0000), Var(v=0.1590, grad=-0.2532), Var(v=0.1201, grad=0.3854), Var(v=0.1136, grad=-0.3825), Var(v=0.0982, grad=1.2085), Var(v=0.0090, grad=0.0000), Var(v=0.0024, grad=0.9065), Var(v=0.0650, grad=-1.8293), Var(v=-0.0144, grad=0.0000), Var(v=0.0360, grad=0.0000), Var(v=-0.0898, grad=0.0000), Var(v=-0.0639, grad=0.0000), Var(v=-0.0751, grad=0.0000), Var(v=0.0242, grad=-0.2075), Var(v=-0.1518, grad=0.8089), Var(v=-0.0335, grad=-1.0788), Var(v=-0.1188, grad=0.0000), Var(v=0.0764, grad=0.9897), Var(v=0.0031, grad=0.3503), Var(v=-0.0602, grad=0.0000), Var(v=-0.0727, grad=0.0000), Var(v=-0.0235, grad=0.0000), Var(v=0.2070, grad=-0.9847), Var(v=0.0747, grad=0.2569), Var(v=-0.2083, grad=0.0000), Var(v=-0.1222, grad=0.0000), Var(v=0.1201, grad=0.0000), Var(v=0.0697, grad=0.0000), Var(v=-0.1358, grad=0.0000), Var(v=0.1207, grad=0.6890), Var(v=0.0385, grad=0.4341), Var(v=-0.0034, grad=0.1284), Var(v=-0.0328, grad=0.0000), Var(v=-0.0667, grad=0.0000), Var(v=-0.0725, grad=0.1108), Var(v=0.0843, grad=-0.8301), Var(v=-0.1499, grad=0.0000), Var(v=0.0139, grad=0.0000)], [Var(v=-0.0365, grad=0.0057), Var(v=0.1063, grad=-0.0390), Var(v=-0.0648, grad=-0.0051), Var(v=-0.0773, grad=0.0000), Var(v=-0.0254, grad=-0.0299), Var(v=-0.0634, grad=0.0000), Var(v=-0.1079, grad=0.0000), Var(v=0.2000, grad=0.0907), Var(v=-0.0148, grad=0.0000), Var(v=0.0610, grad=-0.0658), Var(v=0.0263, grad=-0.0761), Var(v=-0.1472, grad=0.0000), Var(v=0.0114, grad=0.0000), Var(v=0.1121, grad=-0.0160), Var(v=0.1219, grad=0.0243), Var(v=-0.0358, grad=-0.0241), Var(v=-0.0137, grad=0.0762), Var(v=-0.0173, grad=0.0000), Var(v=-0.0847, grad=0.0572), Var(v=-0.0346, grad=-0.1154), Var(v=0.0608, grad=0.0000), Var(v=-0.0193, grad=0.0000), Var(v=0.0756, grad=0.0000), Var(v=-0.0350, grad=0.0000), Var(v=0.0788, grad=0.0000), Var(v=0.1196, grad=-0.0131), Var(v=0.0918, grad=0.0510), Var(v=-0.0636, grad=-0.0681), Var(v=-0.0161, grad=0.0000), Var(v=0.0087, grad=0.0624), Var(v=0.0144, grad=0.0221), Var(v=-0.0385, grad=0.0000), Var(v=-0.0643, grad=0.0000), Var(v=0.0623, grad=0.0000), Var(v=-0.1241, grad=-0.0621), Var(v=-0.0698, grad=0.0162), Var(v=-0.1438, grad=0.0000), Var(v=-0.2594, grad=0.0000), Var(v=0.1056, grad=0.0000), Var(v=0.0744, grad=0.0000), Var(v=0.0377, grad=0.0000), Var(v=0.0518, grad=0.0435), Var(v=-0.0782, grad=0.0274), Var(v=0.0203, grad=0.0081), Var(v=-0.1700, grad=0.0000), Var(v=-0.0473, grad=0.0000), Var(v=0.0609, grad=0.0070), Var(v=0.0482, grad=-0.0524), Var(v=-0.0027, grad=0.0000), Var(v=-0.0128, grad=0.0000)], [Var(v=0.0964, grad=0.0499), Var(v=-0.0579, grad=-0.3414), Var(v=0.1606, grad=-0.0447), Var(v=-0.0576, grad=0.0000), Var(v=0.0783, grad=-0.2623), Var(v=0.0298, grad=0.0000), Var(v=-0.0440, grad=0.0000), Var(v=-0.0879, grad=0.7950), Var(v=-0.2223, grad=0.0000), Var(v=-0.1480, grad=-0.5767), Var(v=-0.2042, grad=-0.6668), Var(v=-0.0135, grad=0.0000), Var(v=-0.0408, grad=0.0000), Var(v=-0.0253, grad=-0.1400), Var(v=0.0025, grad=0.2130), Var(v=-0.0853, grad=-0.2114), Var(v=0.1178, grad=0.6680), Var(v=-0.0431, grad=0.0000), Var(v=-0.1537, grad=0.5010), Var(v=-0.0436, grad=-1.0111), Var(v=-0.0315, grad=0.0000), Var(v=0.0758, grad=0.0000), Var(v=-0.1316, grad=0.0000), Var(v=0.1805, grad=0.0000), Var(v=-0.1156, grad=0.0000), Var(v=0.1041, grad=-0.1147), Var(v=0.0419, grad=0.4471), Var(v=-0.0269, grad=-0.5963), Var(v=-0.1740, grad=0.0000), Var(v=-0.0451, grad=0.5471), Var(v=0.1760, grad=0.1936), Var(v=-0.1164, grad=0.0000), Var(v=0.0890, grad=0.0000), Var(v=-0.0093, grad=0.0000), Var(v=-0.0249, grad=-0.5443), Var(v=-0.0027, grad=0.1420), Var(v=0.0895, grad=0.0000), Var(v=0.0040, grad=0.0000), Var(v=-0.0630, grad=0.0000), Var(v=-0.2120, grad=0.0000), Var(v=0.0339, grad=0.0000), Var(v=0.0326, grad=0.3808), Var(v=-0.0271, grad=0.2399), Var(v=0.0396, grad=0.0709), Var(v=0.0283, grad=0.0000), Var(v=0.0710, grad=0.0000), Var(v=0.0674, grad=0.0613), Var(v=-0.0607, grad=-0.4588), Var(v=0.0157, grad=0.0000), Var(v=-0.0322, grad=0.0000)]] Biases: [Var(v=0.0000, grad=0.0106), Var(v=0.0000, grad=-0.0726), Var(v=0.0000, grad=-0.6966), Var(v=0.0000, grad=3.2941), Var(v=0.0000, grad=-4.0850), Var(v=0.0000, grad=2.3459), Var(v=0.0000, grad=-8.6897), Var(v=0.0000, grad=12.3811), Var(v=0.0000, grad=0.0000), Var(v=0.0000, grad=-8.9817), Var(v=0.0000, grad=-0.1417), Var(v=0.0000, grad=0.0000), Var(v=0.0000, grad=0.0000), Var(v=0.0000, grad=-0.0298), Var(v=0.0000, grad=0.0453), Var(v=0.0000, grad=-0.0449), Var(v=0.0000, grad=0.1420), Var(v=0.0000, grad=0.0000), Var(v=0.0000, grad=7.8034), Var(v=0.0000, grad=-15.7472), Var(v=0.0000, grad=0.0000), Var(v=0.0000, grad=0.0000), Var(v=0.0000, grad=0.0000), Var(v=0.0000, grad=-7.1707), Var(v=0.0000, grad=0.0000), Var(v=0.0000, grad=-0.0244), Var(v=0.0000, grad=6.9636), Var(v=0.0000, grad=-0.1268), Var(v=0.0000, grad=-8.6774), Var(v=0.0000, grad=0.1163), Var(v=0.0000, grad=0.0412), Var(v=0.0000, grad=0.0000), Var(v=0.0000, grad=2.1594), Var(v=0.0000, grad=-1.7300), Var(v=0.0000, grad=-8.4765), Var(v=0.0000, grad=2.2114), Var(v=0.0000, grad=0.0000), Var(v=0.0000, grad=12.6292), Var(v=0.0000, grad=0.0000), Var(v=0.0000, grad=0.0000), Var(v=0.0000, grad=-5.7977), Var(v=0.0000, grad=0.0810), Var(v=0.0000, grad=3.7366), Var(v=0.0000, grad=1.1050), Var(v=0.0000, grad=0.0000), Var(v=0.0000, grad=0.0000), Var(v=0.0000, grad=0.0130), Var(v=0.0000, grad=-0.0975), Var(v=0.0000, grad=-9.1826), Var(v=0.0000, grad=0.0000)]\n",
            "Layer 2 \n",
            " Weights: [[Var(v=-0.0089, grad=4.1512)], [Var(v=0.0610, grad=1.5193)], [Var(v=0.0080, grad=-1.1998)], [Var(v=0.0383, grad=0.6927)], [Var(v=0.0469, grad=-0.3347)], [Var(v=0.0273, grad=1.7727)], [Var(v=-0.1011, grad=3.0198)], [Var(v=-0.1421, grad=-1.9671)], [Var(v=0.0446, grad=0.0000)], [Var(v=0.1031, grad=-0.8539)], [Var(v=0.1192, grad=-1.1481)], [Var(v=-0.0305, grad=0.0000)], [Var(v=0.1008, grad=0.0000)], [Var(v=0.0250, grad=1.3197)], [Var(v=-0.0381, grad=-0.3667)], [Var(v=0.0378, grad=1.6831)], [Var(v=-0.1194, grad=2.5694)], [Var(v=-0.0424, grad=0.0000)], [Var(v=-0.0896, grad=-0.2350)], [Var(v=0.1808, grad=-1.5317)], [Var(v=-0.0952, grad=0.0000)], [Var(v=0.0491, grad=0.0000)], [Var(v=-0.0010, grad=0.0000)], [Var(v=-0.0834, grad=2.7906)], [Var(v=0.0238, grad=0.0000)], [Var(v=0.0205, grad=1.7989)], [Var(v=-0.0799, grad=-0.0210)], [Var(v=0.1066, grad=-0.8371)], [Var(v=-0.1010, grad=4.7687)], [Var(v=-0.0978, grad=0.2347)], [Var(v=-0.0346, grad=-0.4024)], [Var(v=-0.1023, grad=0.0000)], [Var(v=0.0251, grad=0.7040)], [Var(v=-0.0201, grad=1.7656)], [Var(v=0.0973, grad=-0.9661)], [Var(v=-0.0254, grad=-1.1702)], [Var(v=0.1044, grad=0.0000)], [Var(v=0.1470, grad=1.1018)], [Var(v=0.0046, grad=0.0000)], [Var(v=0.1170, grad=0.0000)], [Var(v=-0.0675, grad=0.7107)], [Var(v=-0.0681, grad=1.0797)], [Var(v=-0.0429, grad=-0.4288)], [Var(v=-0.0127, grad=-4.0287)], [Var(v=0.0596, grad=0.0000)], [Var(v=0.1445, grad=0.0000)], [Var(v=-0.0110, grad=2.5118)], [Var(v=0.0820, grad=-0.8293)], [Var(v=-0.1069, grad=0.8773)], [Var(v=0.1934, grad=0.0000)]] Biases: [Var(v=0.0000, grad=-1.1891)]\n",
            "\n",
            "Network after update:\n",
            "Layer 0 \n",
            " Weights: [[Var(v=-0.1303, grad=5.7812), Var(v=-0.0124, grad=1.3026), Var(v=0.1112, grad=-6.7391), Var(v=-0.0085, grad=0.5936), Var(v=0.0759, grad=-2.5652), Var(v=-0.2955, grad=3.3509), Var(v=-0.0543, grad=0.5828), Var(v=0.1300, grad=-1.7736), Var(v=0.0111, grad=-1.3745), Var(v=-0.0506, grad=-0.4517), Var(v=-0.0809, grad=0.1490), Var(v=-0.0680, grad=0.9930), Var(v=0.0865, grad=1.3297), Var(v=-0.0288, grad=3.5077), Var(v=0.0003, grad=5.4829)]] Biases: [Var(v=0.0525, grad=-5.2534), Var(v=-0.0112, grad=1.1190), Var(v=0.0579, grad=-5.7891), Var(v=0.0054, grad=-0.5394), Var(v=0.0220, grad=-2.2036), Var(v=0.0304, grad=-3.0449), Var(v=0.0053, grad=-0.5296), Var(v=0.0152, grad=-1.5235), Var(v=-0.0125, grad=1.2490), Var(v=-0.0041, grad=0.4105), Var(v=0.0014, grad=-0.1354), Var(v=0.0090, grad=-0.9024), Var(v=-0.0114, grad=1.1422), Var(v=-0.0301, grad=3.0132), Var(v=-0.0471, grad=4.7100)]\n",
            "Layer 1 \n",
            " Weights: [[Var(v=0.0822, grad=-0.0612), Var(v=-0.0242, grad=0.4185), Var(v=0.0869, grad=0.0000), Var(v=-0.0696, grad=0.2629), Var(v=0.0409, grad=0.0000), Var(v=-0.1168, grad=0.1872), Var(v=-0.0338, grad=-0.6935), Var(v=-0.0815, grad=0.0000), Var(v=-0.1091, grad=0.0000), Var(v=0.0016, grad=0.0000), Var(v=-0.2148, grad=0.8174), Var(v=0.1011, grad=0.0000), Var(v=-0.0445, grad=0.0000), Var(v=0.0341, grad=0.1716), Var(v=0.1439, grad=-0.2612), Var(v=-0.0741, grad=0.2592), Var(v=0.0037, grad=-0.8189), Var(v=-0.0747, grad=0.0000), Var(v=-0.0863, grad=0.0000), Var(v=0.1409, grad=0.0000), Var(v=0.0206, grad=0.0000), Var(v=0.0239, grad=0.0000), Var(v=0.1060, grad=0.0000), Var(v=0.0647, grad=-0.5723), Var(v=-0.1027, grad=0.0000), Var(v=-0.0324, grad=0.1406), Var(v=-0.0961, grad=0.0000), Var(v=-0.0179, grad=0.7310), Var(v=0.2871, grad=-0.6925), Var(v=0.1656, grad=-0.6707), Var(v=0.0693, grad=-0.2374), Var(v=0.0093, grad=0.0000), Var(v=-0.0583, grad=0.1723), Var(v=-0.0050, grad=-0.1381), Var(v=0.0743, grad=0.0000), Var(v=0.0797, grad=0.0000), Var(v=-0.1618, grad=0.0000), Var(v=0.0646, grad=1.0079), Var(v=0.0384, grad=0.0000), Var(v=-0.0698, grad=0.0000), Var(v=-0.0216, grad=-0.4627), Var(v=-0.0782, grad=-0.4669), Var(v=0.1459, grad=0.0000), Var(v=0.0871, grad=0.0000), Var(v=-0.2554, grad=0.0000), Var(v=0.0169, grad=0.0000), Var(v=0.0057, grad=-0.0751), Var(v=-0.0199, grad=0.5625), Var(v=-0.0924, grad=-0.7328), Var(v=-0.1152, grad=0.0000)], [Var(v=0.0420, grad=0.0006), Var(v=0.0842, grad=-0.0040), Var(v=0.0407, grad=-0.0005), Var(v=0.0819, grad=0.0000), Var(v=0.0647, grad=-0.0030), Var(v=-0.1650, grad=0.0000), Var(v=0.0915, grad=0.0000), Var(v=0.0984, grad=0.0092), Var(v=-0.1406, grad=0.0000), Var(v=-0.0147, grad=-0.0067), Var(v=-0.1174, grad=-0.0077), Var(v=0.0358, grad=0.0000), Var(v=-0.0528, grad=0.0000), Var(v=-0.1238, grad=-0.0016), Var(v=0.0648, grad=0.0025), Var(v=0.1170, grad=-0.0024), Var(v=0.0154, grad=0.0077), Var(v=0.0833, grad=0.0000), Var(v=-0.0232, grad=0.0058), Var(v=-0.1282, grad=-0.0117), Var(v=-0.1463, grad=0.0000), Var(v=-0.0761, grad=0.0000), Var(v=-0.0215, grad=0.0000), Var(v=0.1777, grad=0.0000), Var(v=-0.1333, grad=0.0000), Var(v=0.1133, grad=-0.0013), Var(v=-0.0412, grad=0.0052), Var(v=0.1050, grad=-0.0069), Var(v=0.1117, grad=0.0000), Var(v=-0.0402, grad=0.0063), Var(v=0.1109, grad=0.0022), Var(v=0.1881, grad=0.0000), Var(v=0.0113, grad=0.0000), Var(v=0.0394, grad=0.0000), Var(v=0.1685, grad=-0.0063), Var(v=-0.0636, grad=0.0016), Var(v=0.1293, grad=0.0000), Var(v=-0.1258, grad=0.0000), Var(v=-0.0839, grad=0.0000), Var(v=-0.0020, grad=0.0000), Var(v=0.0846, grad=0.0000), Var(v=-0.0353, grad=0.0044), Var(v=0.0187, grad=0.0028), Var(v=-0.0458, grad=0.0008), Var(v=-0.0267, grad=0.0000), Var(v=-0.0042, grad=0.0000), Var(v=-0.0134, grad=0.0007), Var(v=-0.0554, grad=-0.0053), Var(v=0.0500, grad=0.0000), Var(v=-0.0782, grad=0.0000)], [Var(v=-0.0434, grad=0.0396), Var(v=0.0913, grad=-0.2710), Var(v=-0.0461, grad=-0.0355), Var(v=0.0158, grad=0.0000), Var(v=-0.0428, grad=-0.2082), Var(v=-0.1078, grad=0.0000), Var(v=-0.0769, grad=0.0000), Var(v=0.1483, grad=0.6310), Var(v=-0.0972, grad=0.0000), Var(v=0.2059, grad=-0.4578), Var(v=0.0947, grad=-0.5293), Var(v=0.1167, grad=0.0000), Var(v=0.0062, grad=0.0000), Var(v=-0.1014, grad=-0.1111), Var(v=0.0114, grad=0.1691), Var(v=0.1352, grad=-0.1678), Var(v=-0.1637, grad=0.5302), Var(v=-0.0075, grad=0.0000), Var(v=0.0615, grad=0.3977), Var(v=0.0416, grad=-0.8026), Var(v=0.0011, grad=0.0000), Var(v=-0.0505, grad=0.0000), Var(v=-0.0496, grad=0.0000), Var(v=0.1091, grad=0.0000), Var(v=-0.0513, grad=0.0000), Var(v=0.3141, grad=-0.0910), Var(v=-0.0240, grad=0.3549), Var(v=0.2696, grad=-0.4733), Var(v=0.0987, grad=0.0000), Var(v=0.0475, grad=0.4342), Var(v=-0.0870, grad=0.1537), Var(v=-0.0277, grad=0.0000), Var(v=0.0096, grad=0.0000), Var(v=-0.1296, grad=0.0000), Var(v=-0.0911, grad=-0.4320), Var(v=0.0356, grad=0.1127), Var(v=0.0257, grad=0.0000), Var(v=0.0355, grad=0.0000), Var(v=-0.0495, grad=0.0000), Var(v=0.0526, grad=0.0000), Var(v=0.1433, grad=0.0000), Var(v=0.1331, grad=0.3023), Var(v=-0.0101, grad=0.1904), Var(v=0.0085, grad=0.0563), Var(v=-0.0426, grad=0.0000), Var(v=0.0241, grad=0.0000), Var(v=-0.0793, grad=0.0486), Var(v=0.2085, grad=-0.3642), Var(v=0.0872, grad=0.0000), Var(v=0.0771, grad=0.0000)], [Var(v=-0.0581, grad=-0.0021), Var(v=0.0446, grad=0.0146), Var(v=-0.2710, grad=0.0000), Var(v=0.0445, grad=0.0092), Var(v=-0.0418, grad=0.0000), Var(v=0.1206, grad=0.0066), Var(v=0.0263, grad=-0.0243), Var(v=-0.0414, grad=0.0000), Var(v=-0.2151, grad=0.0000), Var(v=-0.0875, grad=0.0000), Var(v=0.0139, grad=0.0286), Var(v=-0.1509, grad=0.0000), Var(v=0.0179, grad=0.0000), Var(v=0.0040, grad=0.0060), Var(v=-0.1212, grad=-0.0091), Var(v=0.0460, grad=0.0091), Var(v=0.0904, grad=-0.0286), Var(v=0.1006, grad=0.0000), Var(v=-0.0823, grad=0.0000), Var(v=0.0046, grad=0.0000), Var(v=-0.0039, grad=0.0000), Var(v=0.0503, grad=0.0000), Var(v=0.0188, grad=0.0000), Var(v=-0.0222, grad=-0.0200), Var(v=0.0783, grad=0.0000), Var(v=-0.0743, grad=0.0049), Var(v=0.0987, grad=0.0000), Var(v=0.0583, grad=0.0256), Var(v=0.0164, grad=-0.0242), Var(v=0.0034, grad=-0.0235), Var(v=0.0355, grad=-0.0083), Var(v=-0.0009, grad=0.0000), Var(v=-0.1111, grad=0.0060), Var(v=0.0602, grad=-0.0048), Var(v=0.0123, grad=0.0000), Var(v=-0.0585, grad=0.0000), Var(v=-0.1078, grad=0.0000), Var(v=-0.1556, grad=0.0353), Var(v=0.0047, grad=0.0000), Var(v=0.1465, grad=0.0000), Var(v=0.0033, grad=-0.0162), Var(v=0.1073, grad=-0.0163), Var(v=-0.0934, grad=0.0000), Var(v=0.1184, grad=0.0000), Var(v=-0.0494, grad=0.0000), Var(v=0.0579, grad=0.0000), Var(v=-0.0477, grad=-0.0026), Var(v=0.0819, grad=0.0197), Var(v=-0.1342, grad=-0.0256), Var(v=0.0297, grad=0.0000)], [Var(v=0.0773, grad=0.0454), Var(v=-0.1286, grad=-0.3108), Var(v=0.0351, grad=-0.0407), Var(v=0.0542, grad=0.0000), Var(v=0.1049, grad=-0.2388), Var(v=-0.0055, grad=0.0000), Var(v=0.0772, grad=0.0000), Var(v=-0.0932, grad=0.7237), Var(v=0.1756, grad=0.0000), Var(v=0.0721, grad=-0.5250), Var(v=-0.0338, grad=-0.6070), Var(v=0.0529, grad=0.0000), Var(v=-0.0369, grad=0.0000), Var(v=0.1448, grad=-0.1274), Var(v=0.0256, grad=0.1939), Var(v=0.2002, grad=-0.1925), Var(v=0.0444, grad=0.6081), Var(v=-0.2625, grad=0.0000), Var(v=-0.0328, grad=0.4561), Var(v=0.1113, grad=-0.9205), Var(v=-0.1297, grad=0.0000), Var(v=-0.0954, grad=0.0000), Var(v=-0.0200, grad=0.0000), Var(v=-0.1047, grad=0.0000), Var(v=-0.0097, grad=0.0000), Var(v=0.0375, grad=-0.1044), Var(v=-0.0043, grad=0.4070), Var(v=0.0353, grad=-0.5428), Var(v=-0.0592, grad=0.0000), Var(v=0.0900, grad=0.4980), Var(v=0.0403, grad=0.1763), Var(v=-0.0496, grad=0.0000), Var(v=-0.0575, grad=0.0000), Var(v=0.0366, grad=0.0000), Var(v=-0.1445, grad=-0.4955), Var(v=-0.0694, grad=0.1293), Var(v=0.0939, grad=0.0000), Var(v=-0.0654, grad=0.0000), Var(v=0.0018, grad=0.0000), Var(v=-0.0437, grad=0.0000), Var(v=0.0344, grad=0.0000), Var(v=-0.1177, grad=0.3467), Var(v=-0.1210, grad=0.2184), Var(v=0.2202, grad=0.0646), Var(v=0.0468, grad=0.0000), Var(v=0.0783, grad=0.0000), Var(v=0.2534, grad=0.0558), Var(v=0.0274, grad=-0.4177), Var(v=-0.1011, grad=0.0000), Var(v=-0.1329, grad=0.0000)], [Var(v=0.1832, grad=-0.2210), Var(v=0.0648, grad=1.5121), Var(v=-0.0657, grad=0.0000), Var(v=0.0972, grad=0.9498), Var(v=-0.0064, grad=0.0000), Var(v=0.0927, grad=0.6764), Var(v=0.2167, grad=-2.5056), Var(v=-0.1369, grad=0.0000), Var(v=-0.0290, grad=0.0000), Var(v=-0.1384, grad=0.0000), Var(v=-0.0080, grad=2.9535), Var(v=-0.1253, grad=0.0000), Var(v=0.0182, grad=0.0000), Var(v=0.0764, grad=0.6200), Var(v=0.0260, grad=-0.9436), Var(v=0.0757, grad=0.9365), Var(v=0.1432, grad=-2.9587), Var(v=-0.1858, grad=0.0000), Var(v=-0.1096, grad=0.0000), Var(v=-0.1087, grad=0.0000), Var(v=-0.0719, grad=0.0000), Var(v=-0.2897, grad=0.0000), Var(v=-0.1972, grad=0.0000), Var(v=0.0378, grad=-2.0676), Var(v=0.0152, grad=0.0000), Var(v=0.1557, grad=0.5079), Var(v=-0.1084, grad=0.0000), Var(v=-0.0246, grad=2.6413), Var(v=0.1158, grad=-2.5021), Var(v=0.0174, grad=-2.4232), Var(v=-0.0179, grad=-0.8577), Var(v=-0.0612, grad=0.0000), Var(v=0.0607, grad=0.6226), Var(v=0.0740, grad=-0.4989), Var(v=0.0065, grad=0.0000), Var(v=-0.1697, grad=0.0000), Var(v=-0.0766, grad=0.0000), Var(v=0.0186, grad=3.6416), Var(v=-0.0368, grad=0.0000), Var(v=-0.0368, grad=0.0000), Var(v=0.0675, grad=-1.6717), Var(v=0.1111, grad=-1.6869), Var(v=-0.1602, grad=0.0000), Var(v=-0.1558, grad=0.0000), Var(v=-0.0181, grad=0.0000), Var(v=-0.1771, grad=0.0000), Var(v=0.0129, grad=-0.2713), Var(v=-0.0818, grad=2.0323), Var(v=0.0981, grad=-2.6478), Var(v=-0.0513, grad=0.0000)], [Var(v=0.0526, grad=-0.0409), Var(v=-0.0311, grad=0.2798), Var(v=0.0426, grad=0.0000), Var(v=0.0179, grad=0.1758), Var(v=-0.0964, grad=0.0000), Var(v=-0.0263, grad=0.1252), Var(v=-0.1256, grad=-0.4637), Var(v=0.1939, grad=0.0000), Var(v=-0.0466, grad=0.0000), Var(v=0.1241, grad=0.0000), Var(v=-0.0041, grad=0.5466), Var(v=0.1520, grad=0.0000), Var(v=0.0211, grad=0.0000), Var(v=-0.2135, grad=0.1147), Var(v=0.0333, grad=-0.1746), Var(v=0.0667, grad=0.1733), Var(v=0.0755, grad=-0.5475), Var(v=0.0852, grad=0.0000), Var(v=0.1868, grad=0.0000), Var(v=0.0797, grad=0.0000), Var(v=-0.1302, grad=0.0000), Var(v=0.0539, grad=0.0000), Var(v=-0.0065, grad=0.0000), Var(v=0.0912, grad=-0.3826), Var(v=-0.1749, grad=0.0000), Var(v=0.0108, grad=0.0940), Var(v=-0.0516, grad=0.0000), Var(v=0.0352, grad=0.4888), Var(v=0.2061, grad=-0.4630), Var(v=0.0406, grad=-0.4484), Var(v=0.0495, grad=-0.1587), Var(v=0.0415, grad=0.0000), Var(v=-0.2274, grad=0.1152), Var(v=-0.0192, grad=-0.0923), Var(v=-0.0266, grad=0.0000), Var(v=0.0521, grad=0.0000), Var(v=0.0362, grad=0.0000), Var(v=-0.0797, grad=0.6739), Var(v=0.1757, grad=0.0000), Var(v=0.0544, grad=0.0000), Var(v=-0.1532, grad=-0.3094), Var(v=-0.0844, grad=-0.3122), Var(v=-0.0371, grad=0.0000), Var(v=0.0182, grad=0.0000), Var(v=0.1378, grad=0.0000), Var(v=0.1495, grad=0.0000), Var(v=-0.0348, grad=-0.0502), Var(v=0.2090, grad=0.3761), Var(v=-0.0408, grad=-0.4900), Var(v=0.0571, grad=0.0000)], [Var(v=0.1408, grad=0.1016), Var(v=0.1227, grad=-0.6950), Var(v=0.0395, grad=-0.0911), Var(v=-0.1371, grad=0.0000), Var(v=0.0336, grad=-0.5340), Var(v=0.0618, grad=0.0000), Var(v=-0.0114, grad=0.0000), Var(v=-0.0062, grad=1.6185), Var(v=-0.0570, grad=0.0000), Var(v=0.1277, grad=-1.1741), Var(v=0.1561, grad=-1.3575), Var(v=-0.0604, grad=0.0000), Var(v=0.0738, grad=0.0000), Var(v=-0.0659, grad=-0.2850), Var(v=0.0048, grad=0.4337), Var(v=-0.1183, grad=-0.4305), Var(v=-0.0341, grad=1.3599), Var(v=0.0596, grad=0.0000), Var(v=0.0758, grad=1.0201), Var(v=0.0627, grad=-2.0585), Var(v=0.0240, grad=0.0000), Var(v=-0.0438, grad=0.0000), Var(v=0.0863, grad=0.0000), Var(v=-0.1743, grad=0.0000), Var(v=0.0727, grad=0.0000), Var(v=-0.0196, grad=-0.2335), Var(v=0.1102, grad=0.9103), Var(v=0.0300, grad=-1.2140), Var(v=0.0590, grad=0.0000), Var(v=-0.0588, grad=1.1137), Var(v=0.0446, grad=0.3942), Var(v=-0.2266, grad=0.0000), Var(v=-0.0148, grad=0.0000), Var(v=-0.0706, grad=0.0000), Var(v=0.0343, grad=-1.1081), Var(v=0.0552, grad=0.2891), Var(v=-0.0069, grad=0.0000), Var(v=-0.0563, grad=0.0000), Var(v=-0.0878, grad=0.0000), Var(v=-0.0844, grad=0.0000), Var(v=-0.0151, grad=0.0000), Var(v=0.0218, grad=0.7753), Var(v=0.0725, grad=0.4884), Var(v=0.2327, grad=0.1444), Var(v=-0.0528, grad=0.0000), Var(v=-0.0916, grad=0.0000), Var(v=-0.0505, grad=0.1247), Var(v=-0.0034, grad=-0.9341), Var(v=-0.1094, grad=0.0000), Var(v=-0.1131, grad=0.0000)], [Var(v=0.0298, grad=-0.0022), Var(v=-0.1698, grad=0.0153), Var(v=0.0943, grad=0.0000), Var(v=0.0361, grad=0.0096), Var(v=0.1389, grad=0.0000), Var(v=0.1387, grad=0.0068), Var(v=-0.0271, grad=-0.0253), Var(v=0.1580, grad=0.0000), Var(v=0.0040, grad=0.0000), Var(v=-0.0899, grad=0.0000), Var(v=-0.0197, grad=0.0299), Var(v=-0.1800, grad=0.0000), Var(v=0.0662, grad=0.0000), Var(v=-0.1367, grad=0.0063), Var(v=0.0535, grad=-0.0095), Var(v=0.1986, grad=0.0095), Var(v=-0.1325, grad=-0.0299), Var(v=0.0147, grad=0.0000), Var(v=-0.0884, grad=0.0000), Var(v=-0.0511, grad=0.0000), Var(v=0.0155, grad=0.0000), Var(v=0.0564, grad=0.0000), Var(v=-0.1736, grad=0.0000), Var(v=0.1719, grad=-0.0209), Var(v=-0.1438, grad=0.0000), Var(v=0.1361, grad=0.0051), Var(v=0.1828, grad=0.0000), Var(v=-0.0975, grad=0.0267), Var(v=0.0837, grad=-0.0253), Var(v=-0.1126, grad=-0.0245), Var(v=-0.0868, grad=-0.0087), Var(v=0.1357, grad=0.0000), Var(v=-0.0284, grad=0.0063), Var(v=-0.1402, grad=-0.0050), Var(v=-0.1646, grad=0.0000), Var(v=-0.0128, grad=0.0000), Var(v=-0.0999, grad=0.0000), Var(v=0.0956, grad=0.0368), Var(v=0.1143, grad=0.0000), Var(v=-0.0329, grad=0.0000), Var(v=0.1551, grad=-0.0169), Var(v=-0.0311, grad=-0.0171), Var(v=-0.0835, grad=0.0000), Var(v=-0.1501, grad=0.0000), Var(v=-0.0292, grad=0.0000), Var(v=0.0142, grad=0.0000), Var(v=0.0291, grad=-0.0027), Var(v=0.0007, grad=0.0206), Var(v=-0.0957, grad=-0.0268), Var(v=-0.1294, grad=0.0000)], [Var(v=0.0976, grad=-0.0465), Var(v=0.0831, grad=0.3184), Var(v=-0.0388, grad=0.0000), Var(v=0.0000, grad=0.2000), Var(v=0.0118, grad=0.0000), Var(v=0.0521, grad=0.1424), Var(v=0.0513, grad=-0.5275), Var(v=0.0090, grad=0.0000), Var(v=0.0908, grad=0.0000), Var(v=-0.1592, grad=0.0000), Var(v=0.3018, grad=0.6218), Var(v=0.0313, grad=0.0000), Var(v=-0.1604, grad=0.0000), Var(v=-0.0353, grad=0.1305), Var(v=0.0498, grad=-0.1987), Var(v=0.1021, grad=0.1972), Var(v=0.0878, grad=-0.6229), Var(v=0.0470, grad=0.0000), Var(v=0.0087, grad=0.0000), Var(v=-0.0295, grad=0.0000), Var(v=0.0278, grad=0.0000), Var(v=-0.0534, grad=0.0000), Var(v=0.0002, grad=0.0000), Var(v=0.1136, grad=-0.4353), Var(v=0.0229, grad=0.0000), Var(v=0.0330, grad=0.1069), Var(v=-0.0803, grad=0.0000), Var(v=-0.0189, grad=0.5561), Var(v=0.0884, grad=-0.5268), Var(v=-0.1614, grad=-0.5102), Var(v=0.0432, grad=-0.1806), Var(v=0.0360, grad=0.0000), Var(v=-0.0339, grad=0.1311), Var(v=-0.0398, grad=-0.1050), Var(v=-0.1152, grad=0.0000), Var(v=0.1918, grad=0.0000), Var(v=-0.2056, grad=0.0000), Var(v=-0.0932, grad=0.7667), Var(v=-0.0899, grad=0.0000), Var(v=-0.0333, grad=0.0000), Var(v=-0.0530, grad=-0.3520), Var(v=0.0945, grad=-0.3552), Var(v=-0.0155, grad=0.0000), Var(v=0.0543, grad=0.0000), Var(v=-0.1597, grad=0.0000), Var(v=0.0543, grad=0.0000), Var(v=0.0819, grad=-0.0571), Var(v=-0.0782, grad=0.4279), Var(v=0.0004, grad=-0.5574), Var(v=0.0818, grad=0.0000)], [Var(v=0.1239, grad=-0.0670), Var(v=-0.0114, grad=0.4583), Var(v=0.1630, grad=0.0000), Var(v=-0.1344, grad=0.2879), Var(v=-0.0008, grad=0.0000), Var(v=-0.0251, grad=0.2050), Var(v=-0.0280, grad=-0.7594), Var(v=-0.0069, grad=0.0000), Var(v=-0.0455, grad=0.0000), Var(v=0.0573, grad=0.0000), Var(v=0.0243, grad=0.8952), Var(v=0.0587, grad=0.0000), Var(v=-0.1503, grad=0.0000), Var(v=0.1915, grad=0.1879), Var(v=-0.0748, grad=-0.2860), Var(v=0.0563, grad=0.2839), Var(v=-0.0627, grad=-0.8967), Var(v=0.0317, grad=0.0000), Var(v=0.0492, grad=0.0000), Var(v=0.1295, grad=0.0000), Var(v=0.0071, grad=0.0000), Var(v=-0.2273, grad=0.0000), Var(v=-0.0590, grad=0.0000), Var(v=0.1101, grad=-0.6267), Var(v=0.0228, grad=0.0000), Var(v=-0.0043, grad=0.1539), Var(v=-0.1288, grad=0.0000), Var(v=0.0462, grad=0.8005), Var(v=0.0789, grad=-0.7583), Var(v=0.0760, grad=-0.7344), Var(v=0.0586, grad=-0.2599), Var(v=-0.1447, grad=0.0000), Var(v=0.0688, grad=0.1887), Var(v=-0.0147, grad=-0.1512), Var(v=0.0357, grad=0.0000), Var(v=0.1129, grad=0.0000), Var(v=0.0028, grad=0.0000), Var(v=0.0221, grad=1.1037), Var(v=0.0320, grad=0.0000), Var(v=0.1480, grad=0.0000), Var(v=0.0629, grad=-0.5067), Var(v=0.1895, grad=-0.5113), Var(v=-0.1242, grad=0.0000), Var(v=0.1517, grad=0.0000), Var(v=-0.0660, grad=0.0000), Var(v=-0.2044, grad=0.0000), Var(v=0.1503, grad=-0.0822), Var(v=0.1007, grad=0.6159), Var(v=0.0023, grad=-0.8025), Var(v=0.0909, grad=0.0000)], [Var(v=-0.1241, grad=-0.0490), Var(v=-0.0591, grad=0.3353), Var(v=-0.1190, grad=0.0000), Var(v=-0.1159, grad=0.2106), Var(v=-0.3066, grad=0.0000), Var(v=0.0062, grad=0.1500), Var(v=-0.1442, grad=-0.5556), Var(v=-0.0314, grad=0.0000), Var(v=0.1359, grad=0.0000), Var(v=-0.0949, grad=0.0000), Var(v=-0.1314, grad=0.6549), Var(v=-0.0275, grad=0.0000), Var(v=-0.0289, grad=0.0000), Var(v=-0.0408, grad=0.1375), Var(v=0.0155, grad=-0.2092), Var(v=-0.0811, grad=0.2077), Var(v=0.1075, grad=-0.6561), Var(v=0.0243, grad=0.0000), Var(v=0.0143, grad=0.0000), Var(v=-0.0132, grad=0.0000), Var(v=0.2764, grad=0.0000), Var(v=-0.0118, grad=0.0000), Var(v=-0.0484, grad=0.0000), Var(v=0.0363, grad=-0.4585), Var(v=-0.0347, grad=0.0000), Var(v=0.0059, grad=0.1126), Var(v=0.0089, grad=0.0000), Var(v=-0.0625, grad=0.5857), Var(v=-0.2345, grad=-0.5548), Var(v=0.0461, grad=-0.5373), Var(v=0.0693, grad=-0.1902), Var(v=-0.1517, grad=0.0000), Var(v=0.0250, grad=0.1381), Var(v=0.1007, grad=-0.1106), Var(v=-0.1000, grad=0.0000), Var(v=-0.1803, grad=0.0000), Var(v=-0.1299, grad=0.0000), Var(v=-0.0496, grad=0.8075), Var(v=-0.0420, grad=0.0000), Var(v=0.0023, grad=0.0000), Var(v=0.0345, grad=-0.3707), Var(v=-0.0631, grad=-0.3741), Var(v=-0.0407, grad=0.0000), Var(v=0.0466, grad=0.0000), Var(v=-0.0661, grad=0.0000), Var(v=-0.1829, grad=0.0000), Var(v=0.1659, grad=-0.0602), Var(v=0.1418, grad=0.4506), Var(v=0.0281, grad=-0.5871), Var(v=0.0004, grad=0.0000)], [Var(v=-0.0469, grad=0.0903), Var(v=-0.0468, grad=-0.6176), Var(v=-0.0060, grad=-0.0809), Var(v=0.0015, grad=0.0000), Var(v=-0.0680, grad=-0.4745), Var(v=-0.1432, grad=0.0000), Var(v=-0.1603, grad=0.0000), Var(v=0.1795, grad=1.4383), Var(v=0.0709, grad=0.0000), Var(v=-0.0796, grad=-1.0434), Var(v=0.0867, grad=-1.2063), Var(v=-0.1287, grad=0.0000), Var(v=-0.1502, grad=0.0000), Var(v=0.1616, grad=-0.2532), Var(v=0.1162, grad=0.3854), Var(v=0.1174, grad=-0.3825), Var(v=0.0861, grad=1.2085), Var(v=0.0090, grad=0.0000), Var(v=-0.0067, grad=0.9065), Var(v=0.0832, grad=-1.8293), Var(v=-0.0144, grad=0.0000), Var(v=0.0360, grad=0.0000), Var(v=-0.0898, grad=0.0000), Var(v=-0.0639, grad=0.0000), Var(v=-0.0751, grad=0.0000), Var(v=0.0263, grad=-0.2075), Var(v=-0.1599, grad=0.8089), Var(v=-0.0227, grad=-1.0788), Var(v=-0.1188, grad=0.0000), Var(v=0.0665, grad=0.9897), Var(v=-0.0004, grad=0.3503), Var(v=-0.0602, grad=0.0000), Var(v=-0.0727, grad=0.0000), Var(v=-0.0235, grad=0.0000), Var(v=0.2168, grad=-0.9847), Var(v=0.0721, grad=0.2569), Var(v=-0.2083, grad=0.0000), Var(v=-0.1222, grad=0.0000), Var(v=0.1201, grad=0.0000), Var(v=0.0697, grad=0.0000), Var(v=-0.1358, grad=0.0000), Var(v=0.1138, grad=0.6890), Var(v=0.0341, grad=0.4341), Var(v=-0.0047, grad=0.1284), Var(v=-0.0328, grad=0.0000), Var(v=-0.0667, grad=0.0000), Var(v=-0.0736, grad=0.1108), Var(v=0.0926, grad=-0.8301), Var(v=-0.1499, grad=0.0000), Var(v=0.0139, grad=0.0000)], [Var(v=-0.0366, grad=0.0057), Var(v=0.1067, grad=-0.0390), Var(v=-0.0647, grad=-0.0051), Var(v=-0.0773, grad=0.0000), Var(v=-0.0251, grad=-0.0299), Var(v=-0.0634, grad=0.0000), Var(v=-0.1079, grad=0.0000), Var(v=0.1991, grad=0.0907), Var(v=-0.0148, grad=0.0000), Var(v=0.0616, grad=-0.0658), Var(v=0.0270, grad=-0.0761), Var(v=-0.1472, grad=0.0000), Var(v=0.0114, grad=0.0000), Var(v=0.1123, grad=-0.0160), Var(v=0.1217, grad=0.0243), Var(v=-0.0355, grad=-0.0241), Var(v=-0.0144, grad=0.0762), Var(v=-0.0173, grad=0.0000), Var(v=-0.0853, grad=0.0572), Var(v=-0.0334, grad=-0.1154), Var(v=0.0608, grad=0.0000), Var(v=-0.0193, grad=0.0000), Var(v=0.0756, grad=0.0000), Var(v=-0.0350, grad=0.0000), Var(v=0.0788, grad=0.0000), Var(v=0.1197, grad=-0.0131), Var(v=0.0913, grad=0.0510), Var(v=-0.0629, grad=-0.0681), Var(v=-0.0161, grad=0.0000), Var(v=0.0081, grad=0.0624), Var(v=0.0141, grad=0.0221), Var(v=-0.0385, grad=0.0000), Var(v=-0.0643, grad=0.0000), Var(v=0.0623, grad=0.0000), Var(v=-0.1234, grad=-0.0621), Var(v=-0.0700, grad=0.0162), Var(v=-0.1438, grad=0.0000), Var(v=-0.2594, grad=0.0000), Var(v=0.1056, grad=0.0000), Var(v=0.0744, grad=0.0000), Var(v=0.0377, grad=0.0000), Var(v=0.0514, grad=0.0435), Var(v=-0.0785, grad=0.0274), Var(v=0.0202, grad=0.0081), Var(v=-0.1700, grad=0.0000), Var(v=-0.0473, grad=0.0000), Var(v=0.0609, grad=0.0070), Var(v=0.0487, grad=-0.0524), Var(v=-0.0027, grad=0.0000), Var(v=-0.0128, grad=0.0000)], [Var(v=0.0959, grad=0.0499), Var(v=-0.0545, grad=-0.3414), Var(v=0.1610, grad=-0.0447), Var(v=-0.0576, grad=0.0000), Var(v=0.0809, grad=-0.2623), Var(v=0.0298, grad=0.0000), Var(v=-0.0440, grad=0.0000), Var(v=-0.0959, grad=0.7950), Var(v=-0.2223, grad=0.0000), Var(v=-0.1423, grad=-0.5767), Var(v=-0.1975, grad=-0.6668), Var(v=-0.0135, grad=0.0000), Var(v=-0.0408, grad=0.0000), Var(v=-0.0239, grad=-0.1400), Var(v=0.0004, grad=0.2130), Var(v=-0.0832, grad=-0.2114), Var(v=0.1111, grad=0.6680), Var(v=-0.0431, grad=0.0000), Var(v=-0.1587, grad=0.5010), Var(v=-0.0335, grad=-1.0111), Var(v=-0.0315, grad=0.0000), Var(v=0.0758, grad=0.0000), Var(v=-0.1316, grad=0.0000), Var(v=0.1805, grad=0.0000), Var(v=-0.1156, grad=0.0000), Var(v=0.1052, grad=-0.1147), Var(v=0.0374, grad=0.4471), Var(v=-0.0210, grad=-0.5963), Var(v=-0.1740, grad=0.0000), Var(v=-0.0506, grad=0.5471), Var(v=0.1740, grad=0.1936), Var(v=-0.1164, grad=0.0000), Var(v=0.0890, grad=0.0000), Var(v=-0.0093, grad=0.0000), Var(v=-0.0194, grad=-0.5443), Var(v=-0.0041, grad=0.1420), Var(v=0.0895, grad=0.0000), Var(v=0.0040, grad=0.0000), Var(v=-0.0630, grad=0.0000), Var(v=-0.2120, grad=0.0000), Var(v=0.0339, grad=0.0000), Var(v=0.0288, grad=0.3808), Var(v=-0.0295, grad=0.2399), Var(v=0.0389, grad=0.0709), Var(v=0.0283, grad=0.0000), Var(v=0.0710, grad=0.0000), Var(v=0.0668, grad=0.0613), Var(v=-0.0561, grad=-0.4588), Var(v=0.0157, grad=0.0000), Var(v=-0.0322, grad=0.0000)]] Biases: [Var(v=-0.0001, grad=0.0106), Var(v=0.0007, grad=-0.0726), Var(v=0.0070, grad=-0.6966), Var(v=-0.0329, grad=3.2941), Var(v=0.0408, grad=-4.0850), Var(v=-0.0235, grad=2.3459), Var(v=0.0869, grad=-8.6897), Var(v=-0.1238, grad=12.3811), Var(v=0.0000, grad=0.0000), Var(v=0.0898, grad=-8.9817), Var(v=0.0014, grad=-0.1417), Var(v=0.0000, grad=0.0000), Var(v=0.0000, grad=0.0000), Var(v=0.0003, grad=-0.0298), Var(v=-0.0005, grad=0.0453), Var(v=0.0004, grad=-0.0449), Var(v=-0.0014, grad=0.1420), Var(v=0.0000, grad=0.0000), Var(v=-0.0780, grad=7.8034), Var(v=0.1575, grad=-15.7472), Var(v=0.0000, grad=0.0000), Var(v=0.0000, grad=0.0000), Var(v=0.0000, grad=0.0000), Var(v=0.0717, grad=-7.1707), Var(v=0.0000, grad=0.0000), Var(v=0.0002, grad=-0.0244), Var(v=-0.0696, grad=6.9636), Var(v=0.0013, grad=-0.1268), Var(v=0.0868, grad=-8.6774), Var(v=-0.0012, grad=0.1163), Var(v=-0.0004, grad=0.0412), Var(v=0.0000, grad=0.0000), Var(v=-0.0216, grad=2.1594), Var(v=0.0173, grad=-1.7300), Var(v=0.0848, grad=-8.4765), Var(v=-0.0221, grad=2.2114), Var(v=0.0000, grad=0.0000), Var(v=-0.1263, grad=12.6292), Var(v=0.0000, grad=0.0000), Var(v=0.0000, grad=0.0000), Var(v=0.0580, grad=-5.7977), Var(v=-0.0008, grad=0.0810), Var(v=-0.0374, grad=3.7366), Var(v=-0.0110, grad=1.1050), Var(v=0.0000, grad=0.0000), Var(v=0.0000, grad=0.0000), Var(v=-0.0001, grad=0.0130), Var(v=0.0010, grad=-0.0975), Var(v=0.0918, grad=-9.1826), Var(v=0.0000, grad=0.0000)]\n",
            "Layer 2 \n",
            " Weights: [[Var(v=-0.0504, grad=4.1512)], [Var(v=0.0458, grad=1.5193)], [Var(v=0.0200, grad=-1.1998)], [Var(v=0.0314, grad=0.6927)], [Var(v=0.0502, grad=-0.3347)], [Var(v=0.0096, grad=1.7727)], [Var(v=-0.1313, grad=3.0198)], [Var(v=-0.1224, grad=-1.9671)], [Var(v=0.0446, grad=0.0000)], [Var(v=0.1116, grad=-0.8539)], [Var(v=0.1307, grad=-1.1481)], [Var(v=-0.0305, grad=0.0000)], [Var(v=0.1008, grad=0.0000)], [Var(v=0.0118, grad=1.3197)], [Var(v=-0.0344, grad=-0.3667)], [Var(v=0.0210, grad=1.6831)], [Var(v=-0.1451, grad=2.5694)], [Var(v=-0.0424, grad=0.0000)], [Var(v=-0.0872, grad=-0.2350)], [Var(v=0.1961, grad=-1.5317)], [Var(v=-0.0952, grad=0.0000)], [Var(v=0.0491, grad=0.0000)], [Var(v=-0.0010, grad=0.0000)], [Var(v=-0.1114, grad=2.7906)], [Var(v=0.0238, grad=0.0000)], [Var(v=0.0025, grad=1.7989)], [Var(v=-0.0797, grad=-0.0210)], [Var(v=0.1150, grad=-0.8371)], [Var(v=-0.1487, grad=4.7687)], [Var(v=-0.1001, grad=0.2347)], [Var(v=-0.0306, grad=-0.4024)], [Var(v=-0.1023, grad=0.0000)], [Var(v=0.0181, grad=0.7040)], [Var(v=-0.0378, grad=1.7656)], [Var(v=0.1070, grad=-0.9661)], [Var(v=-0.0137, grad=-1.1702)], [Var(v=0.1044, grad=0.0000)], [Var(v=0.1360, grad=1.1018)], [Var(v=0.0046, grad=0.0000)], [Var(v=0.1170, grad=0.0000)], [Var(v=-0.0746, grad=0.7107)], [Var(v=-0.0789, grad=1.0797)], [Var(v=-0.0386, grad=-0.4288)], [Var(v=0.0276, grad=-4.0287)], [Var(v=0.0596, grad=0.0000)], [Var(v=0.1445, grad=0.0000)], [Var(v=-0.0361, grad=2.5118)], [Var(v=0.0903, grad=-0.8293)], [Var(v=-0.1156, grad=0.8773)], [Var(v=0.1934, grad=0.0000)]] Biases: [Var(v=0.0119, grad=-1.1891)]\n",
            "\n",
            "Network after zeroing gradients:\n",
            "Layer 0 \n",
            " Weights: [[Var(v=-0.1303, grad=0.0000), Var(v=-0.0124, grad=0.0000), Var(v=0.1112, grad=0.0000), Var(v=-0.0085, grad=0.0000), Var(v=0.0759, grad=0.0000), Var(v=-0.2955, grad=0.0000), Var(v=-0.0543, grad=0.0000), Var(v=0.1300, grad=0.0000), Var(v=0.0111, grad=0.0000), Var(v=-0.0506, grad=0.0000), Var(v=-0.0809, grad=0.0000), Var(v=-0.0680, grad=0.0000), Var(v=0.0865, grad=0.0000), Var(v=-0.0288, grad=0.0000), Var(v=0.0003, grad=0.0000)]] Biases: [Var(v=0.0525, grad=0.0000), Var(v=-0.0112, grad=0.0000), Var(v=0.0579, grad=0.0000), Var(v=0.0054, grad=0.0000), Var(v=0.0220, grad=0.0000), Var(v=0.0304, grad=0.0000), Var(v=0.0053, grad=0.0000), Var(v=0.0152, grad=0.0000), Var(v=-0.0125, grad=0.0000), Var(v=-0.0041, grad=0.0000), Var(v=0.0014, grad=0.0000), Var(v=0.0090, grad=0.0000), Var(v=-0.0114, grad=0.0000), Var(v=-0.0301, grad=0.0000), Var(v=-0.0471, grad=0.0000)]\n",
            "Layer 1 \n",
            " Weights: [[Var(v=0.0822, grad=0.0000), Var(v=-0.0242, grad=0.0000), Var(v=0.0869, grad=0.0000), Var(v=-0.0696, grad=0.0000), Var(v=0.0409, grad=0.0000), Var(v=-0.1168, grad=0.0000), Var(v=-0.0338, grad=0.0000), Var(v=-0.0815, grad=0.0000), Var(v=-0.1091, grad=0.0000), Var(v=0.0016, grad=0.0000), Var(v=-0.2148, grad=0.0000), Var(v=0.1011, grad=0.0000), Var(v=-0.0445, grad=0.0000), Var(v=0.0341, grad=0.0000), Var(v=0.1439, grad=0.0000), Var(v=-0.0741, grad=0.0000), Var(v=0.0037, grad=0.0000), Var(v=-0.0747, grad=0.0000), Var(v=-0.0863, grad=0.0000), Var(v=0.1409, grad=0.0000), Var(v=0.0206, grad=0.0000), Var(v=0.0239, grad=0.0000), Var(v=0.1060, grad=0.0000), Var(v=0.0647, grad=0.0000), Var(v=-0.1027, grad=0.0000), Var(v=-0.0324, grad=0.0000), Var(v=-0.0961, grad=0.0000), Var(v=-0.0179, grad=0.0000), Var(v=0.2871, grad=0.0000), Var(v=0.1656, grad=0.0000), Var(v=0.0693, grad=0.0000), Var(v=0.0093, grad=0.0000), Var(v=-0.0583, grad=0.0000), Var(v=-0.0050, grad=0.0000), Var(v=0.0743, grad=0.0000), Var(v=0.0797, grad=0.0000), Var(v=-0.1618, grad=0.0000), Var(v=0.0646, grad=0.0000), Var(v=0.0384, grad=0.0000), Var(v=-0.0698, grad=0.0000), Var(v=-0.0216, grad=0.0000), Var(v=-0.0782, grad=0.0000), Var(v=0.1459, grad=0.0000), Var(v=0.0871, grad=0.0000), Var(v=-0.2554, grad=0.0000), Var(v=0.0169, grad=0.0000), Var(v=0.0057, grad=0.0000), Var(v=-0.0199, grad=0.0000), Var(v=-0.0924, grad=0.0000), Var(v=-0.1152, grad=0.0000)], [Var(v=0.0420, grad=0.0000), Var(v=0.0842, grad=0.0000), Var(v=0.0407, grad=0.0000), Var(v=0.0819, grad=0.0000), Var(v=0.0647, grad=0.0000), Var(v=-0.1650, grad=0.0000), Var(v=0.0915, grad=0.0000), Var(v=0.0984, grad=0.0000), Var(v=-0.1406, grad=0.0000), Var(v=-0.0147, grad=0.0000), Var(v=-0.1174, grad=0.0000), Var(v=0.0358, grad=0.0000), Var(v=-0.0528, grad=0.0000), Var(v=-0.1238, grad=0.0000), Var(v=0.0648, grad=0.0000), Var(v=0.1170, grad=0.0000), Var(v=0.0154, grad=0.0000), Var(v=0.0833, grad=0.0000), Var(v=-0.0232, grad=0.0000), Var(v=-0.1282, grad=0.0000), Var(v=-0.1463, grad=0.0000), Var(v=-0.0761, grad=0.0000), Var(v=-0.0215, grad=0.0000), Var(v=0.1777, grad=0.0000), Var(v=-0.1333, grad=0.0000), Var(v=0.1133, grad=0.0000), Var(v=-0.0412, grad=0.0000), Var(v=0.1050, grad=0.0000), Var(v=0.1117, grad=0.0000), Var(v=-0.0402, grad=0.0000), Var(v=0.1109, grad=0.0000), Var(v=0.1881, grad=0.0000), Var(v=0.0113, grad=0.0000), Var(v=0.0394, grad=0.0000), Var(v=0.1685, grad=0.0000), Var(v=-0.0636, grad=0.0000), Var(v=0.1293, grad=0.0000), Var(v=-0.1258, grad=0.0000), Var(v=-0.0839, grad=0.0000), Var(v=-0.0020, grad=0.0000), Var(v=0.0846, grad=0.0000), Var(v=-0.0353, grad=0.0000), Var(v=0.0187, grad=0.0000), Var(v=-0.0458, grad=0.0000), Var(v=-0.0267, grad=0.0000), Var(v=-0.0042, grad=0.0000), Var(v=-0.0134, grad=0.0000), Var(v=-0.0554, grad=0.0000), Var(v=0.0500, grad=0.0000), Var(v=-0.0782, grad=0.0000)], [Var(v=-0.0434, grad=0.0000), Var(v=0.0913, grad=0.0000), Var(v=-0.0461, grad=0.0000), Var(v=0.0158, grad=0.0000), Var(v=-0.0428, grad=0.0000), Var(v=-0.1078, grad=0.0000), Var(v=-0.0769, grad=0.0000), Var(v=0.1483, grad=0.0000), Var(v=-0.0972, grad=0.0000), Var(v=0.2059, grad=0.0000), Var(v=0.0947, grad=0.0000), Var(v=0.1167, grad=0.0000), Var(v=0.0062, grad=0.0000), Var(v=-0.1014, grad=0.0000), Var(v=0.0114, grad=0.0000), Var(v=0.1352, grad=0.0000), Var(v=-0.1637, grad=0.0000), Var(v=-0.0075, grad=0.0000), Var(v=0.0615, grad=0.0000), Var(v=0.0416, grad=0.0000), Var(v=0.0011, grad=0.0000), Var(v=-0.0505, grad=0.0000), Var(v=-0.0496, grad=0.0000), Var(v=0.1091, grad=0.0000), Var(v=-0.0513, grad=0.0000), Var(v=0.3141, grad=0.0000), Var(v=-0.0240, grad=0.0000), Var(v=0.2696, grad=0.0000), Var(v=0.0987, grad=0.0000), Var(v=0.0475, grad=0.0000), Var(v=-0.0870, grad=0.0000), Var(v=-0.0277, grad=0.0000), Var(v=0.0096, grad=0.0000), Var(v=-0.1296, grad=0.0000), Var(v=-0.0911, grad=0.0000), Var(v=0.0356, grad=0.0000), Var(v=0.0257, grad=0.0000), Var(v=0.0355, grad=0.0000), Var(v=-0.0495, grad=0.0000), Var(v=0.0526, grad=0.0000), Var(v=0.1433, grad=0.0000), Var(v=0.1331, grad=0.0000), Var(v=-0.0101, grad=0.0000), Var(v=0.0085, grad=0.0000), Var(v=-0.0426, grad=0.0000), Var(v=0.0241, grad=0.0000), Var(v=-0.0793, grad=0.0000), Var(v=0.2085, grad=0.0000), Var(v=0.0872, grad=0.0000), Var(v=0.0771, grad=0.0000)], [Var(v=-0.0581, grad=0.0000), Var(v=0.0446, grad=0.0000), Var(v=-0.2710, grad=0.0000), Var(v=0.0445, grad=0.0000), Var(v=-0.0418, grad=0.0000), Var(v=0.1206, grad=0.0000), Var(v=0.0263, grad=0.0000), Var(v=-0.0414, grad=0.0000), Var(v=-0.2151, grad=0.0000), Var(v=-0.0875, grad=0.0000), Var(v=0.0139, grad=0.0000), Var(v=-0.1509, grad=0.0000), Var(v=0.0179, grad=0.0000), Var(v=0.0040, grad=0.0000), Var(v=-0.1212, grad=0.0000), Var(v=0.0460, grad=0.0000), Var(v=0.0904, grad=0.0000), Var(v=0.1006, grad=0.0000), Var(v=-0.0823, grad=0.0000), Var(v=0.0046, grad=0.0000), Var(v=-0.0039, grad=0.0000), Var(v=0.0503, grad=0.0000), Var(v=0.0188, grad=0.0000), Var(v=-0.0222, grad=0.0000), Var(v=0.0783, grad=0.0000), Var(v=-0.0743, grad=0.0000), Var(v=0.0987, grad=0.0000), Var(v=0.0583, grad=0.0000), Var(v=0.0164, grad=0.0000), Var(v=0.0034, grad=0.0000), Var(v=0.0355, grad=0.0000), Var(v=-0.0009, grad=0.0000), Var(v=-0.1111, grad=0.0000), Var(v=0.0602, grad=0.0000), Var(v=0.0123, grad=0.0000), Var(v=-0.0585, grad=0.0000), Var(v=-0.1078, grad=0.0000), Var(v=-0.1556, grad=0.0000), Var(v=0.0047, grad=0.0000), Var(v=0.1465, grad=0.0000), Var(v=0.0033, grad=0.0000), Var(v=0.1073, grad=0.0000), Var(v=-0.0934, grad=0.0000), Var(v=0.1184, grad=0.0000), Var(v=-0.0494, grad=0.0000), Var(v=0.0579, grad=0.0000), Var(v=-0.0477, grad=0.0000), Var(v=0.0819, grad=0.0000), Var(v=-0.1342, grad=0.0000), Var(v=0.0297, grad=0.0000)], [Var(v=0.0773, grad=0.0000), Var(v=-0.1286, grad=0.0000), Var(v=0.0351, grad=0.0000), Var(v=0.0542, grad=0.0000), Var(v=0.1049, grad=0.0000), Var(v=-0.0055, grad=0.0000), Var(v=0.0772, grad=0.0000), Var(v=-0.0932, grad=0.0000), Var(v=0.1756, grad=0.0000), Var(v=0.0721, grad=0.0000), Var(v=-0.0338, grad=0.0000), Var(v=0.0529, grad=0.0000), Var(v=-0.0369, grad=0.0000), Var(v=0.1448, grad=0.0000), Var(v=0.0256, grad=0.0000), Var(v=0.2002, grad=0.0000), Var(v=0.0444, grad=0.0000), Var(v=-0.2625, grad=0.0000), Var(v=-0.0328, grad=0.0000), Var(v=0.1113, grad=0.0000), Var(v=-0.1297, grad=0.0000), Var(v=-0.0954, grad=0.0000), Var(v=-0.0200, grad=0.0000), Var(v=-0.1047, grad=0.0000), Var(v=-0.0097, grad=0.0000), Var(v=0.0375, grad=0.0000), Var(v=-0.0043, grad=0.0000), Var(v=0.0353, grad=0.0000), Var(v=-0.0592, grad=0.0000), Var(v=0.0900, grad=0.0000), Var(v=0.0403, grad=0.0000), Var(v=-0.0496, grad=0.0000), Var(v=-0.0575, grad=0.0000), Var(v=0.0366, grad=0.0000), Var(v=-0.1445, grad=0.0000), Var(v=-0.0694, grad=0.0000), Var(v=0.0939, grad=0.0000), Var(v=-0.0654, grad=0.0000), Var(v=0.0018, grad=0.0000), Var(v=-0.0437, grad=0.0000), Var(v=0.0344, grad=0.0000), Var(v=-0.1177, grad=0.0000), Var(v=-0.1210, grad=0.0000), Var(v=0.2202, grad=0.0000), Var(v=0.0468, grad=0.0000), Var(v=0.0783, grad=0.0000), Var(v=0.2534, grad=0.0000), Var(v=0.0274, grad=0.0000), Var(v=-0.1011, grad=0.0000), Var(v=-0.1329, grad=0.0000)], [Var(v=0.1832, grad=0.0000), Var(v=0.0648, grad=0.0000), Var(v=-0.0657, grad=0.0000), Var(v=0.0972, grad=0.0000), Var(v=-0.0064, grad=0.0000), Var(v=0.0927, grad=0.0000), Var(v=0.2167, grad=0.0000), Var(v=-0.1369, grad=0.0000), Var(v=-0.0290, grad=0.0000), Var(v=-0.1384, grad=0.0000), Var(v=-0.0080, grad=0.0000), Var(v=-0.1253, grad=0.0000), Var(v=0.0182, grad=0.0000), Var(v=0.0764, grad=0.0000), Var(v=0.0260, grad=0.0000), Var(v=0.0757, grad=0.0000), Var(v=0.1432, grad=0.0000), Var(v=-0.1858, grad=0.0000), Var(v=-0.1096, grad=0.0000), Var(v=-0.1087, grad=0.0000), Var(v=-0.0719, grad=0.0000), Var(v=-0.2897, grad=0.0000), Var(v=-0.1972, grad=0.0000), Var(v=0.0378, grad=0.0000), Var(v=0.0152, grad=0.0000), Var(v=0.1557, grad=0.0000), Var(v=-0.1084, grad=0.0000), Var(v=-0.0246, grad=0.0000), Var(v=0.1158, grad=0.0000), Var(v=0.0174, grad=0.0000), Var(v=-0.0179, grad=0.0000), Var(v=-0.0612, grad=0.0000), Var(v=0.0607, grad=0.0000), Var(v=0.0740, grad=0.0000), Var(v=0.0065, grad=0.0000), Var(v=-0.1697, grad=0.0000), Var(v=-0.0766, grad=0.0000), Var(v=0.0186, grad=0.0000), Var(v=-0.0368, grad=0.0000), Var(v=-0.0368, grad=0.0000), Var(v=0.0675, grad=0.0000), Var(v=0.1111, grad=0.0000), Var(v=-0.1602, grad=0.0000), Var(v=-0.1558, grad=0.0000), Var(v=-0.0181, grad=0.0000), Var(v=-0.1771, grad=0.0000), Var(v=0.0129, grad=0.0000), Var(v=-0.0818, grad=0.0000), Var(v=0.0981, grad=0.0000), Var(v=-0.0513, grad=0.0000)], [Var(v=0.0526, grad=0.0000), Var(v=-0.0311, grad=0.0000), Var(v=0.0426, grad=0.0000), Var(v=0.0179, grad=0.0000), Var(v=-0.0964, grad=0.0000), Var(v=-0.0263, grad=0.0000), Var(v=-0.1256, grad=0.0000), Var(v=0.1939, grad=0.0000), Var(v=-0.0466, grad=0.0000), Var(v=0.1241, grad=0.0000), Var(v=-0.0041, grad=0.0000), Var(v=0.1520, grad=0.0000), Var(v=0.0211, grad=0.0000), Var(v=-0.2135, grad=0.0000), Var(v=0.0333, grad=0.0000), Var(v=0.0667, grad=0.0000), Var(v=0.0755, grad=0.0000), Var(v=0.0852, grad=0.0000), Var(v=0.1868, grad=0.0000), Var(v=0.0797, grad=0.0000), Var(v=-0.1302, grad=0.0000), Var(v=0.0539, grad=0.0000), Var(v=-0.0065, grad=0.0000), Var(v=0.0912, grad=0.0000), Var(v=-0.1749, grad=0.0000), Var(v=0.0108, grad=0.0000), Var(v=-0.0516, grad=0.0000), Var(v=0.0352, grad=0.0000), Var(v=0.2061, grad=0.0000), Var(v=0.0406, grad=0.0000), Var(v=0.0495, grad=0.0000), Var(v=0.0415, grad=0.0000), Var(v=-0.2274, grad=0.0000), Var(v=-0.0192, grad=0.0000), Var(v=-0.0266, grad=0.0000), Var(v=0.0521, grad=0.0000), Var(v=0.0362, grad=0.0000), Var(v=-0.0797, grad=0.0000), Var(v=0.1757, grad=0.0000), Var(v=0.0544, grad=0.0000), Var(v=-0.1532, grad=0.0000), Var(v=-0.0844, grad=0.0000), Var(v=-0.0371, grad=0.0000), Var(v=0.0182, grad=0.0000), Var(v=0.1378, grad=0.0000), Var(v=0.1495, grad=0.0000), Var(v=-0.0348, grad=0.0000), Var(v=0.2090, grad=0.0000), Var(v=-0.0408, grad=0.0000), Var(v=0.0571, grad=0.0000)], [Var(v=0.1408, grad=0.0000), Var(v=0.1227, grad=0.0000), Var(v=0.0395, grad=0.0000), Var(v=-0.1371, grad=0.0000), Var(v=0.0336, grad=0.0000), Var(v=0.0618, grad=0.0000), Var(v=-0.0114, grad=0.0000), Var(v=-0.0062, grad=0.0000), Var(v=-0.0570, grad=0.0000), Var(v=0.1277, grad=0.0000), Var(v=0.1561, grad=0.0000), Var(v=-0.0604, grad=0.0000), Var(v=0.0738, grad=0.0000), Var(v=-0.0659, grad=0.0000), Var(v=0.0048, grad=0.0000), Var(v=-0.1183, grad=0.0000), Var(v=-0.0341, grad=0.0000), Var(v=0.0596, grad=0.0000), Var(v=0.0758, grad=0.0000), Var(v=0.0627, grad=0.0000), Var(v=0.0240, grad=0.0000), Var(v=-0.0438, grad=0.0000), Var(v=0.0863, grad=0.0000), Var(v=-0.1743, grad=0.0000), Var(v=0.0727, grad=0.0000), Var(v=-0.0196, grad=0.0000), Var(v=0.1102, grad=0.0000), Var(v=0.0300, grad=0.0000), Var(v=0.0590, grad=0.0000), Var(v=-0.0588, grad=0.0000), Var(v=0.0446, grad=0.0000), Var(v=-0.2266, grad=0.0000), Var(v=-0.0148, grad=0.0000), Var(v=-0.0706, grad=0.0000), Var(v=0.0343, grad=0.0000), Var(v=0.0552, grad=0.0000), Var(v=-0.0069, grad=0.0000), Var(v=-0.0563, grad=0.0000), Var(v=-0.0878, grad=0.0000), Var(v=-0.0844, grad=0.0000), Var(v=-0.0151, grad=0.0000), Var(v=0.0218, grad=0.0000), Var(v=0.0725, grad=0.0000), Var(v=0.2327, grad=0.0000), Var(v=-0.0528, grad=0.0000), Var(v=-0.0916, grad=0.0000), Var(v=-0.0505, grad=0.0000), Var(v=-0.0034, grad=0.0000), Var(v=-0.1094, grad=0.0000), Var(v=-0.1131, grad=0.0000)], [Var(v=0.0298, grad=0.0000), Var(v=-0.1698, grad=0.0000), Var(v=0.0943, grad=0.0000), Var(v=0.0361, grad=0.0000), Var(v=0.1389, grad=0.0000), Var(v=0.1387, grad=0.0000), Var(v=-0.0271, grad=0.0000), Var(v=0.1580, grad=0.0000), Var(v=0.0040, grad=0.0000), Var(v=-0.0899, grad=0.0000), Var(v=-0.0197, grad=0.0000), Var(v=-0.1800, grad=0.0000), Var(v=0.0662, grad=0.0000), Var(v=-0.1367, grad=0.0000), Var(v=0.0535, grad=0.0000), Var(v=0.1986, grad=0.0000), Var(v=-0.1325, grad=0.0000), Var(v=0.0147, grad=0.0000), Var(v=-0.0884, grad=0.0000), Var(v=-0.0511, grad=0.0000), Var(v=0.0155, grad=0.0000), Var(v=0.0564, grad=0.0000), Var(v=-0.1736, grad=0.0000), Var(v=0.1719, grad=0.0000), Var(v=-0.1438, grad=0.0000), Var(v=0.1361, grad=0.0000), Var(v=0.1828, grad=0.0000), Var(v=-0.0975, grad=0.0000), Var(v=0.0837, grad=0.0000), Var(v=-0.1126, grad=0.0000), Var(v=-0.0868, grad=0.0000), Var(v=0.1357, grad=0.0000), Var(v=-0.0284, grad=0.0000), Var(v=-0.1402, grad=0.0000), Var(v=-0.1646, grad=0.0000), Var(v=-0.0128, grad=0.0000), Var(v=-0.0999, grad=0.0000), Var(v=0.0956, grad=0.0000), Var(v=0.1143, grad=0.0000), Var(v=-0.0329, grad=0.0000), Var(v=0.1551, grad=0.0000), Var(v=-0.0311, grad=0.0000), Var(v=-0.0835, grad=0.0000), Var(v=-0.1501, grad=0.0000), Var(v=-0.0292, grad=0.0000), Var(v=0.0142, grad=0.0000), Var(v=0.0291, grad=0.0000), Var(v=0.0007, grad=0.0000), Var(v=-0.0957, grad=0.0000), Var(v=-0.1294, grad=0.0000)], [Var(v=0.0976, grad=0.0000), Var(v=0.0831, grad=0.0000), Var(v=-0.0388, grad=0.0000), Var(v=0.0000, grad=0.0000), Var(v=0.0118, grad=0.0000), Var(v=0.0521, grad=0.0000), Var(v=0.0513, grad=0.0000), Var(v=0.0090, grad=0.0000), Var(v=0.0908, grad=0.0000), Var(v=-0.1592, grad=0.0000), Var(v=0.3018, grad=0.0000), Var(v=0.0313, grad=0.0000), Var(v=-0.1604, grad=0.0000), Var(v=-0.0353, grad=0.0000), Var(v=0.0498, grad=0.0000), Var(v=0.1021, grad=0.0000), Var(v=0.0878, grad=0.0000), Var(v=0.0470, grad=0.0000), Var(v=0.0087, grad=0.0000), Var(v=-0.0295, grad=0.0000), Var(v=0.0278, grad=0.0000), Var(v=-0.0534, grad=0.0000), Var(v=0.0002, grad=0.0000), Var(v=0.1136, grad=0.0000), Var(v=0.0229, grad=0.0000), Var(v=0.0330, grad=0.0000), Var(v=-0.0803, grad=0.0000), Var(v=-0.0189, grad=0.0000), Var(v=0.0884, grad=0.0000), Var(v=-0.1614, grad=0.0000), Var(v=0.0432, grad=0.0000), Var(v=0.0360, grad=0.0000), Var(v=-0.0339, grad=0.0000), Var(v=-0.0398, grad=0.0000), Var(v=-0.1152, grad=0.0000), Var(v=0.1918, grad=0.0000), Var(v=-0.2056, grad=0.0000), Var(v=-0.0932, grad=0.0000), Var(v=-0.0899, grad=0.0000), Var(v=-0.0333, grad=0.0000), Var(v=-0.0530, grad=0.0000), Var(v=0.0945, grad=0.0000), Var(v=-0.0155, grad=0.0000), Var(v=0.0543, grad=0.0000), Var(v=-0.1597, grad=0.0000), Var(v=0.0543, grad=0.0000), Var(v=0.0819, grad=0.0000), Var(v=-0.0782, grad=0.0000), Var(v=0.0004, grad=0.0000), Var(v=0.0818, grad=0.0000)], [Var(v=0.1239, grad=0.0000), Var(v=-0.0114, grad=0.0000), Var(v=0.1630, grad=0.0000), Var(v=-0.1344, grad=0.0000), Var(v=-0.0008, grad=0.0000), Var(v=-0.0251, grad=0.0000), Var(v=-0.0280, grad=0.0000), Var(v=-0.0069, grad=0.0000), Var(v=-0.0455, grad=0.0000), Var(v=0.0573, grad=0.0000), Var(v=0.0243, grad=0.0000), Var(v=0.0587, grad=0.0000), Var(v=-0.1503, grad=0.0000), Var(v=0.1915, grad=0.0000), Var(v=-0.0748, grad=0.0000), Var(v=0.0563, grad=0.0000), Var(v=-0.0627, grad=0.0000), Var(v=0.0317, grad=0.0000), Var(v=0.0492, grad=0.0000), Var(v=0.1295, grad=0.0000), Var(v=0.0071, grad=0.0000), Var(v=-0.2273, grad=0.0000), Var(v=-0.0590, grad=0.0000), Var(v=0.1101, grad=0.0000), Var(v=0.0228, grad=0.0000), Var(v=-0.0043, grad=0.0000), Var(v=-0.1288, grad=0.0000), Var(v=0.0462, grad=0.0000), Var(v=0.0789, grad=0.0000), Var(v=0.0760, grad=0.0000), Var(v=0.0586, grad=0.0000), Var(v=-0.1447, grad=0.0000), Var(v=0.0688, grad=0.0000), Var(v=-0.0147, grad=0.0000), Var(v=0.0357, grad=0.0000), Var(v=0.1129, grad=0.0000), Var(v=0.0028, grad=0.0000), Var(v=0.0221, grad=0.0000), Var(v=0.0320, grad=0.0000), Var(v=0.1480, grad=0.0000), Var(v=0.0629, grad=0.0000), Var(v=0.1895, grad=0.0000), Var(v=-0.1242, grad=0.0000), Var(v=0.1517, grad=0.0000), Var(v=-0.0660, grad=0.0000), Var(v=-0.2044, grad=0.0000), Var(v=0.1503, grad=0.0000), Var(v=0.1007, grad=0.0000), Var(v=0.0023, grad=0.0000), Var(v=0.0909, grad=0.0000)], [Var(v=-0.1241, grad=0.0000), Var(v=-0.0591, grad=0.0000), Var(v=-0.1190, grad=0.0000), Var(v=-0.1159, grad=0.0000), Var(v=-0.3066, grad=0.0000), Var(v=0.0062, grad=0.0000), Var(v=-0.1442, grad=0.0000), Var(v=-0.0314, grad=0.0000), Var(v=0.1359, grad=0.0000), Var(v=-0.0949, grad=0.0000), Var(v=-0.1314, grad=0.0000), Var(v=-0.0275, grad=0.0000), Var(v=-0.0289, grad=0.0000), Var(v=-0.0408, grad=0.0000), Var(v=0.0155, grad=0.0000), Var(v=-0.0811, grad=0.0000), Var(v=0.1075, grad=0.0000), Var(v=0.0243, grad=0.0000), Var(v=0.0143, grad=0.0000), Var(v=-0.0132, grad=0.0000), Var(v=0.2764, grad=0.0000), Var(v=-0.0118, grad=0.0000), Var(v=-0.0484, grad=0.0000), Var(v=0.0363, grad=0.0000), Var(v=-0.0347, grad=0.0000), Var(v=0.0059, grad=0.0000), Var(v=0.0089, grad=0.0000), Var(v=-0.0625, grad=0.0000), Var(v=-0.2345, grad=0.0000), Var(v=0.0461, grad=0.0000), Var(v=0.0693, grad=0.0000), Var(v=-0.1517, grad=0.0000), Var(v=0.0250, grad=0.0000), Var(v=0.1007, grad=0.0000), Var(v=-0.1000, grad=0.0000), Var(v=-0.1803, grad=0.0000), Var(v=-0.1299, grad=0.0000), Var(v=-0.0496, grad=0.0000), Var(v=-0.0420, grad=0.0000), Var(v=0.0023, grad=0.0000), Var(v=0.0345, grad=0.0000), Var(v=-0.0631, grad=0.0000), Var(v=-0.0407, grad=0.0000), Var(v=0.0466, grad=0.0000), Var(v=-0.0661, grad=0.0000), Var(v=-0.1829, grad=0.0000), Var(v=0.1659, grad=0.0000), Var(v=0.1418, grad=0.0000), Var(v=0.0281, grad=0.0000), Var(v=0.0004, grad=0.0000)], [Var(v=-0.0469, grad=0.0000), Var(v=-0.0468, grad=0.0000), Var(v=-0.0060, grad=0.0000), Var(v=0.0015, grad=0.0000), Var(v=-0.0680, grad=0.0000), Var(v=-0.1432, grad=0.0000), Var(v=-0.1603, grad=0.0000), Var(v=0.1795, grad=0.0000), Var(v=0.0709, grad=0.0000), Var(v=-0.0796, grad=0.0000), Var(v=0.0867, grad=0.0000), Var(v=-0.1287, grad=0.0000), Var(v=-0.1502, grad=0.0000), Var(v=0.1616, grad=0.0000), Var(v=0.1162, grad=0.0000), Var(v=0.1174, grad=0.0000), Var(v=0.0861, grad=0.0000), Var(v=0.0090, grad=0.0000), Var(v=-0.0067, grad=0.0000), Var(v=0.0832, grad=0.0000), Var(v=-0.0144, grad=0.0000), Var(v=0.0360, grad=0.0000), Var(v=-0.0898, grad=0.0000), Var(v=-0.0639, grad=0.0000), Var(v=-0.0751, grad=0.0000), Var(v=0.0263, grad=0.0000), Var(v=-0.1599, grad=0.0000), Var(v=-0.0227, grad=0.0000), Var(v=-0.1188, grad=0.0000), Var(v=0.0665, grad=0.0000), Var(v=-0.0004, grad=0.0000), Var(v=-0.0602, grad=0.0000), Var(v=-0.0727, grad=0.0000), Var(v=-0.0235, grad=0.0000), Var(v=0.2168, grad=0.0000), Var(v=0.0721, grad=0.0000), Var(v=-0.2083, grad=0.0000), Var(v=-0.1222, grad=0.0000), Var(v=0.1201, grad=0.0000), Var(v=0.0697, grad=0.0000), Var(v=-0.1358, grad=0.0000), Var(v=0.1138, grad=0.0000), Var(v=0.0341, grad=0.0000), Var(v=-0.0047, grad=0.0000), Var(v=-0.0328, grad=0.0000), Var(v=-0.0667, grad=0.0000), Var(v=-0.0736, grad=0.0000), Var(v=0.0926, grad=0.0000), Var(v=-0.1499, grad=0.0000), Var(v=0.0139, grad=0.0000)], [Var(v=-0.0366, grad=0.0000), Var(v=0.1067, grad=0.0000), Var(v=-0.0647, grad=0.0000), Var(v=-0.0773, grad=0.0000), Var(v=-0.0251, grad=0.0000), Var(v=-0.0634, grad=0.0000), Var(v=-0.1079, grad=0.0000), Var(v=0.1991, grad=0.0000), Var(v=-0.0148, grad=0.0000), Var(v=0.0616, grad=0.0000), Var(v=0.0270, grad=0.0000), Var(v=-0.1472, grad=0.0000), Var(v=0.0114, grad=0.0000), Var(v=0.1123, grad=0.0000), Var(v=0.1217, grad=0.0000), Var(v=-0.0355, grad=0.0000), Var(v=-0.0144, grad=0.0000), Var(v=-0.0173, grad=0.0000), Var(v=-0.0853, grad=0.0000), Var(v=-0.0334, grad=0.0000), Var(v=0.0608, grad=0.0000), Var(v=-0.0193, grad=0.0000), Var(v=0.0756, grad=0.0000), Var(v=-0.0350, grad=0.0000), Var(v=0.0788, grad=0.0000), Var(v=0.1197, grad=0.0000), Var(v=0.0913, grad=0.0000), Var(v=-0.0629, grad=0.0000), Var(v=-0.0161, grad=0.0000), Var(v=0.0081, grad=0.0000), Var(v=0.0141, grad=0.0000), Var(v=-0.0385, grad=0.0000), Var(v=-0.0643, grad=0.0000), Var(v=0.0623, grad=0.0000), Var(v=-0.1234, grad=0.0000), Var(v=-0.0700, grad=0.0000), Var(v=-0.1438, grad=0.0000), Var(v=-0.2594, grad=0.0000), Var(v=0.1056, grad=0.0000), Var(v=0.0744, grad=0.0000), Var(v=0.0377, grad=0.0000), Var(v=0.0514, grad=0.0000), Var(v=-0.0785, grad=0.0000), Var(v=0.0202, grad=0.0000), Var(v=-0.1700, grad=0.0000), Var(v=-0.0473, grad=0.0000), Var(v=0.0609, grad=0.0000), Var(v=0.0487, grad=0.0000), Var(v=-0.0027, grad=0.0000), Var(v=-0.0128, grad=0.0000)], [Var(v=0.0959, grad=0.0000), Var(v=-0.0545, grad=0.0000), Var(v=0.1610, grad=0.0000), Var(v=-0.0576, grad=0.0000), Var(v=0.0809, grad=0.0000), Var(v=0.0298, grad=0.0000), Var(v=-0.0440, grad=0.0000), Var(v=-0.0959, grad=0.0000), Var(v=-0.2223, grad=0.0000), Var(v=-0.1423, grad=0.0000), Var(v=-0.1975, grad=0.0000), Var(v=-0.0135, grad=0.0000), Var(v=-0.0408, grad=0.0000), Var(v=-0.0239, grad=0.0000), Var(v=0.0004, grad=0.0000), Var(v=-0.0832, grad=0.0000), Var(v=0.1111, grad=0.0000), Var(v=-0.0431, grad=0.0000), Var(v=-0.1587, grad=0.0000), Var(v=-0.0335, grad=0.0000), Var(v=-0.0315, grad=0.0000), Var(v=0.0758, grad=0.0000), Var(v=-0.1316, grad=0.0000), Var(v=0.1805, grad=0.0000), Var(v=-0.1156, grad=0.0000), Var(v=0.1052, grad=0.0000), Var(v=0.0374, grad=0.0000), Var(v=-0.0210, grad=0.0000), Var(v=-0.1740, grad=0.0000), Var(v=-0.0506, grad=0.0000), Var(v=0.1740, grad=0.0000), Var(v=-0.1164, grad=0.0000), Var(v=0.0890, grad=0.0000), Var(v=-0.0093, grad=0.0000), Var(v=-0.0194, grad=0.0000), Var(v=-0.0041, grad=0.0000), Var(v=0.0895, grad=0.0000), Var(v=0.0040, grad=0.0000), Var(v=-0.0630, grad=0.0000), Var(v=-0.2120, grad=0.0000), Var(v=0.0339, grad=0.0000), Var(v=0.0288, grad=0.0000), Var(v=-0.0295, grad=0.0000), Var(v=0.0389, grad=0.0000), Var(v=0.0283, grad=0.0000), Var(v=0.0710, grad=0.0000), Var(v=0.0668, grad=0.0000), Var(v=-0.0561, grad=0.0000), Var(v=0.0157, grad=0.0000), Var(v=-0.0322, grad=0.0000)]] Biases: [Var(v=-0.0001, grad=0.0000), Var(v=0.0007, grad=0.0000), Var(v=0.0070, grad=0.0000), Var(v=-0.0329, grad=0.0000), Var(v=0.0408, grad=0.0000), Var(v=-0.0235, grad=0.0000), Var(v=0.0869, grad=0.0000), Var(v=-0.1238, grad=0.0000), Var(v=0.0000, grad=0.0000), Var(v=0.0898, grad=0.0000), Var(v=0.0014, grad=0.0000), Var(v=0.0000, grad=0.0000), Var(v=0.0000, grad=0.0000), Var(v=0.0003, grad=0.0000), Var(v=-0.0005, grad=0.0000), Var(v=0.0004, grad=0.0000), Var(v=-0.0014, grad=0.0000), Var(v=0.0000, grad=0.0000), Var(v=-0.0780, grad=0.0000), Var(v=0.1575, grad=0.0000), Var(v=0.0000, grad=0.0000), Var(v=0.0000, grad=0.0000), Var(v=0.0000, grad=0.0000), Var(v=0.0717, grad=0.0000), Var(v=0.0000, grad=0.0000), Var(v=0.0002, grad=0.0000), Var(v=-0.0696, grad=0.0000), Var(v=0.0013, grad=0.0000), Var(v=0.0868, grad=0.0000), Var(v=-0.0012, grad=0.0000), Var(v=-0.0004, grad=0.0000), Var(v=0.0000, grad=0.0000), Var(v=-0.0216, grad=0.0000), Var(v=0.0173, grad=0.0000), Var(v=0.0848, grad=0.0000), Var(v=-0.0221, grad=0.0000), Var(v=0.0000, grad=0.0000), Var(v=-0.1263, grad=0.0000), Var(v=0.0000, grad=0.0000), Var(v=0.0000, grad=0.0000), Var(v=0.0580, grad=0.0000), Var(v=-0.0008, grad=0.0000), Var(v=-0.0374, grad=0.0000), Var(v=-0.0110, grad=0.0000), Var(v=0.0000, grad=0.0000), Var(v=0.0000, grad=0.0000), Var(v=-0.0001, grad=0.0000), Var(v=0.0010, grad=0.0000), Var(v=0.0918, grad=0.0000), Var(v=0.0000, grad=0.0000)]\n",
            "Layer 2 \n",
            " Weights: [[Var(v=-0.0504, grad=0.0000)], [Var(v=0.0458, grad=0.0000)], [Var(v=0.0200, grad=0.0000)], [Var(v=0.0314, grad=0.0000)], [Var(v=0.0502, grad=0.0000)], [Var(v=0.0096, grad=0.0000)], [Var(v=-0.1313, grad=0.0000)], [Var(v=-0.1224, grad=0.0000)], [Var(v=0.0446, grad=0.0000)], [Var(v=0.1116, grad=0.0000)], [Var(v=0.1307, grad=0.0000)], [Var(v=-0.0305, grad=0.0000)], [Var(v=0.1008, grad=0.0000)], [Var(v=0.0118, grad=0.0000)], [Var(v=-0.0344, grad=0.0000)], [Var(v=0.0210, grad=0.0000)], [Var(v=-0.1451, grad=0.0000)], [Var(v=-0.0424, grad=0.0000)], [Var(v=-0.0872, grad=0.0000)], [Var(v=0.1961, grad=0.0000)], [Var(v=-0.0952, grad=0.0000)], [Var(v=0.0491, grad=0.0000)], [Var(v=-0.0010, grad=0.0000)], [Var(v=-0.1114, grad=0.0000)], [Var(v=0.0238, grad=0.0000)], [Var(v=0.0025, grad=0.0000)], [Var(v=-0.0797, grad=0.0000)], [Var(v=0.1150, grad=0.0000)], [Var(v=-0.1487, grad=0.0000)], [Var(v=-0.1001, grad=0.0000)], [Var(v=-0.0306, grad=0.0000)], [Var(v=-0.1023, grad=0.0000)], [Var(v=0.0181, grad=0.0000)], [Var(v=-0.0378, grad=0.0000)], [Var(v=0.1070, grad=0.0000)], [Var(v=-0.0137, grad=0.0000)], [Var(v=0.1044, grad=0.0000)], [Var(v=0.1360, grad=0.0000)], [Var(v=0.0046, grad=0.0000)], [Var(v=0.1170, grad=0.0000)], [Var(v=-0.0746, grad=0.0000)], [Var(v=-0.0789, grad=0.0000)], [Var(v=-0.0386, grad=0.0000)], [Var(v=0.0276, grad=0.0000)], [Var(v=0.0596, grad=0.0000)], [Var(v=0.1445, grad=0.0000)], [Var(v=-0.0361, grad=0.0000)], [Var(v=0.0903, grad=0.0000)], [Var(v=-0.1156, grad=0.0000)], [Var(v=0.1934, grad=0.0000)]] Biases: [Var(v=0.0119, grad=0.0000)]\n"
          ]
        },
        {
          "output_type": "execute_result",
          "data": {
            "text/plain": [
              "[None, None, None]"
            ]
          },
          "metadata": {},
          "execution_count": 31
        }
      ],
      "source": [
        "print('Network before update:')\n",
        "[print('Layer', i, '\\n', NN[i]) for i in range(len(NN))] \n",
        "\n",
        "def parameters(network):\n",
        "  params = []\n",
        "  for layer in range(len(network)):\n",
        "    params += network[layer].parameters()\n",
        "  return params\n",
        "\n",
        "def update_parameters(params, learning_rate=0.01):\n",
        "  for p in params:\n",
        "    p.v -= learning_rate*p.grad\n",
        "\n",
        "def zero_gradients(params):\n",
        "  for p in params:\n",
        "    p.grad = 0.0\n",
        "\n",
        "update_parameters(parameters(NN))\n",
        "\n",
        "print('\\nNetwork after update:')\n",
        "[print('Layer', i, '\\n', NN[i]) for i in range(len(NN))] \n",
        "\n",
        "zero_gradients(parameters(NN))\n",
        "\n",
        "print('\\nNetwork after zeroing gradients:')\n",
        "[print('Layer', i, '\\n', NN[i]) for i in range(len(NN))] "
      ]
    },
    {
      "cell_type": "code",
      "execution_count": 32,
      "metadata": {
        "id": "woWYpdw6FtIO"
      },
      "outputs": [],
      "source": [
        "# Initialize an arbitrary neural network\n",
        "NN = [\n",
        "    DenseLayer(1, 8, lambda x: x.relu()),\n",
        "    DenseLayer(8, 1, lambda x: x.identity())\n",
        "]\n",
        "\n",
        "# Recommended hyper-parameters for 3-D: \n",
        "#NN = [\n",
        "#    DenseLayer(3, 16, lambda x: x.relu()),\n",
        "#    DenseLayer(16, 1, lambda x: x.identity())\n",
        "#]\n",
        "\n",
        "\n",
        "### Notice that, when we switch from tanh to relu activation, we decrease the learning rate. This is due the stability of the gradients \n",
        "## of the activation functions."
      ]
    },
    {
      "cell_type": "code",
      "execution_count": 33,
      "metadata": {
        "id": "mdqaqYBVFtIR"
      },
      "outputs": [],
      "source": [
        "# Initialize training hyperparameters\n",
        "EPOCHS = 200\n",
        "LEARN_R = 2e-3 "
      ]
    },
    {
      "cell_type": "code",
      "execution_count": 34,
      "metadata": {
        "id": "5kfg76GMFtIW",
        "scrolled": true,
        "colab": {
          "base_uri": "https://localhost:8080/"
        },
        "outputId": "192df110-ce7b-4dbb-ff23-fde0c9b539fa"
      },
      "outputs": [
        {
          "output_type": "stream",
          "name": "stdout",
          "text": [
            "   0 ( 0.00%) Train loss: 105.811 \t Validation loss: 106.459\n",
            "  10 ( 5.00%) Train loss: 35.514 \t Validation loss: 29.100\n",
            "  20 (10.00%) Train loss: 14.362 \t Validation loss: 11.467\n",
            "  30 (15.00%) Train loss: 13.589 \t Validation loss: 10.622\n",
            "  40 (20.00%) Train loss: 13.155 \t Validation loss: 10.064\n",
            "  50 (25.00%) Train loss: 12.857 \t Validation loss: 9.675\n",
            "  60 (30.00%) Train loss: 12.616 \t Validation loss: 9.346\n",
            "  70 (35.00%) Train loss: 12.441 \t Validation loss: 9.129\n",
            "  80 (40.00%) Train loss: 12.313 \t Validation loss: 9.046\n",
            "  90 (45.00%) Train loss: 12.215 \t Validation loss: 8.987\n",
            " 100 (50.00%) Train loss: 12.145 \t Validation loss: 8.940\n",
            " 110 (55.00%) Train loss: 12.080 \t Validation loss: 8.920\n",
            " 120 (60.00%) Train loss: 12.016 \t Validation loss: 8.914\n",
            " 130 (65.00%) Train loss: 11.974 \t Validation loss: 8.913\n",
            " 140 (70.00%) Train loss: 11.936 \t Validation loss: 8.937\n",
            " 150 (75.00%) Train loss: 11.900 \t Validation loss: 8.943\n",
            " 160 (80.00%) Train loss: 11.882 \t Validation loss: 8.961\n",
            " 170 (85.00%) Train loss: 11.870 \t Validation loss: 8.976\n",
            " 180 (90.00%) Train loss: 11.859 \t Validation loss: 8.980\n",
            " 190 (95.00%) Train loss: 11.857 \t Validation loss: 8.979\n"
          ]
        }
      ],
      "source": [
        "train_loss = []\n",
        "val_loss = []\n",
        "\n",
        "for e in range(EPOCHS):\n",
        "     \n",
        "    # Forward pass and loss computation\n",
        "    Loss = squared_loss(y_train, forward(x_train, NN))\n",
        "\n",
        "    # Backward pass\n",
        "    Loss.backward()\n",
        "    \n",
        "    # gradient descent update\n",
        "    update_parameters(parameters(NN), LEARN_R)\n",
        "    zero_gradients(parameters(NN))\n",
        "    \n",
        "    # Training loss\n",
        "    train_loss.append(Loss.v)\n",
        "    \n",
        "    # Validation\n",
        "    Loss_validation = squared_loss(y_validation, forward(x_validation, NN))\n",
        "    val_loss.append(Loss_validation.v)\n",
        "    \n",
        "    if e%10==0:\n",
        "        print(\"{:4d}\".format(e),\n",
        "              \"({:5.2f}%)\".format(e/EPOCHS*100), \n",
        "              \"Train loss: {:4.3f} \\t Validation loss: {:4.3f}\".format(train_loss[-1], val_loss[-1]))\n",
        "        \n"
      ]
    },
    {
      "cell_type": "code",
      "execution_count": 35,
      "metadata": {
        "id": "VetyRWFwFtIY",
        "colab": {
          "base_uri": "https://localhost:8080/",
          "height": 265
        },
        "outputId": "d22e1bbf-a516-4ea8-8f02-b33da61686bb"
      },
      "outputs": [
        {
          "output_type": "display_data",
          "data": {
            "text/plain": [
              "<Figure size 432x288 with 1 Axes>"
            ],
            "image/png": "[encoded data removed]"
          },
          "metadata": {
            "needs_background": "light"
          }
        }
      ],
      "source": [
        "plt.plot(range(len(train_loss)), train_loss);\n",
        "plt.plot(range(len(val_loss)), val_loss);"
      ]
    },
    {
      "cell_type": "markdown",
      "metadata": {
        "id": "8OgmIrM9FtIb"
      },
      "source": [
        "# Testing\n",
        "\n",
        "We have kept the calculation of the test error separate in order to emphasize that you should not use the test set in optimization."
      ]
    },
    {
      "cell_type": "code",
      "execution_count": 36,
      "metadata": {
        "id": "HmNi7S-vFtIc"
      },
      "outputs": [],
      "source": [
        "output_test = forward(x_test, NN)"
      ]
    },
    {
      "cell_type": "code",
      "execution_count": 37,
      "metadata": {
        "id": "7mmJOTSEFtIf",
        "colab": {
          "base_uri": "https://localhost:8080/",
          "height": 314
        },
        "outputId": "895c0dc5-e677-4b7f-fb8c-c6247440ac4e"
      },
      "outputs": [
        {
          "output_type": "stream",
          "name": "stdout",
          "text": [
            "Test loss:  9.771\n"
          ]
        },
        {
          "output_type": "display_data",
          "data": {
            "text/plain": [
              "<Figure size 432x288 with 1 Axes>"
            ],
            "image/png": "[encoded data removed]"
          },
          "metadata": {
            "needs_background": "light"
          }
        }
      ],
      "source": [
        "y_test_np = Var_to_nparray(y_test)\n",
        "plt.scatter(y_test_np, Var_to_nparray(output_test));\n",
        "plt.plot([np.min(y_test_np), np.max(y_test_np)], [np.min(y_test_np), np.max(y_test_np)], color='k');\n",
        "plt.xlabel(\"y\");\n",
        "plt.ylabel(\"$\\hat{y}$\");\n",
        "plt.title(\"Model prediction vs real in the test set, the close to the line the better\")\n",
        "plt.grid(True);\n",
        "plt.axis('equal');\n",
        "plt.tight_layout();\n",
        "\n",
        "Loss_test = squared_loss(y_test, forward(x_test, NN))\n",
        "\n",
        "print(\"Test loss:  {:4.3f}\".format(Loss_test.v))"
      ]
    },
    {
      "cell_type": "code",
      "execution_count": 38,
      "metadata": {
        "id": "ODi0WlmQFtIh",
        "colab": {
          "base_uri": "https://localhost:8080/",
          "height": 279
        },
        "outputId": "55e9c0c9-1488-478d-a769-cb2b80818185"
      },
      "outputs": [
        {
          "output_type": "display_data",
          "data": {
            "text/plain": [
              "<Figure size 432x288 with 1 Axes>"
            ],
            "image/png": "[encoded data removed]"
          },
          "metadata": {
            "needs_background": "light"
          }
        }
      ],
      "source": [
        "x_test_np = Var_to_nparray(x_test)\n",
        "x_train_np = Var_to_nparray(x_train)\n",
        "y_train_np = Var_to_nparray(y_train)\n",
        "if D1:\n",
        "    plt.scatter(x_train_np, y_train_np, label=\"train data\");\n",
        "    plt.scatter(x_test_np, Var_to_nparray(output_test), label=\"test prediction\");\n",
        "    plt.scatter(x_test_np, y_test_np, label=\"test data\");\n",
        "    plt.legend();\n",
        "    plt.xlabel(\"x\");\n",
        "    plt.ylabel(\"y\");\n",
        "else:\n",
        "    plt.scatter(x_train_np[:,1], y_train, label=\"train data\");\n",
        "    plt.scatter(x_test_np[:,1], Var_to_nparray(output_test), label=\"test data prediction\");\n",
        "    plt.scatter(x_test_np[:,1], y_test_np, label=\"test data\");\n",
        "    plt.legend();\n",
        "    plt.xlabel(\"x\");\n",
        "    plt.ylabel(\"y\");"
      ]
    },
    {
      "cell_type": "markdown",
      "metadata": {
        "id": "zTBAmjsAFtIk"
      },
      "source": [
        "## Exercise l) Show overfitting, underfitting and just right fitting\n",
        "\n",
        "Vary the architecture and other things to show clear signs of overfitting (=training loss significantly lower than test loss) and underfitting (=not fitting enoung to training data so that test performance is also hurt).\n",
        "\n",
        "See also if you can get a good compromise which leads to a low validation loss. \n",
        "\n",
        "For this problem do you see any big difference between validation and test loss? The answer here will probably be no. Discuss cases where it is important to keep the two separate.\n",
        "\n",
        "_Insert written answer here._  \n",
        "!!!!!!!!!!!!!!!!!!!!!!!!!!!!!!!!!!!\n",
        "\n",
        "\n",
        "\n",
        "A training loss defines how well our model fits training data, while the validation loss indicates how well our model fits with new data. A high validation loss means that we have overfitted, which we do not want. The optimal fit is when the graphs for the training and test loss/validation loss is on top of each other as above. Hence this could also means underfitting.\n",
        "\n",
        "Underfitting is when training loss is much higher than testing loss.\n",
        "Overfits is when training loss is much smaller than testing loss.\n"
      ]
    },
    {
      "cell_type": "markdown",
      "source": [
        "### Overfitting"
      ],
      "metadata": {
        "id": "f-c4aUl6y_0r"
      }
    },
    {
      "cell_type": "code",
      "execution_count": 39,
      "metadata": {
        "id": "tQZCn2dxFtIl",
        "colab": {
          "base_uri": "https://localhost:8080/"
        },
        "outputId": "09df398b-2469-41ea-d571-b93c1542efd3"
      },
      "outputs": [
        {
          "output_type": "stream",
          "name": "stdout",
          "text": [
            "   0 ( 0.00%) Train loss: 96.802 \t Validation loss: 90.321\n",
            "  10 ( 3.33%) Train loss: 14.240 \t Validation loss: 10.786\n",
            "  20 ( 6.67%) Train loss: 13.539 \t Validation loss: 10.148\n",
            "  30 (10.00%) Train loss: 13.170 \t Validation loss: 9.860\n",
            "  40 (13.33%) Train loss: 12.677 \t Validation loss: 9.521\n",
            "  50 (16.67%) Train loss: 12.386 \t Validation loss: 9.231\n",
            "  60 (20.00%) Train loss: 12.264 \t Validation loss: 9.063\n",
            "  70 (23.33%) Train loss: 12.166 \t Validation loss: 8.942\n",
            "  80 (26.67%) Train loss: 12.091 \t Validation loss: 8.881\n",
            "  90 (30.00%) Train loss: 12.030 \t Validation loss: 8.867\n",
            " 100 (33.33%) Train loss: 11.978 \t Validation loss: 8.887\n",
            " 110 (36.67%) Train loss: 11.939 \t Validation loss: 8.901\n",
            " 120 (40.00%) Train loss: 11.903 \t Validation loss: 8.911\n",
            " 130 (43.33%) Train loss: 11.891 \t Validation loss: 8.923\n",
            " 140 (46.67%) Train loss: 11.881 \t Validation loss: 8.933\n",
            " 150 (50.00%) Train loss: 11.874 \t Validation loss: 8.941\n",
            " 160 (53.33%) Train loss: 11.869 \t Validation loss: 8.949\n",
            " 170 (56.67%) Train loss: 11.866 \t Validation loss: 8.955\n",
            " 180 (60.00%) Train loss: 11.863 \t Validation loss: 8.957\n",
            " 190 (63.33%) Train loss: 11.860 \t Validation loss: 8.957\n",
            " 200 (66.67%) Train loss: 11.858 \t Validation loss: 8.957\n",
            " 210 (70.00%) Train loss: 11.855 \t Validation loss: 8.955\n",
            " 220 (73.33%) Train loss: 11.852 \t Validation loss: 8.953\n",
            " 230 (76.67%) Train loss: 11.849 \t Validation loss: 8.950\n",
            " 240 (80.00%) Train loss: 11.846 \t Validation loss: 8.946\n",
            " 250 (83.33%) Train loss: 11.842 \t Validation loss: 8.943\n",
            " 260 (86.67%) Train loss: 11.839 \t Validation loss: 8.939\n",
            " 270 (90.00%) Train loss: 11.835 \t Validation loss: 8.934\n",
            " 280 (93.33%) Train loss: 11.831 \t Validation loss: 8.929\n",
            " 290 (96.67%) Train loss: 11.826 \t Validation loss: 8.924\n"
          ]
        }
      ],
      "source": [
        "# Overfitting\n",
        "NN = [\n",
        "    DenseLayer(1, 20, lambda x: x.relu()),\n",
        "    DenseLayer(20, 1, lambda x: x.identity())\n",
        "]\n",
        "train_loss = []\n",
        "val_loss = []\n",
        "\n",
        "# Initialize training hyperparameters\n",
        "EPOCHS = 300\n",
        "LEARN_R = 2e-3 \n",
        "\n",
        "for e in range(EPOCHS):\n",
        "     \n",
        "    # Forward pass and loss computation\n",
        "    Loss = squared_loss(y_train, forward(x_train, NN))\n",
        "\n",
        "    # Backward pass\n",
        "    Loss.backward()\n",
        "    \n",
        "    # gradient descent update\n",
        "    update_parameters(parameters(NN), LEARN_R)\n",
        "    zero_gradients(parameters(NN))\n",
        "    \n",
        "    # Training loss\n",
        "    train_loss.append(Loss.v)\n",
        "    \n",
        "    # Validation\n",
        "    Loss_validation = squared_loss(y_validation, forward(x_validation, NN))\n",
        "    val_loss.append(Loss_validation.v)\n",
        "    \n",
        "    if e%10==0:\n",
        "        print(\"{:4d}\".format(e),\n",
        "              \"({:5.2f}%)\".format(e/EPOCHS*100), \n",
        "              \"Train loss: {:4.3f} \\t Validation loss: {:4.3f}\".format(train_loss[-1], val_loss[-1]))"
      ]
    },
    {
      "cell_type": "code",
      "source": [
        "plt.plot(range(len(train_loss)), train_loss);\n",
        "plt.plot(range(len(val_loss)), val_loss);\n",
        "plt.legend(loc=1, fontsize=16, labels = [\"Training loss\", \"Validation loss\"])\n",
        "print(\"Test loss:  {:4.3f}\".format(Loss_test.v))\n",
        "plt.show()"
      ],
      "metadata": {
        "colab": {
          "base_uri": "https://localhost:8080/",
          "height": 284
        },
        "id": "fuc8hUOV3lrx",
        "outputId": "3e6409a1-31f0-4a26-efe3-d16b9e97e219"
      },
      "execution_count": 46,
      "outputs": [
        {
          "output_type": "stream",
          "name": "stdout",
          "text": [
            "Test loss:  9.757\n"
          ]
        },
        {
          "output_type": "display_data",
          "data": {
            "text/plain": [
              "<Figure size 432x288 with 1 Axes>"
            ],
            "image/png": "[encoded data removed]"
          },
          "metadata": {
            "needs_background": "light"
          }
        }
      ]
    },
    {
      "cell_type": "code",
      "source": [
        "output_test = forward(x_test, NN)\n",
        "y_test_np = Var_to_nparray(y_test)\n",
        "plt.scatter(y_test_np, Var_to_nparray(output_test));\n",
        "plt.plot([np.min(y_test_np), np.max(y_test_np)], [np.min(y_test_np), np.max(y_test_np)], color='k');\n",
        "plt.xlabel(\"y\");\n",
        "plt.ylabel(\"$\\hat{y}$\");\n",
        "plt.title(\"Model prediction vs real in the test set, the closer to the line the better\")\n",
        "plt.grid(True);\n",
        "plt.axis('equal');\n",
        "plt.tight_layout();\n",
        "\n",
        "Loss_test = squared_loss(y_test, forward(x_test, NN))\n",
        "\n",
        "print(\"Test loss:  {:4.3f}\".format(Loss_test.v))"
      ],
      "metadata": {
        "colab": {
          "base_uri": "https://localhost:8080/",
          "height": 314
        },
        "id": "eXwdT8Xj3Bsd",
        "outputId": "0be07096-c1ce-4e13-eb68-3237b4daefcf"
      },
      "execution_count": 45,
      "outputs": [
        {
          "output_type": "stream",
          "name": "stdout",
          "text": [
            "Test loss:  9.757\n"
          ]
        },
        {
          "output_type": "display_data",
          "data": {
            "text/plain": [
              "<Figure size 432x288 with 1 Axes>"
            ],
            "image/png": "[encoded data removed]"
          },
          "metadata": {
            "needs_background": "light"
          }
        }
      ]
    },
    {
      "cell_type": "markdown",
      "source": [
        "### Underfitting"
      ],
      "metadata": {
        "id": "OCQxKwmt3sVn"
      }
    },
    {
      "cell_type": "code",
      "source": [
        "# Underfitting\n",
        "NN = [\n",
        "    DenseLayer(1, 2, lambda x: x.tanh()),\n",
        "    DenseLayer(2, 1, lambda x: x.relu())\n",
        "]\n",
        "train_loss = []\n",
        "val_loss = []\n",
        "\n",
        "# Initialize training hyperparameters\n",
        "EPOCHS = 100\n",
        "LEARN_R = 2e-3 \n",
        "\n",
        "for e in range(EPOCHS):\n",
        "     \n",
        "    # Forward pass and loss computation\n",
        "    Loss = squared_loss(y_train, forward(x_train, NN))\n",
        "\n",
        "    # Backward pass\n",
        "    Loss.backward()\n",
        "    \n",
        "    # gradient descent update\n",
        "    update_parameters(parameters(NN), LEARN_R)\n",
        "    zero_gradients(parameters(NN))\n",
        "    \n",
        "    # Training loss\n",
        "    train_loss.append(Loss.v)\n",
        "    \n",
        "    # Validation\n",
        "    Loss_validation = squared_loss(y_validation, forward(x_validation, NN))\n",
        "    val_loss.append(Loss_validation.v)\n",
        "    \n",
        "    if e%10==0:\n",
        "        print(\"{:4d}\".format(e),\n",
        "              \"({:5.2f}%)\".format(e/EPOCHS*100), \n",
        "              \"Train loss: {:4.3f} \\t Validation loss: {:4.3f}\".format(train_loss[-1], val_loss[-1]))"
      ],
      "metadata": {
        "colab": {
          "base_uri": "https://localhost:8080/"
        },
        "id": "tp14P5jr3v1n",
        "outputId": "ada632dc-ccba-45bd-93f6-ca37116dc66a"
      },
      "execution_count": 47,
      "outputs": [
        {
          "output_type": "stream",
          "name": "stdout",
          "text": [
            "   0 ( 0.00%) Train loss: 106.438 \t Validation loss: 107.158\n",
            "  10 (10.00%) Train loss: 91.462 \t Validation loss: 64.535\n",
            "  20 (20.00%) Train loss: 61.278 \t Validation loss: 51.163\n",
            "  30 (30.00%) Train loss: 60.906 \t Validation loss: 49.978\n",
            "  40 (40.00%) Train loss: 60.909 \t Validation loss: 49.533\n",
            "  50 (50.00%) Train loss: 60.950 \t Validation loss: 49.450\n",
            "  60 (60.00%) Train loss: 61.005 \t Validation loss: 49.513\n",
            "  70 (70.00%) Train loss: 61.068 \t Validation loss: 49.560\n",
            "  80 (80.00%) Train loss: 61.134 \t Validation loss: 49.621\n",
            "  90 (90.00%) Train loss: 61.197 \t Validation loss: 49.696\n"
          ]
        }
      ]
    },
    {
      "cell_type": "code",
      "source": [
        "plt.plot(range(len(train_loss)), train_loss);\n",
        "plt.plot(range(len(val_loss)), val_loss);\n",
        "plt.legend(loc=1, fontsize=16, labels = [\"Training loss\", \"Validation loss\"])\n",
        "plt.show()"
      ],
      "metadata": {
        "colab": {
          "base_uri": "https://localhost:8080/",
          "height": 269
        },
        "id": "uJZTWDbM3zsx",
        "outputId": "6ac036b5-c424-4e6c-a00a-057e1e0b8748"
      },
      "execution_count": 48,
      "outputs": [
        {
          "output_type": "display_data",
          "data": {
            "text/plain": [
              "<Figure size 432x288 with 1 Axes>"
            ],
            "image/png": "[encoded data removed]"
          },
          "metadata": {
            "needs_background": "light"
          }
        }
      ]
    },
    {
      "cell_type": "code",
      "source": [
        "output_test = forward(x_test, NN)\n",
        "y_test_np = Var_to_nparray(y_test)\n",
        "plt.scatter(y_test_np, Var_to_nparray(output_test));\n",
        "plt.plot([np.min(y_test_np), np.max(y_test_np)], [np.min(y_test_np), np.max(y_test_np)], color='k');\n",
        "plt.xlabel(\"y\");\n",
        "plt.ylabel(\"$\\hat{y}$\");\n",
        "plt.title(\"Model prediction vs real in the test set, the closer to the line the better\")\n",
        "plt.grid(True);\n",
        "plt.axis('equal');\n",
        "plt.tight_layout();\n",
        "\n",
        "Loss_test = squared_loss(y_test, forward(x_test, NN))\n",
        "\n",
        "print(\"Test loss:  {:4.3f}\".format(Loss_test.v))"
      ],
      "metadata": {
        "colab": {
          "base_uri": "https://localhost:8080/",
          "height": 314
        },
        "id": "voGdRNNd330f",
        "outputId": "6c7cef62-83dc-418d-903f-d6ced9e8122b"
      },
      "execution_count": 49,
      "outputs": [
        {
          "output_type": "stream",
          "name": "stdout",
          "text": [
            "Test loss:  51.999\n"
          ]
        },
        {
          "output_type": "display_data",
          "data": {
            "text/plain": [
              "<Figure size 432x288 with 1 Axes>"
            ],
            "image/png": "[encoded data removed]"
          },
          "metadata": {
            "needs_background": "light"
          }
        }
      ]
    },
    {
      "cell_type": "markdown",
      "metadata": {
        "id": "fYPZP-eTFtIo"
      },
      "source": [
        "# Next steps - classification\n",
        "\n",
        "It is straight forward to extend what we have done to classification. \n",
        "\n",
        "For numerical stability it is better to make softmax and cross-entropy as one function so we write the cross entropy loss as a function of the logits we talked about last week. \n",
        "\n",
        "Next week we will see how to perform classification in PyTorch."
      ]
    },
    {
      "cell_type": "markdown",
      "metadata": {
        "id": "qsVPul3QFtIo"
      },
      "source": [
        "## Exercise m) optional - Implement backpropagation for classification\n",
        "\n",
        "Should be possible with very few lines of code. :-)"
      ]
    },
    {
      "cell_type": "code",
      "execution_count": null,
      "metadata": {
        "id": "oC8QrI2tFtIp"
      },
      "outputs": [],
      "source": [
        "# Just add code."
      ]
    },
    {
      "cell_type": "markdown",
      "metadata": {
        "id": "APqhJv3tta1O"
      },
      "source": [
        "## Exercise n) optional - Introduce a NeuralNetwork class\n",
        "\n",
        "The functions we applied on the neural network (parameters, update_parameters and zero_gradients) can more naturally be included as methods in a NeuralNetwork class. Make such a class and modify the code to use it. "
      ]
    },
    {
      "cell_type": "code",
      "execution_count": null,
      "metadata": {
        "id": "Dqfnor1ouMLq"
      },
      "outputs": [],
      "source": [
        "# just add some code"
      ]
    }
  ],
  "metadata": {
    "anaconda-cloud": {},
    "colab": {
      "collapsed_sections": [
        "U4057_ljNvWB",
        "p_8n_SKnIW2F",
        "oLrGJytZFtGm",
        "jpIZPBpNI0pO",
        "_79HOAXrFtHK",
        "mqeyab9qFtGs",
        "-XyXBD37FtHk",
        "SrwSJ2UWFtHu",
        "zTBAmjsAFtIk",
        "qsVPul3QFtIo",
        "APqhJv3tta1O"
      ],
      "name": "2.1-EXE-FNN-AutoDif-Nanograd.ipynb",
      "provenance": []
    },
    "kernelspec": {
      "display_name": "Python 3",
      "language": "python",
      "name": "python3"
    },
    "language_info": {
      "codemirror_mode": {
        "name": "ipython",
        "version": 3
      },
      "file_extension": ".py",
      "mimetype": "text/x-python",
      "name": "python",
      "nbconvert_exporter": "python",
      "pygments_lexer": "ipython3",
      "version": "3.9.12"
    }
  },
  "nbformat": 4,
  "nbformat_minor": 0
}