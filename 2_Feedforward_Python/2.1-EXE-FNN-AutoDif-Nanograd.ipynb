{
  "cells": [
    {
      "cell_type": "markdown",
      "metadata": {
        "id": "HAva8TnYFtFu"
      },
      "source": [
        "# Contents and why we need this lab\n",
        "\n",
        "This lab is about implementing neural networks yourself before we start using other frameworks that hide some of the computation from you. It builds on the first lab, where you derived the equations for neural network forward and backward propagation and gradient descent parameter updates. \n",
        "\n",
        "All the frameworks for deep learning you will meet from now on use automatic differentiation (autodiff), so you do not have to code the backward step yourself. In this version of this lab, you will develop your own autodif implementation. We also have an optional [version](https://github.com/DeepLearningDTU/02456-deep-learning-with-PyTorch/blob/master/2_Feedforward_Python/2.2-FNN-NumPy.ipynb) of this lab where you have to code the backward pass explicitly in Numpy."
      ]
    },
    {
      "cell_type": "markdown",
      "metadata": {
        "id": "sCa7HzwpFtFy"
      },
      "source": [
        "# External sources of information\n",
        "\n",
        "1. Jupyter notebook. You can find more information about Jupyter notebooks [here](https://jupyter.org/). It will come as part of the [Anaconda](https://www.anaconda.com/) Python installation. \n",
        "2. [NumPy](https://numpy.org/). Part of Anaconda distribution.  If you already know how to program, most things about Python and NumPy can be found with Google searches.\n",
        "3. [Nanograd](https://github.com/rasmusbergpalm/nanograd) is a minimalistic version of autodiff developed by Rasmus Berg Palm that we use for our framework.\n"
      ]
    },
    {
      "cell_type": "markdown",
      "metadata": {
        "id": "1SjiIp-TFtF0"
      },
      "source": [
        "# This notebook will follow the next steps:\n",
        "\n",
        "1. Nanograd automatic differentiation framework\n",
        "2. Finite difference method\n",
        "3. Data generation\n",
        "4. Defining and initializing the network\n",
        "5. Forward pass\n",
        "6. Training loop \n",
        "7. Testing your model\n",
        "8. Further extensions"
      ]
    },
    {
      "cell_type": "markdown",
      "metadata": {
        "id": "OyXeAA-HuT7s"
      },
      "source": [
        "# Nanograd automatic differention framework"
      ]
    },
    {
      "cell_type": "markdown",
      "metadata": {
        "id": "k6UWKCLKubgA"
      },
      "source": [
        "The [Nanograd](https://github.com/rasmusbergpalm/nanograd) framework defines a class Var which both holds a value and gradient value that we can use to store the intermediate values when we apply the chain rule of differentiation."
      ]
    },
    {
      "cell_type": "code",
      "execution_count": 1,
      "metadata": {
        "id": "Jd4CoEBNzNWS"
      },
      "outputs": [],
      "source": [
        "# Copy and pasted from https://github.com/rasmusbergpalm/nanograd/blob/3a1bf9e9e724da813bfccf91a6f309abdade9f39/nanograd.py\n",
        "\n",
        "from math import exp, log\n",
        "\n",
        "class Var:\n",
        "    \"\"\"\n",
        "    A variable which holds a float and enables gradient computations.\n",
        "    \"\"\"\n",
        "\n",
        "    def __init__(self, val: float, grad_fn=lambda: []):\n",
        "        assert type(val) == float\n",
        "        self.v = val\n",
        "        self.grad_fn = grad_fn\n",
        "        self.grad = 0.0\n",
        "\n",
        "    def backprop(self, bp):\n",
        "        self.grad += bp\n",
        "        for input, grad in self.grad_fn():\n",
        "            input.backprop(grad * bp)\n",
        "\n",
        "    def backward(self):\n",
        "        self.backprop(1.0)\n",
        "\n",
        "    def __add__(self: 'Var', other: 'Var') -> 'Var':\n",
        "        return Var(self.v + other.v, lambda: [(self, 1.0), (other, 1.0)])\n",
        "\n",
        "    def __mul__(self: 'Var', other: 'Var') -> 'Var':\n",
        "        return Var(self.v * other.v, lambda: [(self, other.v), (other, self.v)])\n",
        "\n",
        "    def __pow__(self, power):\n",
        "        assert type(power) in {float, int}, \"power must be float or int\"\n",
        "        return Var(self.v ** power, lambda: [(self, power * self.v ** (power - 1))])\n",
        "\n",
        "    def __neg__(self: 'Var') -> 'Var':\n",
        "        return Var(-1.0) * self\n",
        "\n",
        "    def __sub__(self: 'Var', other: 'Var') -> 'Var':\n",
        "        return self + (-other)\n",
        "\n",
        "    def __truediv__(self: 'Var', other: 'Var') -> 'Var':\n",
        "        return self * other ** -1\n",
        "\n",
        "    def __repr__(self):\n",
        "        return \"Var(v=%.4f, grad=%.4f)\" % (self.v, self.grad)\n",
        "\n",
        "    def relu(self):\n",
        "        return Var(self.v if self.v > 0.0 else 0.0, lambda: [(self, 1.0 if self.v > 0.0 else 0.0)])\n",
        "\n",
        "    def identity(self):\n",
        "        return Var(self.v, lambda: [(self, 1.0)])\n",
        "\n",
        "    def tanh(self):\n",
        "        return Var(2/(1+exp(-2*self.v)), lambda: [(self, 1.0)])\n",
        "\n",
        "    def sigmoid(self):\n",
        "        return Var(1/(1.0+exp(-self.v)), lambda: [(self, 1.0)])\n",
        "\n",
        "    def exp(self):\n",
        "        return Var(exp(self.v), lambda: [(self, exp(self.v))])\n",
        "\n",
        "    def log(self):\n",
        "        return Var(log(self.v), lambda: [(self, self.v ** -1)])"
      ]
    },
    {
      "cell_type": "markdown",
      "metadata": {
        "id": "yDX67D6jzcte"
      },
      "source": [
        "A few examples illustrate how we can use this:"
      ]
    },
    {
      "cell_type": "code",
      "execution_count": 2,
      "metadata": {
        "colab": {
          "base_uri": "https://localhost:8080/"
        },
        "id": "xk6PeLc3zwPT",
        "outputId": "e8aa29db-0501-4e88-878a-5222c65cb469"
      },
      "outputs": [
        {
          "output_type": "stream",
          "name": "stdout",
          "text": [
            "Var(v=3.0000, grad=5.0000)\n",
            "Var(v=5.0000, grad=3.0000)\n",
            "Var(v=15.0000, grad=1.0000)\n"
          ]
        }
      ],
      "source": [
        "a = Var(3.0)\n",
        "b = Var(5.0)\n",
        "f = a * b\n",
        "\n",
        "f.backward()\n",
        "\n",
        "for v in [a, b, f]:\n",
        "    print(v)"
      ]
    },
    {
      "cell_type": "code",
      "execution_count": 3,
      "metadata": {
        "colab": {
          "base_uri": "https://localhost:8080/"
        },
        "id": "JmKhYgsY0g_o",
        "outputId": "62b1b654-e6fe-4921-d37b-3e87cfe67483"
      },
      "outputs": [
        {
          "output_type": "stream",
          "name": "stdout",
          "text": [
            "Var(v=3.0000, grad=14.0000)\n",
            "Var(v=5.0000, grad=3.0000)\n",
            "Var(v=15.0000, grad=1.0000)\n",
            "Var(v=9.0000, grad=3.0000)\n",
            "Var(v=27.0000, grad=1.0000)\n",
            "Var(v=42.0000, grad=1.0000)\n"
          ]
        }
      ],
      "source": [
        "a = Var(3.0)\n",
        "b = Var(5.0)\n",
        "c = a * b\n",
        "d = Var(9.0)\n",
        "e = a * d\n",
        "f = c + e\n",
        "\n",
        "f.backward()\n",
        "\n",
        "for v in [a, b, c, d, e, f]:\n",
        "    print(v)"
      ]
    },
    {
      "cell_type": "markdown",
      "metadata": {
        "id": "Fe3B6uEH140p"
      },
      "source": [
        "## Exercise a) What is being calculated?\n",
        "\n",
        "Explain briefly the output of the code? What is the expression we differentiate and with respect to what variables?"
      ]
    },
    {
      "cell_type": "markdown",
      "source": [
        "**What is the output?**  \n",
        "The output *v* is the value of the variable.  \n",
        "The output *grad* is the gradient calculated with the function *f.backward*, which uses the function *backprop()* with input 1. The variable *f* depends on all the other variables, and therefore all *grads* are being updated when this function is run. *a,b,d* are multiplied with one another and therefore their gradients are updated depending on one another. *c,e,f* are either added with another value or nothing is done. By doing this the gradient will only become 1.\n",
        "\n",
        "**What is the expression?**  \n",
        "differentiate?"
      ],
      "metadata": {
        "id": "zT13lXrfbOoh"
      }
    },
    {
      "cell_type": "markdown",
      "metadata": {
        "id": "q8_Q0t2I3Ruj"
      },
      "source": [
        "## Exercise b) How does the backward function work?\n",
        "\n",
        "You need to understand how the backward function calculates the gradients. We can use the two examples above to help with that.\n",
        "\n",
        "Go through the following four steps and answer the questions on the way:\n",
        "\n",
        "1. We represent the two expressions as graphs as shown below. Fill in the missing expressions for the different derivatives.\n",
        "\n",
        "2. In the remainder consider the first expression. Make a schematic of the data structure which is generated when we define the expression for f. \n",
        "\n",
        "3. Then execute the backward function by hand to convince yourself that it indeed calculates the gradients with respect to the variables. \n",
        "\n",
        "4. Write down the sequence of calls to backprop."
      ]
    },
    {
      "cell_type": "code",
      "execution_count": 4,
      "metadata": {
        "id": "idGr71jYXl26"
      },
      "outputs": [],
      "source": [
        "# import logging\n",
        "import graphviz\n",
        "\n",
        "#logging.basicConfig(format='[%(levelname)s@%(name)s] %(message)s', level=logging.DEBUG)\n",
        "\n",
        "#graphviz.__version__, graphviz.version()"
      ]
    },
    {
      "cell_type": "code",
      "execution_count": 5,
      "metadata": {
        "colab": {
          "base_uri": "https://localhost:8080/",
          "height": 152
        },
        "id": "KPe30Q2QXzeG",
        "outputId": "a354b6bd-491e-4649-c0a5-be6d5006245c"
      },
      "outputs": [
        {
          "output_type": "execute_result",
          "data": {
            "text/plain": [
              "<graphviz.dot.Digraph at 0x7fd4571687d0>"
            ],
            "image/svg+xml": "<?xml version=\"1.0\" encoding=\"UTF-8\" standalone=\"no\"?>\n<!DOCTYPE svg PUBLIC \"-//W3C//DTD SVG 1.1//EN\"\n \"http://www.w3.org/Graphics/SVG/1.1/DTD/svg11.dtd\">\n<!-- Generated by graphviz version 2.40.1 (20161225.0304)\n -->\n<!-- Title: first expression Pages: 1 -->\n<svg width=\"162pt\" height=\"98pt\"\n viewBox=\"0.00 0.00 162.00 98.00\" xmlns=\"http://www.w3.org/2000/svg\" xmlns:xlink=\"http://www.w3.org/1999/xlink\">\n<g id=\"graph0\" class=\"graph\" transform=\"scale(1 1) rotate(0) translate(4 94)\">\n<title>first expression</title>\n<polygon fill=\"#ffffff\" stroke=\"transparent\" points=\"-4,4 -4,-94 158,-94 158,4 -4,4\"/>\n<!-- a -->\n<g id=\"node1\" class=\"node\">\n<title>a</title>\n<ellipse fill=\"none\" stroke=\"#000000\" cx=\"18\" cy=\"-72\" rx=\"18\" ry=\"18\"/>\n<text text-anchor=\"middle\" x=\"18\" y=\"-68.3\" font-family=\"Times,serif\" font-size=\"14.00\" fill=\"#000000\">a</text>\n</g>\n<!-- f -->\n<g id=\"node2\" class=\"node\">\n<title>f</title>\n<ellipse fill=\"none\" stroke=\"#000000\" cx=\"136\" cy=\"-45\" rx=\"18\" ry=\"18\"/>\n<text text-anchor=\"middle\" x=\"136\" y=\"-41.3\" font-family=\"Times,serif\" font-size=\"14.00\" fill=\"#000000\">f</text>\n</g>\n<!-- a&#45;&gt;f -->\n<g id=\"edge1\" class=\"edge\">\n<title>a&#45;&gt;f</title>\n<path fill=\"none\" stroke=\"#000000\" d=\"M35.6658,-67.9578C54.8698,-63.5637 85.8151,-56.483 108.2661,-51.3459\"/>\n<polygon fill=\"#000000\" stroke=\"#000000\" points=\"109.2461,-54.7122 118.2134,-49.0698 107.6847,-47.8885 109.2461,-54.7122\"/>\n<text text-anchor=\"middle\" x=\"77\" y=\"-66.8\" font-family=\"Times,serif\" font-size=\"14.00\" fill=\"#000000\">df/da=b</text>\n</g>\n<!-- b -->\n<g id=\"node3\" class=\"node\">\n<title>b</title>\n<ellipse fill=\"none\" stroke=\"#000000\" cx=\"18\" cy=\"-18\" rx=\"18\" ry=\"18\"/>\n<text text-anchor=\"middle\" x=\"18\" y=\"-14.3\" font-family=\"Times,serif\" font-size=\"14.00\" fill=\"#000000\">b</text>\n</g>\n<!-- b&#45;&gt;f -->\n<g id=\"edge2\" class=\"edge\">\n<title>b&#45;&gt;f</title>\n<path fill=\"none\" stroke=\"#000000\" d=\"M36.0339,-20.9637C52.7278,-23.8381 78.1872,-28.555 100,-34 103.0098,-34.7513 106.1413,-35.6022 109.2457,-36.4899\"/>\n<polygon fill=\"#000000\" stroke=\"#000000\" points=\"108.3051,-39.8618 118.8887,-39.3744 110.3112,-33.1554 108.3051,-39.8618\"/>\n<text text-anchor=\"middle\" x=\"77\" y=\"-37.8\" font-family=\"Times,serif\" font-size=\"14.00\" fill=\"#000000\">df/db=a</text>\n</g>\n</g>\n</svg>\n"
          },
          "metadata": {},
          "execution_count": 5
        }
      ],
      "source": [
        "e1 = graphviz.Digraph('first expression', filename='fsm.gv')\n",
        "\n",
        "e1.attr(rankdir='LR', size='8,5')\n",
        "\n",
        "e1.attr('node', shape='circle')\n",
        "e1.edge('a', 'f', label='df/da=b')\n",
        "e1.edge('b', 'f', label='df/db=a')\n",
        "\n",
        "e1"
      ]
    },
    {
      "cell_type": "markdown",
      "source": [
        "### Schematic of the data structure:\n",
        "\n",
        "**a**:  \n",
        "a.v = 3 and a.grad_fn = [ ]\n",
        "\n",
        "**b**:  \n",
        "b.v = 5 and b.grad_fn = [ ]\n",
        "\n",
        "**f**:  \n",
        "$f.v = a.v*b.v = 3*5 = 15$  \n",
        "$f.grad_{fn} = [(a, b.v), (b, a.v)] = [(a,5), (b,3)]$"
      ],
      "metadata": {
        "id": "vVYTAqgeo5hS"
      }
    },
    {
      "cell_type": "markdown",
      "source": [
        "### Backward function by hand\n",
        "\n",
        "The function calls the function backprop with input bp=1.  \n",
        "The backprop function takes the current gradient (f.grad=0) and adds with bp. Now the gradient is updated to f.grad=1.  \n",
        "\n",
        "Then we loop through the f.grad_fn which is a list with tuples. Each loop will iterate over one tuple. First loop will then have input=a and grad=5. Then we update the a.backprop($5*1$). Next loop is input=b and grad=3, where b.backprop($3*1$).\n",
        "\n",
        "\n",
        "So by calculating f.backward, which is dependent of the variables a and b, we actually calculate the gradients of all three variables."
      ],
      "metadata": {
        "id": "m_fhwpQIrWL6"
      }
    },
    {
      "cell_type": "markdown",
      "source": [
        "### Sequence of calls to backprop\n",
        "\n",
        "These are the sequences of calls to backprop that is done when f.backward is run.  \n",
        "f.backprop(1)  \n",
        "a.backprop(5)  \n",
        "b.backprop(3)"
      ],
      "metadata": {
        "id": "SUM--J4xxg4Z"
      }
    },
    {
      "cell_type": "code",
      "execution_count": 6,
      "metadata": {
        "colab": {
          "base_uri": "https://localhost:8080/",
          "height": 232
        },
        "id": "0nittR-mZFeX",
        "outputId": "505c5c6e-9cc9-4627-d4c0-3d8b8d346883"
      },
      "outputs": [
        {
          "output_type": "execute_result",
          "data": {
            "text/plain": [
              "<graphviz.dot.Digraph at 0x7fd45712e390>"
            ],
            "image/svg+xml": "<?xml version=\"1.0\" encoding=\"UTF-8\" standalone=\"no\"?>\n<!DOCTYPE svg PUBLIC \"-//W3C//DTD SVG 1.1//EN\"\n \"http://www.w3.org/Graphics/SVG/1.1/DTD/svg11.dtd\">\n<!-- Generated by graphviz version 2.40.1 (20161225.0304)\n -->\n<!-- Title: second expression Pages: 1 -->\n<svg width=\"281pt\" height=\"158pt\"\n viewBox=\"0.00 0.00 281.00 158.00\" xmlns=\"http://www.w3.org/2000/svg\" xmlns:xlink=\"http://www.w3.org/1999/xlink\">\n<g id=\"graph0\" class=\"graph\" transform=\"scale(1 1) rotate(0) translate(4 154)\">\n<title>second expression</title>\n<polygon fill=\"#ffffff\" stroke=\"transparent\" points=\"-4,4 -4,-154 277,-154 277,4 -4,4\"/>\n<!-- a -->\n<g id=\"node1\" class=\"node\">\n<title>a</title>\n<ellipse fill=\"none\" stroke=\"#000000\" cx=\"18\" cy=\"-75\" rx=\"18\" ry=\"18\"/>\n<text text-anchor=\"middle\" x=\"18\" y=\"-71.3\" font-family=\"Times,serif\" font-size=\"14.00\" fill=\"#000000\">a</text>\n</g>\n<!-- c -->\n<g id=\"node2\" class=\"node\">\n<title>c</title>\n<ellipse fill=\"none\" stroke=\"#000000\" cx=\"137\" cy=\"-102\" rx=\"18\" ry=\"18\"/>\n<text text-anchor=\"middle\" x=\"137\" y=\"-98.3\" font-family=\"Times,serif\" font-size=\"14.00\" fill=\"#000000\">c</text>\n</g>\n<!-- a&#45;&gt;c -->\n<g id=\"edge1\" class=\"edge\">\n<title>a&#45;&gt;c</title>\n<path fill=\"none\" stroke=\"#000000\" d=\"M35.5589,-78.9839C55.0696,-83.4108 86.8223,-90.6151 109.6075,-95.7849\"/>\n<polygon fill=\"#000000\" stroke=\"#000000\" points=\"108.8425,-99.2002 119.3691,-97.9997 110.3914,-92.3737 108.8425,-99.2002\"/>\n<text text-anchor=\"middle\" x=\"77.5\" y=\"-96.8\" font-family=\"Times,serif\" font-size=\"14.00\" fill=\"#000000\">dc/da=b</text>\n</g>\n<!-- e -->\n<g id=\"node4\" class=\"node\">\n<title>e</title>\n<ellipse fill=\"none\" stroke=\"#000000\" cx=\"137\" cy=\"-48\" rx=\"18\" ry=\"18\"/>\n<text text-anchor=\"middle\" x=\"137\" y=\"-44.3\" font-family=\"Times,serif\" font-size=\"14.00\" fill=\"#000000\">e</text>\n</g>\n<!-- a&#45;&gt;e -->\n<g id=\"edge3\" class=\"edge\">\n<title>a&#45;&gt;e</title>\n<path fill=\"none\" stroke=\"#000000\" d=\"M35.1093,-69.3663C41.0519,-67.518 47.7844,-65.5441 54,-64 72.2255,-59.4724 92.9698,-55.4733 109.1606,-52.6056\"/>\n<polygon fill=\"#000000\" stroke=\"#000000\" points=\"109.8139,-56.0446 119.0705,-50.8903 108.62,-49.1472 109.8139,-56.0446\"/>\n<text text-anchor=\"middle\" x=\"77.5\" y=\"-67.8\" font-family=\"Times,serif\" font-size=\"14.00\" fill=\"#000000\">de/da=d</text>\n</g>\n<!-- f -->\n<g id=\"node6\" class=\"node\">\n<title>f</title>\n<ellipse fill=\"none\" stroke=\"#000000\" cx=\"255\" cy=\"-75\" rx=\"18\" ry=\"18\"/>\n<text text-anchor=\"middle\" x=\"255\" y=\"-71.3\" font-family=\"Times,serif\" font-size=\"14.00\" fill=\"#000000\">f</text>\n</g>\n<!-- c&#45;&gt;f -->\n<g id=\"edge5\" class=\"edge\">\n<title>c&#45;&gt;f</title>\n<path fill=\"none\" stroke=\"#000000\" d=\"M154.6658,-97.9578C173.8698,-93.5637 204.8151,-86.483 227.2661,-81.3459\"/>\n<polygon fill=\"#000000\" stroke=\"#000000\" points=\"228.2461,-84.7122 237.2134,-79.0698 226.6847,-77.8885 228.2461,-84.7122\"/>\n<text text-anchor=\"middle\" x=\"196\" y=\"-96.8\" font-family=\"Times,serif\" font-size=\"14.00\" fill=\"#000000\">df/dc=1</text>\n</g>\n<!-- b -->\n<g id=\"node3\" class=\"node\">\n<title>b</title>\n<ellipse fill=\"none\" stroke=\"#000000\" cx=\"18\" cy=\"-132\" rx=\"18\" ry=\"18\"/>\n<text text-anchor=\"middle\" x=\"18\" y=\"-128.3\" font-family=\"Times,serif\" font-size=\"14.00\" fill=\"#000000\">b</text>\n</g>\n<!-- b&#45;&gt;c -->\n<g id=\"edge2\" class=\"edge\">\n<title>b&#45;&gt;c</title>\n<path fill=\"none\" stroke=\"#000000\" d=\"M35.5589,-127.5734C55.0696,-122.6547 86.8223,-114.6498 109.6075,-108.9057\"/>\n<polygon fill=\"#000000\" stroke=\"#000000\" points=\"110.5281,-112.2832 119.3691,-106.4448 108.8169,-105.4955 110.5281,-112.2832\"/>\n<text text-anchor=\"middle\" x=\"77.5\" y=\"-125.8\" font-family=\"Times,serif\" font-size=\"14.00\" fill=\"#000000\">dc/db=a</text>\n</g>\n<!-- e&#45;&gt;f -->\n<g id=\"edge6\" class=\"edge\">\n<title>e&#45;&gt;f</title>\n<path fill=\"none\" stroke=\"#000000\" d=\"M155.0339,-50.9637C171.7278,-53.8381 197.1872,-58.555 219,-64 222.0098,-64.7513 225.1413,-65.6022 228.2457,-66.4899\"/>\n<polygon fill=\"#000000\" stroke=\"#000000\" points=\"227.3051,-69.8618 237.8887,-69.3744 229.3112,-63.1554 227.3051,-69.8618\"/>\n<text text-anchor=\"middle\" x=\"196\" y=\"-67.8\" font-family=\"Times,serif\" font-size=\"14.00\" fill=\"#000000\">df/de=1</text>\n</g>\n<!-- d -->\n<g id=\"node5\" class=\"node\">\n<title>d</title>\n<ellipse fill=\"none\" stroke=\"#000000\" cx=\"18\" cy=\"-18\" rx=\"18\" ry=\"18\"/>\n<text text-anchor=\"middle\" x=\"18\" y=\"-14.3\" font-family=\"Times,serif\" font-size=\"14.00\" fill=\"#000000\">d</text>\n</g>\n<!-- d&#45;&gt;e -->\n<g id=\"edge4\" class=\"edge\">\n<title>d&#45;&gt;e</title>\n<path fill=\"none\" stroke=\"#000000\" d=\"M35.9889,-20.9104C52.9226,-23.8318 78.9119,-28.785 101,-35 104.0364,-35.8544 107.1845,-36.8389 110.2985,-37.8758\"/>\n<polygon fill=\"#000000\" stroke=\"#000000\" points=\"109.3565,-41.2547 119.9514,-41.2723 111.68,-34.6515 109.3565,-41.2547\"/>\n<text text-anchor=\"middle\" x=\"77.5\" y=\"-38.8\" font-family=\"Times,serif\" font-size=\"14.00\" fill=\"#000000\">de/dd=a</text>\n</g>\n</g>\n</svg>\n"
          },
          "metadata": {},
          "execution_count": 6
        }
      ],
      "source": [
        "e2 = graphviz.Digraph('second expression', filename='fsm.gv')\n",
        "\n",
        "e2.attr(rankdir='LR', size='8,5')\n",
        "\n",
        "e2.attr('node', shape='circle')\n",
        "e2.edge('a', 'c', label='dc/da=b')\n",
        "e2.edge('b', 'c', label='dc/db=a')\n",
        "e2.edge('a', 'e', label='de/da=d')\n",
        "e2.edge('d', 'e', label='de/dd=a')\n",
        "e2.edge('c', 'f', label='df/dc=1')\n",
        "e2.edge('e', 'f', label='df/de=1')\n",
        "\n",
        "e2"
      ]
    },
    {
      "cell_type": "markdown",
      "metadata": {
        "id": "A5oi21W4gpeM"
      },
      "source": [
        "## Exercise c) What happens if we run backward again?\n",
        "\n",
        "Try to execute the code below. Explain what happens."
      ]
    },
    {
      "cell_type": "code",
      "execution_count": 7,
      "metadata": {
        "colab": {
          "base_uri": "https://localhost:8080/"
        },
        "id": "DCtpJyr-gyX1",
        "outputId": "ade674ba-f3be-4510-ec61-f6ad4df6cb56"
      },
      "outputs": [
        {
          "output_type": "stream",
          "name": "stdout",
          "text": [
            "Var(v=3.0000, grad=28.0000)\n",
            "Var(v=5.0000, grad=6.0000)\n",
            "Var(v=15.0000, grad=2.0000)\n",
            "Var(v=9.0000, grad=6.0000)\n",
            "Var(v=27.0000, grad=2.0000)\n",
            "Var(v=42.0000, grad=2.0000)\n"
          ]
        }
      ],
      "source": [
        "f.backward()\n",
        "\n",
        "for v in [a, b, c, d, e, f]:\n",
        "    print(v)"
      ]
    },
    {
      "cell_type": "markdown",
      "source": [
        "When we execute once again the gradient is already defined (not 0) from before. Therefore a new run will add the values once again to backprop and the values will add up.  \n",
        "That is why we see the values are double the size of before."
      ],
      "metadata": {
        "id": "WSTmJJyMygsa"
      }
    },
    {
      "cell_type": "markdown",
      "metadata": {
        "id": "e8bPVq2VhsP-"
      },
      "source": [
        "## Exercise d) Zero gradient\n",
        "\n",
        "We can zero the gradient by backpropagating a -1.0 as is shown in the example below. (If you have run backward multiple time then you also have to run the cell below an equal amount of times.) Explain what is going on."
      ]
    },
    {
      "cell_type": "code",
      "execution_count": 8,
      "metadata": {
        "colab": {
          "base_uri": "https://localhost:8080/"
        },
        "id": "OnyPDQx9lJe0",
        "outputId": "ee37983e-79f5-4c91-aea6-cf2c8ac6f1a1"
      },
      "outputs": [
        {
          "output_type": "stream",
          "name": "stdout",
          "text": [
            "Var(v=2.0000, grad=0.0000)\n",
            "Var(v=5.0000, grad=6.0000)\n",
            "Var(v=15.0000, grad=2.0000)\n",
            "Var(v=9.0000, grad=6.0000)\n",
            "Var(v=27.0000, grad=2.0000)\n",
            "Var(v=42.0000, grad=2.0000)\n",
            "Var(v=2.0000, grad=0.0000)\n",
            "Var(v=5.0000, grad=3.0000)\n",
            "Var(v=15.0000, grad=1.0000)\n",
            "Var(v=9.0000, grad=3.0000)\n",
            "Var(v=27.0000, grad=1.0000)\n",
            "Var(v=42.0000, grad=1.0000)\n"
          ]
        }
      ],
      "source": [
        "a = Var(2.0)\n",
        "\n",
        "for v in [a, b, c, d, e, f]:\n",
        "    print(v)\n",
        "\n",
        "f.backprop(-1.0)\n",
        "\n",
        "for v in [a, b, c, d, e, f]:\n",
        "    print(v)"
      ]
    },
    {
      "cell_type": "markdown",
      "source": [
        "By setting bp=-1 the f.grad is updated from 1 to 0.  \n",
        "Furhtermore, the calculation of a.grad and b.grad will be the opposite gradient of before. This is why we will achieve 0 again. "
      ],
      "metadata": {
        "id": "xumg0Um10VJS"
      }
    },
    {
      "cell_type": "markdown",
      "metadata": {
        "id": "U4057_ljNvWB"
      },
      "source": [
        "## Exercise e) Test correctness of derivatives with the finite difference method\n",
        "\n",
        "Write a small function that uses [the finite difference method](https://en.wikipedia.org/wiki/Finite_difference_method) to numerically test that backpropation implementation is working. In short we will use\n",
        "$$\n",
        "\\frac{\\partial f(a)}{\\partial a} \\approx \\frac{f(a+da)-f(a)}{da}\n",
        "$$\n",
        "for $da \\ll 1$.\n",
        "\n",
        "As an example, we could approximate the derivative of the function $f(a)=a^2$ in e.g. the value $a=4$ using the finite difference method. This amounts to inserting the relevant values and approximating the gradient $f'(4)$ with the fraction above. \n"
      ]
    },
    {
      "cell_type": "code",
      "execution_count": 9,
      "metadata": {
        "colab": {
          "base_uri": "https://localhost:8080/"
        },
        "id": "9TGil92lSXDN",
        "outputId": "d4c89e97-c197-41dc-ac11-6154ea7afcc1"
      },
      "outputs": [
        {
          "output_type": "stream",
          "name": "stdout",
          "text": [
            "Var(v=3.0000, grad=5.0000)\n",
            "Var(v=5.0000, grad=3.0000)\n",
            "Var(v=15.0000, grad=1.0000)\n",
            "5.000000413701855\n"
          ]
        }
      ],
      "source": [
        "# f function - try to change the code to test other types of functions as well (such as different polynomials etc.)\n",
        "def f_function(a):\n",
        "  a = Var(a)\n",
        "  b = Var(5.0)\n",
        "  f = a * b\n",
        "  f.backward()\n",
        "  return a,b,f\n",
        "\n",
        "for v in f_function(3.0):\n",
        "  print(v)\n",
        "\n",
        "# Insert your finite difference code here\n",
        "def finite_difference(da=1e-10):\n",
        "    \"\"\"\n",
        "    This function compute the finite difference between\n",
        "    \n",
        "    Input:\n",
        "    da:          The finite difference                           (float)\n",
        "    \n",
        "    Output:\n",
        "    finite_difference: numerical approximation to the derivative (float) \n",
        "    \"\"\"\n",
        "    \n",
        "    fa_da = f_function(3.0 + da)[2].v           # <- Insert correct expression\n",
        "    fa = f_function(3.0)[2].v               # <- Insert correct expression\n",
        "\n",
        "    finite_difference = (fa_da - fa) / da\n",
        "    \n",
        "    return finite_difference\n",
        "\n",
        "print(finite_difference())"
      ]
    },
    {
      "cell_type": "markdown",
      "metadata": {
        "id": "6pZar5RKaUkg"
      },
      "source": [
        "# Create an artificial dataset to play with\n",
        "\n",
        "We create a non-linear 1d regression task. The generator supports various noise levels and it creates train, validation and test sets. You can modify it yourself if you want more or less challenging tasks."
      ]
    },
    {
      "cell_type": "code",
      "execution_count": 10,
      "metadata": {
        "id": "Y6yfMAQ8aduj"
      },
      "outputs": [],
      "source": [
        "import numpy as np\n",
        "import matplotlib.pyplot as plt\n",
        "\n",
        "np.random.seed(42)"
      ]
    },
    {
      "cell_type": "code",
      "execution_count": 11,
      "metadata": {
        "id": "4YabfD43ajNh"
      },
      "outputs": [],
      "source": [
        "def data_generator(noise=0.1, n_samples=300, D1=True):\n",
        "    # Create covariates and response variable\n",
        "    if D1:\n",
        "        X = np.linspace(-3, 3, num=n_samples).reshape(-1,1) # 1-D\n",
        "        np.random.shuffle(X)\n",
        "        y = np.random.normal((0.5*np.sin(X[:,0]*3) + X[:,0]), noise) # 1-D with trend\n",
        "    else:\n",
        "        X = np.random.multivariate_normal(np.zeros(3), noise*np.eye(3), size = n_samples) # 3-D\n",
        "        np.random.shuffle(X)    \n",
        "        y = np.sin(X[:,0]) - 5*(X[:,1]**2) + 0.5*X[:,2] # 3-D\n",
        "\n",
        "    # Stack them together vertically to split data set\n",
        "    data_set = np.vstack((X.T,y)).T\n",
        "    \n",
        "    train, validation, test = np.split(data_set, [int(0.35*n_samples), int(0.7*n_samples)], axis=0)\n",
        "    \n",
        "    # Standardization of the data, remember we do the standardization with the training set mean and standard deviation\n",
        "    train_mu = np.mean(train, axis=0)\n",
        "    train_sigma = np.std(train, axis=0)\n",
        "    \n",
        "    train = (train-train_mu)/train_sigma\n",
        "    validation = (validation-train_mu)/train_sigma\n",
        "    test = (test-train_mu)/train_sigma\n",
        "    \n",
        "    x_train, x_validation, x_test = train[:,:-1], validation[:,:-1], test[:,:-1]\n",
        "    y_train, y_validation, y_test = train[:,-1], validation[:,-1], test[:,-1]\n",
        "\n",
        "    return x_train, y_train,  x_validation, y_validation, x_test, y_test"
      ]
    },
    {
      "cell_type": "code",
      "execution_count": 12,
      "metadata": {
        "id": "u1oDngHLapIz"
      },
      "outputs": [],
      "source": [
        "D1 = True\n",
        "x_train, y_train,  x_validation, y_validation, x_test, y_test = data_generator(noise=0.5, D1=D1)"
      ]
    },
    {
      "cell_type": "code",
      "execution_count": 13,
      "metadata": {
        "colab": {
          "base_uri": "https://localhost:8080/",
          "height": 265
        },
        "id": "Ysfa3FsBavlm",
        "outputId": "161de78b-845b-4174-d39d-fbbdbd4bfbdb"
      },
      "outputs": [
        {
          "output_type": "display_data",
          "data": {
            "text/plain": [
              "<Figure size 432x288 with 1 Axes>"
            ],
            "image/png": "[encoded data removed]"
          },
          "metadata": {
            "needs_background": "light"
          }
        }
      ],
      "source": [
        "if D1:\n",
        "    plt.scatter(x_train[:,0], y_train);\n",
        "    plt.scatter(x_validation[:,0], y_validation);\n",
        "    plt.scatter(x_test[:,0], y_test);\n",
        "else:\n",
        "    plt.scatter(x_train[:,1], y_train);\n",
        "    plt.scatter(x_validation[:,1], y_validation);\n",
        "    plt.scatter(x_test[:,1], y_test);\n",
        "plt.show()"
      ]
    },
    {
      "cell_type": "code",
      "execution_count": 14,
      "metadata": {
        "id": "zac2HHNlgbpm"
      },
      "outputs": [],
      "source": [
        "# convert from nparray to Var\n",
        "def nparray_to_Var(x):\n",
        "  if x.ndim==1:\n",
        "    y = [[Var(float(x[i]))] for i in range(x.shape[0])] # always work with list of list\n",
        "  else:\n",
        "    y = [[Var(float(x[i,j])) for j in range(x.shape[1])] for i in range(x.shape[0])]\n",
        "  return y\n",
        "   \n",
        "x_train = nparray_to_Var(x_train)\n",
        "y_train = nparray_to_Var(y_train)\n",
        "x_validation = nparray_to_Var(x_validation)\n",
        "y_validation = nparray_to_Var(y_validation)\n",
        "x_test = nparray_to_Var(x_test)\n",
        "y_test = nparray_to_Var(y_test)\n"
      ]
    },
    {
      "cell_type": "markdown",
      "metadata": {
        "id": "VbjrqcpVFtGe"
      },
      "source": [
        "# Defining and initializing the network\n",
        "\n",
        "The steps to create a feed forward neural network are the following:\n",
        "\n",
        "1. **Number of hidden layer and hidden units**. We have to define the number of hidden units in each layer. The number of features in X and the output dimensionality (the size of Y) are given but the numbers in between are set by the researcher. Remember that for each unit in each layer beside in the input has a bias term.\n",
        "2. **Activation functions** for each hidden layer. Each hidden layer in your list must have an activation function (it can also be the linear activation which is equivalent to identity function). The power of neural networks comes from non-linear activation functions that learn representations (features) from the data allowing us to learn from it. \n",
        "3. **Parameter initialization**. We will initialize the weights to have random values. This is done in practice by drawing pseudo random numbers from a Gaussian or uniform distribution. It turns out that for deeper models we have to be careful about how we scale the random numbers. This will be the topic of the exercise below. For now we will just use unit variance Gaussians.  \n",
        "\n",
        "In order to make life easier for ourselves we define a DenseLayer class that takes care of initialization and the forward pass. We can also extend it later with print and advanced initialization capabilities. For the latter we have introduced a Initializer class.\n",
        "\n",
        "Note that we use Sequence in the code below. A Sequence is an ordered list. This means the order we insert and access items are the same."
      ]
    },
    {
      "cell_type": "code",
      "execution_count": 15,
      "metadata": {
        "id": "ij_ieRsAt7Xt"
      },
      "outputs": [],
      "source": [
        "class Initializer:\n",
        "\n",
        "  def init_weights(self, n_in, n_out):\n",
        "    raise NotImplementedError\n",
        "\n",
        "  def init_bias(self, n_out):\n",
        "    raise NotImplementedError"
      ]
    },
    {
      "cell_type": "code",
      "execution_count": 16,
      "metadata": {
        "id": "eb18N5phuIha"
      },
      "outputs": [],
      "source": [
        "import random\n",
        "\n",
        "class NormalInitializer(Initializer):\n",
        "\n",
        "  def __init__(self, mean=0, std=0.1):\n",
        "    self.mean = mean\n",
        "    self.std = std\n",
        "\n",
        "  def init_weights(self, n_in, n_out):\n",
        "    return [[Var(random.gauss(self.mean, self.std)) for _ in range(n_out)] for _ in range(n_in)]\n",
        "\n",
        "  def init_bias(self, n_out):\n",
        "    return [Var(0.0) for _ in range(n_out)]\n",
        "\n",
        "class ConstantInitializer(Initializer):\n",
        "\n",
        "  def __init__(self, weight=1.0, bias=0.0):\n",
        "    self.weight = weight\n",
        "    self.bias = bias\n",
        "\n",
        "  def init_weights(self, n_in, n_out):\n",
        "    return [[Var(self.weight) for _ in range(n_out)] for _ in range(n_in)]\n",
        "\n",
        "  def init_bias(self, n_out):\n",
        "    return [Var(self.bias) for _ in range(n_out)]"
      ]
    },
    {
      "cell_type": "code",
      "execution_count": 17,
      "metadata": {
        "id": "jOLYGnZKuM6W"
      },
      "outputs": [],
      "source": [
        "from typing import Sequence\n",
        "\n",
        "class DenseLayer:\n",
        "    def __init__(self, n_in: int, n_out: int, act_fn, initializer = NormalInitializer()):\n",
        "        self.weights = initializer.init_weights(n_in, n_out)\n",
        "        self.bias = initializer.init_bias(n_out)\n",
        "        self.act_fn = act_fn\n",
        "    \n",
        "    def __repr__(self):    \n",
        "        return 'Weights: ' + repr(self.weights) + ' Biases: ' + repr(self.bias)\n",
        "\n",
        "    def parameters(self) -> Sequence[Var]:\n",
        "      params = []\n",
        "      for r in self.weights:\n",
        "        params += r\n",
        "\n",
        "      return params + self.bias\n",
        "\n",
        "    def forward(self, single_input: Sequence[Var]) -> Sequence[Var]:\n",
        "        # self.weights is a matrix with dimension n_in x n_out. We check that the dimensionality of the input \n",
        "        # to the current layer matches the number of nodes in the current layer\n",
        "        assert len(self.weights) == len(single_input), \"weights and single_input must match in first dimension\"\n",
        "        weights = self.weights\n",
        "        out = []\n",
        "        # For some given data point single_input, we now want to calculate the resulting value in each node in the current layer\n",
        "        # We therefore loop over the (number of) nodes in the current layer:\n",
        "        for j in range(len(weights[0])): \n",
        "            # Initialize the node value depending on its corresponding parameters.\n",
        "            node = self.bias[j] # <- Insert code\n",
        "            # We now finish the linear transformation corresponding to the parameters of the currently considered node.\n",
        "            for i in range(len(single_input)):\n",
        "                node += weights[i][j] * single_input[i]  # <- Insert code\n",
        "            node = self.act_fn(node)\n",
        "            out.append(node)\n",
        "\n",
        "        return out"
      ]
    },
    {
      "cell_type": "markdown",
      "metadata": {
        "id": "jpIZPBpNI0pO"
      },
      "source": [
        "## Exercise f) Add more activation functions\n",
        "\n",
        "To have a full definition of the neural network, we must define an activation function for every layer. Several activation functions have been proposed and have different characteristics. In the Var class we have already defined the rectified linear init (relu). \n",
        " \n",
        "Implement the following activation functions in the Var class:\n",
        "\n",
        "* Identity: $$\\mathrm{identity}(x) = x$$\n",
        "* Hyperbolic tangent: $$\\tanh(x)$$\n",
        "* Sigmoid (or logistic function): $$\\mathrm{sigmoid}(x) = \\frac{1}{1.0 + \\exp(-x ) }$$  Hint: $\\mathrm{sigmoid}'(x)= \\mathrm{sigmoid}(x)(1-\\mathrm{sigmoid}(x))$.  \n",
        "\n",
        "Hint: You can seek inspiration in the relu method in the Var class."
      ]
    },
    {
      "cell_type": "markdown",
      "source": [
        "**solved in class - look at top of document**"
      ],
      "metadata": {
        "id": "dezTK4mF-OgE"
      }
    },
    {
      "cell_type": "markdown",
      "metadata": {
        "id": "p_8n_SKnIW2F"
      },
      "source": [
        "## Exercise g) Complete the forward pass\n",
        "\n",
        "In the code below we initialize a 1-5-1 network and pass the training set through it. *The forward method in DenseLayer is **not** complete*. It just outputs zeros right now. The method forward should perform an [affine transformation](https://en.wikipedia.org/wiki/Affine_transformation) on the input followed by an application of the activation function."
      ]
    },
    {
      "cell_type": "code",
      "execution_count": 18,
      "metadata": {
        "colab": {
          "base_uri": "https://localhost:8080/"
        },
        "id": "xDEjtePxE7Mv",
        "outputId": "d12fdde4-562e-48fd-9428-536cc62b37b3"
      },
      "outputs": [
        {
          "output_type": "stream",
          "name": "stdout",
          "text": [
            "[[Var(v=0.0090, grad=0.0000)], [Var(v=0.0180, grad=0.0000)], [Var(v=0.0016, grad=0.0000)], [Var(v=-0.0122, grad=0.0000)], [Var(v=0.0133, grad=0.0000)], [Var(v=0.0123, grad=0.0000)], [Var(v=0.0080, grad=0.0000)], [Var(v=-0.0029, grad=0.0000)], [Var(v=-0.0126, grad=0.0000)], [Var(v=0.0049, grad=0.0000)], [Var(v=0.0139, grad=0.0000)], [Var(v=-0.0078, grad=0.0000)], [Var(v=0.0111, grad=0.0000)], [Var(v=-0.0089, grad=0.0000)], [Var(v=0.0059, grad=0.0000)], [Var(v=0.0116, grad=0.0000)], [Var(v=0.0213, grad=0.0000)], [Var(v=0.0101, grad=0.0000)], [Var(v=0.0011, grad=0.0000)], [Var(v=0.0035, grad=0.0000)], [Var(v=-0.0058, grad=0.0000)], [Var(v=-0.0026, grad=0.0000)], [Var(v=0.0156, grad=0.0000)], [Var(v=0.0157, grad=0.0000)], [Var(v=-0.0034, grad=0.0000)], [Var(v=-0.0092, grad=0.0000)], [Var(v=0.0202, grad=0.0000)], [Var(v=0.0222, grad=0.0000)], [Var(v=0.0024, grad=0.0000)], [Var(v=0.0140, grad=0.0000)], [Var(v=-0.0115, grad=0.0000)], [Var(v=0.0034, grad=0.0000)], [Var(v=-0.0100, grad=0.0000)], [Var(v=-0.0109, grad=0.0000)], [Var(v=0.0107, grad=0.0000)], [Var(v=-0.0020, grad=0.0000)], [Var(v=-0.0124, grad=0.0000)], [Var(v=-0.0047, grad=0.0000)], [Var(v=-0.0088, grad=0.0000)], [Var(v=-0.0063, grad=0.0000)], [Var(v=-0.0044, grad=0.0000)], [Var(v=-0.0060, grad=0.0000)], [Var(v=0.0209, grad=0.0000)], [Var(v=-0.0075, grad=0.0000)], [Var(v=-0.0059, grad=0.0000)], [Var(v=-0.0072, grad=0.0000)], [Var(v=0.0134, grad=0.0000)], [Var(v=0.0127, grad=0.0000)], [Var(v=-0.0028, grad=0.0000)], [Var(v=0.0130, grad=0.0000)], [Var(v=0.0057, grad=0.0000)], [Var(v=0.0005, grad=0.0000)], [Var(v=0.0141, grad=0.0000)], [Var(v=-0.0061, grad=0.0000)], [Var(v=0.0225, grad=0.0000)], [Var(v=0.0197, grad=0.0000)], [Var(v=-0.0041, grad=0.0000)], [Var(v=-0.0045, grad=0.0000)], [Var(v=0.0074, grad=0.0000)], [Var(v=-0.0108, grad=0.0000)], [Var(v=0.0131, grad=0.0000)], [Var(v=-0.0076, grad=0.0000)], [Var(v=-0.0125, grad=0.0000)], [Var(v=0.0064, grad=0.0000)], [Var(v=0.0047, grad=0.0000)], [Var(v=-0.0103, grad=0.0000)], [Var(v=-0.0110, grad=0.0000)], [Var(v=0.0166, grad=0.0000)], [Var(v=-0.0079, grad=0.0000)], [Var(v=0.0065, grad=0.0000)], [Var(v=-0.0030, grad=0.0000)], [Var(v=-0.0014, grad=0.0000)], [Var(v=0.0128, grad=0.0000)], [Var(v=0.0075, grad=0.0000)], [Var(v=-0.0011, grad=0.0000)], [Var(v=0.0203, grad=0.0000)], [Var(v=-0.0055, grad=0.0000)], [Var(v=-0.0053, grad=0.0000)], [Var(v=-0.0069, grad=0.0000)], [Var(v=0.0212, grad=0.0000)], [Var(v=0.0032, grad=0.0000)], [Var(v=0.0019, grad=0.0000)], [Var(v=-0.0113, grad=0.0000)], [Var(v=-0.0015, grad=0.0000)], [Var(v=-0.0057, grad=0.0000)], [Var(v=-0.0025, grad=0.0000)], [Var(v=-0.0021, grad=0.0000)], [Var(v=-0.0064, grad=0.0000)], [Var(v=-0.0117, grad=0.0000)], [Var(v=-0.0122, grad=0.0000)], [Var(v=0.0077, grad=0.0000)], [Var(v=-0.0037, grad=0.0000)], [Var(v=-0.0068, grad=0.0000)], [Var(v=0.0120, grad=0.0000)], [Var(v=-0.0096, grad=0.0000)], [Var(v=-0.0116, grad=0.0000)], [Var(v=0.0055, grad=0.0000)], [Var(v=0.0009, grad=0.0000)], [Var(v=0.0192, grad=0.0000)], [Var(v=-0.0069, grad=0.0000)], [Var(v=0.0126, grad=0.0000)], [Var(v=-0.0067, grad=0.0000)], [Var(v=-0.0102, grad=0.0000)], [Var(v=0.0061, grad=0.0000)], [Var(v=0.0179, grad=0.0000)]]\n"
          ]
        }
      ],
      "source": [
        "NN = [\n",
        "    DenseLayer(1, 5, lambda x: x.relu()),\n",
        "    DenseLayer(5, 1, lambda x: x.identity())\n",
        "]\n",
        "\n",
        "def forward(input, network):\n",
        "\n",
        "  def forward_single(x, network):\n",
        "    for layer in network:\n",
        "        x = layer.forward(x)\n",
        "    return x\n",
        "\n",
        "  output = [ forward_single(input[n], network) for n in range(len(input))]\n",
        "  return output\n",
        "\n",
        "print(forward(x_train, NN))\n"
      ]
    },
    {
      "cell_type": "markdown",
      "metadata": {
        "id": "oLrGJytZFtGm"
      },
      "source": [
        "## Exercise h) Print all network parameters\n",
        "\n",
        "Make a function that prints all the parameters of the network (weights and biases) with information about in which layer the appear. In the object oriented spirit you should introduce a method in the DenseLayer class to print the parameters of a layer. Hint: You can take inspiration from the corresponding method in Var. "
      ]
    },
    {
      "cell_type": "code",
      "execution_count": 19,
      "metadata": {
        "id": "iac-VwYGFtGm",
        "colab": {
          "base_uri": "https://localhost:8080/"
        },
        "outputId": "ef063a78-6fd6-400c-f7ff-4a2444dc5b93"
      },
      "outputs": [
        {
          "output_type": "stream",
          "name": "stdout",
          "text": [
            "Layer: 0 Weights: [[Var(v=-0.0767, grad=0.0000), Var(v=0.0902, grad=0.0000), Var(v=-0.1025, grad=0.0000), Var(v=-0.0671, grad=0.0000), Var(v=0.0291, grad=0.0000)]] Biases: [Var(v=0.0000, grad=0.0000), Var(v=0.0000, grad=0.0000), Var(v=0.0000, grad=0.0000), Var(v=0.0000, grad=0.0000), Var(v=0.0000, grad=0.0000)]\n",
            "Layer: 1 Weights: [[Var(v=-0.1753, grad=0.0000)], [Var(v=0.1147, grad=0.0000)], [Var(v=-0.0471, grad=0.0000)], [Var(v=0.1524, grad=0.0000)], [Var(v=0.0717, grad=0.0000)]] Biases: [Var(v=0.0000, grad=0.0000)]\n"
          ]
        }
      ],
      "source": [
        "# Insert code here and in the DenseLayer class\n",
        "def layer_networks(NN=NN):\n",
        "  # printing information for each layer of the NN\n",
        "  for i in range(len(NN)):\n",
        "    string = 'Layer: ' + str(i) + ' ' + str(NN[i])\n",
        "    print(string)\n",
        "\n",
        "# by running this function all the parameters of the network and the belonging layer is printed\n",
        "layer_networks()"
      ]
    },
    {
      "cell_type": "markdown",
      "metadata": {
        "id": "_79HOAXrFtHK"
      },
      "source": [
        "## Visualization\n",
        "\n",
        "Now that we have defined our activation functions we can visualize them to see what they look like:"
      ]
    },
    {
      "cell_type": "code",
      "execution_count": 20,
      "metadata": {
        "id": "1FcylHqLTl-Z",
        "colab": {
          "base_uri": "https://localhost:8080/",
          "height": 0
        },
        "outputId": "e15b7cc2-3ead-4a84-c6be-dbd1c8ba63b6"
      },
      "outputs": [
        {
          "output_type": "execute_result",
          "data": {
            "text/plain": [
              "[<matplotlib.lines.Line2D at 0x7fd456b4d090>]"
            ]
          },
          "metadata": {},
          "execution_count": 20
        },
        {
          "output_type": "display_data",
          "data": {
            "text/plain": [
              "<Figure size 432x288 with 1 Axes>"
            ],
            "image/png": "[encoded data removed]"
          },
          "metadata": {
            "needs_background": "light"
          }
        }
      ],
      "source": [
        "x = np.linspace(-6, 6, 100)\n",
        "\n",
        "# convert from Var to ndarray  \n",
        "def Var_to_nparray(x):\n",
        "  y = np.zeros((len(x),len(x[0])))\n",
        "  for i in range(len(x)):\n",
        "    for j in range(len(x[0])):\n",
        "      y[i,j] = x[i][j].v\n",
        "  return y\n",
        "\n",
        "# define 1-1 network with weight = 1 and relu activation \n",
        "NN = [ DenseLayer(1, 1, lambda x: x.relu(), initializer = ConstantInitializer(1.0)) ] \n",
        "y = Var_to_nparray(forward(nparray_to_Var(x), NN))\n",
        "\n",
        "#y = Var_to_nparray(relu(nparray_to_Var(x)))\n",
        "plt.plot(x,y)"
      ]
    },
    {
      "cell_type": "code",
      "execution_count": 21,
      "metadata": {
        "id": "oOL2UolJFtHL",
        "colab": {
          "base_uri": "https://localhost:8080/",
          "height": 0
        },
        "outputId": "dc0bae27-c2f3-41c3-9c4b-c138b576d82c"
      },
      "outputs": [
        {
          "output_type": "display_data",
          "data": {
            "text/plain": [
              "<Figure size 360x360 with 1 Axes>"
            ],
            "image/png": "[encoded data removed]"
          },
          "metadata": {
            "needs_background": "light"
          }
        }
      ],
      "source": [
        "# Testing all activation layers\n",
        "\n",
        "x = np.linspace(-6, 6, 100)\n",
        "units = {\n",
        "    \"identity\": lambda x: x.identity(),\n",
        "    \"sigmoid\": lambda x: x.sigmoid(),\n",
        "    \"relu\": lambda x: x.relu(),\n",
        "    \"tanh\": lambda x: x.tanh()\n",
        "}\n",
        "\n",
        "plt.figure(figsize=(5, 5))\n",
        "[plt.plot(x, Var_to_nparray(forward(nparray_to_Var(x), [DenseLayer(1, 1, unit, initializer = ConstantInitializer(1.0))]) ), label=unit_name, lw=2) for unit_name, unit in units.items()] # unit(nparray_to_Var(x))), label=unit_name, lw=2) for unit_name, unit in units.items()]\n",
        "plt.legend(loc=2, fontsize=16)\n",
        "plt.title('Our activation functions', fontsize=20)\n",
        "plt.ylim([-2, 5])\n",
        "plt.xlim([-6, 6])\n",
        "plt.show()"
      ]
    },
    {
      "cell_type": "markdown",
      "metadata": {
        "id": "b-jdEl-7FtGs"
      },
      "source": [
        "# Advanced initialization schemes\n",
        "\n",
        "If we are not careful with initialization, the signals we propagate forward ($a^{(l)}$, $l=1,\\ldots,L$) and backward ($\\delta^l$, $l=L,L-1,\\ldots,1$) can blow up or shrink to zero. A statistical analysis of the variance of the signals for different activation functions can be found in these two papers: [Glorot initialization](http://proceedings.mlr.press/v9/glorot10a/glorot10a.pdf) and [He initialization](https://arxiv.org/pdf/1502.01852v1.pdf). \n",
        "\n",
        "The result of the analyses are proposals for how to make the initialization such that the variance of the signals (forward and backward) are kept approxmimatly constant when propagating from layer to layer. The exact expressions depend upon the non-linear activation function used. In Glorot initialization, the aim is to keep both the forward and backward variances constant whereas He only aims at keeping the variance in the forward pass constant.\n",
        "\n",
        "We define $n_{in}$ and $n_{out}$ as the number of input units and output units of a particular layer. \n",
        "\n",
        "The Glorot initialization has the form: \n",
        "\n",
        "$$w_{ij} \\sim N \\bigg( 0, \\, \\frac{2 \\alpha }{n_{in} + n_{out}} \\bigg) \\ . $$\n",
        "\n",
        "where $N(\\mu,\\sigma^2)$ is a Gaussian distribution with mean $\\mu$ and variance $\\sigma^2$ and $\\alpha$ is a parameter that depends upon the activation function used. For $\\tanh$, $\\alpha=1$ and for Rectified Linear Unit (ReLU) activations, $\\alpha=2$. (It is also possible to use a uniform distribution for initialization, see [this blog post](https://mmuratarat.github.io/2019-02-25/xavier-glorot-he-weight-init).) \n",
        "\n",
        "The He initialization is very similar\n",
        "\n",
        "$$w_{ij} \\sim N \\bigg( 0, \\, \\frac{\\alpha}{n_{in}} \\bigg) \\ . $$"
      ]
    },
    {
      "cell_type": "markdown",
      "metadata": {
        "id": "mqeyab9qFtGs"
      },
      "source": [
        "## Exercise i) Glorot and He initialization\n",
        " \n",
        "Using the Initializer class, implement functions that implement Glorot and He \n",
        "\n",
        "Explain briefly how you would test numerically that these initializations have the sought after property. Hint: See plots in Glorot paper.\n",
        "\n",
        "Comment: If you want to be more advanced then try to make a universal initializer taking both the activation function and type (Glorot or He) as argument."
      ]
    },
    {
      "cell_type": "code",
      "execution_count": 22,
      "metadata": {
        "id": "Qyk01CgaFtGt"
      },
      "outputs": [],
      "source": [
        "import math\n",
        "\n",
        "## Glorot\n",
        "def DenseLayer_Glorot_tanh(n_in: int, n_out: int):\n",
        "  std = math.sqrt(2*1/(n_in+n_out)) # <- replace with proper initialization\n",
        "  return DenseLayer(n_in, n_out, lambda x: x.tanh(), initializer = NormalInitializer(std))\n",
        "\n",
        "## He\n",
        "def DenseLayer_He_relu(n_in: int, n_out: int):\n",
        "  std = math.sqrt(0, 2/n_in) # <- replace with proper initialization\n",
        "  return DenseLayer(n_in, n_out, lambda x: x.relu(), initializer = NormalInitializer(std))"
      ]
    },
    {
      "cell_type": "markdown",
      "source": [
        "I would show the distribution of the gradients by using the initializer."
      ],
      "metadata": {
        "id": "n9C6sJ2jSFGb"
      }
    },
    {
      "cell_type": "markdown",
      "metadata": {
        "id": "-XyXBD37FtHk"
      },
      "source": [
        "## Exercise j) Forward pass unit test\n",
        "\n",
        "Write a bit of code to make a unit test that the forward pass works. This can be done by defining a simple network with for example all weights equal to one (using the ConstantInitializer method) and identity activation functions. \n",
        "\n",
        "Hints: Use the [assert](https://www.w3schools.com/python/ref_keyword_assert.asp), the nparray_to_Var and the Var_to_nparray commands. "
      ]
    },
    {
      "cell_type": "code",
      "execution_count": 23,
      "metadata": {
        "id": "k0miqRUAFtHl",
        "colab": {
          "base_uri": "https://localhost:8080/",
          "height": 265
        },
        "outputId": "ea18bcef-46db-4a66-97cb-657f978e7d50"
      },
      "outputs": [
        {
          "output_type": "display_data",
          "data": {
            "text/plain": [
              "<Figure size 432x288 with 1 Axes>"
            ],
            "image/png": "[encoded data removed]"
          },
          "metadata": {
            "needs_background": "light"
          }
        }
      ],
      "source": [
        "# Insert code here\n",
        "# a simple network of 1-1 with weight = 1 and the identity activation\n",
        "NN = [DenseLayer(1, 1, lambda x: x.identity(), initializer = ConstantInitializer(1.0)) ]\n",
        "y = Var_to_nparray(forward(nparray_to_Var(x), NN))\n",
        "\n",
        "assert x.all() == y.all()\n",
        "\n",
        "plt.plot(y)\n",
        "plt.show()"
      ]
    },
    {
      "cell_type": "markdown",
      "metadata": {
        "id": "faCxhfFnFtHp"
      },
      "source": [
        "# Loss functions\n",
        "\n",
        "We are only missing a loss function to we need to define a loss function and its derivative with respect to the output of the neural network $y$"
      ]
    },
    {
      "cell_type": "code",
      "execution_count": 24,
      "metadata": {
        "id": "I2eDYKvAFtHq"
      },
      "outputs": [],
      "source": [
        "def squared_loss(t, y):\n",
        "  \n",
        "  # add check that sizes agree\n",
        "  \n",
        "  def squared_loss_single(t, y):\n",
        "    Loss = Var(0.0)\n",
        "    for i in range(len(t)): # sum over outputs\n",
        "      Loss += (t[i]-y[i]) ** 2\n",
        "    return Loss\n",
        "\n",
        "  Loss = Var(0.0)\n",
        "  for n in range(len(t)): # sum over training data\n",
        "    Loss += squared_loss_single(t[n],y[n])\n",
        "  return Loss"
      ]
    },
    {
      "cell_type": "markdown",
      "metadata": {
        "id": "SrwSJ2UWFtHu"
      },
      "source": [
        "## Exercise k) Implement cross entropy loss\n",
        "\n",
        "Insert code below to implement cross-entropy loss for general dimensionality of $t$. Use a logits formulation:\n",
        "$$\n",
        "\\rm{Loss} = - \\sum_i t_i \\, log \\, p_i \n",
        "$$\n",
        "with $p$ given by the the softmax function in terms of the logits $h$:\n",
        "$$\n",
        "p_i = \\frac{\\exp(h_i)}{\\sum_{i'} \\exp(h_{i'})} .\n",
        "$$\n",
        "Inserting $p$ in the expression for the loss gives\n",
        "$$\n",
        "\\rm{Loss} = - \\sum_i t_i h_i + \\rm{LogSumExp}(h) \\ ,\n",
        "$$\n",
        "where \n",
        "$$\n",
        "\\rm{LogSumExp}(h) = \\log \\sum_i \\exp h_i \\ .\n",
        "$$\n",
        "This is true for $t$ being a one-hot vector. \n",
        "\n",
        "Call the function to convince yourself it works. \n",
        "\n",
        "In practice you want to implement a [numerically stable](https://leimao.github.io/blog/LogSumExp/) version of LogSumExp. But we will not bother about that here.\n",
        "\n",
        "Help: You can add these methods in the Var class:\n",
        "\n",
        "    def exp(self):\n",
        "        return Var(exp(self.v), lambda: [(self, exp(self.v))])\n",
        "    \n",
        "    def log(self):\n",
        "        return Var(log(self.v), lambda: [(self, self.v ** -1)])"
      ]
    },
    {
      "cell_type": "code",
      "execution_count": 25,
      "metadata": {
        "id": "6nMuxyfzFtHv"
      },
      "outputs": [],
      "source": [
        "def cross_entropy_loss(t, h):\n",
        "     \n",
        "    Loss = Var(0.0)\n",
        "    \n",
        "    # Insert code here\n",
        "    for i in range(1, len(t)-1):\n",
        "      Loss -= t[i][0].v * h[i][0].v  +  log(exp(h[i][0].v)) \n",
        "\n",
        "    return Loss"
      ]
    },
    {
      "cell_type": "markdown",
      "metadata": {
        "id": "8fAF5ew4FtHy"
      },
      "source": [
        "# Backward pass\n",
        "\n",
        "Now the magic happens! We get the calculation of the gradients for free. Just do:"
      ]
    },
    {
      "cell_type": "code",
      "execution_count": 26,
      "metadata": {
        "id": "iHyfPPI9Qqwu"
      },
      "outputs": [],
      "source": [
        "NN = [\n",
        "    DenseLayer(1, 5, lambda x: x.relu()),\n",
        "    DenseLayer(5, 1, lambda x: x.identity())\n",
        "]\n",
        "\n",
        "output = forward(x_train, NN)\n",
        "\n",
        "Loss = squared_loss(y_train,output)\n",
        "Loss.backward()"
      ]
    },
    {
      "cell_type": "markdown",
      "metadata": {
        "id": "49biIAYKQ1oG"
      },
      "source": [
        "and the gradients will be calculated:"
      ]
    },
    {
      "cell_type": "code",
      "execution_count": 27,
      "metadata": {
        "id": "_rGt1bq_Q7uk",
        "colab": {
          "base_uri": "https://localhost:8080/"
        },
        "outputId": "99c2a316-d474-425b-d361-9aa5a0895639"
      },
      "outputs": [
        {
          "output_type": "stream",
          "name": "stdout",
          "text": [
            "Layer 0 \n",
            " Weights: [[Var(v=0.0255, grad=-1.2093), Var(v=0.0701, grad=-0.4506), Var(v=0.0301, grad=-4.4112), Var(v=-0.1191, grad=-5.9812), Var(v=0.0755, grad=-11.1058)]] Biases: [Var(v=0.0000, grad=-1.0390), Var(v=0.0000, grad=-0.3872), Var(v=0.0000, grad=-3.7900), Var(v=0.0000, grad=5.4373), Var(v=0.0000, grad=-9.5418)]\n",
            "Layer 1 \n",
            " Weights: [[Var(v=0.0120, grad=-2.5580)], [Var(v=0.0045, grad=-7.0463)], [Var(v=0.0439, grad=-3.0270)], [Var(v=0.0618, grad=11.5246)], [Var(v=0.1105, grad=-7.5809)]] Biases: [Var(v=0.0000, grad=1.6346)]\n"
          ]
        },
        {
          "output_type": "execute_result",
          "data": {
            "text/plain": [
              "[None, None]"
            ]
          },
          "metadata": {},
          "execution_count": 27
        }
      ],
      "source": [
        "[print('Layer', i, '\\n', NN[i]) for i in range(len(NN))] "
      ]
    },
    {
      "cell_type": "markdown",
      "metadata": {
        "id": "D7d7qK0uFtH9"
      },
      "source": [
        "# Backward pass unit test\n",
        "\n",
        "Above we used finite differences to test that Nanograd is actually doing what it is supposed to do. We can in principle try the same for the neural network. But we will trust that the test above is enough."
      ]
    },
    {
      "cell_type": "markdown",
      "metadata": {
        "id": "WgBi8GOSFtIN"
      },
      "source": [
        "# Training and validation\n",
        "\n",
        "We are ready to train some neural networks!\n",
        "\n",
        "We initialize again:"
      ]
    },
    {
      "cell_type": "code",
      "execution_count": 28,
      "metadata": {
        "id": "01ePmzBzRtdh"
      },
      "outputs": [],
      "source": [
        "NN = [\n",
        "    DenseLayer(1, 15, lambda x: x.relu()),\n",
        "    DenseLayer(15, 50, lambda x: x.relu()),\n",
        "    DenseLayer(50, 1, lambda x: x.identity())\n",
        "]\n",
        "\n",
        "output = forward(x_train, NN)\n",
        "\n",
        "Loss = squared_loss(y_train,output)\n",
        "Loss.backward()"
      ]
    },
    {
      "cell_type": "markdown",
      "metadata": {
        "id": "10iRPiQ1ISHw"
      },
      "source": [
        "and make an update:\n",
        "\n",
        "We introduce a help function parameters to have a handle in all parameters in the network."
      ]
    },
    {
      "cell_type": "code",
      "execution_count": 29,
      "metadata": {
        "id": "dhAI7eyeznia",
        "colab": {
          "base_uri": "https://localhost:8080/"
        },
        "outputId": "742336c7-9118-404a-8f5c-8a9ac985c813"
      },
      "outputs": [
        {
          "output_type": "stream",
          "name": "stdout",
          "text": [
            "Network before update:\n",
            "Layer 0 \n",
            " Weights: [[Var(v=0.0402, grad=14.4463), Var(v=0.0544, grad=-3.9996), Var(v=0.0637, grad=7.5030), Var(v=0.0185, grad=8.8525), Var(v=0.0061, grad=-4.7813), Var(v=-0.1280, grad=-0.6714), Var(v=-0.0455, grad=0.0315), Var(v=-0.0681, grad=1.0742), Var(v=0.0058, grad=-3.7814), Var(v=0.0282, grad=-12.3724), Var(v=0.1017, grad=-0.0584), Var(v=-0.1352, grad=0.5289), Var(v=-0.0876, grad=2.0483), Var(v=0.1149, grad=-6.5185), Var(v=0.0866, grad=-4.8219)]] Biases: [Var(v=0.0000, grad=12.4107), Var(v=0.0000, grad=-3.4361), Var(v=0.0000, grad=6.4458), Var(v=0.0000, grad=7.6051), Var(v=0.0000, grad=-4.1076), Var(v=0.0000, grad=0.6103), Var(v=0.0000, grad=-0.0287), Var(v=0.0000, grad=-0.9763), Var(v=0.0000, grad=-3.2486), Var(v=0.0000, grad=-10.6291), Var(v=0.0000, grad=-0.0502), Var(v=0.0000, grad=-0.4807), Var(v=0.0000, grad=-1.8617), Var(v=0.0000, grad=-5.6000), Var(v=0.0000, grad=-4.1424)]\n",
            "Layer 1 \n",
            " Weights: [[Var(v=0.0406, grad=0.0000), Var(v=-0.1137, grad=0.0000), Var(v=-0.1249, grad=0.0000), Var(v=0.1113, grad=-0.2134), Var(v=0.1438, grad=0.3101), Var(v=0.0416, grad=0.0000), Var(v=-0.0372, grad=0.0000), Var(v=0.2229, grad=0.4921), Var(v=-0.0314, grad=0.2502), Var(v=-0.0584, grad=0.0000), Var(v=0.2602, grad=-0.1440), Var(v=0.0707, grad=0.0000), Var(v=-0.0145, grad=-0.7528), Var(v=0.1228, grad=-0.1483), Var(v=-0.0397, grad=0.0000), Var(v=0.0214, grad=0.1968), Var(v=-0.2356, grad=0.0000), Var(v=-0.0001, grad=0.0000), Var(v=-0.0753, grad=-0.7531), Var(v=0.0310, grad=-0.0594), Var(v=-0.0830, grad=0.0000), Var(v=0.0094, grad=-0.1184), Var(v=-0.0143, grad=0.0000), Var(v=-0.0554, grad=-0.2568), Var(v=0.0258, grad=0.1528), Var(v=-0.0924, grad=0.0000), Var(v=0.2400, grad=0.1726), Var(v=-0.0349, grad=0.0000), Var(v=-0.0691, grad=-0.1223), Var(v=-0.0983, grad=0.0000), Var(v=-0.0390, grad=0.1329), Var(v=0.0260, grad=0.0000), Var(v=0.1765, grad=0.2088), Var(v=-0.0335, grad=0.0000), Var(v=0.0637, grad=0.0000), Var(v=-0.0865, grad=0.0000), Var(v=-0.3231, grad=-0.1676), Var(v=0.0045, grad=-0.2195), Var(v=0.0197, grad=-0.4076), Var(v=0.0880, grad=0.0000), Var(v=0.0498, grad=0.0000), Var(v=0.2298, grad=1.2884), Var(v=-0.0660, grad=0.3114), Var(v=-0.0456, grad=-0.2443), Var(v=-0.0264, grad=-0.2692), Var(v=-0.0621, grad=0.0000), Var(v=-0.0426, grad=-0.1764), Var(v=-0.0581, grad=-0.0360), Var(v=-0.0811, grad=0.0489), Var(v=-0.1089, grad=0.0000)], [Var(v=-0.0895, grad=0.0000), Var(v=-0.1364, grad=0.0000), Var(v=-0.1270, grad=0.0000), Var(v=0.0312, grad=-0.2893), Var(v=0.0003, grad=0.4203), Var(v=-0.0628, grad=0.0000), Var(v=-0.0728, grad=0.0000), Var(v=0.0328, grad=0.6671), Var(v=0.0141, grad=0.3392), Var(v=-0.1718, grad=0.0000), Var(v=0.0906, grad=-0.1952), Var(v=-0.0286, grad=0.0000), Var(v=-0.0169, grad=-1.0205), Var(v=-0.1515, grad=-0.2011), Var(v=0.0271, grad=0.0000), Var(v=-0.0462, grad=0.2668), Var(v=-0.0973, grad=0.0000), Var(v=-0.0365, grad=0.0000), Var(v=0.0813, grad=-1.0210), Var(v=0.0541, grad=-0.0806), Var(v=0.0591, grad=0.0000), Var(v=0.0023, grad=-0.1604), Var(v=-0.1213, grad=0.0000), Var(v=0.0753, grad=-0.3481), Var(v=-0.0881, grad=0.2072), Var(v=-0.0025, grad=0.0000), Var(v=-0.0302, grad=0.2339), Var(v=-0.1256, grad=0.0000), Var(v=-0.0646, grad=-0.1658), Var(v=0.1402, grad=0.0000), Var(v=0.0799, grad=0.1801), Var(v=-0.0787, grad=0.0000), Var(v=0.0878, grad=0.2830), Var(v=-0.1027, grad=0.0000), Var(v=-0.1323, grad=0.0000), Var(v=-0.0693, grad=0.0000), Var(v=0.1161, grad=-0.2271), Var(v=0.1067, grad=-0.2976), Var(v=-0.1821, grad=-0.5525), Var(v=-0.0556, grad=0.0000), Var(v=-0.0954, grad=0.0000), Var(v=-0.1053, grad=1.7465), Var(v=0.0128, grad=0.4222), Var(v=0.0609, grad=-0.3312), Var(v=-0.0931, grad=-0.3650), Var(v=-0.0926, grad=0.0000), Var(v=0.1112, grad=-0.2392), Var(v=0.0971, grad=-0.0488), Var(v=-0.1557, grad=0.0664), Var(v=0.1221, grad=0.0000)], [Var(v=0.0500, grad=0.0000), Var(v=-0.0801, grad=0.0000), Var(v=0.0031, grad=0.0000), Var(v=-0.0518, grad=-0.3386), Var(v=0.1418, grad=0.4920), Var(v=0.1393, grad=0.0000), Var(v=0.0237, grad=0.0000), Var(v=0.0463, grad=0.7808), Var(v=0.0252, grad=0.3970), Var(v=-0.1093, grad=0.0000), Var(v=-0.0184, grad=-0.2285), Var(v=-0.0278, grad=0.0000), Var(v=-0.0715, grad=-1.1945), Var(v=0.1750, grad=-0.2354), Var(v=-0.0183, grad=0.0000), Var(v=0.0268, grad=0.3123), Var(v=-0.0190, grad=0.0000), Var(v=-0.0068, grad=0.0000), Var(v=-0.0274, grad=-1.1951), Var(v=0.0649, grad=-0.0943), Var(v=-0.0883, grad=0.0000), Var(v=-0.0647, grad=-0.1878), Var(v=0.1525, grad=0.0000), Var(v=0.0660, grad=-0.4074), Var(v=-0.0960, grad=0.2425), Var(v=-0.1773, grad=0.0000), Var(v=0.0702, grad=0.2738), Var(v=-0.0378, grad=0.0000), Var(v=0.0216, grad=-0.1940), Var(v=0.2615, grad=0.0000), Var(v=0.1700, grad=0.2108), Var(v=-0.2148, grad=0.0000), Var(v=-0.0518, grad=0.3313), Var(v=-0.1286, grad=0.0000), Var(v=-0.1408, grad=0.0000), Var(v=-0.0273, grad=0.0000), Var(v=0.1168, grad=-0.2659), Var(v=0.0340, grad=-0.3484), Var(v=0.0805, grad=-0.6467), Var(v=-0.0840, grad=0.0000), Var(v=-0.1704, grad=0.0000), Var(v=0.1882, grad=2.0443), Var(v=-0.0016, grad=0.4941), Var(v=-0.0945, grad=-0.3876), Var(v=0.2218, grad=-0.4272), Var(v=-0.0022, grad=0.0000), Var(v=-0.0970, grad=-0.2799), Var(v=-0.1211, grad=-0.0571), Var(v=0.0109, grad=0.0777), Var(v=-0.1595, grad=0.0000)], [Var(v=-0.2340, grad=0.0000), Var(v=0.0158, grad=0.0000), Var(v=-0.0082, grad=0.0000), Var(v=-0.0003, grad=-0.0983), Var(v=0.2695, grad=0.1428), Var(v=0.0200, grad=0.0000), Var(v=-0.0179, grad=0.0000), Var(v=0.0339, grad=0.2267), Var(v=0.0073, grad=0.1153), Var(v=-0.1148, grad=0.0000), Var(v=-0.1451, grad=-0.0663), Var(v=-0.0793, grad=0.0000), Var(v=-0.0217, grad=-0.3468), Var(v=0.0859, grad=-0.0683), Var(v=0.1416, grad=0.0000), Var(v=0.0572, grad=0.0907), Var(v=-0.0729, grad=0.0000), Var(v=0.0762, grad=0.0000), Var(v=-0.1319, grad=-0.3470), Var(v=0.1273, grad=-0.0274), Var(v=0.0247, grad=0.0000), Var(v=0.1630, grad=-0.0545), Var(v=0.0043, grad=0.0000), Var(v=-0.0383, grad=-0.1183), Var(v=0.1006, grad=0.0704), Var(v=0.1110, grad=0.0000), Var(v=-0.1468, grad=0.0795), Var(v=-0.0933, grad=0.0000), Var(v=-0.0159, grad=-0.0563), Var(v=-0.0103, grad=0.0000), Var(v=0.0162, grad=0.0612), Var(v=0.1673, grad=0.0000), Var(v=-0.0399, grad=0.0962), Var(v=0.0813, grad=0.0000), Var(v=-0.0832, grad=0.0000), Var(v=0.0587, grad=0.0000), Var(v=0.0907, grad=-0.0772), Var(v=-0.0668, grad=-0.1011), Var(v=-0.1190, grad=-0.1878), Var(v=-0.1015, grad=0.0000), Var(v=0.0001, grad=0.0000), Var(v=-0.0043, grad=0.5935), Var(v=0.0865, grad=0.1435), Var(v=-0.0157, grad=-0.1125), Var(v=-0.2177, grad=-0.1240), Var(v=-0.1781, grad=0.0000), Var(v=-0.0684, grad=-0.0813), Var(v=0.0619, grad=-0.0166), Var(v=0.1599, grad=0.0225), Var(v=-0.0018, grad=0.0000)], [Var(v=0.0475, grad=0.0000), Var(v=0.1124, grad=0.0000), Var(v=0.0389, grad=0.0000), Var(v=0.0341, grad=-0.0323), Var(v=-0.0343, grad=0.0470), Var(v=0.1777, grad=0.0000), Var(v=0.0065, grad=0.0000), Var(v=-0.0884, grad=0.0745), Var(v=0.1205, grad=0.0379), Var(v=-0.0696, grad=0.0000), Var(v=0.1436, grad=-0.0218), Var(v=-0.0091, grad=0.0000), Var(v=-0.0428, grad=-0.1140), Var(v=-0.0787, grad=-0.0225), Var(v=-0.1918, grad=0.0000), Var(v=0.0572, grad=0.0298), Var(v=0.0986, grad=0.0000), Var(v=0.0572, grad=0.0000), Var(v=0.1142, grad=-0.1140), Var(v=-0.1692, grad=-0.0090), Var(v=-0.0829, grad=0.0000), Var(v=-0.0344, grad=-0.0179), Var(v=0.1496, grad=0.0000), Var(v=-0.0645, grad=-0.0389), Var(v=0.1521, grad=0.0231), Var(v=-0.1923, grad=0.0000), Var(v=0.1108, grad=0.0261), Var(v=0.0148, grad=0.0000), Var(v=0.2281, grad=-0.0185), Var(v=-0.0239, grad=0.0000), Var(v=0.1318, grad=0.0201), Var(v=-0.0023, grad=0.0000), Var(v=0.0060, grad=0.0316), Var(v=0.0401, grad=0.0000), Var(v=0.0649, grad=0.0000), Var(v=0.0771, grad=0.0000), Var(v=-0.0727, grad=-0.0254), Var(v=0.0758, grad=-0.0332), Var(v=0.1202, grad=-0.0617), Var(v=-0.0196, grad=0.0000), Var(v=0.0091, grad=0.0000), Var(v=-0.1100, grad=0.1951), Var(v=0.1210, grad=0.0472), Var(v=0.0716, grad=-0.0370), Var(v=0.0032, grad=-0.0408), Var(v=0.0244, grad=0.0000), Var(v=-0.0202, grad=-0.0267), Var(v=0.0104, grad=-0.0055), Var(v=-0.0086, grad=0.0074), Var(v=0.0291, grad=0.0000)], [Var(v=0.0190, grad=0.0000), Var(v=-0.0149, grad=0.0000), Var(v=-0.2697, grad=0.0000), Var(v=-0.0151, grad=0.0000), Var(v=0.0082, grad=0.0000), Var(v=0.0313, grad=0.0000), Var(v=0.0079, grad=0.0000), Var(v=-0.0378, grad=0.0000), Var(v=-0.1322, grad=0.0000), Var(v=-0.0050, grad=0.0000), Var(v=0.0767, grad=0.4353), Var(v=-0.0539, grad=-0.5887), Var(v=-0.1327, grad=0.0000), Var(v=-0.0814, grad=0.4484), Var(v=0.0364, grad=0.6836), Var(v=0.0094, grad=-0.5948), Var(v=-0.0581, grad=0.0000), Var(v=0.0501, grad=0.7955), Var(v=-0.1174, grad=0.0000), Var(v=-0.0758, grad=0.0000), Var(v=0.0354, grad=1.7579), Var(v=-0.0081, grad=0.3577), Var(v=-0.0579, grad=0.0000), Var(v=0.0445, grad=0.7761), Var(v=0.0802, grad=-0.4619), Var(v=0.0910, grad=1.0784), Var(v=-0.0578, grad=0.0000), Var(v=0.0673, grad=1.5482), Var(v=0.0205, grad=0.0000), Var(v=0.1327, grad=-1.5858), Var(v=-0.0468, grad=-0.4016), Var(v=-0.1502, grad=0.0000), Var(v=0.2443, grad=-0.6310), Var(v=0.0206, grad=0.2216), Var(v=-0.2234, grad=0.0000), Var(v=-0.0005, grad=-1.2039), Var(v=0.1386, grad=0.0000), Var(v=0.0182, grad=0.6636), Var(v=-0.1382, grad=0.0000), Var(v=-0.1641, grad=0.0000), Var(v=0.0055, grad=0.0000), Var(v=-0.0238, grad=0.0000), Var(v=-0.0061, grad=0.0000), Var(v=0.0241, grad=0.0000), Var(v=-0.1647, grad=0.0000), Var(v=-0.0167, grad=0.0000), Var(v=0.1025, grad=0.5332), Var(v=-0.0752, grad=0.0000), Var(v=-0.0410, grad=-0.1479), Var(v=0.0156, grad=0.4356)], [Var(v=0.1675, grad=0.0000), Var(v=0.0626, grad=0.0000), Var(v=0.0705, grad=0.0000), Var(v=-0.0261, grad=0.0000), Var(v=0.0072, grad=0.0000), Var(v=0.0339, grad=0.0000), Var(v=0.0695, grad=0.0000), Var(v=-0.0655, grad=0.0000), Var(v=0.0682, grad=0.0000), Var(v=-0.0135, grad=0.0000), Var(v=0.0382, grad=0.1546), Var(v=-0.0617, grad=-0.2091), Var(v=0.0189, grad=0.0000), Var(v=0.1678, grad=0.1592), Var(v=0.1178, grad=0.2427), Var(v=0.0629, grad=-0.2112), Var(v=0.0117, grad=0.0000), Var(v=0.0593, grad=0.2825), Var(v=-0.1200, grad=0.0000), Var(v=-0.1723, grad=0.0000), Var(v=-0.1133, grad=0.6242), Var(v=0.1159, grad=0.1270), Var(v=-0.0338, grad=0.0000), Var(v=0.0354, grad=0.2756), Var(v=-0.0792, grad=-0.1640), Var(v=-0.1875, grad=0.3830), Var(v=0.0911, grad=0.0000), Var(v=0.0126, grad=0.5498), Var(v=0.0718, grad=0.0000), Var(v=-0.0294, grad=-0.5631), Var(v=0.0575, grad=-0.1426), Var(v=0.0018, grad=0.0000), Var(v=0.0685, grad=-0.2241), Var(v=-0.2075, grad=0.0787), Var(v=-0.0130, grad=0.0000), Var(v=0.0619, grad=-0.4275), Var(v=0.1460, grad=0.0000), Var(v=0.1166, grad=0.2356), Var(v=0.0429, grad=0.0000), Var(v=-0.1112, grad=0.0000), Var(v=0.1543, grad=0.0000), Var(v=-0.1496, grad=0.0000), Var(v=-0.1245, grad=0.0000), Var(v=0.2003, grad=0.0000), Var(v=0.0206, grad=0.0000), Var(v=0.0871, grad=0.0000), Var(v=0.1819, grad=0.1893), Var(v=-0.1267, grad=0.0000), Var(v=0.0470, grad=-0.0525), Var(v=0.0615, grad=0.1547)], [Var(v=-0.0738, grad=0.0000), Var(v=0.0766, grad=0.0000), Var(v=-0.0244, grad=0.0000), Var(v=0.0013, grad=0.0000), Var(v=-0.0891, grad=0.0000), Var(v=-0.1327, grad=0.0000), Var(v=-0.0973, grad=0.0000), Var(v=-0.1091, grad=0.0000), Var(v=-0.0033, grad=0.0000), Var(v=-0.0402, grad=0.0000), Var(v=-0.0884, grad=0.2314), Var(v=0.0655, grad=-0.3131), Var(v=0.0840, grad=0.0000), Var(v=0.2213, grad=0.2384), Var(v=0.0106, grad=0.3635), Var(v=0.0379, grad=-0.3163), Var(v=-0.1012, grad=0.0000), Var(v=0.1155, grad=0.4230), Var(v=0.0681, grad=0.0000), Var(v=-0.1316, grad=0.0000), Var(v=-0.0633, grad=0.9348), Var(v=0.1029, grad=0.1902), Var(v=0.0019, grad=0.0000), Var(v=-0.0417, grad=0.4127), Var(v=-0.0810, grad=-0.2456), Var(v=0.1050, grad=0.5734), Var(v=-0.0335, grad=0.0000), Var(v=0.0622, grad=0.8232), Var(v=-0.0008, grad=0.0000), Var(v=0.0680, grad=-0.8432), Var(v=0.1986, grad=-0.2135), Var(v=-0.0590, grad=0.0000), Var(v=0.0319, grad=-0.3356), Var(v=0.1034, grad=0.1178), Var(v=0.0805, grad=0.0000), Var(v=-0.0007, grad=-0.6402), Var(v=0.0134, grad=0.0000), Var(v=-0.2004, grad=0.3528), Var(v=-0.0287, grad=0.0000), Var(v=-0.0186, grad=0.0000), Var(v=0.0508, grad=0.0000), Var(v=0.1460, grad=0.0000), Var(v=0.0649, grad=0.0000), Var(v=-0.0437, grad=0.0000), Var(v=-0.0341, grad=0.0000), Var(v=-0.3720, grad=0.0000), Var(v=-0.1184, grad=0.2835), Var(v=0.0052, grad=0.0000), Var(v=0.1009, grad=-0.0787), Var(v=0.0428, grad=0.2316)], [Var(v=-0.1843, grad=0.0000), Var(v=0.0530, grad=0.0000), Var(v=0.0268, grad=0.0000), Var(v=-0.0693, grad=-0.0307), Var(v=0.2688, grad=0.0447), Var(v=-0.0283, grad=0.0000), Var(v=-0.0583, grad=0.0000), Var(v=-0.1569, grad=0.0709), Var(v=0.0092, grad=0.0360), Var(v=0.0027, grad=0.0000), Var(v=-0.1531, grad=-0.0207), Var(v=0.0365, grad=0.0000), Var(v=0.1197, grad=-0.1085), Var(v=0.1474, grad=-0.0214), Var(v=-0.0538, grad=0.0000), Var(v=0.1003, grad=0.0284), Var(v=0.0713, grad=0.0000), Var(v=-0.0231, grad=0.0000), Var(v=0.0471, grad=-0.1085), Var(v=0.0253, grad=-0.0086), Var(v=0.0869, grad=0.0000), Var(v=0.1309, grad=-0.0171), Var(v=0.0041, grad=0.0000), Var(v=0.0033, grad=-0.0370), Var(v=0.0519, grad=0.0220), Var(v=-0.0445, grad=0.0000), Var(v=-0.0381, grad=0.0249), Var(v=0.0331, grad=0.0000), Var(v=0.1288, grad=-0.0176), Var(v=-0.0250, grad=0.0000), Var(v=-0.0469, grad=0.0191), Var(v=-0.1743, grad=0.0000), Var(v=-0.1954, grad=0.0301), Var(v=-0.0595, grad=0.0000), Var(v=-0.0840, grad=0.0000), Var(v=0.0899, grad=0.0000), Var(v=-0.0382, grad=-0.0241), Var(v=0.1460, grad=-0.0316), Var(v=-0.0778, grad=-0.0587), Var(v=-0.0492, grad=0.0000), Var(v=-0.0442, grad=0.0000), Var(v=0.0579, grad=0.1856), Var(v=0.0275, grad=0.0449), Var(v=0.0531, grad=-0.0352), Var(v=0.0656, grad=-0.0388), Var(v=-0.1151, grad=0.0000), Var(v=0.2601, grad=-0.0254), Var(v=0.0003, grad=-0.0052), Var(v=-0.0590, grad=0.0071), Var(v=0.1215, grad=0.0000)], [Var(v=-0.0182, grad=0.0000), Var(v=0.0093, grad=0.0000), Var(v=-0.0193, grad=0.0000), Var(v=0.0275, grad=-0.1496), Var(v=-0.1147, grad=0.2174), Var(v=-0.0805, grad=0.0000), Var(v=-0.0318, grad=0.0000), Var(v=-0.0587, grad=0.3451), Var(v=0.0276, grad=0.1754), Var(v=-0.0359, grad=0.0000), Var(v=0.0784, grad=-0.1010), Var(v=0.0140, grad=0.0000), Var(v=0.0320, grad=-0.5279), Var(v=-0.0147, grad=-0.1040), Var(v=-0.0213, grad=0.0000), Var(v=-0.1356, grad=0.1380), Var(v=0.0186, grad=0.0000), Var(v=-0.0653, grad=0.0000), Var(v=0.2924, grad=-0.5281), Var(v=0.0445, grad=-0.0417), Var(v=-0.0305, grad=0.0000), Var(v=0.0047, grad=-0.0830), Var(v=-0.0270, grad=0.0000), Var(v=0.2467, grad=-0.1801), Var(v=-0.0496, grad=0.1072), Var(v=-0.0518, grad=0.0000), Var(v=0.0797, grad=0.1210), Var(v=-0.1970, grad=0.0000), Var(v=-0.0600, grad=-0.0857), Var(v=0.1257, grad=0.0000), Var(v=0.1140, grad=0.0932), Var(v=0.1515, grad=0.0000), Var(v=0.0159, grad=0.1464), Var(v=-0.0539, grad=0.0000), Var(v=0.0356, grad=0.0000), Var(v=0.0355, grad=0.0000), Var(v=-0.0668, grad=-0.1175), Var(v=-0.0616, grad=-0.1539), Var(v=-0.0885, grad=-0.2858), Var(v=-0.1654, grad=0.0000), Var(v=0.0631, grad=0.0000), Var(v=-0.1289, grad=0.9034), Var(v=-0.0542, grad=0.2184), Var(v=0.0240, grad=-0.1713), Var(v=-0.0135, grad=-0.1888), Var(v=-0.0108, grad=0.0000), Var(v=-0.0230, grad=-0.1237), Var(v=-0.0126, grad=-0.0253), Var(v=0.0212, grad=0.0343), Var(v=0.2518, grad=0.0000)], [Var(v=-0.0665, grad=0.0000), Var(v=0.0719, grad=0.0000), Var(v=0.0306, grad=0.0000), Var(v=0.0764, grad=-0.5407), Var(v=-0.1117, grad=0.7855), Var(v=-0.0642, grad=0.0000), Var(v=0.0449, grad=0.0000), Var(v=0.0712, grad=1.2466), Var(v=0.1639, grad=0.6338), Var(v=0.1338, grad=0.0000), Var(v=0.0254, grad=-0.3648), Var(v=-0.2667, grad=0.0000), Var(v=-0.0728, grad=-1.9071), Var(v=-0.0402, grad=-0.3758), Var(v=-0.0360, grad=0.0000), Var(v=0.0355, grad=0.4986), Var(v=0.0451, grad=0.0000), Var(v=-0.1342, grad=0.0000), Var(v=0.0526, grad=-1.9081), Var(v=-0.0067, grad=-0.1506), Var(v=-0.0882, grad=0.0000), Var(v=-0.0174, grad=-0.2998), Var(v=-0.1023, grad=0.0000), Var(v=-0.1110, grad=-0.6505), Var(v=0.1300, grad=0.3872), Var(v=0.0066, grad=0.0000), Var(v=0.0509, grad=0.4372), Var(v=0.0076, grad=0.0000), Var(v=0.0124, grad=-0.3098), Var(v=-0.0349, grad=0.0000), Var(v=0.0689, grad=0.3366), Var(v=-0.1068, grad=0.0000), Var(v=-0.1726, grad=0.5289), Var(v=-0.0530, grad=0.0000), Var(v=0.1469, grad=0.0000), Var(v=-0.1518, grad=0.0000), Var(v=-0.0576, grad=-0.4245), Var(v=0.1285, grad=-0.5562), Var(v=0.1825, grad=-1.0326), Var(v=-0.0874, grad=0.0000), Var(v=-0.1262, grad=0.0000), Var(v=0.0626, grad=3.2640), Var(v=-0.0461, grad=0.7889), Var(v=0.0212, grad=-0.6189), Var(v=0.0809, grad=-0.6820), Var(v=0.0633, grad=0.0000), Var(v=0.1258, grad=-0.4469), Var(v=0.1035, grad=-0.0912), Var(v=-0.0736, grad=0.1240), Var(v=-0.1349, grad=0.0000)], [Var(v=-0.1103, grad=0.0000), Var(v=-0.1065, grad=0.0000), Var(v=-0.1260, grad=0.0000), Var(v=-0.1211, grad=0.0000), Var(v=-0.0192, grad=0.0000), Var(v=-0.0786, grad=0.0000), Var(v=-0.0516, grad=0.0000), Var(v=0.0700, grad=0.0000), Var(v=-0.0507, grad=0.0000), Var(v=-0.0521, grad=0.0000), Var(v=0.0664, grad=0.4598), Var(v=0.1255, grad=-0.6220), Var(v=0.0663, grad=0.0000), Var(v=-0.0440, grad=0.4737), Var(v=0.0713, grad=0.7222), Var(v=0.0508, grad=-0.6284), Var(v=-0.0294, grad=0.0000), Var(v=-0.0125, grad=0.8405), Var(v=0.0698, grad=0.0000), Var(v=-0.0282, grad=0.0000), Var(v=0.0635, grad=1.8572), Var(v=-0.0154, grad=0.3779), Var(v=-0.0304, grad=0.0000), Var(v=-0.0475, grad=0.8199), Var(v=0.0125, grad=-0.4880), Var(v=0.0774, grad=1.1393), Var(v=0.1075, grad=0.0000), Var(v=-0.0588, grad=1.6356), Var(v=0.0377, grad=0.0000), Var(v=-0.0347, grad=-1.6754), Var(v=0.2213, grad=-0.4242), Var(v=-0.0508, grad=0.0000), Var(v=0.0850, grad=-0.6667), Var(v=0.0956, grad=0.2341), Var(v=0.0176, grad=0.0000), Var(v=0.0549, grad=-1.2719), Var(v=-0.2674, grad=0.0000), Var(v=0.0902, grad=0.7010), Var(v=-0.1129, grad=0.0000), Var(v=-0.1468, grad=0.0000), Var(v=-0.0914, grad=0.0000), Var(v=-0.0977, grad=0.0000), Var(v=-0.0352, grad=0.0000), Var(v=-0.0885, grad=0.0000), Var(v=0.0679, grad=0.0000), Var(v=-0.1683, grad=0.0000), Var(v=0.0332, grad=0.5633), Var(v=-0.0799, grad=0.0000), Var(v=0.0743, grad=-0.1563), Var(v=-0.0040, grad=0.4602)], [Var(v=0.0338, grad=0.0000), Var(v=-0.0516, grad=0.0000), Var(v=-0.0059, grad=0.0000), Var(v=0.0513, grad=0.0000), Var(v=-0.1166, grad=0.0000), Var(v=0.0652, grad=0.0000), Var(v=-0.0888, grad=0.0000), Var(v=-0.0387, grad=0.0000), Var(v=-0.0911, grad=0.0000), Var(v=0.0544, grad=0.0000), Var(v=0.0807, grad=0.2978), Var(v=0.1010, grad=-0.4028), Var(v=-0.0912, grad=0.0000), Var(v=0.0576, grad=0.3068), Var(v=-0.0418, grad=0.4677), Var(v=-0.0119, grad=-0.4070), Var(v=-0.1435, grad=0.0000), Var(v=0.0368, grad=0.5443), Var(v=-0.0077, grad=0.0000), Var(v=0.0523, grad=0.0000), Var(v=0.0008, grad=1.2027), Var(v=0.0222, grad=0.2447), Var(v=-0.1625, grad=0.0000), Var(v=0.0303, grad=0.5310), Var(v=-0.0110, grad=-0.3160), Var(v=-0.1851, grad=0.7378), Var(v=-0.1290, grad=0.0000), Var(v=-0.0041, grad=1.0592), Var(v=-0.1429, grad=0.0000), Var(v=0.0849, grad=-1.0850), Var(v=-0.3149, grad=-0.2747), Var(v=-0.0327, grad=0.0000), Var(v=-0.0839, grad=-0.4317), Var(v=0.0436, grad=0.1516), Var(v=0.0134, grad=0.0000), Var(v=0.1406, grad=-0.8237), Var(v=-0.0619, grad=0.0000), Var(v=-0.0570, grad=0.4540), Var(v=0.0580, grad=0.0000), Var(v=-0.1770, grad=0.0000), Var(v=-0.0492, grad=0.0000), Var(v=-0.2561, grad=0.0000), Var(v=-0.0652, grad=0.0000), Var(v=-0.1107, grad=0.0000), Var(v=0.0237, grad=0.0000), Var(v=0.0301, grad=0.0000), Var(v=0.0724, grad=0.3648), Var(v=0.1355, grad=0.0000), Var(v=-0.0697, grad=-0.1012), Var(v=0.0011, grad=0.2980)], [Var(v=-0.0215, grad=0.0000), Var(v=-0.1893, grad=0.0000), Var(v=-0.0775, grad=0.0000), Var(v=-0.0200, grad=-0.6108), Var(v=0.1592, grad=0.8874), Var(v=-0.0036, grad=0.0000), Var(v=-0.0864, grad=0.0000), Var(v=0.1367, grad=1.4083), Var(v=0.0226, grad=0.7160), Var(v=-0.1851, grad=0.0000), Var(v=-0.0419, grad=-0.4121), Var(v=-0.1727, grad=0.0000), Var(v=0.2363, grad=-2.1544), Var(v=-0.1450, grad=-0.4246), Var(v=0.0540, grad=0.0000), Var(v=0.1847, grad=0.5632), Var(v=0.0251, grad=0.0000), Var(v=0.1406, grad=0.0000), Var(v=-0.0046, grad=-2.1555), Var(v=0.0770, grad=-0.1701), Var(v=-0.1107, grad=0.0000), Var(v=-0.0226, grad=-0.3387), Var(v=-0.1486, grad=0.0000), Var(v=0.0642, grad=-0.7349), Var(v=-0.0236, grad=0.4374), Var(v=-0.0261, grad=0.0000), Var(v=-0.0056, grad=0.4939), Var(v=0.0239, grad=0.0000), Var(v=0.1748, grad=-0.3499), Var(v=-0.1024, grad=0.0000), Var(v=0.0494, grad=0.3802), Var(v=0.0786, grad=0.0000), Var(v=0.2207, grad=0.5975), Var(v=0.1578, grad=0.0000), Var(v=-0.0171, grad=0.0000), Var(v=-0.0192, grad=0.0000), Var(v=0.1255, grad=-0.4795), Var(v=0.0960, grad=-0.6283), Var(v=0.1110, grad=-1.1665), Var(v=0.0320, grad=0.0000), Var(v=-0.0628, grad=0.0000), Var(v=-0.0982, grad=3.6873), Var(v=-0.0199, grad=0.8913), Var(v=0.0989, grad=-0.6991), Var(v=0.2195, grad=-0.7705), Var(v=-0.0564, grad=0.0000), Var(v=-0.0443, grad=-0.5049), Var(v=0.1054, grad=-0.1031), Var(v=0.2707, grad=0.1401), Var(v=-0.0147, grad=0.0000)], [Var(v=-0.0014, grad=0.0000), Var(v=0.0276, grad=0.0000), Var(v=0.0045, grad=0.0000), Var(v=-0.0398, grad=-0.4599), Var(v=0.0844, grad=0.6682), Var(v=-0.0524, grad=0.0000), Var(v=-0.0042, grad=0.0000), Var(v=-0.1756, grad=1.0604), Var(v=-0.0506, grad=0.5392), Var(v=-0.1376, grad=0.0000), Var(v=-0.1004, grad=-0.3103), Var(v=0.0002, grad=0.0000), Var(v=0.0274, grad=-1.6222), Var(v=0.1702, grad=-0.3197), Var(v=-0.0472, grad=0.0000), Var(v=-0.1279, grad=0.4241), Var(v=-0.0285, grad=0.0000), Var(v=-0.0394, grad=0.0000), Var(v=-0.0590, grad=-1.6231), Var(v=-0.2120, grad=-0.1281), Var(v=-0.0115, grad=0.0000), Var(v=0.1131, grad=-0.2551), Var(v=0.1044, grad=0.0000), Var(v=0.1330, grad=-0.5534), Var(v=0.0269, grad=0.3293), Var(v=-0.0251, grad=0.0000), Var(v=0.0805, grad=0.3719), Var(v=-0.0453, grad=0.0000), Var(v=0.0029, grad=-0.2635), Var(v=-0.1391, grad=0.0000), Var(v=-0.0847, grad=0.2863), Var(v=0.0908, grad=0.0000), Var(v=-0.0738, grad=0.4499), Var(v=-0.0853, grad=0.0000), Var(v=-0.1653, grad=0.0000), Var(v=0.0976, grad=0.0000), Var(v=0.0887, grad=-0.3611), Var(v=-0.0131, grad=-0.4731), Var(v=0.0972, grad=-0.8784), Var(v=-0.0154, grad=0.0000), Var(v=-0.0370, grad=0.0000), Var(v=-0.0278, grad=2.7765), Var(v=0.1157, grad=0.6711), Var(v=0.0741, grad=-0.5264), Var(v=0.0053, grad=-0.5802), Var(v=-0.1514, grad=0.0000), Var(v=0.0427, grad=-0.3802), Var(v=0.0077, grad=-0.0776), Var(v=0.1145, grad=0.1055), Var(v=-0.1156, grad=0.0000)]] Biases: [Var(v=0.0000, grad=0.0000), Var(v=0.0000, grad=0.0000), Var(v=0.0000, grad=0.0000), Var(v=0.0000, grad=-4.5651), Var(v=0.0000, grad=6.6326), Var(v=0.0000, grad=0.0000), Var(v=0.0000, grad=0.0000), Var(v=0.0000, grad=10.5258), Var(v=0.0000, grad=5.3516), Var(v=0.0000, grad=0.0000), Var(v=0.0000, grad=0.0103), Var(v=0.0000, grad=-4.1803), Var(v=0.0000, grad=-16.1023), Var(v=0.0000, grad=0.0106), Var(v=0.0000, grad=4.8537), Var(v=0.0000, grad=-0.0140), Var(v=0.0000, grad=0.0000), Var(v=0.0000, grad=5.6488), Var(v=0.0000, grad=-16.1104), Var(v=0.0000, grad=-1.2716), Var(v=0.0000, grad=12.4823), Var(v=0.0000, grad=0.0084), Var(v=0.0000, grad=0.0000), Var(v=0.0000, grad=0.0183), Var(v=0.0000, grad=-0.0109), Var(v=0.0000, grad=7.6576), Var(v=0.0000, grad=3.6915), Var(v=0.0000, grad=10.9930), Var(v=0.0000, grad=-2.6155), Var(v=0.0000, grad=-11.2603), Var(v=0.0000, grad=-0.0095), Var(v=0.0000, grad=0.0000), Var(v=0.0000, grad=-0.0149), Var(v=0.0000, grad=1.5735), Var(v=0.0000, grad=0.0000), Var(v=0.0000, grad=-8.5486), Var(v=0.0000, grad=-3.5842), Var(v=0.0000, grad=0.0156), Var(v=0.0000, grad=-8.7186), Var(v=0.0000, grad=0.0000), Var(v=0.0000, grad=0.0000), Var(v=0.0000, grad=27.5588), Var(v=0.0000, grad=6.6614), Var(v=0.0000, grad=-5.2254), Var(v=0.0000, grad=-5.7588), Var(v=0.0000, grad=0.0000), Var(v=0.0000, grad=0.0126), Var(v=0.0000, grad=-0.7704), Var(v=0.0000, grad=-0.0035), Var(v=0.0000, grad=3.0931)]\n",
            "Layer 2 \n",
            " Weights: [[Var(v=-0.0645, grad=0.0000)], [Var(v=0.1794, grad=0.0000)], [Var(v=-0.0090, grad=0.0000)], [Var(v=0.0526, grad=-0.5521)], [Var(v=-0.0765, grad=-3.2485)], [Var(v=-0.0765, grad=0.0000)], [Var(v=0.0857, grad=0.0000)], [Var(v=-0.1213, grad=-1.9156)], [Var(v=-0.0617, grad=-1.7878)], [Var(v=-0.1811, grad=0.0000)], [Var(v=0.0355, grad=1.7847)], [Var(v=-0.0480, grad=1.9710)], [Var(v=0.1856, grad=-1.7170)], [Var(v=0.0366, grad=0.7488)], [Var(v=0.0558, grad=1.6018)], [Var(v=-0.0485, grad=-0.0171)], [Var(v=-0.0981, grad=0.0000)], [Var(v=0.0649, grad=1.7714)], [Var(v=0.1857, grad=-0.6199)], [Var(v=0.0147, grad=-0.0874)], [Var(v=0.1434, grad=0.3575)], [Var(v=0.0292, grad=0.5079)], [Var(v=0.0726, grad=0.0000)], [Var(v=0.0633, grad=-1.9066)], [Var(v=-0.0377, grad=-0.2896)], [Var(v=0.0880, grad=0.4336)], [Var(v=-0.0426, grad=-2.4176)], [Var(v=0.1263, grad=0.4890)], [Var(v=0.0302, grad=-1.6999)], [Var(v=-0.1294, grad=2.2041)], [Var(v=-0.0328, grad=-1.1272)], [Var(v=-0.0251, grad=0.0000)], [Var(v=-0.0515, grad=3.0282)], [Var(v=0.0181, grad=1.6263)], [Var(v=-0.0930, grad=0.0000)], [Var(v=-0.0982, grad=2.1492)], [Var(v=0.0413, grad=-1.6325)], [Var(v=0.0541, grad=-2.8622)], [Var(v=0.1005, grad=-3.1634)], [Var(v=0.0220, grad=0.0000)], [Var(v=0.0071, grad=0.0000)], [Var(v=-0.3177, grad=-0.4151)], [Var(v=-0.0768, grad=-0.1971)], [Var(v=0.0602, grad=-1.6683)], [Var(v=0.0664, grad=-3.8280)], [Var(v=0.0635, grad=0.0000)], [Var(v=0.0435, grad=1.4016)], [Var(v=0.0089, grad=-1.9585)], [Var(v=-0.0121, grad=-1.8542)], [Var(v=0.0355, grad=0.6961)]] Biases: [Var(v=0.0000, grad=0.2889)]\n",
            "\n",
            "Network after update:\n",
            "Layer 0 \n",
            " Weights: [[Var(v=-0.1043, grad=14.4463), Var(v=0.0944, grad=-3.9996), Var(v=-0.0113, grad=7.5030), Var(v=-0.0700, grad=8.8525), Var(v=0.0539, grad=-4.7813), Var(v=-0.1213, grad=-0.6714), Var(v=-0.0458, grad=0.0315), Var(v=-0.0788, grad=1.0742), Var(v=0.0436, grad=-3.7814), Var(v=0.1519, grad=-12.3724), Var(v=0.1023, grad=-0.0584), Var(v=-0.1405, grad=0.5289), Var(v=-0.1081, grad=2.0483), Var(v=0.1801, grad=-6.5185), Var(v=0.1348, grad=-4.8219)]] Biases: [Var(v=-0.1241, grad=12.4107), Var(v=0.0344, grad=-3.4361), Var(v=-0.0645, grad=6.4458), Var(v=-0.0761, grad=7.6051), Var(v=0.0411, grad=-4.1076), Var(v=-0.0061, grad=0.6103), Var(v=0.0003, grad=-0.0287), Var(v=0.0098, grad=-0.9763), Var(v=0.0325, grad=-3.2486), Var(v=0.1063, grad=-10.6291), Var(v=0.0005, grad=-0.0502), Var(v=0.0048, grad=-0.4807), Var(v=0.0186, grad=-1.8617), Var(v=0.0560, grad=-5.6000), Var(v=0.0414, grad=-4.1424)]\n",
            "Layer 1 \n",
            " Weights: [[Var(v=0.0406, grad=0.0000), Var(v=-0.1137, grad=0.0000), Var(v=-0.1249, grad=0.0000), Var(v=0.1134, grad=-0.2134), Var(v=0.1407, grad=0.3101), Var(v=0.0416, grad=0.0000), Var(v=-0.0372, grad=0.0000), Var(v=0.2180, grad=0.4921), Var(v=-0.0339, grad=0.2502), Var(v=-0.0584, grad=0.0000), Var(v=0.2616, grad=-0.1440), Var(v=0.0707, grad=0.0000), Var(v=-0.0070, grad=-0.7528), Var(v=0.1242, grad=-0.1483), Var(v=-0.0397, grad=0.0000), Var(v=0.0194, grad=0.1968), Var(v=-0.2356, grad=0.0000), Var(v=-0.0001, grad=0.0000), Var(v=-0.0678, grad=-0.7531), Var(v=0.0315, grad=-0.0594), Var(v=-0.0830, grad=0.0000), Var(v=0.0106, grad=-0.1184), Var(v=-0.0143, grad=0.0000), Var(v=-0.0528, grad=-0.2568), Var(v=0.0243, grad=0.1528), Var(v=-0.0924, grad=0.0000), Var(v=0.2383, grad=0.1726), Var(v=-0.0349, grad=0.0000), Var(v=-0.0679, grad=-0.1223), Var(v=-0.0983, grad=0.0000), Var(v=-0.0403, grad=0.1329), Var(v=0.0260, grad=0.0000), Var(v=0.1745, grad=0.2088), Var(v=-0.0335, grad=0.0000), Var(v=0.0637, grad=0.0000), Var(v=-0.0865, grad=0.0000), Var(v=-0.3215, grad=-0.1676), Var(v=0.0067, grad=-0.2195), Var(v=0.0237, grad=-0.4076), Var(v=0.0880, grad=0.0000), Var(v=0.0498, grad=0.0000), Var(v=0.2170, grad=1.2884), Var(v=-0.0691, grad=0.3114), Var(v=-0.0432, grad=-0.2443), Var(v=-0.0237, grad=-0.2692), Var(v=-0.0621, grad=0.0000), Var(v=-0.0408, grad=-0.1764), Var(v=-0.0578, grad=-0.0360), Var(v=-0.0816, grad=0.0489), Var(v=-0.1089, grad=0.0000)], [Var(v=-0.0895, grad=0.0000), Var(v=-0.1364, grad=0.0000), Var(v=-0.1270, grad=0.0000), Var(v=0.0341, grad=-0.2893), Var(v=-0.0039, grad=0.4203), Var(v=-0.0628, grad=0.0000), Var(v=-0.0728, grad=0.0000), Var(v=0.0262, grad=0.6671), Var(v=0.0107, grad=0.3392), Var(v=-0.1718, grad=0.0000), Var(v=0.0925, grad=-0.1952), Var(v=-0.0286, grad=0.0000), Var(v=-0.0067, grad=-1.0205), Var(v=-0.1494, grad=-0.2011), Var(v=0.0271, grad=0.0000), Var(v=-0.0489, grad=0.2668), Var(v=-0.0973, grad=0.0000), Var(v=-0.0365, grad=0.0000), Var(v=0.0915, grad=-1.0210), Var(v=0.0549, grad=-0.0806), Var(v=0.0591, grad=0.0000), Var(v=0.0039, grad=-0.1604), Var(v=-0.1213, grad=0.0000), Var(v=0.0787, grad=-0.3481), Var(v=-0.0902, grad=0.2072), Var(v=-0.0025, grad=0.0000), Var(v=-0.0326, grad=0.2339), Var(v=-0.1256, grad=0.0000), Var(v=-0.0629, grad=-0.1658), Var(v=0.1402, grad=0.0000), Var(v=0.0781, grad=0.1801), Var(v=-0.0787, grad=0.0000), Var(v=0.0850, grad=0.2830), Var(v=-0.1027, grad=0.0000), Var(v=-0.1323, grad=0.0000), Var(v=-0.0693, grad=0.0000), Var(v=0.1184, grad=-0.2271), Var(v=0.1096, grad=-0.2976), Var(v=-0.1766, grad=-0.5525), Var(v=-0.0556, grad=0.0000), Var(v=-0.0954, grad=0.0000), Var(v=-0.1228, grad=1.7465), Var(v=0.0085, grad=0.4222), Var(v=0.0642, grad=-0.3312), Var(v=-0.0895, grad=-0.3650), Var(v=-0.0926, grad=0.0000), Var(v=0.1136, grad=-0.2392), Var(v=0.0976, grad=-0.0488), Var(v=-0.1564, grad=0.0664), Var(v=0.1221, grad=0.0000)], [Var(v=0.0500, grad=0.0000), Var(v=-0.0801, grad=0.0000), Var(v=0.0031, grad=0.0000), Var(v=-0.0484, grad=-0.3386), Var(v=0.1369, grad=0.4920), Var(v=0.1393, grad=0.0000), Var(v=0.0237, grad=0.0000), Var(v=0.0384, grad=0.7808), Var(v=0.0212, grad=0.3970), Var(v=-0.1093, grad=0.0000), Var(v=-0.0161, grad=-0.2285), Var(v=-0.0278, grad=0.0000), Var(v=-0.0596, grad=-1.1945), Var(v=0.1773, grad=-0.2354), Var(v=-0.0183, grad=0.0000), Var(v=0.0237, grad=0.3123), Var(v=-0.0190, grad=0.0000), Var(v=-0.0068, grad=0.0000), Var(v=-0.0154, grad=-1.1951), Var(v=0.0658, grad=-0.0943), Var(v=-0.0883, grad=0.0000), Var(v=-0.0628, grad=-0.1878), Var(v=0.1525, grad=0.0000), Var(v=0.0701, grad=-0.4074), Var(v=-0.0984, grad=0.2425), Var(v=-0.1773, grad=0.0000), Var(v=0.0674, grad=0.2738), Var(v=-0.0378, grad=0.0000), Var(v=0.0235, grad=-0.1940), Var(v=0.2615, grad=0.0000), Var(v=0.1678, grad=0.2108), Var(v=-0.2148, grad=0.0000), Var(v=-0.0551, grad=0.3313), Var(v=-0.1286, grad=0.0000), Var(v=-0.1408, grad=0.0000), Var(v=-0.0273, grad=0.0000), Var(v=0.1195, grad=-0.2659), Var(v=0.0375, grad=-0.3484), Var(v=0.0870, grad=-0.6467), Var(v=-0.0840, grad=0.0000), Var(v=-0.1704, grad=0.0000), Var(v=0.1677, grad=2.0443), Var(v=-0.0065, grad=0.4941), Var(v=-0.0906, grad=-0.3876), Var(v=0.2261, grad=-0.4272), Var(v=-0.0022, grad=0.0000), Var(v=-0.0942, grad=-0.2799), Var(v=-0.1206, grad=-0.0571), Var(v=0.0101, grad=0.0777), Var(v=-0.1595, grad=0.0000)], [Var(v=-0.2340, grad=0.0000), Var(v=0.0158, grad=0.0000), Var(v=-0.0082, grad=0.0000), Var(v=0.0006, grad=-0.0983), Var(v=0.2681, grad=0.1428), Var(v=0.0200, grad=0.0000), Var(v=-0.0179, grad=0.0000), Var(v=0.0317, grad=0.2267), Var(v=0.0061, grad=0.1153), Var(v=-0.1148, grad=0.0000), Var(v=-0.1445, grad=-0.0663), Var(v=-0.0793, grad=0.0000), Var(v=-0.0182, grad=-0.3468), Var(v=0.0866, grad=-0.0683), Var(v=0.1416, grad=0.0000), Var(v=0.0563, grad=0.0907), Var(v=-0.0729, grad=0.0000), Var(v=0.0762, grad=0.0000), Var(v=-0.1284, grad=-0.3470), Var(v=0.1276, grad=-0.0274), Var(v=0.0247, grad=0.0000), Var(v=0.1635, grad=-0.0545), Var(v=0.0043, grad=0.0000), Var(v=-0.0371, grad=-0.1183), Var(v=0.0999, grad=0.0704), Var(v=0.1110, grad=0.0000), Var(v=-0.1476, grad=0.0795), Var(v=-0.0933, grad=0.0000), Var(v=-0.0153, grad=-0.0563), Var(v=-0.0103, grad=0.0000), Var(v=0.0156, grad=0.0612), Var(v=0.1673, grad=0.0000), Var(v=-0.0409, grad=0.0962), Var(v=0.0813, grad=0.0000), Var(v=-0.0832, grad=0.0000), Var(v=0.0587, grad=0.0000), Var(v=0.0914, grad=-0.0772), Var(v=-0.0658, grad=-0.1011), Var(v=-0.1171, grad=-0.1878), Var(v=-0.1015, grad=0.0000), Var(v=0.0001, grad=0.0000), Var(v=-0.0102, grad=0.5935), Var(v=0.0851, grad=0.1435), Var(v=-0.0146, grad=-0.1125), Var(v=-0.2165, grad=-0.1240), Var(v=-0.1781, grad=0.0000), Var(v=-0.0676, grad=-0.0813), Var(v=0.0621, grad=-0.0166), Var(v=0.1597, grad=0.0225), Var(v=-0.0018, grad=0.0000)], [Var(v=0.0475, grad=0.0000), Var(v=0.1124, grad=0.0000), Var(v=0.0389, grad=0.0000), Var(v=0.0344, grad=-0.0323), Var(v=-0.0348, grad=0.0470), Var(v=0.1777, grad=0.0000), Var(v=0.0065, grad=0.0000), Var(v=-0.0891, grad=0.0745), Var(v=0.1201, grad=0.0379), Var(v=-0.0696, grad=0.0000), Var(v=0.1439, grad=-0.0218), Var(v=-0.0091, grad=0.0000), Var(v=-0.0416, grad=-0.1140), Var(v=-0.0785, grad=-0.0225), Var(v=-0.1918, grad=0.0000), Var(v=0.0569, grad=0.0298), Var(v=0.0986, grad=0.0000), Var(v=0.0572, grad=0.0000), Var(v=0.1154, grad=-0.1140), Var(v=-0.1691, grad=-0.0090), Var(v=-0.0829, grad=0.0000), Var(v=-0.0342, grad=-0.0179), Var(v=0.1496, grad=0.0000), Var(v=-0.0642, grad=-0.0389), Var(v=0.1518, grad=0.0231), Var(v=-0.1923, grad=0.0000), Var(v=0.1106, grad=0.0261), Var(v=0.0148, grad=0.0000), Var(v=0.2283, grad=-0.0185), Var(v=-0.0239, grad=0.0000), Var(v=0.1316, grad=0.0201), Var(v=-0.0023, grad=0.0000), Var(v=0.0057, grad=0.0316), Var(v=0.0401, grad=0.0000), Var(v=0.0649, grad=0.0000), Var(v=0.0771, grad=0.0000), Var(v=-0.0725, grad=-0.0254), Var(v=0.0762, grad=-0.0332), Var(v=0.1208, grad=-0.0617), Var(v=-0.0196, grad=0.0000), Var(v=0.0091, grad=0.0000), Var(v=-0.1120, grad=0.1951), Var(v=0.1205, grad=0.0472), Var(v=0.0720, grad=-0.0370), Var(v=0.0036, grad=-0.0408), Var(v=0.0244, grad=0.0000), Var(v=-0.0199, grad=-0.0267), Var(v=0.0104, grad=-0.0055), Var(v=-0.0087, grad=0.0074), Var(v=0.0291, grad=0.0000)], [Var(v=0.0190, grad=0.0000), Var(v=-0.0149, grad=0.0000), Var(v=-0.2697, grad=0.0000), Var(v=-0.0151, grad=0.0000), Var(v=0.0082, grad=0.0000), Var(v=0.0313, grad=0.0000), Var(v=0.0079, grad=0.0000), Var(v=-0.0378, grad=0.0000), Var(v=-0.1322, grad=0.0000), Var(v=-0.0050, grad=0.0000), Var(v=0.0724, grad=0.4353), Var(v=-0.0480, grad=-0.5887), Var(v=-0.1327, grad=0.0000), Var(v=-0.0858, grad=0.4484), Var(v=0.0296, grad=0.6836), Var(v=0.0154, grad=-0.5948), Var(v=-0.0581, grad=0.0000), Var(v=0.0421, grad=0.7955), Var(v=-0.1174, grad=0.0000), Var(v=-0.0758, grad=0.0000), Var(v=0.0178, grad=1.7579), Var(v=-0.0117, grad=0.3577), Var(v=-0.0579, grad=0.0000), Var(v=0.0367, grad=0.7761), Var(v=0.0849, grad=-0.4619), Var(v=0.0802, grad=1.0784), Var(v=-0.0578, grad=0.0000), Var(v=0.0518, grad=1.5482), Var(v=0.0205, grad=0.0000), Var(v=0.1485, grad=-1.5858), Var(v=-0.0428, grad=-0.4016), Var(v=-0.1502, grad=0.0000), Var(v=0.2506, grad=-0.6310), Var(v=0.0184, grad=0.2216), Var(v=-0.2234, grad=0.0000), Var(v=0.0115, grad=-1.2039), Var(v=0.1386, grad=0.0000), Var(v=0.0116, grad=0.6636), Var(v=-0.1382, grad=0.0000), Var(v=-0.1641, grad=0.0000), Var(v=0.0055, grad=0.0000), Var(v=-0.0238, grad=0.0000), Var(v=-0.0061, grad=0.0000), Var(v=0.0241, grad=0.0000), Var(v=-0.1647, grad=0.0000), Var(v=-0.0167, grad=0.0000), Var(v=0.0972, grad=0.5332), Var(v=-0.0752, grad=0.0000), Var(v=-0.0395, grad=-0.1479), Var(v=0.0113, grad=0.4356)], [Var(v=0.1675, grad=0.0000), Var(v=0.0626, grad=0.0000), Var(v=0.0705, grad=0.0000), Var(v=-0.0261, grad=0.0000), Var(v=0.0072, grad=0.0000), Var(v=0.0339, grad=0.0000), Var(v=0.0695, grad=0.0000), Var(v=-0.0655, grad=0.0000), Var(v=0.0682, grad=0.0000), Var(v=-0.0135, grad=0.0000), Var(v=0.0366, grad=0.1546), Var(v=-0.0596, grad=-0.2091), Var(v=0.0189, grad=0.0000), Var(v=0.1662, grad=0.1592), Var(v=0.1154, grad=0.2427), Var(v=0.0650, grad=-0.2112), Var(v=0.0117, grad=0.0000), Var(v=0.0565, grad=0.2825), Var(v=-0.1200, grad=0.0000), Var(v=-0.1723, grad=0.0000), Var(v=-0.1196, grad=0.6242), Var(v=0.1146, grad=0.1270), Var(v=-0.0338, grad=0.0000), Var(v=0.0327, grad=0.2756), Var(v=-0.0776, grad=-0.1640), Var(v=-0.1913, grad=0.3830), Var(v=0.0911, grad=0.0000), Var(v=0.0071, grad=0.5498), Var(v=0.0718, grad=0.0000), Var(v=-0.0237, grad=-0.5631), Var(v=0.0589, grad=-0.1426), Var(v=0.0018, grad=0.0000), Var(v=0.0707, grad=-0.2241), Var(v=-0.2083, grad=0.0787), Var(v=-0.0130, grad=0.0000), Var(v=0.0662, grad=-0.4275), Var(v=0.1460, grad=0.0000), Var(v=0.1142, grad=0.2356), Var(v=0.0429, grad=0.0000), Var(v=-0.1112, grad=0.0000), Var(v=0.1543, grad=0.0000), Var(v=-0.1496, grad=0.0000), Var(v=-0.1245, grad=0.0000), Var(v=0.2003, grad=0.0000), Var(v=0.0206, grad=0.0000), Var(v=0.0871, grad=0.0000), Var(v=0.1800, grad=0.1893), Var(v=-0.1267, grad=0.0000), Var(v=0.0476, grad=-0.0525), Var(v=0.0600, grad=0.1547)], [Var(v=-0.0738, grad=0.0000), Var(v=0.0766, grad=0.0000), Var(v=-0.0244, grad=0.0000), Var(v=0.0013, grad=0.0000), Var(v=-0.0891, grad=0.0000), Var(v=-0.1327, grad=0.0000), Var(v=-0.0973, grad=0.0000), Var(v=-0.1091, grad=0.0000), Var(v=-0.0033, grad=0.0000), Var(v=-0.0402, grad=0.0000), Var(v=-0.0907, grad=0.2314), Var(v=0.0687, grad=-0.3131), Var(v=0.0840, grad=0.0000), Var(v=0.2189, grad=0.2384), Var(v=0.0070, grad=0.3635), Var(v=0.0410, grad=-0.3163), Var(v=-0.1012, grad=0.0000), Var(v=0.1113, grad=0.4230), Var(v=0.0681, grad=0.0000), Var(v=-0.1316, grad=0.0000), Var(v=-0.0726, grad=0.9348), Var(v=0.1010, grad=0.1902), Var(v=0.0019, grad=0.0000), Var(v=-0.0458, grad=0.4127), Var(v=-0.0785, grad=-0.2456), Var(v=0.0993, grad=0.5734), Var(v=-0.0335, grad=0.0000), Var(v=0.0540, grad=0.8232), Var(v=-0.0008, grad=0.0000), Var(v=0.0765, grad=-0.8432), Var(v=0.2007, grad=-0.2135), Var(v=-0.0590, grad=0.0000), Var(v=0.0353, grad=-0.3356), Var(v=0.1022, grad=0.1178), Var(v=0.0805, grad=0.0000), Var(v=0.0057, grad=-0.6402), Var(v=0.0134, grad=0.0000), Var(v=-0.2039, grad=0.3528), Var(v=-0.0287, grad=0.0000), Var(v=-0.0186, grad=0.0000), Var(v=0.0508, grad=0.0000), Var(v=0.1460, grad=0.0000), Var(v=0.0649, grad=0.0000), Var(v=-0.0437, grad=0.0000), Var(v=-0.0341, grad=0.0000), Var(v=-0.3720, grad=0.0000), Var(v=-0.1212, grad=0.2835), Var(v=0.0052, grad=0.0000), Var(v=0.1017, grad=-0.0787), Var(v=0.0405, grad=0.2316)], [Var(v=-0.1843, grad=0.0000), Var(v=0.0530, grad=0.0000), Var(v=0.0268, grad=0.0000), Var(v=-0.0690, grad=-0.0307), Var(v=0.2684, grad=0.0447), Var(v=-0.0283, grad=0.0000), Var(v=-0.0583, grad=0.0000), Var(v=-0.1576, grad=0.0709), Var(v=0.0088, grad=0.0360), Var(v=0.0027, grad=0.0000), Var(v=-0.1529, grad=-0.0207), Var(v=0.0365, grad=0.0000), Var(v=0.1208, grad=-0.1085), Var(v=0.1476, grad=-0.0214), Var(v=-0.0538, grad=0.0000), Var(v=0.1000, grad=0.0284), Var(v=0.0713, grad=0.0000), Var(v=-0.0231, grad=0.0000), Var(v=0.0482, grad=-0.1085), Var(v=0.0253, grad=-0.0086), Var(v=0.0869, grad=0.0000), Var(v=0.1311, grad=-0.0171), Var(v=0.0041, grad=0.0000), Var(v=0.0037, grad=-0.0370), Var(v=0.0517, grad=0.0220), Var(v=-0.0445, grad=0.0000), Var(v=-0.0383, grad=0.0249), Var(v=0.0331, grad=0.0000), Var(v=0.1290, grad=-0.0176), Var(v=-0.0250, grad=0.0000), Var(v=-0.0471, grad=0.0191), Var(v=-0.1743, grad=0.0000), Var(v=-0.1957, grad=0.0301), Var(v=-0.0595, grad=0.0000), Var(v=-0.0840, grad=0.0000), Var(v=0.0899, grad=0.0000), Var(v=-0.0380, grad=-0.0241), Var(v=0.1464, grad=-0.0316), Var(v=-0.0773, grad=-0.0587), Var(v=-0.0492, grad=0.0000), Var(v=-0.0442, grad=0.0000), Var(v=0.0561, grad=0.1856), Var(v=0.0270, grad=0.0449), Var(v=0.0534, grad=-0.0352), Var(v=0.0660, grad=-0.0388), Var(v=-0.1151, grad=0.0000), Var(v=0.2603, grad=-0.0254), Var(v=0.0004, grad=-0.0052), Var(v=-0.0591, grad=0.0071), Var(v=0.1215, grad=0.0000)], [Var(v=-0.0182, grad=0.0000), Var(v=0.0093, grad=0.0000), Var(v=-0.0193, grad=0.0000), Var(v=0.0290, grad=-0.1496), Var(v=-0.1169, grad=0.2174), Var(v=-0.0805, grad=0.0000), Var(v=-0.0318, grad=0.0000), Var(v=-0.0621, grad=0.3451), Var(v=0.0259, grad=0.1754), Var(v=-0.0359, grad=0.0000), Var(v=0.0794, grad=-0.1010), Var(v=0.0140, grad=0.0000), Var(v=0.0372, grad=-0.5279), Var(v=-0.0137, grad=-0.1040), Var(v=-0.0213, grad=0.0000), Var(v=-0.1370, grad=0.1380), Var(v=0.0186, grad=0.0000), Var(v=-0.0653, grad=0.0000), Var(v=0.2977, grad=-0.5281), Var(v=0.0449, grad=-0.0417), Var(v=-0.0305, grad=0.0000), Var(v=0.0055, grad=-0.0830), Var(v=-0.0270, grad=0.0000), Var(v=0.2485, grad=-0.1801), Var(v=-0.0507, grad=0.1072), Var(v=-0.0518, grad=0.0000), Var(v=0.0785, grad=0.1210), Var(v=-0.1970, grad=0.0000), Var(v=-0.0591, grad=-0.0857), Var(v=0.1257, grad=0.0000), Var(v=0.1131, grad=0.0932), Var(v=0.1515, grad=0.0000), Var(v=0.0144, grad=0.1464), Var(v=-0.0539, grad=0.0000), Var(v=0.0356, grad=0.0000), Var(v=0.0355, grad=0.0000), Var(v=-0.0657, grad=-0.1175), Var(v=-0.0600, grad=-0.1539), Var(v=-0.0857, grad=-0.2858), Var(v=-0.1654, grad=0.0000), Var(v=0.0631, grad=0.0000), Var(v=-0.1380, grad=0.9034), Var(v=-0.0564, grad=0.2184), Var(v=0.0257, grad=-0.1713), Var(v=-0.0116, grad=-0.1888), Var(v=-0.0108, grad=0.0000), Var(v=-0.0218, grad=-0.1237), Var(v=-0.0124, grad=-0.0253), Var(v=0.0209, grad=0.0343), Var(v=0.2518, grad=0.0000)], [Var(v=-0.0665, grad=0.0000), Var(v=0.0719, grad=0.0000), Var(v=0.0306, grad=0.0000), Var(v=0.0818, grad=-0.5407), Var(v=-0.1195, grad=0.7855), Var(v=-0.0642, grad=0.0000), Var(v=0.0449, grad=0.0000), Var(v=0.0587, grad=1.2466), Var(v=0.1576, grad=0.6338), Var(v=0.1338, grad=0.0000), Var(v=0.0290, grad=-0.3648), Var(v=-0.2667, grad=0.0000), Var(v=-0.0537, grad=-1.9071), Var(v=-0.0364, grad=-0.3758), Var(v=-0.0360, grad=0.0000), Var(v=0.0305, grad=0.4986), Var(v=0.0451, grad=0.0000), Var(v=-0.1342, grad=0.0000), Var(v=0.0717, grad=-1.9081), Var(v=-0.0052, grad=-0.1506), Var(v=-0.0882, grad=0.0000), Var(v=-0.0144, grad=-0.2998), Var(v=-0.1023, grad=0.0000), Var(v=-0.1044, grad=-0.6505), Var(v=0.1261, grad=0.3872), Var(v=0.0066, grad=0.0000), Var(v=0.0465, grad=0.4372), Var(v=0.0076, grad=0.0000), Var(v=0.0155, grad=-0.3098), Var(v=-0.0349, grad=0.0000), Var(v=0.0656, grad=0.3366), Var(v=-0.1068, grad=0.0000), Var(v=-0.1779, grad=0.5289), Var(v=-0.0530, grad=0.0000), Var(v=0.1469, grad=0.0000), Var(v=-0.1518, grad=0.0000), Var(v=-0.0533, grad=-0.4245), Var(v=0.1341, grad=-0.5562), Var(v=0.1928, grad=-1.0326), Var(v=-0.0874, grad=0.0000), Var(v=-0.1262, grad=0.0000), Var(v=0.0299, grad=3.2640), Var(v=-0.0539, grad=0.7889), Var(v=0.0274, grad=-0.6189), Var(v=0.0877, grad=-0.6820), Var(v=0.0633, grad=0.0000), Var(v=0.1303, grad=-0.4469), Var(v=0.1044, grad=-0.0912), Var(v=-0.0748, grad=0.1240), Var(v=-0.1349, grad=0.0000)], [Var(v=-0.1103, grad=0.0000), Var(v=-0.1065, grad=0.0000), Var(v=-0.1260, grad=0.0000), Var(v=-0.1211, grad=0.0000), Var(v=-0.0192, grad=0.0000), Var(v=-0.0786, grad=0.0000), Var(v=-0.0516, grad=0.0000), Var(v=0.0700, grad=0.0000), Var(v=-0.0507, grad=0.0000), Var(v=-0.0521, grad=0.0000), Var(v=0.0618, grad=0.4598), Var(v=0.1317, grad=-0.6220), Var(v=0.0663, grad=0.0000), Var(v=-0.0487, grad=0.4737), Var(v=0.0641, grad=0.7222), Var(v=0.0571, grad=-0.6284), Var(v=-0.0294, grad=0.0000), Var(v=-0.0209, grad=0.8405), Var(v=0.0698, grad=0.0000), Var(v=-0.0282, grad=0.0000), Var(v=0.0450, grad=1.8572), Var(v=-0.0192, grad=0.3779), Var(v=-0.0304, grad=0.0000), Var(v=-0.0557, grad=0.8199), Var(v=0.0173, grad=-0.4880), Var(v=0.0660, grad=1.1393), Var(v=0.1075, grad=0.0000), Var(v=-0.0752, grad=1.6356), Var(v=0.0377, grad=0.0000), Var(v=-0.0180, grad=-1.6754), Var(v=0.2256, grad=-0.4242), Var(v=-0.0508, grad=0.0000), Var(v=0.0916, grad=-0.6667), Var(v=0.0932, grad=0.2341), Var(v=0.0176, grad=0.0000), Var(v=0.0677, grad=-1.2719), Var(v=-0.2674, grad=0.0000), Var(v=0.0832, grad=0.7010), Var(v=-0.1129, grad=0.0000), Var(v=-0.1468, grad=0.0000), Var(v=-0.0914, grad=0.0000), Var(v=-0.0977, grad=0.0000), Var(v=-0.0352, grad=0.0000), Var(v=-0.0885, grad=0.0000), Var(v=0.0679, grad=0.0000), Var(v=-0.1683, grad=0.0000), Var(v=0.0276, grad=0.5633), Var(v=-0.0799, grad=0.0000), Var(v=0.0758, grad=-0.1563), Var(v=-0.0086, grad=0.4602)], [Var(v=0.0338, grad=0.0000), Var(v=-0.0516, grad=0.0000), Var(v=-0.0059, grad=0.0000), Var(v=0.0513, grad=0.0000), Var(v=-0.1166, grad=0.0000), Var(v=0.0652, grad=0.0000), Var(v=-0.0888, grad=0.0000), Var(v=-0.0387, grad=0.0000), Var(v=-0.0911, grad=0.0000), Var(v=0.0544, grad=0.0000), Var(v=0.0777, grad=0.2978), Var(v=0.1051, grad=-0.4028), Var(v=-0.0912, grad=0.0000), Var(v=0.0545, grad=0.3068), Var(v=-0.0465, grad=0.4677), Var(v=-0.0078, grad=-0.4070), Var(v=-0.1435, grad=0.0000), Var(v=0.0313, grad=0.5443), Var(v=-0.0077, grad=0.0000), Var(v=0.0523, grad=0.0000), Var(v=-0.0112, grad=1.2027), Var(v=0.0197, grad=0.2447), Var(v=-0.1625, grad=0.0000), Var(v=0.0250, grad=0.5310), Var(v=-0.0079, grad=-0.3160), Var(v=-0.1925, grad=0.7378), Var(v=-0.1290, grad=0.0000), Var(v=-0.0147, grad=1.0592), Var(v=-0.1429, grad=0.0000), Var(v=0.0957, grad=-1.0850), Var(v=-0.3121, grad=-0.2747), Var(v=-0.0327, grad=0.0000), Var(v=-0.0796, grad=-0.4317), Var(v=0.0421, grad=0.1516), Var(v=0.0134, grad=0.0000), Var(v=0.1488, grad=-0.8237), Var(v=-0.0619, grad=0.0000), Var(v=-0.0616, grad=0.4540), Var(v=0.0580, grad=0.0000), Var(v=-0.1770, grad=0.0000), Var(v=-0.0492, grad=0.0000), Var(v=-0.2561, grad=0.0000), Var(v=-0.0652, grad=0.0000), Var(v=-0.1107, grad=0.0000), Var(v=0.0237, grad=0.0000), Var(v=0.0301, grad=0.0000), Var(v=0.0688, grad=0.3648), Var(v=0.1355, grad=0.0000), Var(v=-0.0687, grad=-0.1012), Var(v=-0.0019, grad=0.2980)], [Var(v=-0.0215, grad=0.0000), Var(v=-0.1893, grad=0.0000), Var(v=-0.0775, grad=0.0000), Var(v=-0.0139, grad=-0.6108), Var(v=0.1503, grad=0.8874), Var(v=-0.0036, grad=0.0000), Var(v=-0.0864, grad=0.0000), Var(v=0.1226, grad=1.4083), Var(v=0.0154, grad=0.7160), Var(v=-0.1851, grad=0.0000), Var(v=-0.0378, grad=-0.4121), Var(v=-0.1727, grad=0.0000), Var(v=0.2579, grad=-2.1544), Var(v=-0.1408, grad=-0.4246), Var(v=0.0540, grad=0.0000), Var(v=0.1791, grad=0.5632), Var(v=0.0251, grad=0.0000), Var(v=0.1406, grad=0.0000), Var(v=0.0170, grad=-2.1555), Var(v=0.0787, grad=-0.1701), Var(v=-0.1107, grad=0.0000), Var(v=-0.0192, grad=-0.3387), Var(v=-0.1486, grad=0.0000), Var(v=0.0715, grad=-0.7349), Var(v=-0.0280, grad=0.4374), Var(v=-0.0261, grad=0.0000), Var(v=-0.0106, grad=0.4939), Var(v=0.0239, grad=0.0000), Var(v=0.1783, grad=-0.3499), Var(v=-0.1024, grad=0.0000), Var(v=0.0456, grad=0.3802), Var(v=0.0786, grad=0.0000), Var(v=0.2147, grad=0.5975), Var(v=0.1578, grad=0.0000), Var(v=-0.0171, grad=0.0000), Var(v=-0.0192, grad=0.0000), Var(v=0.1303, grad=-0.4795), Var(v=0.1023, grad=-0.6283), Var(v=0.1227, grad=-1.1665), Var(v=0.0320, grad=0.0000), Var(v=-0.0628, grad=0.0000), Var(v=-0.1351, grad=3.6873), Var(v=-0.0288, grad=0.8913), Var(v=0.1059, grad=-0.6991), Var(v=0.2272, grad=-0.7705), Var(v=-0.0564, grad=0.0000), Var(v=-0.0392, grad=-0.5049), Var(v=0.1064, grad=-0.1031), Var(v=0.2693, grad=0.1401), Var(v=-0.0147, grad=0.0000)], [Var(v=-0.0014, grad=0.0000), Var(v=0.0276, grad=0.0000), Var(v=0.0045, grad=0.0000), Var(v=-0.0352, grad=-0.4599), Var(v=0.0777, grad=0.6682), Var(v=-0.0524, grad=0.0000), Var(v=-0.0042, grad=0.0000), Var(v=-0.1862, grad=1.0604), Var(v=-0.0560, grad=0.5392), Var(v=-0.1376, grad=0.0000), Var(v=-0.0973, grad=-0.3103), Var(v=0.0002, grad=0.0000), Var(v=0.0437, grad=-1.6222), Var(v=0.1734, grad=-0.3197), Var(v=-0.0472, grad=0.0000), Var(v=-0.1321, grad=0.4241), Var(v=-0.0285, grad=0.0000), Var(v=-0.0394, grad=0.0000), Var(v=-0.0428, grad=-1.6231), Var(v=-0.2107, grad=-0.1281), Var(v=-0.0115, grad=0.0000), Var(v=0.1156, grad=-0.2551), Var(v=0.1044, grad=0.0000), Var(v=0.1385, grad=-0.5534), Var(v=0.0236, grad=0.3293), Var(v=-0.0251, grad=0.0000), Var(v=0.0768, grad=0.3719), Var(v=-0.0453, grad=0.0000), Var(v=0.0055, grad=-0.2635), Var(v=-0.1391, grad=0.0000), Var(v=-0.0876, grad=0.2863), Var(v=0.0908, grad=0.0000), Var(v=-0.0783, grad=0.4499), Var(v=-0.0853, grad=0.0000), Var(v=-0.1653, grad=0.0000), Var(v=0.0976, grad=0.0000), Var(v=0.0923, grad=-0.3611), Var(v=-0.0083, grad=-0.4731), Var(v=0.1060, grad=-0.8784), Var(v=-0.0154, grad=0.0000), Var(v=-0.0370, grad=0.0000), Var(v=-0.0556, grad=2.7765), Var(v=0.1090, grad=0.6711), Var(v=0.0793, grad=-0.5264), Var(v=0.0111, grad=-0.5802), Var(v=-0.1514, grad=0.0000), Var(v=0.0465, grad=-0.3802), Var(v=0.0085, grad=-0.0776), Var(v=0.1134, grad=0.1055), Var(v=-0.1156, grad=0.0000)]] Biases: [Var(v=0.0000, grad=0.0000), Var(v=0.0000, grad=0.0000), Var(v=0.0000, grad=0.0000), Var(v=0.0457, grad=-4.5651), Var(v=-0.0663, grad=6.6326), Var(v=0.0000, grad=0.0000), Var(v=0.0000, grad=0.0000), Var(v=-0.1053, grad=10.5258), Var(v=-0.0535, grad=5.3516), Var(v=0.0000, grad=0.0000), Var(v=-0.0001, grad=0.0103), Var(v=0.0418, grad=-4.1803), Var(v=0.1610, grad=-16.1023), Var(v=-0.0001, grad=0.0106), Var(v=-0.0485, grad=4.8537), Var(v=0.0001, grad=-0.0140), Var(v=0.0000, grad=0.0000), Var(v=-0.0565, grad=5.6488), Var(v=0.1611, grad=-16.1104), Var(v=0.0127, grad=-1.2716), Var(v=-0.1248, grad=12.4823), Var(v=-0.0001, grad=0.0084), Var(v=0.0000, grad=0.0000), Var(v=-0.0002, grad=0.0183), Var(v=0.0001, grad=-0.0109), Var(v=-0.0766, grad=7.6576), Var(v=-0.0369, grad=3.6915), Var(v=-0.1099, grad=10.9930), Var(v=0.0262, grad=-2.6155), Var(v=0.1126, grad=-11.2603), Var(v=0.0001, grad=-0.0095), Var(v=0.0000, grad=0.0000), Var(v=0.0001, grad=-0.0149), Var(v=-0.0157, grad=1.5735), Var(v=0.0000, grad=0.0000), Var(v=0.0855, grad=-8.5486), Var(v=0.0358, grad=-3.5842), Var(v=-0.0002, grad=0.0156), Var(v=0.0872, grad=-8.7186), Var(v=0.0000, grad=0.0000), Var(v=0.0000, grad=0.0000), Var(v=-0.2756, grad=27.5588), Var(v=-0.0666, grad=6.6614), Var(v=0.0523, grad=-5.2254), Var(v=0.0576, grad=-5.7588), Var(v=0.0000, grad=0.0000), Var(v=-0.0001, grad=0.0126), Var(v=0.0077, grad=-0.7704), Var(v=0.0000, grad=-0.0035), Var(v=-0.0309, grad=3.0931)]\n",
            "Layer 2 \n",
            " Weights: [[Var(v=-0.0645, grad=0.0000)], [Var(v=0.1794, grad=0.0000)], [Var(v=-0.0090, grad=0.0000)], [Var(v=0.0581, grad=-0.5521)], [Var(v=-0.0440, grad=-3.2485)], [Var(v=-0.0765, grad=0.0000)], [Var(v=0.0857, grad=0.0000)], [Var(v=-0.1022, grad=-1.9156)], [Var(v=-0.0438, grad=-1.7878)], [Var(v=-0.1811, grad=0.0000)], [Var(v=0.0177, grad=1.7847)], [Var(v=-0.0677, grad=1.9710)], [Var(v=0.2028, grad=-1.7170)], [Var(v=0.0291, grad=0.7488)], [Var(v=0.0397, grad=1.6018)], [Var(v=-0.0484, grad=-0.0171)], [Var(v=-0.0981, grad=0.0000)], [Var(v=0.0472, grad=1.7714)], [Var(v=0.1919, grad=-0.6199)], [Var(v=0.0155, grad=-0.0874)], [Var(v=0.1398, grad=0.3575)], [Var(v=0.0241, grad=0.5079)], [Var(v=0.0726, grad=0.0000)], [Var(v=0.0824, grad=-1.9066)], [Var(v=-0.0348, grad=-0.2896)], [Var(v=0.0836, grad=0.4336)], [Var(v=-0.0184, grad=-2.4176)], [Var(v=0.1214, grad=0.4890)], [Var(v=0.0471, grad=-1.6999)], [Var(v=-0.1514, grad=2.2041)], [Var(v=-0.0215, grad=-1.1272)], [Var(v=-0.0251, grad=0.0000)], [Var(v=-0.0818, grad=3.0282)], [Var(v=0.0018, grad=1.6263)], [Var(v=-0.0930, grad=0.0000)], [Var(v=-0.1197, grad=2.1492)], [Var(v=0.0576, grad=-1.6325)], [Var(v=0.0828, grad=-2.8622)], [Var(v=0.1321, grad=-3.1634)], [Var(v=0.0220, grad=0.0000)], [Var(v=0.0071, grad=0.0000)], [Var(v=-0.3135, grad=-0.4151)], [Var(v=-0.0748, grad=-0.1971)], [Var(v=0.0769, grad=-1.6683)], [Var(v=0.1047, grad=-3.8280)], [Var(v=0.0635, grad=0.0000)], [Var(v=0.0295, grad=1.4016)], [Var(v=0.0285, grad=-1.9585)], [Var(v=0.0065, grad=-1.8542)], [Var(v=0.0286, grad=0.6961)]] Biases: [Var(v=-0.0029, grad=0.2889)]\n",
            "\n",
            "Network after zeroing gradients:\n",
            "Layer 0 \n",
            " Weights: [[Var(v=-0.1043, grad=0.0000), Var(v=0.0944, grad=0.0000), Var(v=-0.0113, grad=0.0000), Var(v=-0.0700, grad=0.0000), Var(v=0.0539, grad=0.0000), Var(v=-0.1213, grad=0.0000), Var(v=-0.0458, grad=0.0000), Var(v=-0.0788, grad=0.0000), Var(v=0.0436, grad=0.0000), Var(v=0.1519, grad=0.0000), Var(v=0.1023, grad=0.0000), Var(v=-0.1405, grad=0.0000), Var(v=-0.1081, grad=0.0000), Var(v=0.1801, grad=0.0000), Var(v=0.1348, grad=0.0000)]] Biases: [Var(v=-0.1241, grad=0.0000), Var(v=0.0344, grad=0.0000), Var(v=-0.0645, grad=0.0000), Var(v=-0.0761, grad=0.0000), Var(v=0.0411, grad=0.0000), Var(v=-0.0061, grad=0.0000), Var(v=0.0003, grad=0.0000), Var(v=0.0098, grad=0.0000), Var(v=0.0325, grad=0.0000), Var(v=0.1063, grad=0.0000), Var(v=0.0005, grad=0.0000), Var(v=0.0048, grad=0.0000), Var(v=0.0186, grad=0.0000), Var(v=0.0560, grad=0.0000), Var(v=0.0414, grad=0.0000)]\n",
            "Layer 1 \n",
            " Weights: [[Var(v=0.0406, grad=0.0000), Var(v=-0.1137, grad=0.0000), Var(v=-0.1249, grad=0.0000), Var(v=0.1134, grad=0.0000), Var(v=0.1407, grad=0.0000), Var(v=0.0416, grad=0.0000), Var(v=-0.0372, grad=0.0000), Var(v=0.2180, grad=0.0000), Var(v=-0.0339, grad=0.0000), Var(v=-0.0584, grad=0.0000), Var(v=0.2616, grad=0.0000), Var(v=0.0707, grad=0.0000), Var(v=-0.0070, grad=0.0000), Var(v=0.1242, grad=0.0000), Var(v=-0.0397, grad=0.0000), Var(v=0.0194, grad=0.0000), Var(v=-0.2356, grad=0.0000), Var(v=-0.0001, grad=0.0000), Var(v=-0.0678, grad=0.0000), Var(v=0.0315, grad=0.0000), Var(v=-0.0830, grad=0.0000), Var(v=0.0106, grad=0.0000), Var(v=-0.0143, grad=0.0000), Var(v=-0.0528, grad=0.0000), Var(v=0.0243, grad=0.0000), Var(v=-0.0924, grad=0.0000), Var(v=0.2383, grad=0.0000), Var(v=-0.0349, grad=0.0000), Var(v=-0.0679, grad=0.0000), Var(v=-0.0983, grad=0.0000), Var(v=-0.0403, grad=0.0000), Var(v=0.0260, grad=0.0000), Var(v=0.1745, grad=0.0000), Var(v=-0.0335, grad=0.0000), Var(v=0.0637, grad=0.0000), Var(v=-0.0865, grad=0.0000), Var(v=-0.3215, grad=0.0000), Var(v=0.0067, grad=0.0000), Var(v=0.0237, grad=0.0000), Var(v=0.0880, grad=0.0000), Var(v=0.0498, grad=0.0000), Var(v=0.2170, grad=0.0000), Var(v=-0.0691, grad=0.0000), Var(v=-0.0432, grad=0.0000), Var(v=-0.0237, grad=0.0000), Var(v=-0.0621, grad=0.0000), Var(v=-0.0408, grad=0.0000), Var(v=-0.0578, grad=0.0000), Var(v=-0.0816, grad=0.0000), Var(v=-0.1089, grad=0.0000)], [Var(v=-0.0895, grad=0.0000), Var(v=-0.1364, grad=0.0000), Var(v=-0.1270, grad=0.0000), Var(v=0.0341, grad=0.0000), Var(v=-0.0039, grad=0.0000), Var(v=-0.0628, grad=0.0000), Var(v=-0.0728, grad=0.0000), Var(v=0.0262, grad=0.0000), Var(v=0.0107, grad=0.0000), Var(v=-0.1718, grad=0.0000), Var(v=0.0925, grad=0.0000), Var(v=-0.0286, grad=0.0000), Var(v=-0.0067, grad=0.0000), Var(v=-0.1494, grad=0.0000), Var(v=0.0271, grad=0.0000), Var(v=-0.0489, grad=0.0000), Var(v=-0.0973, grad=0.0000), Var(v=-0.0365, grad=0.0000), Var(v=0.0915, grad=0.0000), Var(v=0.0549, grad=0.0000), Var(v=0.0591, grad=0.0000), Var(v=0.0039, grad=0.0000), Var(v=-0.1213, grad=0.0000), Var(v=0.0787, grad=0.0000), Var(v=-0.0902, grad=0.0000), Var(v=-0.0025, grad=0.0000), Var(v=-0.0326, grad=0.0000), Var(v=-0.1256, grad=0.0000), Var(v=-0.0629, grad=0.0000), Var(v=0.1402, grad=0.0000), Var(v=0.0781, grad=0.0000), Var(v=-0.0787, grad=0.0000), Var(v=0.0850, grad=0.0000), Var(v=-0.1027, grad=0.0000), Var(v=-0.1323, grad=0.0000), Var(v=-0.0693, grad=0.0000), Var(v=0.1184, grad=0.0000), Var(v=0.1096, grad=0.0000), Var(v=-0.1766, grad=0.0000), Var(v=-0.0556, grad=0.0000), Var(v=-0.0954, grad=0.0000), Var(v=-0.1228, grad=0.0000), Var(v=0.0085, grad=0.0000), Var(v=0.0642, grad=0.0000), Var(v=-0.0895, grad=0.0000), Var(v=-0.0926, grad=0.0000), Var(v=0.1136, grad=0.0000), Var(v=0.0976, grad=0.0000), Var(v=-0.1564, grad=0.0000), Var(v=0.1221, grad=0.0000)], [Var(v=0.0500, grad=0.0000), Var(v=-0.0801, grad=0.0000), Var(v=0.0031, grad=0.0000), Var(v=-0.0484, grad=0.0000), Var(v=0.1369, grad=0.0000), Var(v=0.1393, grad=0.0000), Var(v=0.0237, grad=0.0000), Var(v=0.0384, grad=0.0000), Var(v=0.0212, grad=0.0000), Var(v=-0.1093, grad=0.0000), Var(v=-0.0161, grad=0.0000), Var(v=-0.0278, grad=0.0000), Var(v=-0.0596, grad=0.0000), Var(v=0.1773, grad=0.0000), Var(v=-0.0183, grad=0.0000), Var(v=0.0237, grad=0.0000), Var(v=-0.0190, grad=0.0000), Var(v=-0.0068, grad=0.0000), Var(v=-0.0154, grad=0.0000), Var(v=0.0658, grad=0.0000), Var(v=-0.0883, grad=0.0000), Var(v=-0.0628, grad=0.0000), Var(v=0.1525, grad=0.0000), Var(v=0.0701, grad=0.0000), Var(v=-0.0984, grad=0.0000), Var(v=-0.1773, grad=0.0000), Var(v=0.0674, grad=0.0000), Var(v=-0.0378, grad=0.0000), Var(v=0.0235, grad=0.0000), Var(v=0.2615, grad=0.0000), Var(v=0.1678, grad=0.0000), Var(v=-0.2148, grad=0.0000), Var(v=-0.0551, grad=0.0000), Var(v=-0.1286, grad=0.0000), Var(v=-0.1408, grad=0.0000), Var(v=-0.0273, grad=0.0000), Var(v=0.1195, grad=0.0000), Var(v=0.0375, grad=0.0000), Var(v=0.0870, grad=0.0000), Var(v=-0.0840, grad=0.0000), Var(v=-0.1704, grad=0.0000), Var(v=0.1677, grad=0.0000), Var(v=-0.0065, grad=0.0000), Var(v=-0.0906, grad=0.0000), Var(v=0.2261, grad=0.0000), Var(v=-0.0022, grad=0.0000), Var(v=-0.0942, grad=0.0000), Var(v=-0.1206, grad=0.0000), Var(v=0.0101, grad=0.0000), Var(v=-0.1595, grad=0.0000)], [Var(v=-0.2340, grad=0.0000), Var(v=0.0158, grad=0.0000), Var(v=-0.0082, grad=0.0000), Var(v=0.0006, grad=0.0000), Var(v=0.2681, grad=0.0000), Var(v=0.0200, grad=0.0000), Var(v=-0.0179, grad=0.0000), Var(v=0.0317, grad=0.0000), Var(v=0.0061, grad=0.0000), Var(v=-0.1148, grad=0.0000), Var(v=-0.1445, grad=0.0000), Var(v=-0.0793, grad=0.0000), Var(v=-0.0182, grad=0.0000), Var(v=0.0866, grad=0.0000), Var(v=0.1416, grad=0.0000), Var(v=0.0563, grad=0.0000), Var(v=-0.0729, grad=0.0000), Var(v=0.0762, grad=0.0000), Var(v=-0.1284, grad=0.0000), Var(v=0.1276, grad=0.0000), Var(v=0.0247, grad=0.0000), Var(v=0.1635, grad=0.0000), Var(v=0.0043, grad=0.0000), Var(v=-0.0371, grad=0.0000), Var(v=0.0999, grad=0.0000), Var(v=0.1110, grad=0.0000), Var(v=-0.1476, grad=0.0000), Var(v=-0.0933, grad=0.0000), Var(v=-0.0153, grad=0.0000), Var(v=-0.0103, grad=0.0000), Var(v=0.0156, grad=0.0000), Var(v=0.1673, grad=0.0000), Var(v=-0.0409, grad=0.0000), Var(v=0.0813, grad=0.0000), Var(v=-0.0832, grad=0.0000), Var(v=0.0587, grad=0.0000), Var(v=0.0914, grad=0.0000), Var(v=-0.0658, grad=0.0000), Var(v=-0.1171, grad=0.0000), Var(v=-0.1015, grad=0.0000), Var(v=0.0001, grad=0.0000), Var(v=-0.0102, grad=0.0000), Var(v=0.0851, grad=0.0000), Var(v=-0.0146, grad=0.0000), Var(v=-0.2165, grad=0.0000), Var(v=-0.1781, grad=0.0000), Var(v=-0.0676, grad=0.0000), Var(v=0.0621, grad=0.0000), Var(v=0.1597, grad=0.0000), Var(v=-0.0018, grad=0.0000)], [Var(v=0.0475, grad=0.0000), Var(v=0.1124, grad=0.0000), Var(v=0.0389, grad=0.0000), Var(v=0.0344, grad=0.0000), Var(v=-0.0348, grad=0.0000), Var(v=0.1777, grad=0.0000), Var(v=0.0065, grad=0.0000), Var(v=-0.0891, grad=0.0000), Var(v=0.1201, grad=0.0000), Var(v=-0.0696, grad=0.0000), Var(v=0.1439, grad=0.0000), Var(v=-0.0091, grad=0.0000), Var(v=-0.0416, grad=0.0000), Var(v=-0.0785, grad=0.0000), Var(v=-0.1918, grad=0.0000), Var(v=0.0569, grad=0.0000), Var(v=0.0986, grad=0.0000), Var(v=0.0572, grad=0.0000), Var(v=0.1154, grad=0.0000), Var(v=-0.1691, grad=0.0000), Var(v=-0.0829, grad=0.0000), Var(v=-0.0342, grad=0.0000), Var(v=0.1496, grad=0.0000), Var(v=-0.0642, grad=0.0000), Var(v=0.1518, grad=0.0000), Var(v=-0.1923, grad=0.0000), Var(v=0.1106, grad=0.0000), Var(v=0.0148, grad=0.0000), Var(v=0.2283, grad=0.0000), Var(v=-0.0239, grad=0.0000), Var(v=0.1316, grad=0.0000), Var(v=-0.0023, grad=0.0000), Var(v=0.0057, grad=0.0000), Var(v=0.0401, grad=0.0000), Var(v=0.0649, grad=0.0000), Var(v=0.0771, grad=0.0000), Var(v=-0.0725, grad=0.0000), Var(v=0.0762, grad=0.0000), Var(v=0.1208, grad=0.0000), Var(v=-0.0196, grad=0.0000), Var(v=0.0091, grad=0.0000), Var(v=-0.1120, grad=0.0000), Var(v=0.1205, grad=0.0000), Var(v=0.0720, grad=0.0000), Var(v=0.0036, grad=0.0000), Var(v=0.0244, grad=0.0000), Var(v=-0.0199, grad=0.0000), Var(v=0.0104, grad=0.0000), Var(v=-0.0087, grad=0.0000), Var(v=0.0291, grad=0.0000)], [Var(v=0.0190, grad=0.0000), Var(v=-0.0149, grad=0.0000), Var(v=-0.2697, grad=0.0000), Var(v=-0.0151, grad=0.0000), Var(v=0.0082, grad=0.0000), Var(v=0.0313, grad=0.0000), Var(v=0.0079, grad=0.0000), Var(v=-0.0378, grad=0.0000), Var(v=-0.1322, grad=0.0000), Var(v=-0.0050, grad=0.0000), Var(v=0.0724, grad=0.0000), Var(v=-0.0480, grad=0.0000), Var(v=-0.1327, grad=0.0000), Var(v=-0.0858, grad=0.0000), Var(v=0.0296, grad=0.0000), Var(v=0.0154, grad=0.0000), Var(v=-0.0581, grad=0.0000), Var(v=0.0421, grad=0.0000), Var(v=-0.1174, grad=0.0000), Var(v=-0.0758, grad=0.0000), Var(v=0.0178, grad=0.0000), Var(v=-0.0117, grad=0.0000), Var(v=-0.0579, grad=0.0000), Var(v=0.0367, grad=0.0000), Var(v=0.0849, grad=0.0000), Var(v=0.0802, grad=0.0000), Var(v=-0.0578, grad=0.0000), Var(v=0.0518, grad=0.0000), Var(v=0.0205, grad=0.0000), Var(v=0.1485, grad=0.0000), Var(v=-0.0428, grad=0.0000), Var(v=-0.1502, grad=0.0000), Var(v=0.2506, grad=0.0000), Var(v=0.0184, grad=0.0000), Var(v=-0.2234, grad=0.0000), Var(v=0.0115, grad=0.0000), Var(v=0.1386, grad=0.0000), Var(v=0.0116, grad=0.0000), Var(v=-0.1382, grad=0.0000), Var(v=-0.1641, grad=0.0000), Var(v=0.0055, grad=0.0000), Var(v=-0.0238, grad=0.0000), Var(v=-0.0061, grad=0.0000), Var(v=0.0241, grad=0.0000), Var(v=-0.1647, grad=0.0000), Var(v=-0.0167, grad=0.0000), Var(v=0.0972, grad=0.0000), Var(v=-0.0752, grad=0.0000), Var(v=-0.0395, grad=0.0000), Var(v=0.0113, grad=0.0000)], [Var(v=0.1675, grad=0.0000), Var(v=0.0626, grad=0.0000), Var(v=0.0705, grad=0.0000), Var(v=-0.0261, grad=0.0000), Var(v=0.0072, grad=0.0000), Var(v=0.0339, grad=0.0000), Var(v=0.0695, grad=0.0000), Var(v=-0.0655, grad=0.0000), Var(v=0.0682, grad=0.0000), Var(v=-0.0135, grad=0.0000), Var(v=0.0366, grad=0.0000), Var(v=-0.0596, grad=0.0000), Var(v=0.0189, grad=0.0000), Var(v=0.1662, grad=0.0000), Var(v=0.1154, grad=0.0000), Var(v=0.0650, grad=0.0000), Var(v=0.0117, grad=0.0000), Var(v=0.0565, grad=0.0000), Var(v=-0.1200, grad=0.0000), Var(v=-0.1723, grad=0.0000), Var(v=-0.1196, grad=0.0000), Var(v=0.1146, grad=0.0000), Var(v=-0.0338, grad=0.0000), Var(v=0.0327, grad=0.0000), Var(v=-0.0776, grad=0.0000), Var(v=-0.1913, grad=0.0000), Var(v=0.0911, grad=0.0000), Var(v=0.0071, grad=0.0000), Var(v=0.0718, grad=0.0000), Var(v=-0.0237, grad=0.0000), Var(v=0.0589, grad=0.0000), Var(v=0.0018, grad=0.0000), Var(v=0.0707, grad=0.0000), Var(v=-0.2083, grad=0.0000), Var(v=-0.0130, grad=0.0000), Var(v=0.0662, grad=0.0000), Var(v=0.1460, grad=0.0000), Var(v=0.1142, grad=0.0000), Var(v=0.0429, grad=0.0000), Var(v=-0.1112, grad=0.0000), Var(v=0.1543, grad=0.0000), Var(v=-0.1496, grad=0.0000), Var(v=-0.1245, grad=0.0000), Var(v=0.2003, grad=0.0000), Var(v=0.0206, grad=0.0000), Var(v=0.0871, grad=0.0000), Var(v=0.1800, grad=0.0000), Var(v=-0.1267, grad=0.0000), Var(v=0.0476, grad=0.0000), Var(v=0.0600, grad=0.0000)], [Var(v=-0.0738, grad=0.0000), Var(v=0.0766, grad=0.0000), Var(v=-0.0244, grad=0.0000), Var(v=0.0013, grad=0.0000), Var(v=-0.0891, grad=0.0000), Var(v=-0.1327, grad=0.0000), Var(v=-0.0973, grad=0.0000), Var(v=-0.1091, grad=0.0000), Var(v=-0.0033, grad=0.0000), Var(v=-0.0402, grad=0.0000), Var(v=-0.0907, grad=0.0000), Var(v=0.0687, grad=0.0000), Var(v=0.0840, grad=0.0000), Var(v=0.2189, grad=0.0000), Var(v=0.0070, grad=0.0000), Var(v=0.0410, grad=0.0000), Var(v=-0.1012, grad=0.0000), Var(v=0.1113, grad=0.0000), Var(v=0.0681, grad=0.0000), Var(v=-0.1316, grad=0.0000), Var(v=-0.0726, grad=0.0000), Var(v=0.1010, grad=0.0000), Var(v=0.0019, grad=0.0000), Var(v=-0.0458, grad=0.0000), Var(v=-0.0785, grad=0.0000), Var(v=0.0993, grad=0.0000), Var(v=-0.0335, grad=0.0000), Var(v=0.0540, grad=0.0000), Var(v=-0.0008, grad=0.0000), Var(v=0.0765, grad=0.0000), Var(v=0.2007, grad=0.0000), Var(v=-0.0590, grad=0.0000), Var(v=0.0353, grad=0.0000), Var(v=0.1022, grad=0.0000), Var(v=0.0805, grad=0.0000), Var(v=0.0057, grad=0.0000), Var(v=0.0134, grad=0.0000), Var(v=-0.2039, grad=0.0000), Var(v=-0.0287, grad=0.0000), Var(v=-0.0186, grad=0.0000), Var(v=0.0508, grad=0.0000), Var(v=0.1460, grad=0.0000), Var(v=0.0649, grad=0.0000), Var(v=-0.0437, grad=0.0000), Var(v=-0.0341, grad=0.0000), Var(v=-0.3720, grad=0.0000), Var(v=-0.1212, grad=0.0000), Var(v=0.0052, grad=0.0000), Var(v=0.1017, grad=0.0000), Var(v=0.0405, grad=0.0000)], [Var(v=-0.1843, grad=0.0000), Var(v=0.0530, grad=0.0000), Var(v=0.0268, grad=0.0000), Var(v=-0.0690, grad=0.0000), Var(v=0.2684, grad=0.0000), Var(v=-0.0283, grad=0.0000), Var(v=-0.0583, grad=0.0000), Var(v=-0.1576, grad=0.0000), Var(v=0.0088, grad=0.0000), Var(v=0.0027, grad=0.0000), Var(v=-0.1529, grad=0.0000), Var(v=0.0365, grad=0.0000), Var(v=0.1208, grad=0.0000), Var(v=0.1476, grad=0.0000), Var(v=-0.0538, grad=0.0000), Var(v=0.1000, grad=0.0000), Var(v=0.0713, grad=0.0000), Var(v=-0.0231, grad=0.0000), Var(v=0.0482, grad=0.0000), Var(v=0.0253, grad=0.0000), Var(v=0.0869, grad=0.0000), Var(v=0.1311, grad=0.0000), Var(v=0.0041, grad=0.0000), Var(v=0.0037, grad=0.0000), Var(v=0.0517, grad=0.0000), Var(v=-0.0445, grad=0.0000), Var(v=-0.0383, grad=0.0000), Var(v=0.0331, grad=0.0000), Var(v=0.1290, grad=0.0000), Var(v=-0.0250, grad=0.0000), Var(v=-0.0471, grad=0.0000), Var(v=-0.1743, grad=0.0000), Var(v=-0.1957, grad=0.0000), Var(v=-0.0595, grad=0.0000), Var(v=-0.0840, grad=0.0000), Var(v=0.0899, grad=0.0000), Var(v=-0.0380, grad=0.0000), Var(v=0.1464, grad=0.0000), Var(v=-0.0773, grad=0.0000), Var(v=-0.0492, grad=0.0000), Var(v=-0.0442, grad=0.0000), Var(v=0.0561, grad=0.0000), Var(v=0.0270, grad=0.0000), Var(v=0.0534, grad=0.0000), Var(v=0.0660, grad=0.0000), Var(v=-0.1151, grad=0.0000), Var(v=0.2603, grad=0.0000), Var(v=0.0004, grad=0.0000), Var(v=-0.0591, grad=0.0000), Var(v=0.1215, grad=0.0000)], [Var(v=-0.0182, grad=0.0000), Var(v=0.0093, grad=0.0000), Var(v=-0.0193, grad=0.0000), Var(v=0.0290, grad=0.0000), Var(v=-0.1169, grad=0.0000), Var(v=-0.0805, grad=0.0000), Var(v=-0.0318, grad=0.0000), Var(v=-0.0621, grad=0.0000), Var(v=0.0259, grad=0.0000), Var(v=-0.0359, grad=0.0000), Var(v=0.0794, grad=0.0000), Var(v=0.0140, grad=0.0000), Var(v=0.0372, grad=0.0000), Var(v=-0.0137, grad=0.0000), Var(v=-0.0213, grad=0.0000), Var(v=-0.1370, grad=0.0000), Var(v=0.0186, grad=0.0000), Var(v=-0.0653, grad=0.0000), Var(v=0.2977, grad=0.0000), Var(v=0.0449, grad=0.0000), Var(v=-0.0305, grad=0.0000), Var(v=0.0055, grad=0.0000), Var(v=-0.0270, grad=0.0000), Var(v=0.2485, grad=0.0000), Var(v=-0.0507, grad=0.0000), Var(v=-0.0518, grad=0.0000), Var(v=0.0785, grad=0.0000), Var(v=-0.1970, grad=0.0000), Var(v=-0.0591, grad=0.0000), Var(v=0.1257, grad=0.0000), Var(v=0.1131, grad=0.0000), Var(v=0.1515, grad=0.0000), Var(v=0.0144, grad=0.0000), Var(v=-0.0539, grad=0.0000), Var(v=0.0356, grad=0.0000), Var(v=0.0355, grad=0.0000), Var(v=-0.0657, grad=0.0000), Var(v=-0.0600, grad=0.0000), Var(v=-0.0857, grad=0.0000), Var(v=-0.1654, grad=0.0000), Var(v=0.0631, grad=0.0000), Var(v=-0.1380, grad=0.0000), Var(v=-0.0564, grad=0.0000), Var(v=0.0257, grad=0.0000), Var(v=-0.0116, grad=0.0000), Var(v=-0.0108, grad=0.0000), Var(v=-0.0218, grad=0.0000), Var(v=-0.0124, grad=0.0000), Var(v=0.0209, grad=0.0000), Var(v=0.2518, grad=0.0000)], [Var(v=-0.0665, grad=0.0000), Var(v=0.0719, grad=0.0000), Var(v=0.0306, grad=0.0000), Var(v=0.0818, grad=0.0000), Var(v=-0.1195, grad=0.0000), Var(v=-0.0642, grad=0.0000), Var(v=0.0449, grad=0.0000), Var(v=0.0587, grad=0.0000), Var(v=0.1576, grad=0.0000), Var(v=0.1338, grad=0.0000), Var(v=0.0290, grad=0.0000), Var(v=-0.2667, grad=0.0000), Var(v=-0.0537, grad=0.0000), Var(v=-0.0364, grad=0.0000), Var(v=-0.0360, grad=0.0000), Var(v=0.0305, grad=0.0000), Var(v=0.0451, grad=0.0000), Var(v=-0.1342, grad=0.0000), Var(v=0.0717, grad=0.0000), Var(v=-0.0052, grad=0.0000), Var(v=-0.0882, grad=0.0000), Var(v=-0.0144, grad=0.0000), Var(v=-0.1023, grad=0.0000), Var(v=-0.1044, grad=0.0000), Var(v=0.1261, grad=0.0000), Var(v=0.0066, grad=0.0000), Var(v=0.0465, grad=0.0000), Var(v=0.0076, grad=0.0000), Var(v=0.0155, grad=0.0000), Var(v=-0.0349, grad=0.0000), Var(v=0.0656, grad=0.0000), Var(v=-0.1068, grad=0.0000), Var(v=-0.1779, grad=0.0000), Var(v=-0.0530, grad=0.0000), Var(v=0.1469, grad=0.0000), Var(v=-0.1518, grad=0.0000), Var(v=-0.0533, grad=0.0000), Var(v=0.1341, grad=0.0000), Var(v=0.1928, grad=0.0000), Var(v=-0.0874, grad=0.0000), Var(v=-0.1262, grad=0.0000), Var(v=0.0299, grad=0.0000), Var(v=-0.0539, grad=0.0000), Var(v=0.0274, grad=0.0000), Var(v=0.0877, grad=0.0000), Var(v=0.0633, grad=0.0000), Var(v=0.1303, grad=0.0000), Var(v=0.1044, grad=0.0000), Var(v=-0.0748, grad=0.0000), Var(v=-0.1349, grad=0.0000)], [Var(v=-0.1103, grad=0.0000), Var(v=-0.1065, grad=0.0000), Var(v=-0.1260, grad=0.0000), Var(v=-0.1211, grad=0.0000), Var(v=-0.0192, grad=0.0000), Var(v=-0.0786, grad=0.0000), Var(v=-0.0516, grad=0.0000), Var(v=0.0700, grad=0.0000), Var(v=-0.0507, grad=0.0000), Var(v=-0.0521, grad=0.0000), Var(v=0.0618, grad=0.0000), Var(v=0.1317, grad=0.0000), Var(v=0.0663, grad=0.0000), Var(v=-0.0487, grad=0.0000), Var(v=0.0641, grad=0.0000), Var(v=0.0571, grad=0.0000), Var(v=-0.0294, grad=0.0000), Var(v=-0.0209, grad=0.0000), Var(v=0.0698, grad=0.0000), Var(v=-0.0282, grad=0.0000), Var(v=0.0450, grad=0.0000), Var(v=-0.0192, grad=0.0000), Var(v=-0.0304, grad=0.0000), Var(v=-0.0557, grad=0.0000), Var(v=0.0173, grad=0.0000), Var(v=0.0660, grad=0.0000), Var(v=0.1075, grad=0.0000), Var(v=-0.0752, grad=0.0000), Var(v=0.0377, grad=0.0000), Var(v=-0.0180, grad=0.0000), Var(v=0.2256, grad=0.0000), Var(v=-0.0508, grad=0.0000), Var(v=0.0916, grad=0.0000), Var(v=0.0932, grad=0.0000), Var(v=0.0176, grad=0.0000), Var(v=0.0677, grad=0.0000), Var(v=-0.2674, grad=0.0000), Var(v=0.0832, grad=0.0000), Var(v=-0.1129, grad=0.0000), Var(v=-0.1468, grad=0.0000), Var(v=-0.0914, grad=0.0000), Var(v=-0.0977, grad=0.0000), Var(v=-0.0352, grad=0.0000), Var(v=-0.0885, grad=0.0000), Var(v=0.0679, grad=0.0000), Var(v=-0.1683, grad=0.0000), Var(v=0.0276, grad=0.0000), Var(v=-0.0799, grad=0.0000), Var(v=0.0758, grad=0.0000), Var(v=-0.0086, grad=0.0000)], [Var(v=0.0338, grad=0.0000), Var(v=-0.0516, grad=0.0000), Var(v=-0.0059, grad=0.0000), Var(v=0.0513, grad=0.0000), Var(v=-0.1166, grad=0.0000), Var(v=0.0652, grad=0.0000), Var(v=-0.0888, grad=0.0000), Var(v=-0.0387, grad=0.0000), Var(v=-0.0911, grad=0.0000), Var(v=0.0544, grad=0.0000), Var(v=0.0777, grad=0.0000), Var(v=0.1051, grad=0.0000), Var(v=-0.0912, grad=0.0000), Var(v=0.0545, grad=0.0000), Var(v=-0.0465, grad=0.0000), Var(v=-0.0078, grad=0.0000), Var(v=-0.1435, grad=0.0000), Var(v=0.0313, grad=0.0000), Var(v=-0.0077, grad=0.0000), Var(v=0.0523, grad=0.0000), Var(v=-0.0112, grad=0.0000), Var(v=0.0197, grad=0.0000), Var(v=-0.1625, grad=0.0000), Var(v=0.0250, grad=0.0000), Var(v=-0.0079, grad=0.0000), Var(v=-0.1925, grad=0.0000), Var(v=-0.1290, grad=0.0000), Var(v=-0.0147, grad=0.0000), Var(v=-0.1429, grad=0.0000), Var(v=0.0957, grad=0.0000), Var(v=-0.3121, grad=0.0000), Var(v=-0.0327, grad=0.0000), Var(v=-0.0796, grad=0.0000), Var(v=0.0421, grad=0.0000), Var(v=0.0134, grad=0.0000), Var(v=0.1488, grad=0.0000), Var(v=-0.0619, grad=0.0000), Var(v=-0.0616, grad=0.0000), Var(v=0.0580, grad=0.0000), Var(v=-0.1770, grad=0.0000), Var(v=-0.0492, grad=0.0000), Var(v=-0.2561, grad=0.0000), Var(v=-0.0652, grad=0.0000), Var(v=-0.1107, grad=0.0000), Var(v=0.0237, grad=0.0000), Var(v=0.0301, grad=0.0000), Var(v=0.0688, grad=0.0000), Var(v=0.1355, grad=0.0000), Var(v=-0.0687, grad=0.0000), Var(v=-0.0019, grad=0.0000)], [Var(v=-0.0215, grad=0.0000), Var(v=-0.1893, grad=0.0000), Var(v=-0.0775, grad=0.0000), Var(v=-0.0139, grad=0.0000), Var(v=0.1503, grad=0.0000), Var(v=-0.0036, grad=0.0000), Var(v=-0.0864, grad=0.0000), Var(v=0.1226, grad=0.0000), Var(v=0.0154, grad=0.0000), Var(v=-0.1851, grad=0.0000), Var(v=-0.0378, grad=0.0000), Var(v=-0.1727, grad=0.0000), Var(v=0.2579, grad=0.0000), Var(v=-0.1408, grad=0.0000), Var(v=0.0540, grad=0.0000), Var(v=0.1791, grad=0.0000), Var(v=0.0251, grad=0.0000), Var(v=0.1406, grad=0.0000), Var(v=0.0170, grad=0.0000), Var(v=0.0787, grad=0.0000), Var(v=-0.1107, grad=0.0000), Var(v=-0.0192, grad=0.0000), Var(v=-0.1486, grad=0.0000), Var(v=0.0715, grad=0.0000), Var(v=-0.0280, grad=0.0000), Var(v=-0.0261, grad=0.0000), Var(v=-0.0106, grad=0.0000), Var(v=0.0239, grad=0.0000), Var(v=0.1783, grad=0.0000), Var(v=-0.1024, grad=0.0000), Var(v=0.0456, grad=0.0000), Var(v=0.0786, grad=0.0000), Var(v=0.2147, grad=0.0000), Var(v=0.1578, grad=0.0000), Var(v=-0.0171, grad=0.0000), Var(v=-0.0192, grad=0.0000), Var(v=0.1303, grad=0.0000), Var(v=0.1023, grad=0.0000), Var(v=0.1227, grad=0.0000), Var(v=0.0320, grad=0.0000), Var(v=-0.0628, grad=0.0000), Var(v=-0.1351, grad=0.0000), Var(v=-0.0288, grad=0.0000), Var(v=0.1059, grad=0.0000), Var(v=0.2272, grad=0.0000), Var(v=-0.0564, grad=0.0000), Var(v=-0.0392, grad=0.0000), Var(v=0.1064, grad=0.0000), Var(v=0.2693, grad=0.0000), Var(v=-0.0147, grad=0.0000)], [Var(v=-0.0014, grad=0.0000), Var(v=0.0276, grad=0.0000), Var(v=0.0045, grad=0.0000), Var(v=-0.0352, grad=0.0000), Var(v=0.0777, grad=0.0000), Var(v=-0.0524, grad=0.0000), Var(v=-0.0042, grad=0.0000), Var(v=-0.1862, grad=0.0000), Var(v=-0.0560, grad=0.0000), Var(v=-0.1376, grad=0.0000), Var(v=-0.0973, grad=0.0000), Var(v=0.0002, grad=0.0000), Var(v=0.0437, grad=0.0000), Var(v=0.1734, grad=0.0000), Var(v=-0.0472, grad=0.0000), Var(v=-0.1321, grad=0.0000), Var(v=-0.0285, grad=0.0000), Var(v=-0.0394, grad=0.0000), Var(v=-0.0428, grad=0.0000), Var(v=-0.2107, grad=0.0000), Var(v=-0.0115, grad=0.0000), Var(v=0.1156, grad=0.0000), Var(v=0.1044, grad=0.0000), Var(v=0.1385, grad=0.0000), Var(v=0.0236, grad=0.0000), Var(v=-0.0251, grad=0.0000), Var(v=0.0768, grad=0.0000), Var(v=-0.0453, grad=0.0000), Var(v=0.0055, grad=0.0000), Var(v=-0.1391, grad=0.0000), Var(v=-0.0876, grad=0.0000), Var(v=0.0908, grad=0.0000), Var(v=-0.0783, grad=0.0000), Var(v=-0.0853, grad=0.0000), Var(v=-0.1653, grad=0.0000), Var(v=0.0976, grad=0.0000), Var(v=0.0923, grad=0.0000), Var(v=-0.0083, grad=0.0000), Var(v=0.1060, grad=0.0000), Var(v=-0.0154, grad=0.0000), Var(v=-0.0370, grad=0.0000), Var(v=-0.0556, grad=0.0000), Var(v=0.1090, grad=0.0000), Var(v=0.0793, grad=0.0000), Var(v=0.0111, grad=0.0000), Var(v=-0.1514, grad=0.0000), Var(v=0.0465, grad=0.0000), Var(v=0.0085, grad=0.0000), Var(v=0.1134, grad=0.0000), Var(v=-0.1156, grad=0.0000)]] Biases: [Var(v=0.0000, grad=0.0000), Var(v=0.0000, grad=0.0000), Var(v=0.0000, grad=0.0000), Var(v=0.0457, grad=0.0000), Var(v=-0.0663, grad=0.0000), Var(v=0.0000, grad=0.0000), Var(v=0.0000, grad=0.0000), Var(v=-0.1053, grad=0.0000), Var(v=-0.0535, grad=0.0000), Var(v=0.0000, grad=0.0000), Var(v=-0.0001, grad=0.0000), Var(v=0.0418, grad=0.0000), Var(v=0.1610, grad=0.0000), Var(v=-0.0001, grad=0.0000), Var(v=-0.0485, grad=0.0000), Var(v=0.0001, grad=0.0000), Var(v=0.0000, grad=0.0000), Var(v=-0.0565, grad=0.0000), Var(v=0.1611, grad=0.0000), Var(v=0.0127, grad=0.0000), Var(v=-0.1248, grad=0.0000), Var(v=-0.0001, grad=0.0000), Var(v=0.0000, grad=0.0000), Var(v=-0.0002, grad=0.0000), Var(v=0.0001, grad=0.0000), Var(v=-0.0766, grad=0.0000), Var(v=-0.0369, grad=0.0000), Var(v=-0.1099, grad=0.0000), Var(v=0.0262, grad=0.0000), Var(v=0.1126, grad=0.0000), Var(v=0.0001, grad=0.0000), Var(v=0.0000, grad=0.0000), Var(v=0.0001, grad=0.0000), Var(v=-0.0157, grad=0.0000), Var(v=0.0000, grad=0.0000), Var(v=0.0855, grad=0.0000), Var(v=0.0358, grad=0.0000), Var(v=-0.0002, grad=0.0000), Var(v=0.0872, grad=0.0000), Var(v=0.0000, grad=0.0000), Var(v=0.0000, grad=0.0000), Var(v=-0.2756, grad=0.0000), Var(v=-0.0666, grad=0.0000), Var(v=0.0523, grad=0.0000), Var(v=0.0576, grad=0.0000), Var(v=0.0000, grad=0.0000), Var(v=-0.0001, grad=0.0000), Var(v=0.0077, grad=0.0000), Var(v=0.0000, grad=0.0000), Var(v=-0.0309, grad=0.0000)]\n",
            "Layer 2 \n",
            " Weights: [[Var(v=-0.0645, grad=0.0000)], [Var(v=0.1794, grad=0.0000)], [Var(v=-0.0090, grad=0.0000)], [Var(v=0.0581, grad=0.0000)], [Var(v=-0.0440, grad=0.0000)], [Var(v=-0.0765, grad=0.0000)], [Var(v=0.0857, grad=0.0000)], [Var(v=-0.1022, grad=0.0000)], [Var(v=-0.0438, grad=0.0000)], [Var(v=-0.1811, grad=0.0000)], [Var(v=0.0177, grad=0.0000)], [Var(v=-0.0677, grad=0.0000)], [Var(v=0.2028, grad=0.0000)], [Var(v=0.0291, grad=0.0000)], [Var(v=0.0397, grad=0.0000)], [Var(v=-0.0484, grad=0.0000)], [Var(v=-0.0981, grad=0.0000)], [Var(v=0.0472, grad=0.0000)], [Var(v=0.1919, grad=0.0000)], [Var(v=0.0155, grad=0.0000)], [Var(v=0.1398, grad=0.0000)], [Var(v=0.0241, grad=0.0000)], [Var(v=0.0726, grad=0.0000)], [Var(v=0.0824, grad=0.0000)], [Var(v=-0.0348, grad=0.0000)], [Var(v=0.0836, grad=0.0000)], [Var(v=-0.0184, grad=0.0000)], [Var(v=0.1214, grad=0.0000)], [Var(v=0.0471, grad=0.0000)], [Var(v=-0.1514, grad=0.0000)], [Var(v=-0.0215, grad=0.0000)], [Var(v=-0.0251, grad=0.0000)], [Var(v=-0.0818, grad=0.0000)], [Var(v=0.0018, grad=0.0000)], [Var(v=-0.0930, grad=0.0000)], [Var(v=-0.1197, grad=0.0000)], [Var(v=0.0576, grad=0.0000)], [Var(v=0.0828, grad=0.0000)], [Var(v=0.1321, grad=0.0000)], [Var(v=0.0220, grad=0.0000)], [Var(v=0.0071, grad=0.0000)], [Var(v=-0.3135, grad=0.0000)], [Var(v=-0.0748, grad=0.0000)], [Var(v=0.0769, grad=0.0000)], [Var(v=0.1047, grad=0.0000)], [Var(v=0.0635, grad=0.0000)], [Var(v=0.0295, grad=0.0000)], [Var(v=0.0285, grad=0.0000)], [Var(v=0.0065, grad=0.0000)], [Var(v=0.0286, grad=0.0000)]] Biases: [Var(v=-0.0029, grad=0.0000)]\n"
          ]
        },
        {
          "output_type": "execute_result",
          "data": {
            "text/plain": [
              "[None, None, None]"
            ]
          },
          "metadata": {},
          "execution_count": 29
        }
      ],
      "source": [
        "print('Network before update:')\n",
        "[print('Layer', i, '\\n', NN[i]) for i in range(len(NN))] \n",
        "\n",
        "def parameters(network):\n",
        "  params = []\n",
        "  for layer in range(len(network)):\n",
        "    params += network[layer].parameters()\n",
        "  return params\n",
        "\n",
        "def update_parameters(params, learning_rate=0.01):\n",
        "  for p in params:\n",
        "    p.v -= learning_rate*p.grad\n",
        "\n",
        "def zero_gradients(params):\n",
        "  for p in params:\n",
        "    p.grad = 0.0\n",
        "\n",
        "update_parameters(parameters(NN))\n",
        "\n",
        "print('\\nNetwork after update:')\n",
        "[print('Layer', i, '\\n', NN[i]) for i in range(len(NN))] \n",
        "\n",
        "zero_gradients(parameters(NN))\n",
        "\n",
        "print('\\nNetwork after zeroing gradients:')\n",
        "[print('Layer', i, '\\n', NN[i]) for i in range(len(NN))] "
      ]
    },
    {
      "cell_type": "code",
      "execution_count": 30,
      "metadata": {
        "id": "woWYpdw6FtIO"
      },
      "outputs": [],
      "source": [
        "# Initialize an arbitrary neural network\n",
        "NN = [\n",
        "    DenseLayer(1, 8, lambda x: x.relu()),\n",
        "    DenseLayer(8, 1, lambda x: x.identity())\n",
        "]\n",
        "\n",
        "# Recommended hyper-parameters for 3-D: \n",
        "#NN = [\n",
        "#    DenseLayer(3, 16, lambda x: x.relu()),\n",
        "#    DenseLayer(16, 1, lambda x: x.identity())\n",
        "#]\n",
        "\n",
        "\n",
        "### Notice that, when we switch from tanh to relu activation, we decrease the learning rate. This is due the stability of the gradients \n",
        "## of the activation functions."
      ]
    },
    {
      "cell_type": "code",
      "execution_count": 31,
      "metadata": {
        "id": "mdqaqYBVFtIR"
      },
      "outputs": [],
      "source": [
        "# Initialize training hyperparameters\n",
        "EPOCHS = 200\n",
        "LEARN_R = 2e-3 "
      ]
    },
    {
      "cell_type": "code",
      "execution_count": 32,
      "metadata": {
        "id": "5kfg76GMFtIW",
        "scrolled": true,
        "colab": {
          "base_uri": "https://localhost:8080/"
        },
        "outputId": "2f9616dd-8657-4f2b-d3dc-286de5062754"
      },
      "outputs": [
        {
          "output_type": "stream",
          "name": "stdout",
          "text": [
            "   0 ( 0.00%) Train loss: 108.410 \t Validation loss: 108.322\n",
            "  10 ( 5.00%) Train loss: 45.174 \t Validation loss: 33.543\n",
            "  20 (10.00%) Train loss: 14.076 \t Validation loss: 10.713\n",
            "  30 (15.00%) Train loss: 13.615 \t Validation loss: 10.340\n",
            "  40 (20.00%) Train loss: 13.079 \t Validation loss: 9.886\n",
            "  50 (25.00%) Train loss: 12.765 \t Validation loss: 9.571\n",
            "  60 (30.00%) Train loss: 12.577 \t Validation loss: 9.362\n",
            "  70 (35.00%) Train loss: 12.376 \t Validation loss: 9.162\n",
            "  80 (40.00%) Train loss: 12.231 \t Validation loss: 9.008\n",
            "  90 (45.00%) Train loss: 12.094 \t Validation loss: 8.915\n",
            " 100 (50.00%) Train loss: 11.993 \t Validation loss: 8.848\n",
            " 110 (55.00%) Train loss: 11.946 \t Validation loss: 8.834\n",
            " 120 (60.00%) Train loss: 11.916 \t Validation loss: 8.855\n",
            " 130 (65.00%) Train loss: 11.898 \t Validation loss: 8.883\n",
            " 140 (70.00%) Train loss: 11.887 \t Validation loss: 8.904\n",
            " 150 (75.00%) Train loss: 11.880 \t Validation loss: 8.920\n",
            " 160 (80.00%) Train loss: 11.875 \t Validation loss: 8.934\n",
            " 170 (85.00%) Train loss: 11.871 \t Validation loss: 8.944\n",
            " 180 (90.00%) Train loss: 11.867 \t Validation loss: 8.949\n",
            " 190 (95.00%) Train loss: 11.865 \t Validation loss: 8.949\n"
          ]
        }
      ],
      "source": [
        "train_loss = []\n",
        "val_loss = []\n",
        "\n",
        "for e in range(EPOCHS):\n",
        "     \n",
        "    # Forward pass and loss computation\n",
        "    Loss = squared_loss(y_train, forward(x_train, NN))\n",
        "\n",
        "    # Backward pass\n",
        "    Loss.backward()\n",
        "    \n",
        "    # gradient descent update\n",
        "    update_parameters(parameters(NN), LEARN_R)\n",
        "    zero_gradients(parameters(NN))\n",
        "    \n",
        "    # Training loss\n",
        "    train_loss.append(Loss.v)\n",
        "    \n",
        "    # Validation\n",
        "    Loss_validation = squared_loss(y_validation, forward(x_validation, NN))\n",
        "    val_loss.append(Loss_validation.v)\n",
        "    \n",
        "    if e%10==0:\n",
        "        print(\"{:4d}\".format(e),\n",
        "              \"({:5.2f}%)\".format(e/EPOCHS*100), \n",
        "              \"Train loss: {:4.3f} \\t Validation loss: {:4.3f}\".format(train_loss[-1], val_loss[-1]))\n",
        "        \n"
      ]
    },
    {
      "cell_type": "code",
      "execution_count": 33,
      "metadata": {
        "id": "VetyRWFwFtIY",
        "colab": {
          "base_uri": "https://localhost:8080/",
          "height": 265
        },
        "outputId": "86a5cf3e-d121-4063-d763-af85411cc188"
      },
      "outputs": [
        {
          "output_type": "display_data",
          "data": {
            "text/plain": [
              "<Figure size 432x288 with 1 Axes>"
            ],
            "image/png": "[encoded data removed]"
          },
          "metadata": {
            "needs_background": "light"
          }
        }
      ],
      "source": [
        "plt.plot(range(len(train_loss)), train_loss);\n",
        "plt.plot(range(len(val_loss)), val_loss);"
      ]
    },
    {
      "cell_type": "markdown",
      "metadata": {
        "id": "8OgmIrM9FtIb"
      },
      "source": [
        "# Testing\n",
        "\n",
        "We have kept the calculation of the test error separate in order to emphasize that you should not use the test set in optimization."
      ]
    },
    {
      "cell_type": "code",
      "execution_count": 34,
      "metadata": {
        "id": "HmNi7S-vFtIc"
      },
      "outputs": [],
      "source": [
        "output_test = forward(x_test, NN)"
      ]
    },
    {
      "cell_type": "code",
      "execution_count": 35,
      "metadata": {
        "id": "7mmJOTSEFtIf",
        "colab": {
          "base_uri": "https://localhost:8080/",
          "height": 314
        },
        "outputId": "ef436315-1cdb-4097-c1d9-694f0241bdcc"
      },
      "outputs": [
        {
          "output_type": "stream",
          "name": "stdout",
          "text": [
            "Test loss:  9.770\n"
          ]
        },
        {
          "output_type": "display_data",
          "data": {
            "text/plain": [
              "<Figure size 432x288 with 1 Axes>"
            ],
            "image/png": "[encoded data removed]"
          },
          "metadata": {
            "needs_background": "light"
          }
        }
      ],
      "source": [
        "y_test_np = Var_to_nparray(y_test)\n",
        "plt.scatter(y_test_np, Var_to_nparray(output_test));\n",
        "plt.plot([np.min(y_test_np), np.max(y_test_np)], [np.min(y_test_np), np.max(y_test_np)], color='k');\n",
        "plt.xlabel(\"y\");\n",
        "plt.ylabel(\"$\\hat{y}$\");\n",
        "plt.title(\"Model prediction vs real in the test set, the close to the line the better\")\n",
        "plt.grid(True);\n",
        "plt.axis('equal');\n",
        "plt.tight_layout();\n",
        "\n",
        "Loss_test = squared_loss(y_test, forward(x_test, NN))\n",
        "\n",
        "print(\"Test loss:  {:4.3f}\".format(Loss_test.v))"
      ]
    },
    {
      "cell_type": "code",
      "execution_count": 36,
      "metadata": {
        "id": "ODi0WlmQFtIh",
        "colab": {
          "base_uri": "https://localhost:8080/",
          "height": 279
        },
        "outputId": "37d861c6-8934-4483-e04f-abd675cd2c26"
      },
      "outputs": [
        {
          "output_type": "display_data",
          "data": {
            "text/plain": [
              "<Figure size 432x288 with 1 Axes>"
            ],
            "image/png": "[encoded data removed]"
          },
          "metadata": {
            "needs_background": "light"
          }
        }
      ],
      "source": [
        "x_test_np = Var_to_nparray(x_test)\n",
        "x_train_np = Var_to_nparray(x_train)\n",
        "y_train_np = Var_to_nparray(y_train)\n",
        "if D1:\n",
        "    plt.scatter(x_train_np, y_train_np, label=\"train data\");\n",
        "    plt.scatter(x_test_np, Var_to_nparray(output_test), label=\"test prediction\");\n",
        "    plt.scatter(x_test_np, y_test_np, label=\"test data\");\n",
        "    plt.legend();\n",
        "    plt.xlabel(\"x\");\n",
        "    plt.ylabel(\"y\");\n",
        "else:\n",
        "    plt.scatter(x_train_np[:,1], y_train, label=\"train data\");\n",
        "    plt.scatter(x_test_np[:,1], Var_to_nparray(output_test), label=\"test data prediction\");\n",
        "    plt.scatter(x_test_np[:,1], y_test_np, label=\"test data\");\n",
        "    plt.legend();\n",
        "    plt.xlabel(\"x\");\n",
        "    plt.ylabel(\"y\");"
      ]
    },
    {
      "cell_type": "markdown",
      "metadata": {
        "id": "zTBAmjsAFtIk"
      },
      "source": [
        "## Exercise l) Show overfitting, underfitting and just right fitting\n",
        "\n",
        "Vary the architecture and other things to show clear signs of overfitting (=training loss significantly lower than test loss) and underfitting (=not fitting enoung to training data so that test performance is also hurt).\n",
        "\n",
        "See also if you can get a good compromise which leads to a low validation loss. \n",
        "\n",
        "For this problem do you see any big difference between validation and test loss? The answer here will probably be no. Discuss cases where it is important to keep the two separate.\n",
        "\n",
        "_Insert written answer here._  \n",
        "!!!!!!!!!!!!!!!!!!!!!!!!!!!!!!!!!!!\n",
        "\n",
        "\n",
        "\n",
        "A training loss defines how well our model fits training data, while the validation loss indicates how well our model fits with new data. A high validation loss means that we have overfitted, which we do not want. The optimal fit is when the graphs for the training and test loss/validation loss is on top of each other as above. Hence this could also means underfitting.\n",
        "\n",
        "Underfitting is when training loss is much higher than testing loss.\n",
        "Overfits is when training loss is much smaller than testing loss.\n"
      ]
    },
    {
      "cell_type": "markdown",
      "source": [
        "### Overfitting"
      ],
      "metadata": {
        "id": "f-c4aUl6y_0r"
      }
    },
    {
      "cell_type": "code",
      "execution_count": null,
      "metadata": {
        "id": "tQZCn2dxFtIl",
        "colab": {
          "base_uri": "https://localhost:8080/"
        },
        "outputId": "b32bb237-71fe-43f8-d5a6-a0c3ffd1ef9f"
      },
      "outputs": [
        {
          "output_type": "stream",
          "name": "stdout",
          "text": [
            "   0 ( 0.00%) Train loss: 103.192 \t Validation loss: 97.198\n"
          ]
        }
      ],
      "source": [
        "# Overfitting\n",
        "NN = [\n",
        "    DenseLayer(1, 20, lambda x: x.relu()),\n",
        "    DenseLayer(20, 1, lambda x: x.identity())\n",
        "]\n",
        "train_loss = []\n",
        "val_loss = []\n",
        "\n",
        "# Initialize training hyperparameters\n",
        "EPOCHS = 300\n",
        "LEARN_R = 2e-3 \n",
        "\n",
        "for e in range(EPOCHS):\n",
        "     \n",
        "    # Forward pass and loss computation\n",
        "    Loss = squared_loss(y_train, forward(x_train, NN))\n",
        "\n",
        "    # Backward pass\n",
        "    Loss.backward()\n",
        "    \n",
        "    # gradient descent update\n",
        "    update_parameters(parameters(NN), LEARN_R)\n",
        "    zero_gradients(parameters(NN))\n",
        "    \n",
        "    # Training loss\n",
        "    train_loss.append(Loss.v)\n",
        "    \n",
        "    # Validation\n",
        "    Loss_validation = squared_loss(y_validation, forward(x_validation, NN))\n",
        "    val_loss.append(Loss_validation.v)\n",
        "    \n",
        "    if e%10==0:\n",
        "        print(\"{:4d}\".format(e),\n",
        "              \"({:5.2f}%)\".format(e/EPOCHS*100), \n",
        "              \"Train loss: {:4.3f} \\t Validation loss: {:4.3f}\".format(train_loss[-1], val_loss[-1]))"
      ]
    },
    {
      "cell_type": "code",
      "source": [
        "plt.plot(range(len(train_loss)), train_loss);\n",
        "plt.plot(range(len(val_loss)), val_loss);\n",
        "plt.legend(loc=1, fontsize=16, labels = [\"Training loss\", \"Validation loss\"])\n",
        "print(\"Test loss:  {:4.3f}\".format(Loss_test.v))\n",
        "plt.show()"
      ],
      "metadata": {
        "id": "fuc8hUOV3lrx"
      },
      "execution_count": null,
      "outputs": []
    },
    {
      "cell_type": "code",
      "source": [
        "output_test = forward(x_test, NN)\n",
        "y_test_np = Var_to_nparray(y_test)\n",
        "plt.scatter(y_test_np, Var_to_nparray(output_test));\n",
        "plt.plot([np.min(y_test_np), np.max(y_test_np)], [np.min(y_test_np), np.max(y_test_np)], color='k');\n",
        "plt.xlabel(\"y\");\n",
        "plt.ylabel(\"$\\hat{y}$\");\n",
        "plt.title(\"Model prediction vs real in the test set, the closer to the line the better\")\n",
        "plt.grid(True);\n",
        "plt.axis('equal');\n",
        "plt.tight_layout();\n",
        "\n",
        "Loss_test = squared_loss(y_test, forward(x_test, NN))\n",
        "\n",
        "print(\"Test loss:  {:4.3f}\".format(Loss_test.v))"
      ],
      "metadata": {
        "id": "eXwdT8Xj3Bsd"
      },
      "execution_count": null,
      "outputs": []
    },
    {
      "cell_type": "markdown",
      "source": [
        "### Underfitting"
      ],
      "metadata": {
        "id": "OCQxKwmt3sVn"
      }
    },
    {
      "cell_type": "code",
      "source": [
        "# Underfitting\n",
        "NN = [\n",
        "    DenseLayer(1, 2, lambda x: x.tanh()),\n",
        "    DenseLayer(2, 1, lambda x: x.relu())\n",
        "]\n",
        "train_loss = []\n",
        "val_loss = []\n",
        "\n",
        "# Initialize training hyperparameters\n",
        "EPOCHS = 100\n",
        "LEARN_R = 2e-3 \n",
        "\n",
        "for e in range(EPOCHS):\n",
        "     \n",
        "    # Forward pass and loss computation\n",
        "    Loss = squared_loss(y_train, forward(x_train, NN))\n",
        "\n",
        "    # Backward pass\n",
        "    Loss.backward()\n",
        "    \n",
        "    # gradient descent update\n",
        "    update_parameters(parameters(NN), LEARN_R)\n",
        "    zero_gradients(parameters(NN))\n",
        "    \n",
        "    # Training loss\n",
        "    train_loss.append(Loss.v)\n",
        "    \n",
        "    # Validation\n",
        "    Loss_validation = squared_loss(y_validation, forward(x_validation, NN))\n",
        "    val_loss.append(Loss_validation.v)\n",
        "    \n",
        "    if e%10==0:\n",
        "        print(\"{:4d}\".format(e),\n",
        "              \"({:5.2f}%)\".format(e/EPOCHS*100), \n",
        "              \"Train loss: {:4.3f} \\t Validation loss: {:4.3f}\".format(train_loss[-1], val_loss[-1]))"
      ],
      "metadata": {
        "id": "tp14P5jr3v1n"
      },
      "execution_count": null,
      "outputs": []
    },
    {
      "cell_type": "code",
      "source": [
        "plt.plot(range(len(train_loss)), train_loss);\n",
        "plt.plot(range(len(val_loss)), val_loss);\n",
        "plt.legend(loc=1, fontsize=16, labels = [\"Training loss\", \"Validation loss\"])\n",
        "plt.show()"
      ],
      "metadata": {
        "id": "uJZTWDbM3zsx"
      },
      "execution_count": null,
      "outputs": []
    },
    {
      "cell_type": "code",
      "source": [
        "output_test = forward(x_test, NN)\n",
        "y_test_np = Var_to_nparray(y_test)\n",
        "plt.scatter(y_test_np, Var_to_nparray(output_test));\n",
        "plt.plot([np.min(y_test_np), np.max(y_test_np)], [np.min(y_test_np), np.max(y_test_np)], color='k');\n",
        "plt.xlabel(\"y\");\n",
        "plt.ylabel(\"$\\hat{y}$\");\n",
        "plt.title(\"Model prediction vs real in the test set, the closer to the line the better\")\n",
        "plt.grid(True);\n",
        "plt.axis('equal');\n",
        "plt.tight_layout();\n",
        "\n",
        "Loss_test = squared_loss(y_test, forward(x_test, NN))\n",
        "\n",
        "print(\"Test loss:  {:4.3f}\".format(Loss_test.v))"
      ],
      "metadata": {
        "id": "voGdRNNd330f"
      },
      "execution_count": null,
      "outputs": []
    },
    {
      "cell_type": "markdown",
      "metadata": {
        "id": "fYPZP-eTFtIo"
      },
      "source": [
        "# Next steps - classification\n",
        "\n",
        "It is straight forward to extend what we have done to classification. \n",
        "\n",
        "For numerical stability it is better to make softmax and cross-entropy as one function so we write the cross entropy loss as a function of the logits we talked about last week. \n",
        "\n",
        "Next week we will see how to perform classification in PyTorch."
      ]
    },
    {
      "cell_type": "markdown",
      "metadata": {
        "id": "qsVPul3QFtIo"
      },
      "source": [
        "## Exercise m) optional - Implement backpropagation for classification\n",
        "\n",
        "Should be possible with very few lines of code. :-)"
      ]
    },
    {
      "cell_type": "code",
      "execution_count": null,
      "metadata": {
        "id": "oC8QrI2tFtIp"
      },
      "outputs": [],
      "source": [
        "# Just add code."
      ]
    },
    {
      "cell_type": "markdown",
      "metadata": {
        "id": "APqhJv3tta1O"
      },
      "source": [
        "## Exercise n) optional - Introduce a NeuralNetwork class\n",
        "\n",
        "The functions we applied on the neural network (parameters, update_parameters and zero_gradients) can more naturally be included as methods in a NeuralNetwork class. Make such a class and modify the code to use it. "
      ]
    },
    {
      "cell_type": "code",
      "execution_count": null,
      "metadata": {
        "id": "Dqfnor1ouMLq"
      },
      "outputs": [],
      "source": [
        "# just add some code"
      ]
    }
  ],
  "metadata": {
    "anaconda-cloud": {},
    "colab": {
      "collapsed_sections": [
        "U4057_ljNvWB",
        "p_8n_SKnIW2F",
        "oLrGJytZFtGm",
        "jpIZPBpNI0pO",
        "_79HOAXrFtHK",
        "mqeyab9qFtGs",
        "-XyXBD37FtHk",
        "SrwSJ2UWFtHu",
        "zTBAmjsAFtIk",
        "qsVPul3QFtIo",
        "APqhJv3tta1O"
      ],
      "name": "2.1-EXE-FNN-AutoDif-Nanograd.ipynb",
      "provenance": []
    },
    "kernelspec": {
      "display_name": "Python 3",
      "language": "python",
      "name": "python3"
    },
    "language_info": {
      "codemirror_mode": {
        "name": "ipython",
        "version": 3
      },
      "file_extension": ".py",
      "mimetype": "text/x-python",
      "name": "python",
      "nbconvert_exporter": "python",
      "pygments_lexer": "ipython3",
      "version": "3.9.12"
    }
  },
  "nbformat": 4,
  "nbformat_minor": 0
}